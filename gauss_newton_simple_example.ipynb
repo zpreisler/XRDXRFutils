{
 "cells": [
  {
   "cell_type": "markdown",
   "id": "87ca6eb5",
   "metadata": {},
   "source": [
    "# Gauss-Newton for XRD\n",
    "\n",
    "a simple example"
   ]
  },
  {
   "cell_type": "code",
   "execution_count": 1,
   "id": "9c4a8c37",
   "metadata": {},
   "outputs": [],
   "source": [
    "from XRDXRFutils import GaussNewton,DataXRD,SpectraXRD,DatabaseXRD,PhaseList,PhaseSearch\n",
    "\n",
    "from matplotlib.pyplot import xlim,ylim,xlabel,ylabel,legend,plot,fill_between,imshow,subplots,sca\n",
    "from numpy import prod,array,minimum,maximum,log,zeros,trapz,where\n",
    "from multiprocessing import Pool"
   ]
  },
  {
   "cell_type": "markdown",
   "id": "61ef75b5",
   "metadata": {},
   "source": [
    "### loading data"
   ]
  },
  {
   "cell_type": "code",
   "execution_count": 2,
   "id": "fb786567",
   "metadata": {},
   "outputs": [],
   "source": [
    "path = '/home/zdenek/Projects/pyMaXRDXRF/M491/ProfiloXRD/'\n",
    "\n",
    "spectra = SpectraXRD().from_file(path + 'Frame1600.dat')\n",
    "spectra.opt = [-1186.6, 1960.3, 51]\n",
    "\n",
    "database = DatabaseXRD().read_cifs('/home/zdenek/Projects/XRDXRFutils/Database')\n",
    "\n",
    "lazurite = database['Lazurite'][0]\n",
    "hydrocerussite = database['Hydrocerussite'][0]\n",
    "cinnabar = database['Cinnabar'][0]\n",
    "barite = database['Barite'][0]\n",
    "spinel = database['Spinel'][0]\n",
    "calcite = database['Calcite'][0]\n",
    "\n",
    "phases = PhaseList([hydrocerussite,lazurite,cinnabar,barite,spinel,calcite])"
   ]
  },
  {
   "cell_type": "code",
   "execution_count": 3,
   "id": "2a855635",
   "metadata": {},
   "outputs": [
    {
     "ename": "NameError",
     "evalue": "name 'array' is not defined",
     "output_type": "error",
     "traceback": [
      "\u001b[0;31m---------------------------------------------------------------------------\u001b[0m",
      "\u001b[0;31mNameError\u001b[0m                                 Traceback (most recent call last)",
      "Input \u001b[0;32mIn [3]\u001b[0m, in \u001b[0;36m<module>\u001b[0;34m\u001b[0m\n\u001b[1;32m      1\u001b[0m get_ipython()\u001b[38;5;241m.\u001b[39mrun_line_magic(\u001b[38;5;124m'\u001b[39m\u001b[38;5;124mmatplotlib\u001b[39m\u001b[38;5;124m'\u001b[39m, \u001b[38;5;124m'\u001b[39m\u001b[38;5;124minline\u001b[39m\u001b[38;5;124m'\u001b[39m)\n\u001b[0;32m----> 3\u001b[0m phase_search \u001b[38;5;241m=\u001b[39m \u001b[43mPhaseSearch\u001b[49m\u001b[43m(\u001b[49m\u001b[43mphases\u001b[49m\u001b[43m,\u001b[49m\u001b[43mspectra\u001b[49m\u001b[43m)\u001b[49m\u001b[38;5;241;43m.\u001b[39;49m\u001b[43msearch\u001b[49m\u001b[43m(\u001b[49m\u001b[43m)\u001b[49m\n\u001b[1;32m      4\u001b[0m g \u001b[38;5;241m=\u001b[39m phase_search\u001b[38;5;241m.\u001b[39mselect()\n\u001b[1;32m      6\u001b[0m g\u001b[38;5;241m.\u001b[39mplot_spectra(lw\u001b[38;5;241m=\u001b[39m\u001b[38;5;241m1\u001b[39m)\n",
      "File \u001b[0;32m~/Projects/XRDXRFutils/XRDXRFutils/phasesearch.py:44\u001b[0m, in \u001b[0;36mPhaseSearch.search\u001b[0;34m(self)\u001b[0m\n\u001b[1;32m     41\u001b[0m \u001b[38;5;28;01mdef\u001b[39;00m \u001b[38;5;21msearch\u001b[39m(\u001b[38;5;28mself\u001b[39m):\n\u001b[1;32m     43\u001b[0m     \u001b[38;5;28mself\u001b[39m\u001b[38;5;241m.\u001b[39mminimize_gamma()\n\u001b[0;32m---> 44\u001b[0m     \u001b[38;5;28;43mself\u001b[39;49m\u001b[38;5;241;43m.\u001b[39;49m\u001b[43mselect\u001b[49m\u001b[43m(\u001b[49m\u001b[43m)\u001b[49m\n\u001b[1;32m     46\u001b[0m     \u001b[38;5;28mself\u001b[39m\u001b[38;5;241m.\u001b[39mtheta_correction()\n\u001b[1;32m     47\u001b[0m     \u001b[38;5;28mself\u001b[39m\u001b[38;5;241m.\u001b[39mminimize_gamma()\n",
      "File \u001b[0;32m~/Projects/XRDXRFutils/XRDXRFutils/phasesearch.py:29\u001b[0m, in \u001b[0;36mPhaseSearch.select\u001b[0;34m(self)\u001b[0m\n\u001b[1;32m     28\u001b[0m \u001b[38;5;28;01mdef\u001b[39;00m \u001b[38;5;21mselect\u001b[39m(\u001b[38;5;28mself\u001b[39m):\n\u001b[0;32m---> 29\u001b[0m     idx \u001b[38;5;241m=\u001b[39m \u001b[38;5;28;43mself\u001b[39;49m\u001b[38;5;241;43m.\u001b[39;49m\u001b[43moverlap_area\u001b[49m\u001b[43m(\u001b[49m\u001b[43m)\u001b[49m\u001b[38;5;241m.\u001b[39margmax()\n\u001b[1;32m     30\u001b[0m     selected \u001b[38;5;241m=\u001b[39m \u001b[38;5;28mself\u001b[39m[idx]\n\u001b[1;32m     32\u001b[0m     \u001b[38;5;28mself\u001b[39m\u001b[38;5;241m.\u001b[39midx \u001b[38;5;241m=\u001b[39m idx\n",
      "File \u001b[0;32m~/Projects/XRDXRFutils/XRDXRFutils/phasesearch.py:23\u001b[0m, in \u001b[0;36mPhaseSearch.overlap_area\u001b[0;34m(self)\u001b[0m\n\u001b[1;32m     22\u001b[0m \u001b[38;5;28;01mdef\u001b[39;00m \u001b[38;5;21moverlap_area\u001b[39m(\u001b[38;5;28mself\u001b[39m):\n\u001b[0;32m---> 23\u001b[0m     \u001b[38;5;28;01mreturn\u001b[39;00m \u001b[43marray\u001b[49m([g\u001b[38;5;241m.\u001b[39moverlap_area() \u001b[38;5;28;01mfor\u001b[39;00m g \u001b[38;5;129;01min\u001b[39;00m \u001b[38;5;28mself\u001b[39m])\n",
      "\u001b[0;31mNameError\u001b[0m: name 'array' is not defined"
     ]
    }
   ],
   "source": [
    "%matplotlib inline\n",
    "\n",
    "phase_search = PhaseSearch(phases,spectra).search()\n",
    "g = phase_search.select()\n",
    "\n",
    "g.plot_spectra(lw=1)\n",
    "g.plot('-',label='Gauss-Newton %s'%g.label,lw=1)\n",
    "g.phase.plot('r',alpha=0.66)\n",
    "\n",
    "fill_between(g.theta,g.overlap(),color='g',alpha=0.33,label='overlap')\n",
    "\n",
    "legend(frameon=False)\n",
    "ylim(-0.05,1)\n",
    "xlim(20,50)\n",
    "xlabel(r'angle $\\theta$')\n",
    "ylabel(r'relative intensity')"
   ]
  },
  {
   "cell_type": "code",
   "execution_count": null,
   "id": "9e654751",
   "metadata": {},
   "outputs": [],
   "source": []
  }
 ],
 "metadata": {
  "kernelspec": {
   "display_name": "Python 3 (ipykernel)",
   "language": "python",
   "name": "python3"
  },
  "language_info": {
   "codemirror_mode": {
    "name": "ipython",
    "version": 3
   },
   "file_extension": ".py",
   "mimetype": "text/x-python",
   "name": "python",
   "nbconvert_exporter": "python",
   "pygments_lexer": "ipython3",
   "version": "3.9.10"
  }
 },
 "nbformat": 4,
 "nbformat_minor": 5
}
