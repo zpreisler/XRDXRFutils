{
 "cells": [
  {
   "cell_type": "markdown",
   "id": "44ce162f",
   "metadata": {},
   "source": [
    "# Database XRD"
   ]
  },
  {
   "cell_type": "code",
   "execution_count": 27,
   "id": "e163c01b",
   "metadata": {},
   "outputs": [],
   "source": [
    "from XRDXRFutils import DatabaseXRD,PhaseList\n",
    "\n",
    "from matplotlib.pyplot import xlim,ylim,xlabel,ylabel,legend"
   ]
  },
  {
   "cell_type": "code",
   "execution_count": 28,
   "id": "b839afdd",
   "metadata": {},
   "outputs": [],
   "source": [
    "database = DatabaseXRD().read_cifs('Database')"
   ]
  },
  {
   "cell_type": "code",
   "execution_count": 29,
   "id": "7a7bcfd8",
   "metadata": {},
   "outputs": [
    {
     "data": {
      "text/plain": [
       "(0.0, 1.0)"
      ]
     },
     "execution_count": 29,
     "metadata": {},
     "output_type": "execute_result"
    },
    {
     "data": {
      "image/png": "[encoded data removed]",
      "text/plain": [
       "<Figure size 432x288 with 1 Axes>"
      ]
     },
     "metadata": {
      "needs_background": "light"
     },
     "output_type": "display_data"
    }
   ],
   "source": [
    "lazurite = database['Lazurite'][0]\n",
    "hydrocerussite = database['Hydrocerussite'][0]\n",
    "\n",
    "lazurite.plot(color='r')\n",
    "hydrocerussite.plot(color='c')\n",
    "\n",
    "legend(frameon=False)\n",
    "xlim(20,50)\n",
    "ylim(0,1)"
   ]
  },
  {
   "cell_type": "code",
   "execution_count": 30,
   "id": "1bbf13e1",
   "metadata": {},
   "outputs": [
    {
     "data": {
      "text/plain": [
       "(0.0, 1.0)"
      ]
     },
     "execution_count": 30,
     "metadata": {},
     "output_type": "execute_result"
    },
    {
     "data": {
      "image/png": "[encoded data removed]",
      "text/plain": [
       "<Figure size 432x288 with 1 Axes>"
      ]
     },
     "metadata": {
      "needs_background": "light"
     },
     "output_type": "display_data"
    }
   ],
   "source": [
    "phases = PhaseList([lazurite,hydrocerussite])\n",
    "\n",
    "colors = ['r','c']\n",
    "for c,p in zip(colors,phases):\n",
    "    p.plot(color=c)\n",
    "\n",
    "legend(frameon=False)\n",
    "xlim(20,50)\n",
    "ylim(0,1)"
   ]
  },
  {
   "cell_type": "markdown",
   "id": "ef6ee944",
   "metadata": {},
   "source": [
    "### Print chemical composition from the database"
   ]
  },
  {
   "cell_type": "code",
   "execution_count": 31,
   "id": "d11f7148",
   "metadata": {},
   "outputs": [
    {
     "name": "stdout",
     "output_type": "stream",
     "text": [
      "Corundum:\t Al2 O3\n",
      "Barite:\t Ba O4 S\n",
      "Al2 O3:\t Al2 O3\n",
      "Cassiterite:\t O2 Sn\n",
      "Cuprite:\t Cu2 O\n",
      "Co3 O8 P2:\t Co3 O8 P2\n",
      "Goethite:\t Fe H O2\n",
      "Fe2 Mn O4:\t Fe2 Mn O4\n",
      "Mn O:\t Mn O\n",
      "Ba O4 S:\t Ba O4 S\n",
      "Mn2 O3:\t Mn2 O3\n",
      "Cristobalite high:\t O2 Si\n",
      "Cristobalite low:\t O2 Si\n",
      "Anatase:\t O2 Ti\n",
      "Anglesite:\t O4 Pb S\n",
      "Cerussite:\t C O3 Pb\n",
      "Manganosite:\t Mn O\n",
      "Manganite:\t H Mn O2\n",
      "Lepidocrocite:\t Fe H O2\n",
      "Kaolinite 2M:\t Al2 H4 O9 Si2\n",
      "Greenockite:\t Cd S\n",
      "Quartz low:\t O2 Si\n",
      "Lead:\t Pb\n",
      "Wuestite:\t Fe0.911 O\n",
      "Wurtzite 2H:\t S Zn\n",
      "Quartz high:\t O2 Si\n",
      "Skutterudite:\t As3 Co\n",
      "Hematite:\t Fe2 O3\n",
      "Metahalloysite:\t Al2 H4 O9 Si2\n",
      "Hawleyite:\t Cd S\n",
      "Herzenbergite:\t S Sn\n",
      "Zincite:\t O Zn\n",
      "Hausmannite:\t Mn3 O4\n",
      "Berndtite:\t S2 Sn\n",
      "Metacinnabar:\t Hg S\n",
      "Cinnabar:\t Hg S\n",
      "O Sn:\t O Sn\n",
      "Romarchite:\t O Sn\n",
      "Sphalerite:\t S Zn\n",
      "Wurtzite:\t S Zn\n",
      "Gold:\t Au\n",
      "Au:\t Au\n",
      "Cu:\t Cu\n",
      "Pb:\t Pb\n",
      "Mn5 O8:\t Mn5 O8\n",
      "Pyrolusite:\t Mn O2\n",
      "Mn3 O4:\t Mn3 O4\n",
      "Bixbyite C:\t Mn2 O3\n",
      "Mn0.98 O2:\t Mn0.98 O2\n",
      "Mn O2:\t Mn O2\n",
      "Bixbyite:\t Mn2 O3\n",
      "Mn2.03 O4:\t Mn2.03 O4\n",
      "O2 Si:\t O2 Si\n",
      "O2 Ti:\t O2 Ti\n",
      "As2 Co3 O8:\t As2 Co3 O8\n",
      "Fe2 O3:\t Fe2 O3\n",
      "O4 Pb S:\t O4 Pb S\n",
      "Cr O5 Pb2:\t Cr O5 Pb2\n",
      "O Zn:\t O Zn\n",
      "O4 Pb3:\t O4 Pb3\n",
      "S Zn:\t S Zn\n",
      "Cr O4 Sr:\t Cr O4 Sr\n",
      "Sphaerocobaltite:\t C Co O3\n",
      "C2 H2 O8 Pb3:\t C2 H2 O8 Pb3\n",
      "Ba Cu O6 Si2:\t Ba Cu O6 Si2\n",
      "Cr2 O3:\t Cr2 O3\n",
      "As3 Co:\t As3 Co\n",
      "Fe H O2:\t Fe H O2\n",
      "Co Li O4 P:\t Co Li O4 P\n",
      "corundum:\t Al2 O3\n",
      "zincite:\t O Zn\n",
      "Cr O4 Pb:\t Cr O4 Pb\n",
      "Quartz:\t O2 Si\n",
      "Copper:\t Cu\n",
      "Erythrite:\t As4 Co4.02 Fe1.48 H32 Ni0.50 O32\n",
      "Ba Cr O4:\t Ba Cr O4\n",
      "Bi O4 V:\t Bi O4 V\n",
      "H12 Mn3 N2 O16 P4:\t H12 Mn3 N2 O16 P4\n",
      "Tenorite:\t Cu O\n",
      "Ca Cu O10 Si4:\t Ca Cu O10 Si4\n",
      "Pucherite:\t Bi O4 V\n",
      "Wurtzite-8H:\t S Zn\n",
      "Calcite:\t C Ca O3\n",
      "Pseudomalachite:\t Cu5 H4 O12 P2\n",
      "Pyrite:\t Fe S2\n",
      "Berndtite-2T:\t S2 Sn\n",
      "Coesite:\t O2 Si\n",
      "BaCuSi2O6:\t Ba Cu O6 Si2\n",
      "Stishovite:\t O2 Si\n",
      "Mn3O4:\t Mn3 O4\n",
      "Akaganeite:\t Cl0.675 Fe4 O8\n",
      "Cristobalite:\t O2 Si\n",
      "Pararealgar:\t As S\n",
      "Rutile:\t O2 Ti\n",
      "Spinel:\t Al2 Co O4\n",
      "Jacobsite:\t Al0.049 Fe1.911 Mg0.736 Mn0.284 O4 Zn0.017\n",
      "Aluminoceladonite:\t Al1.788 H2 K Mg0.64 O12 Si3.572\n",
      "Jarosite:\t Fe2.88 H5.83 K0.81 O13.64 S2\n",
      "Crocoite:\t Cr O4 Pb\n",
      "Eskolaite:\t Cr2 O3\n",
      "Realgar:\t As S\n",
      "Orpiment:\t As2 S3\n",
      "Cadmoselite:\t Cd Se\n",
      "Wurtzite-2H:\t S Zn\n",
      "Cuprorivaite:\t Ca Cu O10 Si4\n",
      "Lazurite:\t Al2.97 Ca0.8 Mg0.36 Na3.12 O15.12 S Si3.03\n",
      "Hydrocerussite:\t C H O4 Pb1.5\n",
      "Dreyerite:\t Bi O4 V\n",
      "Clinobisvanite:\t Bi O4 V\n",
      "Wurtzite-6H:\t S Zn\n",
      "Wurtzite-4H:\t S Zn\n",
      "CoAl2O4:\t Al2 Co O4\n",
      "Celadonite:\t Al2 H2 K O12 Si4\n",
      "Glauconite:\t Al2 H2 K O12 Si4\n",
      "Baryte:\t Ba O4 S\n",
      "Al2 Co O4:\t Al2 Co O4\n",
      "Anorpiment:\t As2 S3\n"
     ]
    }
   ],
   "source": [
    "for name,phase in database.items():\n",
    "    print('%s:\\t'%name,phase[0]['_chemical_formula_sum'])"
   ]
  }
 ],
 "metadata": {
  "kernelspec": {
   "display_name": "Python 3 (ipykernel)",
   "language": "python",
   "name": "python3"
  },
  "language_info": {
   "codemirror_mode": {
    "name": "ipython",
    "version": 3
   },
   "file_extension": ".py",
   "mimetype": "text/x-python",
   "name": "python",
   "nbconvert_exporter": "python",
   "pygments_lexer": "ipython3",
   "version": "3.9.10"
  }
 },
 "nbformat": 4,
 "nbformat_minor": 5
}
