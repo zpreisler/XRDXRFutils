{
 "cells": [
  {
   "cell_type": "code",
   "execution_count": 4,
   "id": "1fb9549a",
   "metadata": {},
   "outputs": [],
   "source": [
    "from XRDXRFutils import SyntheticSpectraXRF\n",
    "from matplotlib.pyplot import plot, show, subplots"
   ]
  },
  {
   "cell_type": "code",
   "execution_count": 2,
   "id": "6785d810",
   "metadata": {},
   "outputs": [],
   "source": [
    "fname = '/home/rosario/xmimsim/synthetic/optuna/amulets_polyethylene/outdata/optuna_polyethylene(1).xmso'\n",
    "synt = SyntheticSpectraXRF().from_file(fname)"
   ]
  },
  {
   "cell_type": "markdown",
   "id": "45319424",
   "metadata": {},
   "source": [
    "### Convoluted spectra"
   ]
  },
  {
   "cell_type": "code",
   "execution_count": 5,
   "id": "9480b61a",
   "metadata": {},
   "outputs": [
    {
     "data": {
      "text/plain": [
       "[<matplotlib.lines.Line2D at 0x7f555e5200d0>]"
      ]
     },
     "execution_count": 5,
     "metadata": {},
     "output_type": "execute_result"
    },
    {
     "data": {
      "image/png": "[encoded data removed]",
      "text/plain": [
       "<Figure size 345x260 with 1 Axes>"
      ]
     },
     "metadata": {},
     "output_type": "display_data"
    }
   ],
   "source": [
    "%matplotlib inline\n",
    "plot(synt.energy, synt.counts)"
   ]
  },
  {
   "cell_type": "markdown",
   "id": "a257062b",
   "metadata": {},
   "source": [
    "### Unconvoluted spectra"
   ]
  },
  {
   "cell_type": "code",
   "execution_count": 6,
   "id": "f90f5d1b",
   "metadata": {},
   "outputs": [
    {
     "data": {
      "text/plain": [
       "[<matplotlib.lines.Line2D at 0x7f555eaa4820>]"
      ]
     },
     "execution_count": 6,
     "metadata": {},
     "output_type": "execute_result"
    },
    {
     "data": {
      "image/png": "[encoded data removed]",
      "text/plain": [
       "<Figure size 345x260 with 1 Axes>"
      ]
     },
     "metadata": {},
     "output_type": "display_data"
    }
   ],
   "source": [
    "plot(synt.energy, synt.unconv_counts)"
   ]
  },
  {
   "cell_type": "markdown",
   "id": "40cf839b",
   "metadata": {},
   "source": [
    "### Labels"
   ]
  },
  {
   "cell_type": "code",
   "execution_count": 8,
   "id": "b7ec2d34",
   "metadata": {},
   "outputs": [
    {
     "name": "stdout",
     "output_type": "stream",
     "text": [
      "{'time': 1000.0, 'Ar-K': 138430.8, 'Ar-KL': 123457.2, 'Ar-KM': 14973.599999999999, 'Fe-K': 1034.0459999999998, 'Fe-KL': 682.934, 'Fe-KM': 351.112}\n"
     ]
    }
   ],
   "source": [
    "print(synt.labels)"
   ]
  },
  {
   "cell_type": "code",
   "execution_count": 10,
   "id": "b8d73b05",
   "metadata": {},
   "outputs": [
    {
     "name": "stdout",
     "output_type": "stream",
     "text": [
      "time 1000.0\n",
      "Ar-K 138430.8\n",
      "Ar-KL 123457.2\n",
      "Ar-KM 14973.599999999999\n",
      "Fe-K 1034.0459999999998\n",
      "Fe-KL 682.934\n",
      "Fe-KM 351.112\n"
     ]
    }
   ],
   "source": [
    "for k,v in synt.labels.items():\n",
    "    print(k,v)"
   ]
  },
  {
   "cell_type": "markdown",
   "id": "70430c30",
   "metadata": {},
   "source": [
    "### Layers"
   ]
  },
  {
   "cell_type": "code",
   "execution_count": 12,
   "id": "356ae4ed",
   "metadata": {},
   "outputs": [
    {
     "data": {
      "text/plain": [
       "['air_top', 'polyethylene', 'wood']"
      ]
     },
     "execution_count": 12,
     "metadata": {},
     "output_type": "execute_result"
    }
   ],
   "source": [
    "synt.layers_names"
   ]
  },
  {
   "cell_type": "code",
   "execution_count": 13,
   "id": "7b410628",
   "metadata": {},
   "outputs": [
    {
     "name": "stdout",
     "output_type": "stream",
     "text": [
      "Layers\n",
      "├── air_top density = 0.001205 thickness = 22879.5 μm\n",
      "│   ├── C  0.0124\n",
      "│   ├── N  75.5268\n",
      "│   ├── O  23.1781\n",
      "│   └── Ar  1.2827\n",
      "├── polyethylene density = 0.226581 thickness = 27658.399999999998 μm\n",
      "│   ├── H  14.3711\n",
      "│   └── C  85.6289\n",
      "└── wood density = 1.51267 thickness = 100.0 μm\n",
      "    ├── H  6.15248\n",
      "    ├── C  43.9865\n",
      "    ├── O  48.8261\n",
      "    └── Fe  1.03486\n",
      "Layers\n",
      "├── air_top\n",
      "│   ├── pigments  None\n",
      "│   ├── volume_fractions  None\n",
      "│   └── mass_fractions  None\n",
      "├── polyethylene\n",
      "│   ├── pigments  None\n",
      "│   ├── volume_fractions  None\n",
      "│   └── mass_fractions  None\n",
      "└── wood\n",
      "    ├── pigments  ['cellulose', 'iron']\n",
      "    ├── volume_fractions  [0.998011942175214, 0.0019880578247859068]\n",
      "    └── mass_fractions  [0.989651445555786, 0.01034855444421423]\n",
      "\n"
     ]
    }
   ],
   "source": [
    "print(synt.layers)"
   ]
  },
  {
   "cell_type": "code",
   "execution_count": 22,
   "id": "a922bc68",
   "metadata": {},
   "outputs": [
    {
     "name": "stdout",
     "output_type": "stream",
     "text": [
      "\n",
      "    \n",
      "    Layer(elements = ['H', 'C', 'O', 'Fe']\n",
      "          weight_fractions = [ 6.15248 43.9865  48.8261   1.03486]\n",
      "          density = 1.51267\n",
      "          thickness = 0.01)\n"
     ]
    }
   ],
   "source": [
    "print(synt.layers['wood'])"
   ]
  },
  {
   "cell_type": "code",
   "execution_count": 23,
   "id": "46525c64",
   "metadata": {},
   "outputs": [],
   "source": [
    "wood = synt.layers['wood']"
   ]
  },
  {
   "cell_type": "markdown",
   "id": "5e9dcb6c",
   "metadata": {},
   "source": [
    "#### elements"
   ]
  },
  {
   "cell_type": "code",
   "execution_count": 24,
   "id": "802ff7f5",
   "metadata": {},
   "outputs": [
    {
     "data": {
      "text/plain": [
       "['H', 'C', 'O', 'Fe']"
      ]
     },
     "execution_count": 24,
     "metadata": {},
     "output_type": "execute_result"
    }
   ],
   "source": [
    "wood.elements"
   ]
  },
  {
   "cell_type": "markdown",
   "id": "1134000a",
   "metadata": {},
   "source": [
    "#### weight fractions"
   ]
  },
  {
   "cell_type": "code",
   "execution_count": 25,
   "id": "29965279",
   "metadata": {},
   "outputs": [
    {
     "data": {
      "text/plain": [
       "array([ 6.15248, 43.9865 , 48.8261 ,  1.03486])"
      ]
     },
     "execution_count": 25,
     "metadata": {},
     "output_type": "execute_result"
    }
   ],
   "source": [
    "wood.weight_fractions"
   ]
  },
  {
   "cell_type": "markdown",
   "id": "da9a1ed8",
   "metadata": {},
   "source": [
    "#### density"
   ]
  },
  {
   "cell_type": "code",
   "execution_count": 29,
   "id": "820d6cf6",
   "metadata": {},
   "outputs": [
    {
     "data": {
      "text/plain": [
       "1.51267"
      ]
     },
     "execution_count": 29,
     "metadata": {},
     "output_type": "execute_result"
    }
   ],
   "source": [
    "wood.density"
   ]
  },
  {
   "cell_type": "markdown",
   "id": "ce56b095",
   "metadata": {},
   "source": [
    "#### thickness"
   ]
  },
  {
   "cell_type": "code",
   "execution_count": 30,
   "id": "edfc3b2f",
   "metadata": {},
   "outputs": [
    {
     "data": {
      "text/plain": [
       "0.01"
      ]
     },
     "execution_count": 30,
     "metadata": {},
     "output_type": "execute_result"
    }
   ],
   "source": [
    "wood.thickness"
   ]
  },
  {
   "cell_type": "markdown",
   "id": "a690cc90",
   "metadata": {},
   "source": [
    "#### pigments"
   ]
  },
  {
   "cell_type": "code",
   "execution_count": 26,
   "id": "526956c8",
   "metadata": {},
   "outputs": [
    {
     "data": {
      "text/plain": [
       "['cellulose', 'iron']"
      ]
     },
     "execution_count": 26,
     "metadata": {},
     "output_type": "execute_result"
    }
   ],
   "source": [
    "wood.pigments"
   ]
  },
  {
   "cell_type": "markdown",
   "id": "6a542b1b",
   "metadata": {},
   "source": [
    "#### mass fractions"
   ]
  },
  {
   "cell_type": "code",
   "execution_count": 27,
   "id": "1e9d7594",
   "metadata": {},
   "outputs": [
    {
     "data": {
      "text/plain": [
       "[0.989651445555786, 0.01034855444421423]"
      ]
     },
     "execution_count": 27,
     "metadata": {},
     "output_type": "execute_result"
    }
   ],
   "source": [
    "wood.mass_fractions"
   ]
  },
  {
   "cell_type": "markdown",
   "id": "77206b2c",
   "metadata": {},
   "source": [
    "#### volume fractions"
   ]
  },
  {
   "cell_type": "code",
   "execution_count": 28,
   "id": "d76bf0c0",
   "metadata": {},
   "outputs": [
    {
     "data": {
      "text/plain": [
       "[0.998011942175214, 0.0019880578247859068]"
      ]
     },
     "execution_count": 28,
     "metadata": {},
     "output_type": "execute_result"
    }
   ],
   "source": [
    "wood.volume_fractions"
   ]
  },
  {
   "cell_type": "code",
   "execution_count": null,
   "id": "baa4ea68",
   "metadata": {},
   "outputs": [],
   "source": []
  }
 ],
 "metadata": {
  "kernelspec": {
   "display_name": "Python 3 (ipykernel)",
   "language": "python",
   "name": "python3"
  },
  "language_info": {
   "codemirror_mode": {
    "name": "ipython",
    "version": 3
   },
   "file_extension": ".py",
   "mimetype": "text/x-python",
   "name": "python",
   "nbconvert_exporter": "python",
   "pygments_lexer": "ipython3",
   "version": "3.10.7"
  }
 },
 "nbformat": 4,
 "nbformat_minor": 5
}
