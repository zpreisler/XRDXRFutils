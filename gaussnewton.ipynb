{
 "cells": [
  {
   "cell_type": "markdown",
   "id": "56d0403d",
   "metadata": {},
   "source": [
    "# Gauss-Newton for XRD"
   ]
  },
  {
   "cell_type": "code",
   "execution_count": 1,
   "id": "1416c242",
   "metadata": {},
   "outputs": [],
   "source": [
    "from XRDXRFutils import GaussNewton,SpectraXRD,DatabaseXRD,PhaseList\n",
    "from matplotlib.pyplot import xlim,ylim,xlabel,ylabel,legend,plot,fill_between\n",
    "from numpy import prod,array,minimum"
   ]
  },
  {
   "cell_type": "code",
   "execution_count": 2,
   "id": "78dfb3de",
   "metadata": {},
   "outputs": [],
   "source": [
    "path = '/home/zdenek/Projects/pyMaXRDXRF/M491/ProfiloXRD/'\n",
    "spectra = SpectraXRD().from_file(path + 'Frame0128.dat')\n",
    "spectra.opt = [-1185,1950,51]\n",
    "\n",
    "database = DatabaseXRD().read_cifs('/home/zdenek/Projects/XRDXRFutils/Database')\n",
    "\n",
    "lazurite = database['Lazurite'][0]\n",
    "hydrocerussite = database['Hydrocerussite'][0]\n",
    "cinnabar = database['Cinnabar'][0]\n",
    "barite = database['Barite'][0]\n",
    "spinel = database['Spinel'][0]\n",
    "calcite = database['Calcite'][0]\n",
    "\n",
    "phases = PhaseList([hydrocerussite,lazurite,cinnabar,barite,spinel,calcite])"
   ]
  },
  {
   "cell_type": "code",
   "execution_count": 3,
   "id": "93e7fbd1",
   "metadata": {},
   "outputs": [],
   "source": [
    "class PhaseSearch():\n",
    "    def __init__(self,phases,spectra):\n",
    "        self.g_list = [GaussNewton(phase,spectra) for phase in phases]\n",
    "        \n",
    "        for g in self.g_list:\n",
    "            g.opt = self.g_list[0].opt\n",
    "        \n",
    "    def minimize_gamma(self,n=4):\n",
    "        for g in self.g_list:\n",
    "            for i in range(n):\n",
    "                g.minimize_gamma()\n",
    "                \n",
    "    def overlap_area(self):\n",
    "        return array([g.overlap_area() for g in self.g_list])\n",
    "    \n",
    "    def loss(self):\n",
    "        return array([g.overlap_area() for g in self.g_list])\n",
    "    \n",
    "    def select(self):\n",
    "        idx = self.overlap_area().argmax()\n",
    "        selected = self.g_list[idx]\n",
    "        \n",
    "        return selected\n",
    "    \n",
    "    def theta_correction(self,n=4):\n",
    "        for i in range(n):\n",
    "            self.select().calibration()"
   ]
  },
  {
   "cell_type": "code",
   "execution_count": 4,
   "id": "e4c1c844",
   "metadata": {},
   "outputs": [],
   "source": [
    "phase_search = PhaseSearch(phases,spectra)\n",
    "phase_search.minimize_gamma()\n",
    "phase_search.select()\n",
    "phase_search.theta_correction()"
   ]
  },
  {
   "cell_type": "code",
   "execution_count": 5,
   "id": "a87825fc",
   "metadata": {},
   "outputs": [
    {
     "data": {
      "text/plain": [
       "array([43.20572575, 19.71052015,  3.43219604, 18.05396628,  1.12257691,\n",
       "        7.97937399])"
      ]
     },
     "execution_count": 5,
     "metadata": {},
     "output_type": "execute_result"
    }
   ],
   "source": [
    "phase_search.overlap_area()"
   ]
  },
  {
   "cell_type": "code",
   "execution_count": 34,
   "id": "34270c68",
   "metadata": {},
   "outputs": [
    {
     "ename": "NameError",
     "evalue": "name 'g_list' is not defined",
     "output_type": "error",
     "traceback": [
      "\u001b[0;31m---------------------------------------------------------------------------\u001b[0m",
      "\u001b[0;31mNameError\u001b[0m                                 Traceback (most recent call last)",
      "Input \u001b[0;32mIn [34]\u001b[0m, in \u001b[0;36m<module>\u001b[0;34m\u001b[0m\n\u001b[1;32m      1\u001b[0m get_ipython()\u001b[38;5;241m.\u001b[39mrun_line_magic(\u001b[38;5;124m'\u001b[39m\u001b[38;5;124mmatplotlib\u001b[39m\u001b[38;5;124m'\u001b[39m, \u001b[38;5;124m'\u001b[39m\u001b[38;5;124mqt\u001b[39m\u001b[38;5;124m'\u001b[39m)\n\u001b[0;32m----> 3\u001b[0m \u001b[43mg_list\u001b[49m[\u001b[38;5;241m0\u001b[39m]\u001b[38;5;241m.\u001b[39mplot_spectra(lw\u001b[38;5;241m=\u001b[39m\u001b[38;5;241m1\u001b[39m)\n\u001b[1;32m      4\u001b[0m g_list[\u001b[38;5;241m0\u001b[39m]\u001b[38;5;241m.\u001b[39mplot(\u001b[38;5;124m'\u001b[39m\u001b[38;5;124m-\u001b[39m\u001b[38;5;124m'\u001b[39m,label\u001b[38;5;241m=\u001b[39m\u001b[38;5;124m'\u001b[39m\u001b[38;5;124mfit\u001b[39m\u001b[38;5;124m'\u001b[39m,lw\u001b[38;5;241m=\u001b[39m\u001b[38;5;241m1\u001b[39m)\n\u001b[1;32m      5\u001b[0m g_list[\u001b[38;5;241m0\u001b[39m]\u001b[38;5;241m.\u001b[39mphase\u001b[38;5;241m.\u001b[39mplot(\u001b[38;5;124m'\u001b[39m\u001b[38;5;124mk\u001b[39m\u001b[38;5;124m'\u001b[39m)\n",
      "\u001b[0;31mNameError\u001b[0m: name 'g_list' is not defined"
     ]
    }
   ],
   "source": [
    "%matplotlib qt\n",
    "\n",
    "g_list[0].plot_spectra(lw=1)\n",
    "g_list[0].plot('-',label='fit',lw=1)\n",
    "g_list[0].phase.plot('k')\n",
    "\n",
    "fill_between(g_list[0].theta,g_list[0].overlap(),color='r',alpha=0.33)\n",
    "\n",
    "legend(frameon=False)\n",
    "ylim(-0.05,1)\n",
    "xlim(20,50)\n",
    "xlabel(r'angle $\\theta$')\n",
    "ylabel(r'relative intensity')"
   ]
  }
 ],
 "metadata": {
  "kernelspec": {
   "display_name": "Python 3 (ipykernel)",
   "language": "python",
   "name": "python3"
  },
  "language_info": {
   "codemirror_mode": {
    "name": "ipython",
    "version": 3
   },
   "file_extension": ".py",
   "mimetype": "text/x-python",
   "name": "python",
   "nbconvert_exporter": "python",
   "pygments_lexer": "ipython3",
   "version": "3.9.10"
  }
 },
 "nbformat": 4,
 "nbformat_minor": 5
}
