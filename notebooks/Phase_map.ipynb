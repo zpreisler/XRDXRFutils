{
 "cells": [
  {
   "cell_type": "code",
   "execution_count": 1,
   "id": "37e91e08",
   "metadata": {},
   "outputs": [],
   "source": [
    "from XRDXRFutils import ChiSearch,ChiMap,GammaSearch,GammaMap,FastSpectraXRD,DatabaseXRD, DataXRD, SpectraXRD, GaussNewton, PhaseList, PhaseMap, PhaseSearch, PhaseMapSave\n",
    "\n",
    "import os\n",
    "import pickle\n",
    "\n",
    "from XRDXRFutils import snip3d,convolve3d\n",
    "\n",
    "from joblib import Parallel, delayed\n",
    "import h5py\n",
    "from sklearn.linear_model import LinearRegression\n",
    "from scipy.optimize import curve_fit, least_squares\n",
    "\n",
    "from scipy.signal import windows\n",
    "\n",
    "from numpy import arange,linspace,concatenate,sqrt,log,histogram,newaxis,pad,fft,array,asarray,array_split\n",
    "from matplotlib.pyplot import fill_between,sca,legend,imshow,subplots,plot,xlim,ylim,xlabel,ylabel,cm,title,scatter,colorbar,figure,vlines\n",
    "from sklearn.cluster import KMeans,MiniBatchKMeans\n",
    "\n",
    "from PIL import Image\n",
    "\n",
    "import gc\n",
    "\n",
    "from multiprocessing import Process,Queue\n",
    "\n",
    "from joblib import Parallel,delayed\n",
    "\n",
    "import threading"
   ]
  },
  {
   "cell_type": "code",
   "execution_count": 2,
   "id": "4fb1edbe",
   "metadata": {},
   "outputs": [],
   "source": [
    "path_xrd = '/home/shared/dataXRDXRF/MunchMuseum/M491/ProfiloXRD/'\n",
    "path_database = '/home/shared/DatabaseXRD'"
   ]
  },
  {
   "cell_type": "code",
   "execution_count": 3,
   "id": "4b9c27c9",
   "metadata": {},
   "outputs": [
    {
     "name": "stdout",
     "output_type": "stream",
     "text": [
      "Loading: /home/shared/dataXRDXRF/MunchMuseum/M491/ProfiloXRD/xrd.h5\n",
      "CPU times: user 4.48 ms, sys: 129 ms, total: 134 ms\n",
      "Wall time: 133 ms\n"
     ]
    }
   ],
   "source": [
    "%%time\n",
    "try:\n",
    "    data = DataXRD().load_h5(path_xrd + 'xrd.h5')\n",
    "except:\n",
    "    print('Reading from raw data.')\n",
    "    data = DataXRD().read_params(path_xrd + 'Scanning_Parameters.txt').read(path_xrd).calibrate_from_file(path_xrd + 'calibration.ini').remove_background().save_h5(path_xrd + 'xrd.h5')"
   ]
  },
  {
   "cell_type": "code",
   "execution_count": 4,
   "id": "265f19dd",
   "metadata": {},
   "outputs": [
    {
     "name": "stdout",
     "output_type": "stream",
     "text": [
      "Phases in database: 137\n"
     ]
    }
   ],
   "source": [
    "database = DatabaseXRD().read_cifs(path_database)\n",
    "print('Phases in database:',len(database))"
   ]
  },
  {
   "cell_type": "code",
   "execution_count": 5,
   "id": "a1bb9512",
   "metadata": {},
   "outputs": [
    {
     "data": {
      "text/plain": [
       "(array([20.93971943, 24.69207474, 27.18665762, 34.04367108, 34.18152332,\n",
       "        40.42823653, 42.6228012 , 43.04402736, 44.21036078, 48.24071298,\n",
       "        49.014125  , 23.94038756, 31.06153655, 34.11266972, 42.10609553,\n",
       "        26.51331315, 28.15070761, 31.19598604, 43.62074332, 45.75881859,\n",
       "        51.77486834, 52.72567416]),\n",
       " array([0.27071, 0.74861, 1.     , 0.34109, 0.53856, 0.24343, 0.14858,\n",
       "        0.18136, 0.18249, 0.12698, 0.29295, 1.     , 0.11682, 0.27028,\n",
       "        0.13034, 0.76186, 0.219  , 1.     , 0.37672, 0.32453, 0.11862,\n",
       "        0.2239 ]))"
      ]
     },
     "execution_count": 5,
     "metadata": {},
     "output_type": "execute_result"
    }
   ],
   "source": [
    "lazurite = database['Lazurite'][0]\n",
    "hydrocerussite = database['Hydrocerussite'][0]\n",
    "cinnabar = database['Cinnabar'][1]\n",
    "barite = database['Barite'][0]\n",
    "spinel = database['Spinel'][0]\n",
    "calcite = database['Calcite'][0]\n",
    "hematite = database['Hematite'][4]\n",
    "\n",
    "phases = PhaseList([hydrocerussite,lazurite,cinnabar])\n",
    "\n",
    "min_theta = 20\n",
    "max_theta = 53\n",
    "min_intensity = 0.1\n",
    "first_n_peaks = None\n",
    "\n",
    "phases.get_theta(min_intensity=min_intensity,\n",
    "                 min_theta = min_theta,\n",
    "                 max_theta = max_theta,\n",
    "                first_n_peaks = first_n_peaks)"
   ]
  },
  {
   "cell_type": "code",
   "execution_count": 6,
   "id": "0db7832d",
   "metadata": {},
   "outputs": [
    {
     "data": {
      "text/plain": [
       "(95, 170, 1280)"
      ]
     },
     "execution_count": 6,
     "metadata": {},
     "output_type": "execute_result"
    }
   ],
   "source": [
    "data.data.shape"
   ]
  },
  {
   "cell_type": "code",
   "execution_count": 7,
   "id": "347c5c49",
   "metadata": {},
   "outputs": [
    {
     "name": "stdout",
     "output_type": "stream",
     "text": [
      "CPU times: user 901 ms, sys: 119 ms, total: 1.02 s\n",
      "Wall time: 1.02 s\n"
     ]
    }
   ],
   "source": [
    "%%time\n",
    "x = GammaMap().from_data(data,phases,sigma=0.2)"
   ]
  },
  {
   "cell_type": "code",
   "execution_count": 8,
   "id": "26021009",
   "metadata": {},
   "outputs": [
    {
     "name": "stdout",
     "output_type": "stream",
     "text": [
      "CPU times: user 22.1 ms, sys: 2.01 ms, total: 24.1 ms\n",
      "Wall time: 22.3 ms\n"
     ]
    },
    {
     "data": {
      "text/plain": [
       "[<XRDXRFutils.gaussnewton.GaussNewton at 0x7f78b9237310>,\n",
       " <XRDXRFutils.gaussnewton.GaussNewton at 0x7f78b9237340>,\n",
       " <XRDXRFutils.gaussnewton.GaussNewton at 0x7f78b9237370>]"
      ]
     },
     "execution_count": 8,
     "metadata": {},
     "output_type": "execute_result"
    }
   ],
   "source": [
    "%%time\n",
    "x[100].search()"
   ]
  },
  {
   "cell_type": "code",
   "execution_count": 9,
   "id": "10d292f0",
   "metadata": {},
   "outputs": [
    {
     "data": {
      "image/png": "[encoded data removed]",
      "text/plain": [
       "<Figure size 432x288 with 1 Axes>"
      ]
     },
     "metadata": {
      "needs_background": "light"
     },
     "output_type": "display_data"
    }
   ],
   "source": [
    "x[100][0].plot_spectrum()\n",
    "x[100][0].plot('--')"
   ]
  },
  {
   "cell_type": "code",
   "execution_count": 10,
   "id": "5a2b48b8",
   "metadata": {},
   "outputs": [
    {
     "name": "stdout",
     "output_type": "stream",
     "text": [
      "CPU times: user 13.5 s, sys: 4.6 s, total: 18.1 s\n",
      "Wall time: 21.6 s\n"
     ]
    }
   ],
   "source": [
    "%%time\n",
    "x = x.search()"
   ]
  },
  {
   "cell_type": "code",
   "execution_count": 7,
   "id": "2702e0ba",
   "metadata": {},
   "outputs": [
    {
     "name": "stdout",
     "output_type": "stream",
     "text": [
      "CPU times: user 946 ms, sys: 134 ms, total: 1.08 s\n",
      "Wall time: 1.08 s\n"
     ]
    }
   ],
   "source": [
    "%%time\n",
    "y = ChiMap().from_data(data,phases)"
   ]
  },
  {
   "cell_type": "code",
   "execution_count": 8,
   "id": "d51b25e0",
   "metadata": {},
   "outputs": [
    {
     "name": "stdout",
     "output_type": "stream",
     "text": [
      "CPU times: user 20.6 ms, sys: 1.23 ms, total: 21.9 ms\n",
      "Wall time: 20.4 ms\n"
     ]
    },
    {
     "data": {
      "text/plain": [
       "[<XRDXRFutils.gaussnewton.GaussNewton at 0x7fb5d695e850>,\n",
       " <XRDXRFutils.gaussnewton.GaussNewton at 0x7fb5d695e880>,\n",
       " <XRDXRFutils.gaussnewton.GaussNewton at 0x7fb5d695e8b0>]"
      ]
     },
     "execution_count": 8,
     "metadata": {},
     "output_type": "execute_result"
    }
   ],
   "source": [
    "%%time\n",
    "y[0].search()"
   ]
  },
  {
   "cell_type": "code",
   "execution_count": 9,
   "id": "522aabeb",
   "metadata": {},
   "outputs": [
    {
     "name": "stdout",
     "output_type": "stream",
     "text": [
      "CPU times: user 14.9 s, sys: 4.79 s, total: 19.7 s\n",
      "Wall time: 22.1 s\n"
     ]
    }
   ],
   "source": [
    "%%time\n",
    "y = y.search()"
   ]
  },
  {
   "cell_type": "code",
   "execution_count": null,
   "id": "d0747725",
   "metadata": {},
   "outputs": [],
   "source": []
  }
 ],
 "metadata": {
  "kernelspec": {
   "display_name": "Python 3 (ipykernel)",
   "language": "python",
   "name": "python3"
  },
  "language_info": {
   "codemirror_mode": {
    "name": "ipython",
    "version": 3
   },
   "file_extension": ".py",
   "mimetype": "text/x-python",
   "name": "python",
   "nbconvert_exporter": "python",
   "pygments_lexer": "ipython3",
   "version": "3.9.11"
  }
 },
 "nbformat": 4,
 "nbformat_minor": 5
}
