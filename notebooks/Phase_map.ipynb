{
 "cells": [
  {
   "cell_type": "code",
   "execution_count": 1,
   "id": "37e91e08",
   "metadata": {},
   "outputs": [],
   "source": [
    "from XRDXRFutils import ChiSearch,ChiMap,GammaSearch,GammaMap,FastSpectraXRD,DatabaseXRD, DataXRD, SpectraXRD, GaussNewton, PhaseList, PhaseMap, PhaseSearch, PhaseMapSave\n",
    "\n",
    "import os\n",
    "import pickle\n",
    "\n",
    "from XRDXRFutils import snip3d,convolve3d\n",
    "\n",
    "from joblib import Parallel, delayed\n",
    "import h5py\n",
    "from sklearn.linear_model import LinearRegression\n",
    "from scipy.optimize import curve_fit, least_squares\n",
    "\n",
    "from scipy.signal import windows\n",
    "\n",
    "from numpy import arange,linspace,concatenate,sqrt,log,histogram,newaxis,pad,fft,array,asarray,array_split\n",
    "from matplotlib.pyplot import fill_between,sca,legend,imshow,subplots,plot,xlim,ylim,xlabel,ylabel,cm,title,scatter,colorbar,figure,vlines\n",
    "from sklearn.cluster import KMeans,MiniBatchKMeans\n",
    "\n",
    "from PIL import Image\n",
    "\n",
    "import gc\n",
    "\n",
    "from multiprocessing import Process,Queue\n",
    "\n",
    "from joblib import Parallel,delayed\n",
    "\n",
    "import threading"
   ]
  },
  {
   "cell_type": "code",
   "execution_count": 2,
   "id": "4fb1edbe",
   "metadata": {},
   "outputs": [],
   "source": [
    "path_xrd = '/home/shared/dataXRDXRF/MunchMuseum/M491/ProfiloXRD/'\n",
    "path_database = '/home/shared/DatabaseXRD'"
   ]
  },
  {
   "cell_type": "code",
   "execution_count": 3,
   "id": "4b9c27c9",
   "metadata": {},
   "outputs": [
    {
     "name": "stdout",
     "output_type": "stream",
     "text": [
      "Loading: /home/shared/dataXRDXRF/MunchMuseum/M491/ProfiloXRD/xrd.h5\n",
      "CPU times: user 5.07 ms, sys: 144 ms, total: 149 ms\n",
      "Wall time: 148 ms\n"
     ]
    }
   ],
   "source": [
    "%%time\n",
    "try:\n",
    "    data = DataXRD().load_h5(path_xrd + 'xrd.h5')\n",
    "except:\n",
    "    print('Reading from raw data.')\n",
    "    data = DataXRD().read_params(path_xrd + 'Scanning_Parameters.txt').read(path_xrd).calibrate_from_file(path_xrd + 'calibration.ini').remove_background().save_h5(path_xrd + 'xrd.h5')"
   ]
  },
  {
   "cell_type": "code",
   "execution_count": 4,
   "id": "265f19dd",
   "metadata": {},
   "outputs": [
    {
     "name": "stdout",
     "output_type": "stream",
     "text": [
      "Phases in database: 137\n"
     ]
    }
   ],
   "source": [
    "database = DatabaseXRD().read_cifs(path_database)\n",
    "print('Phases in database:',len(database))"
   ]
  },
  {
   "cell_type": "code",
   "execution_count": 5,
   "id": "a1bb9512",
   "metadata": {},
   "outputs": [
    {
     "data": {
      "text/plain": [
       "(array([20.93971943, 24.69207474, 27.18665762, 34.04367108, 34.18152332,\n",
       "        40.42823653, 42.6228012 , 43.04402736, 44.21036078, 48.24071298,\n",
       "        49.014125  , 23.94038756, 31.06153655, 34.11266972, 42.10609553,\n",
       "        26.51331315, 28.15070761, 31.19598604, 43.62074332, 45.75881859,\n",
       "        51.77486834, 52.72567416]),\n",
       " array([0.27071, 0.74861, 1.     , 0.34109, 0.53856, 0.24343, 0.14858,\n",
       "        0.18136, 0.18249, 0.12698, 0.29295, 1.     , 0.11682, 0.27028,\n",
       "        0.13034, 0.76186, 0.219  , 1.     , 0.37672, 0.32453, 0.11862,\n",
       "        0.2239 ]))"
      ]
     },
     "execution_count": 5,
     "metadata": {},
     "output_type": "execute_result"
    }
   ],
   "source": [
    "lazurite = database['Lazurite'][0]\n",
    "hydrocerussite = database['Hydrocerussite'][0]\n",
    "cinnabar = database['Cinnabar'][1]\n",
    "barite = database['Barite'][0]\n",
    "spinel = database['Spinel'][0]\n",
    "calcite = database['Calcite'][0]\n",
    "hematite = database['Hematite'][4]\n",
    "\n",
    "phases = PhaseList([hydrocerussite,lazurite,cinnabar])\n",
    "\n",
    "min_theta = 20\n",
    "max_theta = 53\n",
    "min_intensity = 0.1\n",
    "first_n_peaks = None\n",
    "\n",
    "phases.get_theta(min_intensity=min_intensity,\n",
    "                 min_theta = min_theta,\n",
    "                 max_theta = max_theta,\n",
    "                first_n_peaks = first_n_peaks)"
   ]
  },
  {
   "cell_type": "code",
   "execution_count": 6,
   "id": "0db7832d",
   "metadata": {},
   "outputs": [
    {
     "data": {
      "text/plain": [
       "(95, 170, 1280)"
      ]
     },
     "execution_count": 6,
     "metadata": {},
     "output_type": "execute_result"
    }
   ],
   "source": [
    "data.data.shape"
   ]
  },
  {
   "cell_type": "code",
   "execution_count": 7,
   "id": "347c5c49",
   "metadata": {},
   "outputs": [
    {
     "name": "stdout",
     "output_type": "stream",
     "text": [
      "CPU times: user 798 ms, sys: 69 ms, total: 867 ms\n",
      "Wall time: 864 ms\n"
     ]
    }
   ],
   "source": [
    "%%time\n",
    "x = GammaMap().from_data(data,phases)"
   ]
  },
  {
   "cell_type": "code",
   "execution_count": 8,
   "id": "34d471ff",
   "metadata": {},
   "outputs": [
    {
     "name": "stdout",
     "output_type": "stream",
     "text": [
      "(1280, 11)\n",
      "(1280, 11)\n",
      "(1280, 11)\n",
      "(1280, 4)\n",
      "(1280, 4)\n",
      "(1280, 4)\n",
      "(1280, 7)\n",
      "(1280, 7)\n",
      "(1280, 7)\n",
      "(1280, 13)\n",
      "(1280, 13)\n",
      "(1280, 13)\n",
      "(1280, 13)\n",
      "(1280, 13)\n",
      "(1280, 13)\n",
      "(1280, 11)\n",
      "(1280, 11)\n",
      "(1280, 11)\n",
      "(1280, 4)\n",
      "(1280, 4)\n",
      "(1280, 4)\n",
      "(1280, 7)\n",
      "(1280, 7)\n",
      "(1280, 7)\n",
      "CPU times: user 43.6 ms, sys: 3.18 ms, total: 46.8 ms\n",
      "Wall time: 43.7 ms\n"
     ]
    },
    {
     "data": {
      "text/plain": [
       "[<XRDXRFutils.gaussnewton.GaussNewton at 0x7efe6c098e50>,\n",
       " <XRDXRFutils.gaussnewton.GaussNewton at 0x7efe6c098e80>,\n",
       " <XRDXRFutils.gaussnewton.GaussNewton at 0x7efe6c098ee0>]"
      ]
     },
     "execution_count": 8,
     "metadata": {},
     "output_type": "execute_result"
    }
   ],
   "source": [
    "%%time\n",
    "x[0].search()"
   ]
  },
  {
   "cell_type": "code",
   "execution_count": null,
   "id": "f9736442",
   "metadata": {},
   "outputs": [],
   "source": [
    "%%time\n",
    "x = x.search()"
   ]
  },
  {
   "cell_type": "code",
   "execution_count": 11,
   "id": "106593f2",
   "metadata": {},
   "outputs": [
    {
     "name": "stdout",
     "output_type": "stream",
     "text": [
      "CPU times: user 1.04 s, sys: 49.5 ms, total: 1.09 s\n",
      "Wall time: 1.09 s\n"
     ]
    }
   ],
   "source": [
    "%%time\n",
    "y = ChiMap().from_data(data,phases)"
   ]
  },
  {
   "cell_type": "code",
   "execution_count": 12,
   "id": "0bdccba5",
   "metadata": {},
   "outputs": [
    {
     "name": "stdout",
     "output_type": "stream",
     "text": [
      "(1280, 3)\n",
      "(1280, 3)\n",
      "(1280, 3)\n",
      "(1280, 5)\n",
      "(1280, 5)\n",
      "(1280, 5)\n",
      "(1280, 5)\n",
      "(1280, 5)\n",
      "(1280, 5)\n",
      "(1280, 3)\n",
      "(1280, 3)\n",
      "(1280, 3)\n",
      "CPU times: user 21.2 ms, sys: 879 µs, total: 22.1 ms\n",
      "Wall time: 19.4 ms\n"
     ]
    },
    {
     "data": {
      "text/plain": [
       "[<XRDXRFutils.gaussnewton.GaussNewton at 0x7efe64215520>,\n",
       " <XRDXRFutils.gaussnewton.GaussNewton at 0x7efe64215550>,\n",
       " <XRDXRFutils.gaussnewton.GaussNewton at 0x7efe642155b0>]"
      ]
     },
     "execution_count": 12,
     "metadata": {},
     "output_type": "execute_result"
    }
   ],
   "source": [
    "%%time\n",
    "y[0].search()"
   ]
  },
  {
   "cell_type": "code",
   "execution_count": null,
   "id": "faa79dfb",
   "metadata": {},
   "outputs": [],
   "source": [
    "%%time\n",
    "y = y.search()"
   ]
  },
  {
   "cell_type": "code",
   "execution_count": null,
   "id": "2c0d0650",
   "metadata": {},
   "outputs": [],
   "source": []
  }
 ],
 "metadata": {
  "kernelspec": {
   "display_name": "Python 3 (ipykernel)",
   "language": "python",
   "name": "python3"
  },
  "language_info": {
   "codemirror_mode": {
    "name": "ipython",
    "version": 3
   },
   "file_extension": ".py",
   "mimetype": "text/x-python",
   "name": "python",
   "nbconvert_exporter": "python",
   "pygments_lexer": "ipython3",
   "version": "3.9.11"
  }
 },
 "nbformat": 4,
 "nbformat_minor": 5
}
