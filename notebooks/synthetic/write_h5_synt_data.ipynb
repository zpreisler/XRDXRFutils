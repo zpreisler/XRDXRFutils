{
 "cells": [
  {
   "cell_type": "code",
   "execution_count": 1,
   "id": "bc22927c",
   "metadata": {},
   "outputs": [],
   "source": [
    "from XRDXRFutils.data import SyntheticDataXRF\n",
    "import h5py\n",
    "import os\n",
    "import glob\n",
    "import numpy as np\n",
    "from XRDXRFutils.Xmendeleev import Xmendeleev\n",
    "import matplotlib.pyplot as plt\n",
    "from scipy.optimize import curve_fit"
   ]
  },
  {
   "cell_type": "code",
   "execution_count": 2,
   "id": "159444a6",
   "metadata": {},
   "outputs": [
    {
     "name": "stdout",
     "output_type": "stream",
     "text": [
      "['Pb-L', 'Pb-M', 'Fe-K', 'Mn-K', 'Cu-K', 'Zn-K', 'Co-K', 'Cd-L', 'K-K', 'Ca-K', 'Ba-L', 'Ti-K', 'As-K', 'Hg-L', 'Hg-M', 'S-K', 'P-K', 'Cr-K', 'Au-L', 'Au-M', 'Al-K', 'Si-K', 'Cl-K', 'Se-K', 'Sn-L', 'Br-K', 'Sr-K', 'V-K', 'Bi-L', 'Bi-M', 'Ni-K', 'Ag-K', 'Ag-L', 'Sb-L', 'Ar-K', 'Sc-K']\n",
      "['Pb', 'Pb', 'Fe', 'Mn', 'Cu', 'Zn', 'Co', 'Cd', 'K', 'Ca', 'Ba', 'Ti', 'As', 'Hg', 'Hg', 'S', 'P', 'Cr', 'Au', 'Au', 'Al', 'Si', 'Cl', 'Se', 'Sn', 'Br', 'Sr', 'V', 'Bi', 'Bi', 'Ni', 'Ag', 'Ag', 'Sb', 'Ar', 'Sc']\n",
      "['L', 'M', 'K', 'K', 'K', 'K', 'K', 'L', 'K', 'K', 'L', 'K', 'K', 'L', 'M', 'K', 'K', 'K', 'L', 'M', 'K', 'K', 'K', 'K', 'L', 'K', 'K', 'K', 'L', 'M', 'K', 'K', 'L', 'L', 'K', 'K']\n",
      "36 36\n",
      "['Pb-L', 'Pb-M', 'Fe-K', 'Mn-K', 'Cu-K', 'Zn-K', 'Co-K', 'Cd-L', 'K-K', 'Ca-K', 'Ba-L', 'Ti-K', 'As-K', 'Hg-L', 'Hg-M', 'S-K', 'P-K', 'Cr-K', 'Au-L', 'Au-M', 'Al-K', 'Si-K', 'Cl-K', 'Se-K', 'Sn-L', 'Br-K', 'Sr-K', 'V-K', 'Bi-L', 'Bi-M', 'Ni-K', 'Ag-K', 'Ag-L', 'Sb-L', 'Ar-K', 'Sc-K']\n"
     ]
    }
   ],
   "source": [
    "#Labels = ['Pb-L','Fe-K','Mn-K','Cu-K','Co-K','Ca-K','Ti-K','S-K','P-K','Au-L','Al-K','Si-K','Cl-K','Sb-L','Sn-L','Sr-K','V-K']\n",
    "Labels = ['Pb-L','Pb-M', 'Fe-K', 'Mn-K', 'Cu-K', 'Zn-K', 'Co-K', 'Cd-L', 'K-K',\n",
    "         'Ca-K', 'Ba-L', 'Ti-K', 'As-K', 'Hg-L', 'Hg-M', 'S-K', 'P-K', 'Cr-K',\n",
    "         'Au-L', 'Au-M', 'Al-K', 'Si-K', 'Cl-K', 'Se-K', 'Sn-L', 'Br-K', 'Sr-K', 'V-K','Bi-L','Bi-M',\n",
    "         'Ni-K','Ag-K','Ag-L', 'Sb-L','Ar-K', 'Sc-K']\n",
    "#Labels = \"Pb-L Ca-K Fe-K Mn-K\".split()\n",
    "#Labels = ['Pb-L', 'Pb-M', 'Fe-K', 'Mn-K', 'Cu-K', 'Co-K', 'Ca-K', 'Ti-K', 'S-K',\n",
    "#       'P-K', 'Au-L', 'Au-M', 'Al-K', 'Si-K', 'Cl-K', 'Sb-L', 'Sn-L', 'Sr-K', 'V-K', 'Ar-K']\n",
    "symbols = []\n",
    "lines = []\n",
    "for l in Labels:\n",
    "    ls = l.split('-')\n",
    "    symbols.append(ls[0])\n",
    "    lines.append(ls[1])\n",
    "#atnum_list = [20,25,26,80]\n",
    "#['P' 'S' 'K' 'Ca' 'Ti' 'Cr' 'Mn' 'Fe' 'Co' 'Cu' 'Zn' 'As' 'Cd' 'Ba' 'Au' 'Hg']\n",
    "#symbols = ['Pb', 'Fe', 'Mn', 'Cu', 'Zn', 'Co', 'Cd', 'K', 'Ca', 'Ba', 'Ti', 'As', 'Hg', 'S', 'P', 'Cr', 'Au']\n",
    "#symbols = ['Pb', 'Fe', 'Mn', 'Cu', 'Zn', 'Co', 'Cd', 'K', 'Ca', 'Ba', 'Ti', 'As', 'Hg', 'S', 'P', 'Cr', 'Au']\n",
    "#symbols += ['Al', 'Si', 'Cl', 'Se', 'Sb', 'Sn', 'Br', 'Sr', 'V', 'Bi', 'Ni', 'Ag']\n",
    "#symbols += ['Si', 'Cl', 'Se', 'Sn', 'Br', 'Sr', 'Bi', 'Ni']\n",
    "#lines = \"L K K K K K K K K L K K L K K K L\".split()\n",
    "#lines += \"K K K K K K K K K L K K\".split()\n",
    "#lines += \"K K K K K K L K\".split()\n",
    "#print([f\"{s}-{l}\" for s,l in zip(symbols,lines)])\n",
    "print(Labels)\n",
    "print(symbols)\n",
    "print(lines)\n",
    "print(len(symbols), len(lines))\n",
    "print([\"-\".join(x) for x in zip(symbols,lines)])"
   ]
  },
  {
   "cell_type": "code",
   "execution_count": 3,
   "id": "598e0168",
   "metadata": {},
   "outputs": [
    {
     "name": "stdout",
     "output_type": "stream",
     "text": [
      "[13, 14, 15, 16, 17, 18, 19, 20, 21, 22, 23, 24, 25, 26, 27, 28, 29, 30, 33, 34, 35, 38, 47, 48, 50, 51, 56, 79, 80, 82, 83]\n"
     ]
    }
   ],
   "source": [
    "xm = Xmendeleev()\n",
    "#atnum_list = sorted([xm.get_element(s).atomic_number for s in symbols[1:]])\n",
    "atnum_list = sorted(set([xm.get_element(s).atomic_number for s in symbols]))\n",
    "print(atnum_list)"
   ]
  },
  {
   "cell_type": "code",
   "execution_count": 4,
   "id": "64b971ff",
   "metadata": {},
   "outputs": [],
   "source": [
    "def rem_nan(x):\n",
    "    idx = lambda y: np.where(np.isnan(y[0]).sum(axis=1) == 0)[0]\n",
    "    x.reflayer_thickness = x.reflayer_thickness[idx(x.labels)]\n",
    "    x.sublayer_thickness = x.sublayer_thickness[idx(x.labels)]\n",
    "    x.time = x.time[idx(x.labels)]\n",
    "    x.weight_fractions = x.weight_fractions[idx(x.labels), :]\n",
    "    x.data = x.data[:, idx(x.labels), :]\n",
    "    x.labels = x.labels[:, idx(x.labels), :]\n",
    "    return x"
   ]
  },
  {
   "cell_type": "code",
   "execution_count": 5,
   "id": "82046f71",
   "metadata": {},
   "outputs": [],
   "source": [
    "def saveh5(rootdir, fname = \"data\", fout = None, single = False):\n",
    "    if rootdir[-1] == \"/\":\n",
    "        rootdir = rootdir[:-1]\n",
    "    datadir = os.path.join(rootdir, 'outdata')\n",
    "    synt = SyntheticDataXRF(rl_atnum_list=atnum_list, skip_element=True)\n",
    "    synt.read(datadir)\n",
    "    print(\"Done\")\n",
    "    synt.get_data_and_labels(symbols, lines)\n",
    "    if single:\n",
    "        synt.sublayer_thickness = np.zeros_like(synt.reflayer_thickness)\n",
    "    if not fout:\n",
    "        fout = os.path.join(rootdir, f\"{os.path.basename(rootdir)}_{fname}.h5\")\n",
    "    if np.any(np.isnan(synt.labels)):\n",
    "        synt = rem_nan(synt)\n",
    "    synt.save_h5(fout)\n",
    "    print(\"Saved\")\n",
    "    return fout\n",
    "\n",
    "def save_resampled(h5fname, nbins = 1024, bounds = (0,30)):\n",
    "    print('resampling...')\n",
    "    synt = SyntheticDataXRF().load_h5(h5fname)\n",
    "    s = synt.resample(nbins = nbins, bounds = bounds)\n",
    "    synt.data = s.data\n",
    "    synt.labels = s.labels\n",
    "    synt._x = s.x\n",
    "    outfname = h5fname[:-3] + f'_{nbins}.h5'\n",
    "    synt.save_h5(outfname)\n",
    "    print('Done')\n",
    "    return outfname\n",
    "\n",
    "def saveh5_from_file(h5file_name : str, xmso_datadirs : list):\n",
    "    synt = SyntheticDataXRF(rl_atnum_list=atnum_list, skip_element=True)\n",
    "    synt.spe_objs = []\n",
    "    for _dir in xmso_datadirs:\n",
    "        xmso_fnames = glob(os.path.join(_dir), \"*.xmso\")\n",
    "        print(f\"Reading data from {_dir}\")\n",
    "        synt.spe_objs += [s for s in synt.__read__(xmso_fnames)]\n",
    "        print(\"Done\")\n",
    "    synt.get_data_and_labels(symbols,lines)\n",
    "    synt.save_h5(h5file_name)\n",
    "    print(\"Saved\")\n",
    "\n",
    "def joinh5(h5list, out_file_name = None):\n",
    "    data = []\n",
    "    unconv_data = []\n",
    "    labels = []\n",
    "    reflayer_thickness = []\n",
    "    sublayer_thickness = []\n",
    "    #reflayer_elements = []\n",
    "    weight_fractions = []\n",
    "    total_counts = []\n",
    "    energy = None\n",
    "    #time = []\n",
    "    metadata = {}\n",
    "    metadata[\"path\"] = []\n",
    "    for i, h5 in enumerate(h5list):\n",
    "        synt = SyntheticDataXRF(rl_atnum_list=atnum_list, skip_element=True)\n",
    "        synt.load_h5(h5)\n",
    "        if isinstance(synt.metadata['path'], str):\n",
    "            synt.metadata['path'] = [synt.metadata['path']]\n",
    "        data.append(synt.data)\n",
    "        labels.append(synt.labels)\n",
    "        reflayer_thickness.append(synt.reflayer_thickness)\n",
    "        sublayer_thickness.append(synt.sublayer_thickness)\n",
    "        #reflayer_elements.append(synt.reflayer_elements)\n",
    "        weight_fractions.append(synt.weight_fractions)\n",
    "        total_counts.append(synt.total_counts)\n",
    "        energy = synt.x\n",
    "        #time.append(synt.time)\n",
    "        metadata[\"path\"] += [m for m in synt.metadata['path']]\n",
    "    out = SyntheticDataXRF(rl_atnum_list=atnum_list, skip_element=True)\n",
    "    out.data = np.concatenate(data, axis = 1)\n",
    "    out.unconv_data = np.concatenate(unconv_data, axis = 1)\n",
    "    out.labels = np.concatenate(labels, axis = 1)\n",
    "    out.reflayer_thickness = np.hstack(reflayer_thickness)\n",
    "    out.sublayer_thickness = np.hstack(sublayer_thickness)\n",
    "    #out.reflayer_elements = np.vstack(reflayer_elements)\n",
    "    out.weight_fractions = np.vstack(weight_fractions)\n",
    "    out.total_counts = np.hstack(total_counts)\n",
    "    out._x = energy\n",
    "    #out.time = np.hstack(time)\n",
    "    out.metadata.update(synt.metadata)\n",
    "    out.metadata[\"path\"] = metadata[\"path\"]\n",
    "    print(out.metadata)\n",
    "    out.spe_objs = []\n",
    "    print(out.shape)\n",
    "    if not out_file_name:\n",
    "        out_file_name = \"joined_data.h5\"\n",
    "    out.save_h5(out_file_name)\n",
    "    "
   ]
  },
  {
   "cell_type": "code",
   "execution_count": null,
   "id": "909ec179",
   "metadata": {},
   "outputs": [
    {
     "name": "stdout",
     "output_type": "stream",
     "text": [
      "Reading SyntXRF data from /home/rosario/xmimsim/synthetic/slfixed_rl_30_90/outdata\n"
     ]
    }
   ],
   "source": [
    "rootdir = '/home/rosario/xmimsim/synthetic/slfixed_rl_30_90/'\n",
    "f = saveh5(rootdir, fout = '/home/rosario/test_unconv_spec.h5')\n",
    "f = save_resampled(f)"
   ]
  },
  {
   "cell_type": "code",
   "execution_count": 38,
   "id": "3b8ebc19",
   "metadata": {},
   "outputs": [
    {
     "name": "stdout",
     "output_type": "stream",
     "text": [
      "Loading: /home/rosario/xmimsim/synthetic/slfixed_Rh_231max_nakagami_Pb_rl_1_90/slfixed_Rh_231max_nakagami_Pb_rl_1_90_data_1024.h5\n",
      "Loading: /home/rosario/xmimsim/synthetic/zdenek/slfixed_PbO2_Rh231max_nakagami_1_90_data_1024.h5\n",
      "{'labels': array(['Pb-L', 'Ca-K', 'Fe-K', 'Mn-K', 'time'], dtype=object), 'notes': 'weight fractions columns ordered like reflayer_elements', 'path': ['/home/rosario/xmimsim/synthetic/slfixed_Rh_231max_nakagami_Pb_rl_1_90/outdata', '/home/shared/slfixed_PbO2_Rh231max_nakagami_1_90/outdata'], 'reflayer_elements': array(['Ca', 'Mn', 'Fe', 'Pb'], dtype=object)}\n",
      "(1, 4240, 1024)\n",
      "Saving: /home/shared/syntdataXRF/slfixed_PbO2_Rh231max_nakagami_1_90_data_joined_1024.h5\n"
     ]
    }
   ],
   "source": [
    "joinh5([\n",
    "    '/home/rosario/xmimsim/synthetic/slfixed_Rh_231max_nakagami_Pb_rl_1_90/slfixed_Rh_231max_nakagami_Pb_rl_1_90_data_1024.h5',\n",
    "    '/home/rosario/xmimsim/synthetic/zdenek/slfixed_PbO2_Rh231max_nakagami_1_90_data_1024.h5'\n",
    "], '/home/shared/syntdataXRF/slfixed_PbO2_Rh231max_nakagami_1_90_data_joined_1024.h5')"
   ]
  },
  {
   "cell_type": "code",
   "execution_count": 23,
   "id": "627693bd",
   "metadata": {},
   "outputs": [
    {
     "name": "stdout",
     "output_type": "stream",
     "text": [
      "Loading: /home/shared/syntdataXRF/Mo_amuleti_rl_1_50_Si_fixed_joined_data_1024.h5\n",
      "{'labels': array(['Pb-L', 'Pb-M', 'Fe-K', 'Mn-K', 'Cu-K', 'Zn-K', 'Co-K', 'Cd-L',\n",
      "       'K-K', 'Ca-K', 'Ba-L', 'Ti-K', 'As-K', 'Hg-L', 'Hg-M', 'S-K',\n",
      "       'P-K', 'Cr-K', 'Au-L', 'Au-M', 'Al-K', 'Si-K', 'Cl-K', 'Se-K',\n",
      "       'Sn-L', 'Br-K', 'Sr-K', 'V-K', 'Bi-L', 'Bi-M', 'Ni-K', 'Ag-K',\n",
      "       'Ag-L', 'Sb-L', 'Ar-K', 'Sc-K', 'time'], dtype=object), 'notes': 'weight fractions columns ordered like reflayer_elements', 'path': array(['/home/rosario/xmimsim/synthetic/SiO2_new_template_Siwf_not_shuffled_rl_1_50/outdata',\n",
      "       '/home/shared/Mo_amuleti_1_50/outdata'], dtype=object), 'reflayer_elements': array(['Al', 'Si', 'P', 'S', 'Cl', 'Ar', 'K', 'Ca', 'Sc', 'Ti', 'V', 'Cr',\n",
      "       'Mn', 'Fe', 'Co', 'Ni', 'Cu', 'Zn', 'As', 'Se', 'Br', 'Sr', 'Ag',\n",
      "       'Cd', 'Sn', 'Sb', 'Ba', 'Au', 'Hg', 'Pb', 'Bi'], dtype=object)}\n",
      "(1, 11166, 1024)\n",
      "(1, 11166, 37)\n",
      "wf (11166, 31)\n",
      "[0.01]\n",
      "total_counts:  9.538245675899999 17603.057887233615\n",
      "wf min:  [0.       0.007052 0.       0.       0.       0.       0.       0.\n",
      " 0.       0.       0.       0.       0.       0.       0.       0.\n",
      " 0.       0.       0.       0.       0.       0.       0.       0.\n",
      " 0.       0.       0.       0.       0.       0.       0.      ]\n",
      "wf max:  [90.7331 99.9958 91.9039 95.7765 97.2744 86.9475 88.3774 97.0636 97.0594\n",
      " 96.4719 90.4852 94.0866 97.3496 98.6304 95.7174 94.3765 94.2026 91.3845\n",
      " 96.1508 97.9095 93.3206 97.9727 94.7845 91.6476 95.3627 94.8787 88.708\n",
      " 97.9577 83.1247 92.5077 90.7048]\n",
      "wfpb: 92.5077\n",
      "min Pb:  0.0\n",
      "max Pb:  1084.30423451721\n",
      "rl at max Pb:  35.063\n",
      "rl min 0.0001012\n",
      "rl max 0.0049998\n",
      "sl thickness shape:  (11166,)\n",
      "sl thickness: [0.01]\n",
      "False\n"
     ]
    }
   ],
   "source": [
    "#synt = SyntheticDataXRF().load_h5(f)\n",
    "synt = SyntheticDataXRF().load_h5('/home/shared/syntdataXRF/Mo_amuleti_rl_1_50_Si_fixed_joined_data_1024.h5')\n",
    "print(synt.metadata)\n",
    "print(synt.shape)\n",
    "print(synt.labels.shape)\n",
    "print('wf', synt.weight_fractions.shape)\n",
    "print(np.unique(synt.sublayer_thickness))\n",
    "print('total_counts: ',synt.total_counts.min(), synt.total_counts.max())\n",
    "print('wf min: ',synt.weight_fractions.min(axis = 0))\n",
    "print('wf max: ', synt.weight_fractions.max(axis = 0))\n",
    "print('wfpb:', synt.weight_fractions[:,-2].max())\n",
    "print('min Pb: ', synt.labels[0,:,10].min())\n",
    "print('max Pb: ', synt.labels[0,:,10].max())\n",
    "print('rl at max Pb: ', synt.reflayer_thickness[np.argmax(synt.labels[0,:,0])]*1e4)\n",
    "print('rl min', synt.reflayer_thickness.min())\n",
    "print('rl max', synt.reflayer_thickness.max())\n",
    "print('sl thickness shape: ', synt.sublayer_thickness.shape)\n",
    "print('sl thickness:', np.unique(synt.sublayer_thickness))\n",
    "print(hasattr(synt, 'time'))"
   ]
  },
  {
   "cell_type": "code",
   "execution_count": null,
   "id": "c65696ff",
   "metadata": {},
   "outputs": [],
   "source": []
  }
 ],
 "metadata": {
  "kernelspec": {
   "display_name": "Python 3 (ipykernel)",
   "language": "python",
   "name": "python3"
  },
  "language_info": {
   "codemirror_mode": {
    "name": "ipython",
    "version": 3
   },
   "file_extension": ".py",
   "mimetype": "text/x-python",
   "name": "python",
   "nbconvert_exporter": "python",
   "pygments_lexer": "ipython3",
   "version": "3.10.2"
  }
 },
 "nbformat": 4,
 "nbformat_minor": 5
}
