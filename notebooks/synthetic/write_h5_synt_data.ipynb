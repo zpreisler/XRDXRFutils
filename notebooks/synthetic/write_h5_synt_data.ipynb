{
 "cells": [
  {
   "cell_type": "code",
   "execution_count": 44,
   "id": "bc22927c",
   "metadata": {},
   "outputs": [],
   "source": [
    "from XRDXRFutils.data import SyntheticDataXRF\n",
    "import h5py\n",
    "import os\n",
    "import glob\n",
    "import numpy as np\n",
    "\n",
    "from numpy import nan,where,isnan\n",
    "from XRDXRFutils.Xmendeleev import Xmendeleev\n",
    "from matplotlib.pyplot import plot,show,semilogy,legend"
   ]
  },
  {
   "cell_type": "markdown",
   "id": "71901ff5",
   "metadata": {},
   "source": [
    "# Labels\n",
    "\n",
    "select XRF lines"
   ]
  },
  {
   "cell_type": "code",
   "execution_count": 2,
   "id": "159444a6",
   "metadata": {},
   "outputs": [
    {
     "name": "stdout",
     "output_type": "stream",
     "text": [
      "Labels: ['Pb-L', 'Pb-M', 'Fe-K', 'Mn-K', 'Cu-K', 'Zn-K', 'Co-K', 'Cd-L', 'K-K', 'Ca-K', 'Ba-L', 'Ti-K', 'As-K', 'Hg-L', 'Hg-M', 'S-K', 'P-K', 'Cr-K', 'Au-L', 'Au-M', 'Al-K', 'Si-K', 'Cl-K', 'Se-K', 'Sn-L', 'Br-K', 'Sr-K', 'V-K', 'Bi-L', 'Bi-M', 'Ni-K', 'Ag-K', 'Ag-L', 'Sb-L', 'Ar-K', 'Sc-K']\n",
      "symbols ['Pb', 'Pb', 'Fe', 'Mn', 'Cu', 'Zn', 'Co', 'Cd', 'K', 'Ca', 'Ba', 'Ti', 'As', 'Hg', 'Hg', 'S', 'P', 'Cr', 'Au', 'Au', 'Al', 'Si', 'Cl', 'Se', 'Sn', 'Br', 'Sr', 'V', 'Bi', 'Bi', 'Ni', 'Ag', 'Ag', 'Sb', 'Ar', 'Sc']\n",
      "lines: ['L', 'M', 'K', 'K', 'K', 'K', 'K', 'L', 'K', 'K', 'L', 'K', 'K', 'L', 'M', 'K', 'K', 'K', 'L', 'M', 'K', 'K', 'K', 'K', 'L', 'K', 'K', 'K', 'L', 'M', 'K', 'K', 'L', 'L', 'K', 'K']\n",
      "36 36\n",
      "['Pb-L', 'Pb-M', 'Fe-K', 'Mn-K', 'Cu-K', 'Zn-K', 'Co-K', 'Cd-L', 'K-K', 'Ca-K', 'Ba-L', 'Ti-K', 'As-K', 'Hg-L', 'Hg-M', 'S-K', 'P-K', 'Cr-K', 'Au-L', 'Au-M', 'Al-K', 'Si-K', 'Cl-K', 'Se-K', 'Sn-L', 'Br-K', 'Sr-K', 'V-K', 'Bi-L', 'Bi-M', 'Ni-K', 'Ag-K', 'Ag-L', 'Sb-L', 'Ar-K', 'Sc-K']\n"
     ]
    }
   ],
   "source": [
    "#Labels = ['Pb-L','Fe-K','Mn-K','Cu-K','Co-K','Ca-K','Ti-K','S-K','P-K','Au-L','Al-K','Si-K','Cl-K','Sb-L','Sn-L','Sr-K','V-K']\n",
    "Labels = ['Pb-L','Pb-M', 'Fe-K', 'Mn-K', 'Cu-K', 'Zn-K', 'Co-K', 'Cd-L', 'K-K',\n",
    "         'Ca-K', 'Ba-L', 'Ti-K', 'As-K', 'Hg-L', 'Hg-M', 'S-K', 'P-K', 'Cr-K',\n",
    "         'Au-L', 'Au-M', 'Al-K', 'Si-K', 'Cl-K', 'Se-K', 'Sn-L', 'Br-K', 'Sr-K', 'V-K','Bi-L','Bi-M',\n",
    "         'Ni-K','Ag-K','Ag-L', 'Sb-L','Ar-K', 'Sc-K']\n",
    "#Labels = \"Pb-L Ca-K Fe-K Mn-K\".split()\n",
    "#Labels = ['Pb-L', 'Pb-M', 'Fe-K', 'Mn-K', 'Cu-K', 'Co-K', 'Ca-K', 'Ti-K', 'S-K',\n",
    "#       'P-K', 'Au-L', 'Au-M', 'Al-K', 'Si-K', 'Cl-K', 'Sb-L', 'Sn-L', 'Sr-K', 'V-K', 'Ar-K']\n",
    "\n",
    "symbols = []\n",
    "lines = []\n",
    "\n",
    "for l in Labels:\n",
    "    ls = l.split('-')\n",
    "    symbols.append(ls[0])\n",
    "    lines.append(ls[1])\n",
    "\n",
    "#atnum_list = [20,25,26,80]\n",
    "#['P' 'S' 'K' 'Ca' 'Ti' 'Cr' 'Mn' 'Fe' 'Co' 'Cu' 'Zn' 'As' 'Cd' 'Ba' 'Au' 'Hg']\n",
    "#symbols = ['Pb', 'Fe', 'Mn', 'Cu', 'Zn', 'Co', 'Cd', 'K', 'Ca', 'Ba', 'Ti', 'As', 'Hg', 'S', 'P', 'Cr', 'Au']\n",
    "#symbols = ['Pb', 'Fe', 'Mn', 'Cu', 'Zn', 'Co', 'Cd', 'K', 'Ca', 'Ba', 'Ti', 'As', 'Hg', 'S', 'P', 'Cr', 'Au']\n",
    "#symbols += ['Al', 'Si', 'Cl', 'Se', 'Sb', 'Sn', 'Br', 'Sr', 'V', 'Bi', 'Ni', 'Ag']\n",
    "#symbols += ['Si', 'Cl', 'Se', 'Sn', 'Br', 'Sr', 'Bi', 'Ni']\n",
    "#lines = \"L K K K K K K K K L K K L K K K L\".split()\n",
    "#lines += \"K K K K K K K K K L K K\".split()\n",
    "#lines += \"K K K K K K L K\".split()\n",
    "#print([f\"{s}-{l}\" for s,l in zip(symbols,lines)])\n",
    "\n",
    "print('Labels:',Labels)\n",
    "print('symbols',symbols)\n",
    "print('lines:',lines)\n",
    "print(len(symbols), len(lines))\n",
    "print([\"-\".join(x) for x in zip(symbols,lines)])"
   ]
  },
  {
   "cell_type": "markdown",
   "id": "663f073e",
   "metadata": {},
   "source": [
    "# Weight fraction array generation "
   ]
  },
  {
   "cell_type": "code",
   "execution_count": 3,
   "id": "598e0168",
   "metadata": {},
   "outputs": [
    {
     "name": "stdout",
     "output_type": "stream",
     "text": [
      "[13, 14, 15, 16, 17, 18, 19, 20, 21, 22, 23, 24, 25, 26, 27, 28, 29, 30, 33, 34, 35, 38, 47, 48, 50, 51, 56, 79, 80, 82, 83]\n"
     ]
    }
   ],
   "source": [
    "xm = Xmendeleev()\n",
    "#atnum_list = sorted([xm.get_element(s).atomic_number for s in symbols[1:]])\n",
    "\n",
    "atnum_list = sorted(set([xm.get_element(s).atomic_number for s in symbols]))\n",
    "print(atnum_list)"
   ]
  },
  {
   "cell_type": "code",
   "execution_count": 4,
   "id": "64b971ff",
   "metadata": {},
   "outputs": [],
   "source": [
    "def rem_nan(x):\n",
    "    \n",
    "    idx = lambda y: where(isnan(y[0]).sum(axis=1) == 0)[0]\n",
    "    \n",
    "    x.reflayer_thickness = x.reflayer_thickness[idx(x.labels)]\n",
    "    x.sublayer_thickness = x.sublayer_thickness[idx(x.labels)]\n",
    "    \n",
    "    x.time = x.time[idx(x.labels)]\n",
    "    x.weight_fractions = x.weight_fractions[idx(x.labels), :]\n",
    "    \n",
    "    x.data = x.data[:, idx(x.labels), :]\n",
    "    x.labels = x.labels[:, idx(x.labels), :]\n",
    "    \n",
    "    return x"
   ]
  },
  {
   "cell_type": "code",
   "execution_count": 5,
   "id": "82046f71",
   "metadata": {},
   "outputs": [],
   "source": [
    "def saveh5(rootdir, fname = \"data\", fout = None, single = False):\n",
    "    \n",
    "    if rootdir[-1] == \"/\":\n",
    "        rootdir = rootdir[:-1]\n",
    "    \n",
    "    datadir = os.path.join(rootdir, 'outdata')\n",
    "    synt = SyntheticDataXRF(rl_atnum_list=atnum_list, skip_element=True)\n",
    "    synt.read(datadir)\n",
    "    \n",
    "    print(\"Done\")\n",
    "    synt.get_data_and_labels(symbols, lines)\n",
    "    \n",
    "    if single:\n",
    "        synt.sublayer_thickness = np.zeros_like(synt.reflayer_thickness)\n",
    "    \n",
    "    if not fout:\n",
    "        fout = os.path.join(rootdir, f\"{os.path.basename(rootdir)}_{fname}.h5\")\n",
    "    \n",
    "    if np.any(np.isnan(synt.labels)):\n",
    "        synt = rem_nan(synt)\n",
    "    \n",
    "    synt.save_h5(fout)\n",
    "    print(\"Saved\")\n",
    "    \n",
    "    return fout\n",
    "\n",
    "def save_resampled(h5fname, nbins = 1024, bounds = (0,30)):\n",
    "    \n",
    "    print('resampling...')\n",
    "    \n",
    "    synt = SyntheticDataXRF().load_h5(h5fname)\n",
    "    s = synt.resample(nbins = nbins, bounds = bounds)\n",
    "    \n",
    "    synt.data = s.data\n",
    "    synt.labels = s.labels\n",
    "    synt._x = s.x\n",
    "    \n",
    "    outfname = h5fname[:-3] + f'_{nbins}.h5'\n",
    "    synt.save_h5(outfname)\n",
    "    \n",
    "    print('Done')\n",
    "    \n",
    "    return outfname\n",
    "\n",
    "def saveh5_from_file(h5file_name : str, xmso_datadirs : list):\n",
    "    \n",
    "    synt = SyntheticDataXRF(rl_atnum_list=atnum_list, skip_element=True)\n",
    "    synt.spe_objs = []\n",
    "    \n",
    "    for _dir in xmso_datadirs:\n",
    "        xmso_fnames = glob(os.path.join(_dir), \"*.xmso\")\n",
    "        print(f\"Reading data from {_dir}\")\n",
    "        synt.spe_objs += [s for s in synt.__read__(xmso_fnames)]\n",
    "        print(\"Done\")\n",
    "    \n",
    "    synt.get_data_and_labels(symbols,lines)\n",
    "    synt.save_h5(h5file_name)\n",
    "    \n",
    "    print(\"Saved\")\n",
    "\n",
    "def joinh5(h5list, out_file_name = None):\n",
    "    \n",
    "    data = []\n",
    "    unconv_data = []\n",
    "    labels = []\n",
    "    \n",
    "    reflayer_thickness = []\n",
    "    sublayer_thickness = []\n",
    "    #reflayer_elements = []\n",
    "    \n",
    "    weight_fractions = []\n",
    "    total_counts = []\n",
    "    energy = None\n",
    "    #time = []\n",
    "    metadata = {}\n",
    "    metadata[\"path\"] = []\n",
    "    \n",
    "    for i, h5 in enumerate(h5list):\n",
    "        synt = SyntheticDataXRF(rl_atnum_list=atnum_list, skip_element=True)\n",
    "        synt.load_h5(h5)\n",
    "        \n",
    "        if isinstance(synt.metadata['path'], str):\n",
    "            synt.metadata['path'] = [synt.metadata['path']]\n",
    "        \n",
    "        data.append(synt.data)\n",
    "        labels.append(synt.labels)\n",
    "        reflayer_thickness.append(synt.reflayer_thickness)\n",
    "        sublayer_thickness.append(synt.sublayer_thickness)\n",
    "        #reflayer_elements.append(synt.reflayer_elements)\n",
    "        weight_fractions.append(synt.weight_fractions)\n",
    "        total_counts.append(synt.total_counts)\n",
    "        energy = synt.x\n",
    "        #time.append(synt.time)\n",
    "        \n",
    "        metadata[\"path\"] += [m for m in synt.metadata['path']]\n",
    "    \n",
    "    out = SyntheticDataXRF(rl_atnum_list=atnum_list, skip_element=True)\n",
    "    out.data = np.concatenate(data, axis = 1)\n",
    "    \n",
    "    out.unconv_data = np.concatenate(unconv_data, axis = 1)\n",
    "    out.labels = np.concatenate(labels, axis = 1)\n",
    "    out.reflayer_thickness = np.hstack(reflayer_thickness)\n",
    "    out.sublayer_thickness = np.hstack(sublayer_thickness)\n",
    "    #out.reflayer_elements = np.vstack(reflayer_elements)\n",
    "    out.weight_fractions = np.vstack(weight_fractions)\n",
    "    out.total_counts = np.hstack(total_counts)\n",
    "    out._x = energy\n",
    "    #out.time = np.hstack(time)\n",
    "    out.metadata.update(synt.metadata)\n",
    "    out.metadata[\"path\"] = metadata[\"path\"]\n",
    "    print(out.metadata)\n",
    "    out.spe_objs = []\n",
    "    print(out.shape)\n",
    "    \n",
    "    if not out_file_name:\n",
    "        out_file_name = \"joined_data.h5\"\n",
    "    \n",
    "    out.save_h5(out_file_name)\n",
    "    "
   ]
  },
  {
   "cell_type": "code",
   "execution_count": 6,
   "id": "909ec179",
   "metadata": {},
   "outputs": [
    {
     "name": "stdout",
     "output_type": "stream",
     "text": [
      "Reading SyntXRF data from /home/zdenek/xmimsim/synthetic/slfixed_Rh_mylar_Pb_rl_1_90/outdata\n",
      "Done\n",
      "Saving: /home/zdenek/xmimsim/synthetic/slfixed_Rh_mylar_Pb_rl_1_90/slfixed_Rh_mylar_Pb_rl_1_90_data.h5\n",
      "Saved\n",
      "resampling...\n",
      "Loading: /home/zdenek/xmimsim/synthetic/slfixed_Rh_mylar_Pb_rl_1_90/slfixed_Rh_mylar_Pb_rl_1_90_data.h5\n",
      "Saving: /home/zdenek/xmimsim/synthetic/slfixed_Rh_mylar_Pb_rl_1_90/slfixed_Rh_mylar_Pb_rl_1_90_data_1024.h5\n",
      "Done\n"
     ]
    }
   ],
   "source": [
    "rootdir = '/home/zdenek/xmimsim/synthetic/slfixed_Rh_mylar_Pb_rl_1_90/'\n",
    "\n",
    "#f = saveh5(rootdir, fout = '/home/rosario/test_unconv_spec.h5')\n",
    "f = saveh5(rootdir)\n",
    "\n",
    "f = save_resampled(f)"
   ]
  },
  {
   "cell_type": "code",
   "execution_count": 7,
   "id": "5af4634a",
   "metadata": {},
   "outputs": [
    {
     "data": {
      "text/plain": [
       "'/home/zdenek/xmimsim/synthetic/slfixed_Rh_mylar_Pb_rl_1_90/slfixed_Rh_mylar_Pb_rl_1_90_data_1024.h5'"
      ]
     },
     "execution_count": 7,
     "metadata": {},
     "output_type": "execute_result"
    }
   ],
   "source": [
    "f"
   ]
  },
  {
   "cell_type": "code",
   "execution_count": 38,
   "id": "3b8ebc19",
   "metadata": {},
   "outputs": [
    {
     "name": "stdout",
     "output_type": "stream",
     "text": [
      "Loading: /home/rosario/xmimsim/synthetic/slfixed_Rh_231max_nakagami_Pb_rl_1_90/slfixed_Rh_231max_nakagami_Pb_rl_1_90_data_1024.h5\n",
      "Loading: /home/rosario/xmimsim/synthetic/zdenek/slfixed_PbO2_Rh231max_nakagami_1_90_data_1024.h5\n",
      "{'labels': array(['Pb-L', 'Ca-K', 'Fe-K', 'Mn-K', 'time'], dtype=object), 'notes': 'weight fractions columns ordered like reflayer_elements', 'path': ['/home/rosario/xmimsim/synthetic/slfixed_Rh_231max_nakagami_Pb_rl_1_90/outdata', '/home/shared/slfixed_PbO2_Rh231max_nakagami_1_90/outdata'], 'reflayer_elements': array(['Ca', 'Mn', 'Fe', 'Pb'], dtype=object)}\n",
      "(1, 4240, 1024)\n",
      "Saving: /home/shared/syntdataXRF/slfixed_PbO2_Rh231max_nakagami_1_90_data_joined_1024.h5\n"
     ]
    }
   ],
   "source": [
    "joinh5([\n",
    "    '/home/rosario/xmimsim/synthetic/slfixed_Rh_231max_nakagami_Pb_rl_1_90/slfixed_Rh_231max_nakagami_Pb_rl_1_90_data_1024.h5',\n",
    "    '/home/rosario/xmimsim/synthetic/zdenek/slfixed_PbO2_Rh231max_nakagami_1_90_data_1024.h5'\n",
    "], '/home/shared/syntdataXRF/slfixed_PbO2_Rh231max_nakagami_1_90_data_joined_1024.h5')"
   ]
  },
  {
   "cell_type": "code",
   "execution_count": 51,
   "id": "627693bd",
   "metadata": {},
   "outputs": [
    {
     "name": "stdout",
     "output_type": "stream",
     "text": [
      "Loading: /home/zdenek/xmimsim/synthetic/slfixed_Rh_mylar_Pb_rl_1_90/slfixed_Rh_mylar_Pb_rl_1_90_data_1024.h5\n",
      "Loading: /home/zdenek/xmimsim/synthetic/slfixed_Rh_mylar_Pb_rl_1_90/slfixed_Rh_mylar_Pb_rl_1_90_data.h5\n",
      "{'labels': array(['Pb-L', 'Pb-M', 'Fe-K', 'Mn-K', 'Cu-K', 'Zn-K', 'Co-K', 'Cd-L',\n",
      "       'K-K', 'Ca-K', 'Ba-L', 'Ti-K', 'As-K', 'Hg-L', 'Hg-M', 'S-K',\n",
      "       'P-K', 'Cr-K', 'Au-L', 'Au-M', 'Al-K', 'Si-K', 'Cl-K', 'Se-K',\n",
      "       'Sn-L', 'Br-K', 'Sr-K', 'V-K', 'Bi-L', 'Bi-M', 'Ni-K', 'Ag-K',\n",
      "       'Ag-L', 'Sb-L', 'Ar-K', 'Sc-K', 'time'], dtype=object), 'notes': 'weight fractions columns ordered like reflayer_elements', 'path': '/home/zdenek/xmimsim/synthetic/slfixed_Rh_mylar_Pb_rl_1_90/outdata', 'reflayer_elements': array(['Al', 'Si', 'P', 'S', 'Cl', 'Ar', 'K', 'Ca', 'Sc', 'Ti', 'V', 'Cr',\n",
      "       'Mn', 'Fe', 'Co', 'Ni', 'Cu', 'Zn', 'As', 'Se', 'Br', 'Sr', 'Ag',\n",
      "       'Cd', 'Sn', 'Sb', 'Ba', 'Au', 'Hg', 'Pb', 'Bi'], dtype=object)}\n",
      "(1, 541, 1024)\n",
      "(1, 541, 37)\n",
      "wf (541, 31)\n",
      "[0.01]\n",
      "total_counts:  334.7081949743008 6530.103272253533\n",
      "wf min:  [0.00000e+00 0.00000e+00 0.00000e+00 0.00000e+00 0.00000e+00 0.00000e+00\n",
      " 3.56918e-15 0.00000e+00 0.00000e+00 0.00000e+00 0.00000e+00 0.00000e+00\n",
      " 0.00000e+00 0.00000e+00 0.00000e+00 0.00000e+00 0.00000e+00 0.00000e+00\n",
      " 0.00000e+00 0.00000e+00 0.00000e+00 0.00000e+00 2.33139e-15 0.00000e+00\n",
      " 0.00000e+00 0.00000e+00 0.00000e+00 0.00000e+00 0.00000e+00 0.00000e+00\n",
      " 0.00000e+00]\n",
      "wf max:  [92.9341 93.7953 95.1881 88.1201 97.1004  0.     95.9565 95.4852 90.2852\n",
      " 96.1262 98.8415 82.4575 92.0204 97.9364 87.0186 99.7501 96.8909 94.1012\n",
      " 99.6634 97.5967 99.8651 98.385  92.3315 90.0805 96.4295 98.7825 98.7765\n",
      " 93.6103 94.7529 96.4562 97.6003]\n",
      "wfpb: 96.4562\n",
      "min Pb:  1.021099669316087e-07\n",
      "max Pb:  1633.0203704918\n",
      "rl at min Pb:  65.0512\n",
      "rl at max Pb:  57.704\n",
      "rl min 0.000117986\n",
      "rl max 0.00898412\n",
      "sl thickness shape:  (541,)\n",
      "sl thickness: [0.01]\n",
      "False\n"
     ]
    }
   ],
   "source": [
    "synt = SyntheticDataXRF().load_h5(f)\n",
    "synt2 = SyntheticDataXRF().load_h5('/home/zdenek/xmimsim/synthetic/slfixed_Rh_mylar_Pb_rl_1_90/slfixed_Rh_mylar_Pb_rl_1_90_data.h5')\n",
    "\n",
    "#synt = SyntheticDataXRF().load_h5('/home/shared/syntdataXRF/Mo_amuleti_rl_1_50_Si_fixed_joined_data_1024.h5')\n",
    "\n",
    "print(synt.metadata)\n",
    "print(synt.shape)\n",
    "print(synt.labels.shape)\n",
    "\n",
    "print('wf', synt.weight_fractions.shape)\n",
    "print(np.unique(synt.sublayer_thickness))\n",
    "\n",
    "print('total_counts: ',synt.total_counts.min(), synt.total_counts.max())\n",
    "print('wf min: ',synt.weight_fractions.min(axis = 0))\n",
    "print('wf max: ', synt.weight_fractions.max(axis = 0))\n",
    "print('wfpb:', synt.weight_fractions[:,-2].max())\n",
    "\n",
    "print('min Pb: ', synt.labels[0,:,0].min())\n",
    "print('max Pb: ', synt.labels[0,:,0].max())\n",
    "\n",
    "print('rl at min Pb: ', synt.reflayer_thickness[np.argmin(synt.labels[0,:,0])]*1e4)\n",
    "print('rl at max Pb: ', synt.reflayer_thickness[np.argmax(synt.labels[0,:,0])]*1e4)\n",
    "print('rl min', synt.reflayer_thickness.min())\n",
    "print('rl max', synt.reflayer_thickness.max())\n",
    "print('sl thickness shape: ', synt.sublayer_thickness.shape)\n",
    "print('sl thickness:', np.unique(synt.sublayer_thickness))\n",
    "print(hasattr(synt, 'time'))"
   ]
  },
  {
   "cell_type": "code",
   "execution_count": 52,
   "id": "7ecd48b0",
   "metadata": {},
   "outputs": [
    {
     "data": {
      "text/plain": [
       "[<matplotlib.lines.Line2D at 0x7fb81b2b69b0>]"
      ]
     },
     "execution_count": 52,
     "metadata": {},
     "output_type": "execute_result"
    }
   ],
   "source": [
    "plot(synt._x,synt.data[0,0])\n",
    "plot(henry._x,henry.data[0,0])"
   ]
  },
  {
   "cell_type": "code",
   "execution_count": 70,
   "id": "c6eccf23",
   "metadata": {},
   "outputs": [
    {
     "data": {
      "text/plain": [
       "<matplotlib.legend.Legend at 0x7fb81b4691e0>"
      ]
     },
     "execution_count": 70,
     "metadata": {},
     "output_type": "execute_result"
    }
   ],
   "source": [
    "%matplotlib qt\n",
    "\n",
    "semilogy(henry._x,henry.data.sum(axis=0).sum(axis=0),label='henry')\n",
    "\n",
    "semilogy(synt._x,synt.data[0,10] * 1e4,':',label='synth')\n",
    "#semilogy(synt._x,synt.data[0,10] * 5e4,'--',label='synth2')\n",
    "\n",
    "semilogy(old._x,old.data[0,20] * 1e4,'-.',label='old')\n",
    "#semilogy(synt2._x,synt.unconv_data[0,10] * 3e4,label='synth2')\n",
    "\n",
    "legend(frameon=False)"
   ]
  },
  {
   "cell_type": "code",
   "execution_count": 26,
   "id": "04d0b6f1",
   "metadata": {},
   "outputs": [],
   "source": [
    "from XRDXRFutils import DataXRF"
   ]
  },
  {
   "cell_type": "code",
   "execution_count": 64,
   "id": "8c965f25",
   "metadata": {},
   "outputs": [
    {
     "name": "stdout",
     "output_type": "stream",
     "text": [
      "Loading: /home/shared/AIdataXRF/downsample10_henryVII_2156_x1024_with_labels.h5\n"
     ]
    }
   ],
   "source": [
    "henry = DataXRF().load_h5('/home/shared/AIdataXRF/downsample10_henryVII_2156_x1024_with_labels.h5')"
   ]
  },
  {
   "cell_type": "code",
   "execution_count": 65,
   "id": "f5d69cfc",
   "metadata": {},
   "outputs": [
    {
     "name": "stdout",
     "output_type": "stream",
     "text": [
      "Loading: /home/shared/AIdataXRF/Optics_170_231/slfixed_PbO2_Rh231max_1_90_latest_data_1024.h5\n"
     ]
    }
   ],
   "source": [
    "old = DataXRF().load_h5('/home/shared/AIdataXRF/Optics_170_231/slfixed_PbO2_Rh231max_1_90_latest_data_1024.h5')"
   ]
  },
  {
   "cell_type": "code",
   "execution_count": 75,
   "id": "43624072",
   "metadata": {},
   "outputs": [
    {
     "data": {
      "text/plain": [
       "<matplotlib.legend.Legend at 0x7fb815e6e3b0>"
      ]
     },
     "execution_count": 75,
     "metadata": {},
     "output_type": "execute_result"
    }
   ],
   "source": [
    "semilogy(synt._x,synt.data.sum(axis=0).sum(axis=0)*1e2,':',label='synth')\n",
    "#semilogy(synt._x,synt.data[0,10] * 5e4,'--',label='synth2')\n",
    "\n",
    "semilogy(old._x,old.data.sum(axis=0).sum(axis=0),'-.',label='old')\n",
    "\n",
    "legend()"
   ]
  },
  {
   "cell_type": "code",
   "execution_count": null,
   "id": "97693c38",
   "metadata": {},
   "outputs": [],
   "source": []
  }
 ],
 "metadata": {
  "kernelspec": {
   "display_name": "Python 3 (ipykernel)",
   "language": "python",
   "name": "python3"
  },
  "language_info": {
   "codemirror_mode": {
    "name": "ipython",
    "version": 3
   },
   "file_extension": ".py",
   "mimetype": "text/x-python",
   "name": "python",
   "nbconvert_exporter": "python",
   "pygments_lexer": "ipython3",
   "version": "3.10.5"
  }
 },
 "nbformat": 4,
 "nbformat_minor": 5
}
