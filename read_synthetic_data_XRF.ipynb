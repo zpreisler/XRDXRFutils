{
 "cells": [
  {
   "cell_type": "code",
   "execution_count": 1,
   "id": "1fb9549a",
   "metadata": {},
   "outputs": [],
   "source": [
    "from XRDXRFutils import SyntheticDataXRF\n",
    "from matplotlib.pyplot import plot, show, subplots"
   ]
  },
  {
   "cell_type": "markdown",
   "id": "7cf1f9c7",
   "metadata": {},
   "source": [
    "### Read from outdata directory"
   ]
  },
  {
   "cell_type": "code",
   "execution_count": 17,
   "id": "a9bff747",
   "metadata": {},
   "outputs": [],
   "source": [
    "datadir = '/home/rosario/xmimsim/synthetic/optuna/amulets_amulet_Pb/outdata/'\n",
    "synt = SyntheticDataXRF().read(datadir)"
   ]
  },
  {
   "cell_type": "code",
   "execution_count": 3,
   "id": "49e59552",
   "metadata": {},
   "outputs": [
    {
     "data": {
      "text/plain": [
       "(1, 96, 2048)"
      ]
     },
     "execution_count": 3,
     "metadata": {},
     "output_type": "execute_result"
    }
   ],
   "source": [
    "synt.shape"
   ]
  },
  {
   "cell_type": "code",
   "execution_count": 4,
   "id": "edeace2f",
   "metadata": {},
   "outputs": [
    {
     "data": {
      "text/plain": [
       "{'path': '/home/rosario/xmimsim/synthetic/optuna/amulets_amulet_Pb',\n",
       " 'labels': array(['Pb-L', 'time', 'Si-KM', 'Sb-KO', 'Pb-M', 'Pb-M1', 'Sb-L', 'S-KL',\n",
       "        'Sb-KM', 'Ca-K', 'Pb-M3', 'Pb-L3', 'Fe-KM', 'Pb-L2', 'Fe-KL',\n",
       "        'Sb-L3', 'Fe-K', 'Sb-K', 'Cu-K', 'Sb-KL', 'Cu-L1', 'Si-KL',\n",
       "        'Sb-L2', 'Cu-KL', 'Sb-L1', 'Sb-KN', 'Cu-L', 'Cu-KM', 'Si-K',\n",
       "        'Ca-KM', 'Ca-KL', 'Pb-L1', 'Pb-M4', 'Ar-KM', 'Ar-K', 'S-KM',\n",
       "        'Pb-M5', 'Ar-KL', 'Pb-M2', 'S-K'], dtype=object),\n",
       " 'elements': array(['Sb', 'O', 'S', 'N', 'H', 'Ar', 'Pb', 'Cu', 'Ca', 'C', 'Fe', 'Si'],\n",
       "       dtype=object),\n",
       " 'layers': array(['air_top', 'pictorial', 'quartz'], dtype=object)}"
      ]
     },
     "execution_count": 4,
     "metadata": {},
     "output_type": "execute_result"
    }
   ],
   "source": [
    "synt.metadata"
   ]
  },
  {
   "cell_type": "code",
   "execution_count": 5,
   "id": "abe8027e",
   "metadata": {},
   "outputs": [
    {
     "data": {
      "text/plain": [
       "['air_top', 'pictorial', 'quartz']"
      ]
     },
     "execution_count": 5,
     "metadata": {},
     "output_type": "execute_result"
    }
   ],
   "source": [
    "synt.layers_names"
   ]
  },
  {
   "cell_type": "code",
   "execution_count": 6,
   "id": "f197eb10",
   "metadata": {},
   "outputs": [
    {
     "name": "stdout",
     "output_type": "stream",
     "text": [
      "Layers\n",
      "├── air_top density = 0.001205 thickness = 16645.3 μm\n",
      "│   ├── C  0.0124\n",
      "│   ├── N  75.5268\n",
      "│   ├── O  23.1781\n",
      "│   └── Ar  1.2827\n",
      "├── pictorial density = 4.07118 thickness = 74.0371 μm\n",
      "│   ├── H  0.040294\n",
      "│   ├── C  1.62168\n",
      "│   ├── O  37.2402\n",
      "│   ├── Si  17.0732\n",
      "│   ├── S  0.153816\n",
      "│   ├── Ca  3.9241\n",
      "│   ├── Fe  26.7564\n",
      "│   ├── Cu  0.182354\n",
      "│   ├── Sb  0.584083\n",
      "│   └── Pb  12.424\n",
      "└── quartz density = 2.648 thickness = 500.0 μm\n",
      "    ├── O  53.2554\n",
      "    └── Si  46.7446\n",
      "Layers\n",
      "├── air_top\n",
      "│   ├── pigments  None\n",
      "│   ├── volume_fractions  None\n",
      "│   └── mass_fractions  None\n",
      "├── pictorial\n",
      "│   ├── pigments  ['quartz', 'lead_white', 'red_ochre', 'calcite', 'egyptian_blue', 'antimony_orange']\n",
      "│   ├── volume_fractions  [0.550943468492568, 0.0870710574729104, 0.19789190952087793, 0.14290239422598888, 0.014260587969035952, 0.006930582318618753]\n",
      "│   └── mass_fractions  [0.3583475681310475, 0.1454327357127815, 0.38254472124649835, 0.095123591231562, 0.010788662080618294, 0.007762721597492263]\n",
      "└── quartz\n",
      "    ├── pigments  ['quartz']\n",
      "    ├── volume_fractions  [1.0]\n",
      "    └── mass_fractions  [1.0]\n",
      "\n"
     ]
    }
   ],
   "source": [
    "print(synt.spectra[0].layers) ### a single spectra (SyntheticSpectraXRF) see read_synthetic_spectra.ipynb"
   ]
  },
  {
   "cell_type": "code",
   "execution_count": 7,
   "id": "8625463b",
   "metadata": {},
   "outputs": [
    {
     "data": {
      "text/plain": [
       "((1, 96, 2048), (1, 96, 2048), (1, 96, 40))"
      ]
     },
     "execution_count": 7,
     "metadata": {},
     "output_type": "execute_result"
    }
   ],
   "source": [
    "(synt.data.shape, synt.unconv_data.shape, synt.labels.shape)"
   ]
  },
  {
   "cell_type": "markdown",
   "id": "94106f25",
   "metadata": {},
   "source": [
    "### Read from a list of files\n",
    "##### A big dataset can be splitted limiting memory usage."
   ]
  },
  {
   "cell_type": "code",
   "execution_count": 8,
   "id": "ed46a870",
   "metadata": {},
   "outputs": [],
   "source": [
    "from glob import glob"
   ]
  },
  {
   "cell_type": "code",
   "execution_count": 9,
   "id": "75f10796",
   "metadata": {},
   "outputs": [],
   "source": [
    "xmsolist = glob('/home/rosario/xmimsim/synthetic/optuna/amulets_amulet_Pb/outdata/*.xmso')"
   ]
  },
  {
   "cell_type": "code",
   "execution_count": 10,
   "id": "97e2183d",
   "metadata": {},
   "outputs": [
    {
     "data": {
      "text/plain": [
       "96"
      ]
     },
     "execution_count": 10,
     "metadata": {},
     "output_type": "execute_result"
    }
   ],
   "source": [
    "len(xmsolist)"
   ]
  },
  {
   "cell_type": "code",
   "execution_count": 14,
   "id": "5972edef",
   "metadata": {},
   "outputs": [],
   "source": [
    "xmsolist01 = xmsolist[:50]\n",
    "xmsolist02 = xmsolist[50:]"
   ]
  },
  {
   "cell_type": "code",
   "execution_count": 15,
   "id": "442f2c42",
   "metadata": {},
   "outputs": [],
   "source": [
    "synt01 = SyntheticDataXRF().read(xmsolist01)\n",
    "synt02 = SyntheticDataXRF().read(xmsolist02)"
   ]
  },
  {
   "cell_type": "code",
   "execution_count": 18,
   "id": "739e30a0",
   "metadata": {},
   "outputs": [
    {
     "data": {
      "text/plain": [
       "((1, 96, 2048), (1, 50, 2048), (1, 46, 2048))"
      ]
     },
     "execution_count": 18,
     "metadata": {},
     "output_type": "execute_result"
    }
   ],
   "source": [
    "synt.shape, synt01.shape, synt02.shape"
   ]
  },
  {
   "cell_type": "markdown",
   "id": "fdb24c45",
   "metadata": {},
   "source": [
    "### Convoluted and Uncovoluted spectra"
   ]
  },
  {
   "cell_type": "code",
   "execution_count": 19,
   "id": "34de9e0f",
   "metadata": {},
   "outputs": [
    {
     "data": {
      "text/plain": [
       "[<matplotlib.lines.Line2D at 0x7fd32ccdd9f0>]"
      ]
     },
     "execution_count": 19,
     "metadata": {},
     "output_type": "execute_result"
    },
    {
     "data": {
      "image/png": "[encoded data removed]",
      "text/plain": [
       "<Figure size 345x260 with 1 Axes>"
      ]
     },
     "metadata": {},
     "output_type": "display_data"
    }
   ],
   "source": [
    "plot(synt.x,synt.data[0,0,:])"
   ]
  },
  {
   "cell_type": "code",
   "execution_count": 20,
   "id": "0dc34a96",
   "metadata": {},
   "outputs": [
    {
     "data": {
      "text/plain": [
       "[<matplotlib.lines.Line2D at 0x7fd32abe1570>]"
      ]
     },
     "execution_count": 20,
     "metadata": {},
     "output_type": "execute_result"
    },
    {
     "data": {
      "image/png": "[encoded data removed]",
      "text/plain": [
       "<Figure size 345x260 with 1 Axes>"
      ]
     },
     "metadata": {},
     "output_type": "display_data"
    }
   ],
   "source": [
    "plot(synt.x, synt.unconv_data[0,0,:])"
   ]
  },
  {
   "cell_type": "markdown",
   "id": "fac46ade",
   "metadata": {},
   "source": [
    "### Labels"
   ]
  },
  {
   "cell_type": "code",
   "execution_count": 21,
   "id": "d49a2420",
   "metadata": {},
   "outputs": [
    {
     "name": "stdout",
     "output_type": "stream",
     "text": [
      "['Pb-L' 'time' 'Si-KM' 'Sb-KO' 'Pb-M' 'Pb-M1' 'Sb-L' 'S-KL' 'Sb-KM' 'Ca-K'\n",
      " 'Pb-M3' 'Pb-L3' 'Fe-KM' 'Pb-L2' 'Fe-KL' 'Sb-L3' 'Fe-K' 'Sb-K' 'Cu-K'\n",
      " 'Sb-KL' 'Cu-L1' 'Si-KL' 'Sb-L2' 'Cu-KL' 'Sb-L1' 'Sb-KN' 'Cu-L' 'Cu-KM'\n",
      " 'Si-K' 'Ca-KM' 'Ca-KL' 'Pb-L1' 'Pb-M4' 'Ar-KM' 'Ar-K' 'S-KM' 'Pb-M5'\n",
      " 'Ar-KL' 'Pb-M2' 'S-K'] 40\n"
     ]
    }
   ],
   "source": [
    "print(synt.metadata['labels'], len(synt.metadata['labels']))"
   ]
  },
  {
   "cell_type": "code",
   "execution_count": 23,
   "id": "0a6cf880",
   "metadata": {},
   "outputs": [
    {
     "data": {
      "text/plain": [
       "((1, 96, 40), (1, 50, 40))"
      ]
     },
     "execution_count": 23,
     "metadata": {},
     "output_type": "execute_result"
    }
   ],
   "source": [
    "synt.labels.shape, synt01.labels.shape"
   ]
  },
  {
   "cell_type": "markdown",
   "id": "2c1c500a",
   "metadata": {},
   "source": [
    "### Layers"
   ]
  },
  {
   "cell_type": "code",
   "execution_count": 25,
   "id": "dac989c2",
   "metadata": {},
   "outputs": [
    {
     "name": "stdout",
     "output_type": "stream",
     "text": [
      "['air_top', 'pictorial', 'quartz']\n",
      "['air_top', 'pictorial', 'quartz']\n"
     ]
    }
   ],
   "source": [
    "print(synt.layers_names)\n",
    "print(synt01.layers_names)"
   ]
  },
  {
   "cell_type": "markdown",
   "id": "b1a38748",
   "metadata": {},
   "source": [
    "#### thickness"
   ]
  },
  {
   "cell_type": "code",
   "execution_count": 26,
   "id": "7306a440",
   "metadata": {
    "scrolled": true
   },
   "outputs": [
    {
     "name": "stdout",
     "output_type": "stream",
     "text": [
      "(96, 3)\n"
     ]
    },
    {
     "data": {
      "text/plain": [
       "array([[1.66453e+00, 7.40371e-03, 5.00000e-02],\n",
       "       [1.54587e+00, 8.13497e-03, 5.00000e-02],\n",
       "       [1.56026e+00, 8.34981e-03, 5.00000e-02],\n",
       "       [1.36527e+00, 6.77771e-03, 5.00000e-02],\n",
       "       [1.56988e+00, 8.46021e-03, 5.00000e-02],\n",
       "       [1.82538e+00, 4.08426e-03, 5.00000e-02],\n",
       "       [1.62775e+00, 8.63725e-03, 5.00000e-02],\n",
       "       [1.52955e+00, 7.65809e-03, 5.00000e-02],\n",
       "       [1.89225e+00, 4.22274e-03, 5.00000e-02],\n",
       "       [1.21619e+00, 8.58172e-03, 5.00000e-02],\n",
       "       [1.51996e+00, 8.30499e-03, 5.00000e-02],\n",
       "       [1.85148e+00, 7.55627e-03, 5.00000e-02],\n",
       "       [1.89341e+00, 4.44945e-03, 5.00000e-02],\n",
       "       [2.47090e+00, 4.03441e-03, 5.00000e-02],\n",
       "       [1.60441e+00, 8.79799e-03, 5.00000e-02],\n",
       "       [2.16015e+00, 6.93553e-03, 5.00000e-02],\n",
       "       [1.92346e+00, 7.86860e-03, 5.00000e-02],\n",
       "       [1.27153e+00, 8.08688e-03, 5.00000e-02],\n",
       "       [1.98590e+00, 1.57791e-03, 5.00000e-02],\n",
       "       [1.12494e+00, 2.41812e-03, 5.00000e-02],\n",
       "       [1.61060e+00, 9.23790e-03, 5.00000e-02],\n",
       "       [1.72692e+00, 5.42420e-03, 5.00000e-02],\n",
       "       [1.43557e+00, 7.73098e-03, 5.00000e-02],\n",
       "       [1.77712e+00, 6.72747e-03, 5.00000e-02],\n",
       "       [1.40385e+00, 7.13872e-03, 5.00000e-02],\n",
       "       [1.40498e+00, 7.59757e-03, 5.00000e-02],\n",
       "       [1.47664e+00, 9.10845e-03, 5.00000e-02],\n",
       "       [1.53258e+00, 8.37409e-03, 5.00000e-02],\n",
       "       [2.05577e+00, 2.02337e-04, 5.00000e-02],\n",
       "       [1.41455e+00, 7.35365e-03, 5.00000e-02],\n",
       "       [1.68283e+00, 8.06438e-03, 5.00000e-02],\n",
       "       [1.81301e+00, 6.03683e-03, 5.00000e-02],\n",
       "       [1.96074e+00, 6.01293e-03, 5.00000e-02],\n",
       "       [1.49807e+00, 7.88488e-03, 5.00000e-02],\n",
       "       [2.24189e+00, 7.10608e-03, 5.00000e-02],\n",
       "       [2.34111e+00, 5.41336e-03, 5.00000e-02],\n",
       "       [1.60937e+00, 4.58738e-03, 5.00000e-02],\n",
       "       [1.41813e+00, 7.85080e-03, 5.00000e-02],\n",
       "       [1.54316e+00, 8.39244e-03, 5.00000e-02],\n",
       "       [1.55986e+00, 7.68411e-03, 5.00000e-02],\n",
       "       [1.46366e+00, 8.26024e-03, 5.00000e-02],\n",
       "       [1.97743e+00, 8.07428e-03, 5.00000e-02],\n",
       "       [1.27221e+00, 1.93832e-03, 5.00000e-02],\n",
       "       [2.15316e+00, 2.89468e-03, 5.00000e-02],\n",
       "       [1.35759e+00, 9.43535e-03, 5.00000e-02],\n",
       "       [2.40835e+00, 7.06432e-03, 5.00000e-02],\n",
       "       [2.17113e+00, 6.40556e-03, 5.00000e-02],\n",
       "       [1.77930e+00, 5.38859e-03, 5.00000e-02],\n",
       "       [1.50676e+00, 7.32275e-03, 5.00000e-02],\n",
       "       [1.82817e+00, 4.86741e-03, 5.00000e-02],\n",
       "       [1.38563e+00, 9.45976e-03, 5.00000e-02],\n",
       "       [1.60340e+00, 3.96127e-03, 5.00000e-02],\n",
       "       [1.43749e+00, 9.13706e-03, 5.00000e-02],\n",
       "       [1.33921e+00, 8.09357e-03, 5.00000e-02],\n",
       "       [2.08453e+00, 8.74547e-03, 5.00000e-02],\n",
       "       [1.78797e+00, 6.61112e-03, 5.00000e-02],\n",
       "       [1.32501e+00, 9.03417e-03, 5.00000e-02],\n",
       "       [2.05637e+00, 7.28410e-03, 5.00000e-02],\n",
       "       [1.15879e+00, 9.97991e-03, 5.00000e-02],\n",
       "       [2.33586e+00, 5.44771e-03, 5.00000e-02],\n",
       "       [1.34920e+00, 2.85021e-03, 5.00000e-02],\n",
       "       [1.47206e+00, 7.61040e-03, 5.00000e-02],\n",
       "       [1.79385e+00, 7.53561e-03, 5.00000e-02],\n",
       "       [1.90542e+00, 5.01754e-03, 5.00000e-02],\n",
       "       [1.50021e+00, 3.41466e-03, 5.00000e-02],\n",
       "       [1.32061e+00, 8.90634e-03, 5.00000e-02],\n",
       "       [1.04056e+00, 7.98755e-03, 5.00000e-02],\n",
       "       [1.65257e+00, 9.00011e-03, 5.00000e-02],\n",
       "       [1.70668e+00, 7.03581e-03, 5.00000e-02],\n",
       "       [1.51588e+00, 6.93113e-03, 5.00000e-02],\n",
       "       [1.48691e+00, 9.71769e-03, 5.00000e-02],\n",
       "       [1.58922e+00, 9.66562e-03, 5.00000e-02],\n",
       "       [1.57545e+00, 9.45273e-03, 5.00000e-02],\n",
       "       [1.25049e+00, 7.87987e-03, 5.00000e-02],\n",
       "       [2.18939e+00, 6.03191e-03, 5.00000e-02],\n",
       "       [1.49871e+00, 7.03414e-03, 5.00000e-02],\n",
       "       [1.31644e+00, 9.23232e-03, 5.00000e-02],\n",
       "       [1.72874e+00, 5.20155e-03, 5.00000e-02],\n",
       "       [2.09840e+00, 7.24691e-03, 5.00000e-02],\n",
       "       [1.05064e+00, 6.55195e-04, 5.00000e-02],\n",
       "       [1.53282e+00, 8.77037e-03, 5.00000e-02],\n",
       "       [1.33731e+00, 9.75514e-03, 5.00000e-02],\n",
       "       [1.71650e+00, 3.45801e-03, 5.00000e-02],\n",
       "       [1.99708e+00, 6.34591e-03, 5.00000e-02],\n",
       "       [2.26278e+00, 6.52662e-03, 5.00000e-02],\n",
       "       [1.44894e+00, 7.71627e-03, 5.00000e-02],\n",
       "       [1.91320e+00, 4.49850e-03, 5.00000e-02],\n",
       "       [1.50135e+00, 8.24586e-03, 5.00000e-02],\n",
       "       [2.27148e+00, 5.88329e-03, 5.00000e-02],\n",
       "       [1.45367e+00, 7.67326e-03, 5.00000e-02],\n",
       "       [1.73140e+00, 9.31543e-03, 5.00000e-02],\n",
       "       [2.00265e+00, 5.78079e-03, 5.00000e-02],\n",
       "       [1.62025e+00, 8.82093e-03, 5.00000e-02],\n",
       "       [1.66279e+00, 5.47982e-03, 5.00000e-02],\n",
       "       [1.57501e+00, 8.54129e-03, 5.00000e-02],\n",
       "       [1.87210e+00, 9.79090e-03, 5.00000e-02]])"
      ]
     },
     "execution_count": 26,
     "metadata": {},
     "output_type": "execute_result"
    }
   ],
   "source": [
    "# thickness for each layer\n",
    "print(synt._get_thickness().shape)\n",
    "synt._get_thickness()"
   ]
  },
  {
   "cell_type": "markdown",
   "id": "5d0697a7",
   "metadata": {},
   "source": [
    "#### elements and weight fractions"
   ]
  },
  {
   "cell_type": "code",
   "execution_count": 30,
   "id": "726a0883",
   "metadata": {},
   "outputs": [
    {
     "name": "stdout",
     "output_type": "stream",
     "text": [
      "['Sb' 'O' 'S' 'N' 'H' 'Ar' 'Pb' 'Cu' 'Ca' 'C' 'Fe' 'Si'] 12\n"
     ]
    }
   ],
   "source": [
    "# in metadata we find the set of all the elements in the wole dataset\n",
    "# weight fractions are ordered as the follow array\n",
    "print(synt.metadata['elements'], len(synt.metadata['elements']))"
   ]
  },
  {
   "cell_type": "code",
   "execution_count": 31,
   "id": "d6145c23",
   "metadata": {},
   "outputs": [
    {
     "name": "stdout",
     "output_type": "stream",
     "text": [
      "['Sb' 'O' 'S' 'N' 'H' 'Ar' 'Pb' 'Cu' 'Ca' 'C' 'Fe' 'Si']\n",
      "['Sb' 'O' 'S' 'N' 'H' 'Ar' 'Pb' 'Cu' 'Ca' 'C' 'Fe' 'Si']\n",
      "['Sb' 'O' 'S' 'N' 'H' 'Ar' 'Pb' 'Cu' 'Ca' 'C' 'Fe' 'Si']\n"
     ]
    }
   ],
   "source": [
    "# Elements could be different btw synt01 and synt02\n",
    "print(synt.metadata['elements'])\n",
    "print(synt01.metadata['elements'])\n",
    "print(synt02.metadata['elements'])"
   ]
  },
  {
   "cell_type": "code",
   "execution_count": 32,
   "id": "58240907",
   "metadata": {},
   "outputs": [
    {
     "name": "stdout",
     "output_type": "stream",
     "text": [
      "(96, 12)\n"
     ]
    },
    {
     "data": {
      "text/plain": [
       "array([[ 0.584083, 37.2402  ,  0.153816, ...,  1.62168 , 26.7564  ,\n",
       "        17.0732  ],\n",
       "       [ 1.08001 , 47.1858  ,  0.284415, ...,  2.084   ,  5.45328 ,\n",
       "        31.9662  ],\n",
       "       [ 0.71146 , 41.551   ,  0.18736 , ...,  2.19314 ,  7.47948 ,\n",
       "        26.1533  ],\n",
       "       ...,\n",
       "       [ 0.507159, 45.1912  ,  0.133558, ...,  1.41606 ,  2.58752 ,\n",
       "        33.8969  ],\n",
       "       [ 0.773475, 40.9321  ,  0.203692, ...,  2.71969 ,  1.65729 ,\n",
       "        26.0653  ],\n",
       "       [ 0.497835, 37.0597  ,  0.131103, ...,  1.82753 ,  5.62316 ,\n",
       "        24.4809  ]])"
      ]
     },
     "execution_count": 32,
     "metadata": {},
     "output_type": "execute_result"
    }
   ],
   "source": [
    "# use the layer name as argument\n",
    "print(synt._get_wfrac('pictorial').shape)\n",
    "synt._get_wfrac('pictorial')"
   ]
  },
  {
   "cell_type": "code",
   "execution_count": 33,
   "id": "645a3b3e",
   "metadata": {},
   "outputs": [
    {
     "name": "stdout",
     "output_type": "stream",
     "text": [
      "(96, 12)\n"
     ]
    },
    {
     "data": {
      "text/plain": [
       "array([[0.00000e+00, 2.31781e+01, 0.00000e+00, ..., 1.24000e-02,\n",
       "        0.00000e+00, 0.00000e+00],\n",
       "       [0.00000e+00, 2.31781e+01, 0.00000e+00, ..., 1.24000e-02,\n",
       "        0.00000e+00, 0.00000e+00],\n",
       "       [0.00000e+00, 2.31781e+01, 0.00000e+00, ..., 1.24000e-02,\n",
       "        0.00000e+00, 0.00000e+00],\n",
       "       ...,\n",
       "       [0.00000e+00, 2.31781e+01, 0.00000e+00, ..., 1.24000e-02,\n",
       "        0.00000e+00, 0.00000e+00],\n",
       "       [0.00000e+00, 2.31781e+01, 0.00000e+00, ..., 1.24000e-02,\n",
       "        0.00000e+00, 0.00000e+00],\n",
       "       [0.00000e+00, 2.31781e+01, 0.00000e+00, ..., 1.24000e-02,\n",
       "        0.00000e+00, 0.00000e+00]])"
      ]
     },
     "execution_count": 33,
     "metadata": {},
     "output_type": "execute_result"
    }
   ],
   "source": [
    "# the air layer\n",
    "print(synt._get_wfrac('air_top').shape)\n",
    "synt._get_wfrac('air_top')"
   ]
  },
  {
   "cell_type": "markdown",
   "id": "4b75ee45",
   "metadata": {},
   "source": [
    "### Pigments, if present"
   ]
  },
  {
   "cell_type": "code",
   "execution_count": 34,
   "id": "2020bfac",
   "metadata": {},
   "outputs": [
    {
     "data": {
      "text/plain": [
       "array([['quartz', 'lead_white', 'red_ochre', 'calcite', 'egyptian_blue',\n",
       "        'antimony_orange'],\n",
       "       ['quartz', 'lead_white', 'red_ochre', 'calcite', 'egyptian_blue',\n",
       "        'antimony_orange'],\n",
       "       ['quartz', 'lead_white', 'red_ochre', 'calcite', 'egyptian_blue',\n",
       "        'antimony_orange'],\n",
       "       ['quartz', 'lead_white', 'red_ochre', 'calcite', 'egyptian_blue',\n",
       "        'antimony_orange'],\n",
       "       ['quartz', 'lead_white', 'red_ochre', 'calcite', 'egyptian_blue',\n",
       "        'antimony_orange'],\n",
       "       ['quartz', 'lead_white', 'red_ochre', 'calcite', 'egyptian_blue',\n",
       "        'antimony_orange'],\n",
       "       ['quartz', 'lead_white', 'red_ochre', 'calcite', 'egyptian_blue',\n",
       "        'antimony_orange'],\n",
       "       ['quartz', 'lead_white', 'red_ochre', 'calcite', 'egyptian_blue',\n",
       "        'antimony_orange'],\n",
       "       ['quartz', 'lead_white', 'red_ochre', 'calcite', 'egyptian_blue',\n",
       "        'antimony_orange'],\n",
       "       ['quartz', 'lead_white', 'red_ochre', 'calcite', 'egyptian_blue',\n",
       "        'antimony_orange'],\n",
       "       ['quartz', 'lead_white', 'red_ochre', 'calcite', 'egyptian_blue',\n",
       "        'antimony_orange'],\n",
       "       ['quartz', 'lead_white', 'red_ochre', 'calcite', 'egyptian_blue',\n",
       "        'antimony_orange'],\n",
       "       ['quartz', 'lead_white', 'red_ochre', 'calcite', 'egyptian_blue',\n",
       "        'antimony_orange'],\n",
       "       ['quartz', 'lead_white', 'red_ochre', 'calcite', 'egyptian_blue',\n",
       "        'antimony_orange'],\n",
       "       ['quartz', 'lead_white', 'red_ochre', 'calcite', 'egyptian_blue',\n",
       "        'antimony_orange'],\n",
       "       ['quartz', 'lead_white', 'red_ochre', 'calcite', 'egyptian_blue',\n",
       "        'antimony_orange'],\n",
       "       ['quartz', 'lead_white', 'red_ochre', 'calcite', 'egyptian_blue',\n",
       "        'antimony_orange'],\n",
       "       ['quartz', 'lead_white', 'red_ochre', 'calcite', 'egyptian_blue',\n",
       "        'antimony_orange'],\n",
       "       ['quartz', 'lead_white', 'red_ochre', 'calcite', 'egyptian_blue',\n",
       "        'antimony_orange'],\n",
       "       ['quartz', 'lead_white', 'red_ochre', 'calcite', 'egyptian_blue',\n",
       "        'antimony_orange'],\n",
       "       ['quartz', 'lead_white', 'red_ochre', 'calcite', 'egyptian_blue',\n",
       "        'antimony_orange'],\n",
       "       ['quartz', 'lead_white', 'red_ochre', 'calcite', 'egyptian_blue',\n",
       "        'antimony_orange'],\n",
       "       ['quartz', 'lead_white', 'red_ochre', 'calcite', 'egyptian_blue',\n",
       "        'antimony_orange'],\n",
       "       ['quartz', 'lead_white', 'red_ochre', 'calcite', 'egyptian_blue',\n",
       "        'antimony_orange'],\n",
       "       ['quartz', 'lead_white', 'red_ochre', 'calcite', 'egyptian_blue',\n",
       "        'antimony_orange'],\n",
       "       ['quartz', 'lead_white', 'red_ochre', 'calcite', 'egyptian_blue',\n",
       "        'antimony_orange'],\n",
       "       ['quartz', 'lead_white', 'red_ochre', 'calcite', 'egyptian_blue',\n",
       "        'antimony_orange'],\n",
       "       ['quartz', 'lead_white', 'red_ochre', 'calcite', 'egyptian_blue',\n",
       "        'antimony_orange'],\n",
       "       ['quartz', 'lead_white', 'red_ochre', 'calcite', 'egyptian_blue',\n",
       "        'antimony_orange'],\n",
       "       ['quartz', 'lead_white', 'red_ochre', 'calcite', 'egyptian_blue',\n",
       "        'antimony_orange'],\n",
       "       ['quartz', 'lead_white', 'red_ochre', 'calcite', 'egyptian_blue',\n",
       "        'antimony_orange'],\n",
       "       ['quartz', 'lead_white', 'red_ochre', 'calcite', 'egyptian_blue',\n",
       "        'antimony_orange'],\n",
       "       ['quartz', 'lead_white', 'red_ochre', 'calcite', 'egyptian_blue',\n",
       "        'antimony_orange'],\n",
       "       ['quartz', 'lead_white', 'red_ochre', 'calcite', 'egyptian_blue',\n",
       "        'antimony_orange'],\n",
       "       ['quartz', 'lead_white', 'red_ochre', 'calcite', 'egyptian_blue',\n",
       "        'antimony_orange'],\n",
       "       ['quartz', 'lead_white', 'red_ochre', 'calcite', 'egyptian_blue',\n",
       "        'antimony_orange'],\n",
       "       ['quartz', 'lead_white', 'red_ochre', 'calcite', 'egyptian_blue',\n",
       "        'antimony_orange'],\n",
       "       ['quartz', 'lead_white', 'red_ochre', 'calcite', 'egyptian_blue',\n",
       "        'antimony_orange'],\n",
       "       ['quartz', 'lead_white', 'red_ochre', 'calcite', 'egyptian_blue',\n",
       "        'antimony_orange'],\n",
       "       ['quartz', 'lead_white', 'red_ochre', 'calcite', 'egyptian_blue',\n",
       "        'antimony_orange'],\n",
       "       ['quartz', 'lead_white', 'red_ochre', 'calcite', 'egyptian_blue',\n",
       "        'antimony_orange'],\n",
       "       ['quartz', 'lead_white', 'red_ochre', 'calcite', 'egyptian_blue',\n",
       "        'antimony_orange'],\n",
       "       ['quartz', 'lead_white', 'red_ochre', 'calcite', 'egyptian_blue',\n",
       "        'antimony_orange'],\n",
       "       ['quartz', 'lead_white', 'red_ochre', 'calcite', 'egyptian_blue',\n",
       "        'antimony_orange'],\n",
       "       ['quartz', 'lead_white', 'red_ochre', 'calcite', 'egyptian_blue',\n",
       "        'antimony_orange'],\n",
       "       ['quartz', 'lead_white', 'red_ochre', 'calcite', 'egyptian_blue',\n",
       "        'antimony_orange'],\n",
       "       ['quartz', 'lead_white', 'red_ochre', 'calcite', 'egyptian_blue',\n",
       "        'antimony_orange'],\n",
       "       ['quartz', 'lead_white', 'red_ochre', 'calcite', 'egyptian_blue',\n",
       "        'antimony_orange'],\n",
       "       ['quartz', 'lead_white', 'red_ochre', 'calcite', 'egyptian_blue',\n",
       "        'antimony_orange'],\n",
       "       ['quartz', 'lead_white', 'red_ochre', 'calcite', 'egyptian_blue',\n",
       "        'antimony_orange'],\n",
       "       ['quartz', 'lead_white', 'red_ochre', 'calcite', 'egyptian_blue',\n",
       "        'antimony_orange'],\n",
       "       ['quartz', 'lead_white', 'red_ochre', 'calcite', 'egyptian_blue',\n",
       "        'antimony_orange'],\n",
       "       ['quartz', 'lead_white', 'red_ochre', 'calcite', 'egyptian_blue',\n",
       "        'antimony_orange'],\n",
       "       ['quartz', 'lead_white', 'red_ochre', 'calcite', 'egyptian_blue',\n",
       "        'antimony_orange'],\n",
       "       ['quartz', 'lead_white', 'red_ochre', 'calcite', 'egyptian_blue',\n",
       "        'antimony_orange'],\n",
       "       ['quartz', 'lead_white', 'red_ochre', 'calcite', 'egyptian_blue',\n",
       "        'antimony_orange'],\n",
       "       ['quartz', 'lead_white', 'red_ochre', 'calcite', 'egyptian_blue',\n",
       "        'antimony_orange'],\n",
       "       ['quartz', 'lead_white', 'red_ochre', 'calcite', 'egyptian_blue',\n",
       "        'antimony_orange'],\n",
       "       ['quartz', 'lead_white', 'red_ochre', 'calcite', 'egyptian_blue',\n",
       "        'antimony_orange'],\n",
       "       ['quartz', 'lead_white', 'red_ochre', 'calcite', 'egyptian_blue',\n",
       "        'antimony_orange'],\n",
       "       ['quartz', 'lead_white', 'red_ochre', 'calcite', 'egyptian_blue',\n",
       "        'antimony_orange'],\n",
       "       ['quartz', 'lead_white', 'red_ochre', 'calcite', 'egyptian_blue',\n",
       "        'antimony_orange'],\n",
       "       ['quartz', 'lead_white', 'red_ochre', 'calcite', 'egyptian_blue',\n",
       "        'antimony_orange'],\n",
       "       ['quartz', 'lead_white', 'red_ochre', 'calcite', 'egyptian_blue',\n",
       "        'antimony_orange'],\n",
       "       ['quartz', 'lead_white', 'red_ochre', 'calcite', 'egyptian_blue',\n",
       "        'antimony_orange'],\n",
       "       ['quartz', 'lead_white', 'red_ochre', 'calcite', 'egyptian_blue',\n",
       "        'antimony_orange'],\n",
       "       ['quartz', 'lead_white', 'red_ochre', 'calcite', 'egyptian_blue',\n",
       "        'antimony_orange'],\n",
       "       ['quartz', 'lead_white', 'red_ochre', 'calcite', 'egyptian_blue',\n",
       "        'antimony_orange'],\n",
       "       ['quartz', 'lead_white', 'red_ochre', 'calcite', 'egyptian_blue',\n",
       "        'antimony_orange'],\n",
       "       ['quartz', 'lead_white', 'red_ochre', 'calcite', 'egyptian_blue',\n",
       "        'antimony_orange'],\n",
       "       ['quartz', 'lead_white', 'red_ochre', 'calcite', 'egyptian_blue',\n",
       "        'antimony_orange'],\n",
       "       ['quartz', 'lead_white', 'red_ochre', 'calcite', 'egyptian_blue',\n",
       "        'antimony_orange'],\n",
       "       ['quartz', 'lead_white', 'red_ochre', 'calcite', 'egyptian_blue',\n",
       "        'antimony_orange'],\n",
       "       ['quartz', 'lead_white', 'red_ochre', 'calcite', 'egyptian_blue',\n",
       "        'antimony_orange'],\n",
       "       ['quartz', 'lead_white', 'red_ochre', 'calcite', 'egyptian_blue',\n",
       "        'antimony_orange'],\n",
       "       ['quartz', 'lead_white', 'red_ochre', 'calcite', 'egyptian_blue',\n",
       "        'antimony_orange'],\n",
       "       ['quartz', 'lead_white', 'red_ochre', 'calcite', 'egyptian_blue',\n",
       "        'antimony_orange'],\n",
       "       ['quartz', 'lead_white', 'red_ochre', 'calcite', 'egyptian_blue',\n",
       "        'antimony_orange'],\n",
       "       ['quartz', 'lead_white', 'red_ochre', 'calcite', 'egyptian_blue',\n",
       "        'antimony_orange'],\n",
       "       ['quartz', 'lead_white', 'red_ochre', 'calcite', 'egyptian_blue',\n",
       "        'antimony_orange'],\n",
       "       ['quartz', 'lead_white', 'red_ochre', 'calcite', 'egyptian_blue',\n",
       "        'antimony_orange'],\n",
       "       ['quartz', 'lead_white', 'red_ochre', 'calcite', 'egyptian_blue',\n",
       "        'antimony_orange'],\n",
       "       ['quartz', 'lead_white', 'red_ochre', 'calcite', 'egyptian_blue',\n",
       "        'antimony_orange'],\n",
       "       ['quartz', 'lead_white', 'red_ochre', 'calcite', 'egyptian_blue',\n",
       "        'antimony_orange'],\n",
       "       ['quartz', 'lead_white', 'red_ochre', 'calcite', 'egyptian_blue',\n",
       "        'antimony_orange'],\n",
       "       ['quartz', 'lead_white', 'red_ochre', 'calcite', 'egyptian_blue',\n",
       "        'antimony_orange'],\n",
       "       ['quartz', 'lead_white', 'red_ochre', 'calcite', 'egyptian_blue',\n",
       "        'antimony_orange'],\n",
       "       ['quartz', 'lead_white', 'red_ochre', 'calcite', 'egyptian_blue',\n",
       "        'antimony_orange'],\n",
       "       ['quartz', 'lead_white', 'red_ochre', 'calcite', 'egyptian_blue',\n",
       "        'antimony_orange'],\n",
       "       ['quartz', 'lead_white', 'red_ochre', 'calcite', 'egyptian_blue',\n",
       "        'antimony_orange'],\n",
       "       ['quartz', 'lead_white', 'red_ochre', 'calcite', 'egyptian_blue',\n",
       "        'antimony_orange'],\n",
       "       ['quartz', 'lead_white', 'red_ochre', 'calcite', 'egyptian_blue',\n",
       "        'antimony_orange'],\n",
       "       ['quartz', 'lead_white', 'red_ochre', 'calcite', 'egyptian_blue',\n",
       "        'antimony_orange'],\n",
       "       ['quartz', 'lead_white', 'red_ochre', 'calcite', 'egyptian_blue',\n",
       "        'antimony_orange'],\n",
       "       ['quartz', 'lead_white', 'red_ochre', 'calcite', 'egyptian_blue',\n",
       "        'antimony_orange'],\n",
       "       ['quartz', 'lead_white', 'red_ochre', 'calcite', 'egyptian_blue',\n",
       "        'antimony_orange']], dtype='<U15')"
      ]
     },
     "execution_count": 34,
     "metadata": {},
     "output_type": "execute_result"
    }
   ],
   "source": [
    "synt._get_pigments('pictorial')"
   ]
  },
  {
   "cell_type": "code",
   "execution_count": 35,
   "id": "d75d06b5",
   "metadata": {},
   "outputs": [
    {
     "name": "stdout",
     "output_type": "stream",
     "text": [
      "[None None None None None None None None None None None None None None\n",
      " None None None None None None None None None None None None None None\n",
      " None None None None None None None None None None None None None None\n",
      " None None None None None None None None None None None None None None\n",
      " None None None None None None None None None None None None None None\n",
      " None None None None None None None None None None None None None None\n",
      " None None None None None None None None None None None None]\n"
     ]
    }
   ],
   "source": [
    "print(synt._get_pigments('air_top'))"
   ]
  },
  {
   "cell_type": "code",
   "execution_count": null,
   "id": "d1908606",
   "metadata": {},
   "outputs": [],
   "source": []
  },
  {
   "cell_type": "markdown",
   "id": "8ef3bc2b",
   "metadata": {},
   "source": [
    "### Save h5\n",
    "#### save_h5() method saves data, labels and layers\n",
    "If the dataset is read from a data directory, the path attribute is setted and is present in the metadata. Otherwise the attribute is None and no path is in metadata."
   ]
  },
  {
   "cell_type": "code",
   "execution_count": 36,
   "id": "02e191d8",
   "metadata": {},
   "outputs": [
    {
     "name": "stdout",
     "output_type": "stream",
     "text": [
      "Saving: /home/rosario/xmimsim/synthetic/optuna/amulets_amulet_Pb/All_data.h5\n"
     ]
    },
    {
     "data": {
      "text/plain": [
       "<XRDXRFutils.data.SyntheticDataXRF at 0x7fd32d0ecfa0>"
      ]
     },
     "execution_count": 36,
     "metadata": {},
     "output_type": "execute_result"
    }
   ],
   "source": [
    "synt.save_h5('/home/rosario/xmimsim/synthetic/optuna/amulets_amulet_Pb/All_data.h5')"
   ]
  },
  {
   "cell_type": "code",
   "execution_count": 37,
   "id": "d084c0cf",
   "metadata": {},
   "outputs": [
    {
     "name": "stdout",
     "output_type": "stream",
     "text": [
      "Saving: /home/rosario/xmimsim/synthetic/optuna/amulets_amulet_Pb/Part01_data.h5\n"
     ]
    },
    {
     "data": {
      "text/plain": [
       "<XRDXRFutils.data.SyntheticDataXRF at 0x7fd32d0ecc40>"
      ]
     },
     "execution_count": 37,
     "metadata": {},
     "output_type": "execute_result"
    }
   ],
   "source": [
    "synt01.save_h5('/home/rosario/xmimsim/synthetic/optuna/amulets_amulet_Pb/Part01_data.h5')"
   ]
  },
  {
   "cell_type": "code",
   "execution_count": 38,
   "id": "91c6e7fd",
   "metadata": {},
   "outputs": [
    {
     "name": "stdout",
     "output_type": "stream",
     "text": [
      "Saving: /home/rosario/xmimsim/synthetic/optuna/amulets_amulet_Pb/Part02_data.h5\n"
     ]
    },
    {
     "data": {
      "text/plain": [
       "<XRDXRFutils.data.SyntheticDataXRF at 0x7fd3382dad10>"
      ]
     },
     "execution_count": 38,
     "metadata": {},
     "output_type": "execute_result"
    }
   ],
   "source": [
    "synt02.save_h5('/home/rosario/xmimsim/synthetic/optuna/amulets_amulet_Pb/Part02_data.h5')"
   ]
  },
  {
   "cell_type": "code",
   "execution_count": 39,
   "id": "a11736bb",
   "metadata": {},
   "outputs": [
    {
     "name": "stdout",
     "output_type": "stream",
     "text": [
      "Saving: /home/rosario/xmimsim/synthetic/optuna/amulets_amulet_Pb/amulets_amulet_Pb_synth_xrf.h5\n"
     ]
    },
    {
     "data": {
      "text/plain": [
       "<XRDXRFutils.data.SyntheticDataXRF at 0x7fd32d0ecfa0>"
      ]
     },
     "execution_count": 39,
     "metadata": {},
     "output_type": "execute_result"
    }
   ],
   "source": [
    "# without arguments\n",
    "synt.save_h5()"
   ]
  },
  {
   "cell_type": "code",
   "execution_count": 41,
   "id": "54de97f2",
   "metadata": {},
   "outputs": [
    {
     "ename": "ValueError",
     "evalue": "Path attribute is not set because spectra have been read from a list\nSet the path attribute or use a full filename as argument",
     "output_type": "error",
     "traceback": [
      "\u001b[0;31m---------------------------------------------------------------------------\u001b[0m",
      "\u001b[0;31mValueError\u001b[0m                                Traceback (most recent call last)",
      "Cell \u001b[0;32mIn [41], line 2\u001b[0m\n\u001b[1;32m      1\u001b[0m \u001b[38;5;66;03m# saving synt01 without arguments will raise an exception because the path is None\u001b[39;00m\n\u001b[0;32m----> 2\u001b[0m \u001b[43msynt01\u001b[49m\u001b[38;5;241;43m.\u001b[39;49m\u001b[43msave_h5\u001b[49m\u001b[43m(\u001b[49m\u001b[43m)\u001b[49m\n",
      "File \u001b[0;32m~/XRDXRFutils/XRDXRFutils/data.py:736\u001b[0m, in \u001b[0;36mSyntheticDataXRF.save_h5\u001b[0;34m(self, filename)\u001b[0m\n\u001b[1;32m    734\u001b[0m     er \u001b[38;5;241m=\u001b[39m \u001b[38;5;124m'\u001b[39m\u001b[38;5;124mPath attribute is not set because spectra have been read from a list\u001b[39m\u001b[38;5;130;01m\\n\u001b[39;00m\u001b[38;5;124m'\u001b[39m\n\u001b[1;32m    735\u001b[0m     er \u001b[38;5;241m+\u001b[39m\u001b[38;5;241m=\u001b[39m \u001b[38;5;124m'\u001b[39m\u001b[38;5;124mSet the path attribute or use a full filename as argument\u001b[39m\u001b[38;5;124m'\u001b[39m\n\u001b[0;32m--> 736\u001b[0m     \u001b[38;5;28;01mraise\u001b[39;00m \u001b[38;5;167;01mValueError\u001b[39;00m(er)\n\u001b[1;32m    737\u001b[0m filename \u001b[38;5;241m=\u001b[39m join(\u001b[38;5;28mself\u001b[39m\u001b[38;5;241m.\u001b[39mpath,\u001b[38;5;124mf\u001b[39m\u001b[38;5;124m\"\u001b[39m\u001b[38;5;132;01m{\u001b[39;00mbasename(\u001b[38;5;28mself\u001b[39m\u001b[38;5;241m.\u001b[39mpath)\u001b[38;5;132;01m}\u001b[39;00m\u001b[38;5;124m_\u001b[39m\u001b[38;5;132;01m{\u001b[39;00m\u001b[38;5;28mself\u001b[39m\u001b[38;5;241m.\u001b[39mname\u001b[38;5;132;01m}\u001b[39;00m\u001b[38;5;124m.h5\u001b[39m\u001b[38;5;124m\"\u001b[39m)\n\u001b[1;32m    738\u001b[0m \u001b[38;5;66;03m#filename = self.path + '/' + self.name + '.h5'\u001b[39;00m\n",
      "\u001b[0;31mValueError\u001b[0m: Path attribute is not set because spectra have been read from a list\nSet the path attribute or use a full filename as argument"
     ]
    }
   ],
   "source": [
    "# saving synt01 without arguments will raise an exception because the path is None\n",
    "synt01.save_h5()"
   ]
  },
  {
   "cell_type": "markdown",
   "id": "8f35e025",
   "metadata": {},
   "source": [
    "### Save layers"
   ]
  },
  {
   "cell_type": "markdown",
   "id": "a9449cec",
   "metadata": {},
   "source": [
    "#### The method save_layers() will save all layers in a tree data structure"
   ]
  },
  {
   "cell_type": "code",
   "execution_count": 42,
   "id": "84684f5a",
   "metadata": {},
   "outputs": [
    {
     "name": "stdout",
     "output_type": "stream",
     "text": [
      "Saving: /home/rosario/xmimsim/synthetic/optuna/amulets_amulet_Pb/Layers_data.h5\n"
     ]
    },
    {
     "data": {
      "text/plain": [
       "<XRDXRFutils.data.SyntheticDataXRF at 0x7fd32d0ecfa0>"
      ]
     },
     "execution_count": 42,
     "metadata": {},
     "output_type": "execute_result"
    }
   ],
   "source": [
    "synt.save_layers('/home/rosario/xmimsim/synthetic/optuna/amulets_amulet_Pb/Layers_data.h5')"
   ]
  },
  {
   "cell_type": "code",
   "execution_count": 43,
   "id": "b371f0e3",
   "metadata": {},
   "outputs": [],
   "source": [
    "from os import system"
   ]
  },
  {
   "cell_type": "code",
   "execution_count": 44,
   "id": "6d522b86",
   "metadata": {},
   "outputs": [
    {
     "name": "stdout",
     "output_type": "stream",
     "text": [
      "/home/rosario/xmimsim/synthetic/optuna/amulets_amulet_Pb/Layers_data.h5\n",
      "└── layers\n",
      "    ├── air_top\n",
      "    │   ├── elements\n",
      "    │   ├── mass_fractions\n",
      "    │   ├── pigments\n",
      "    │   ├── thickness\n",
      "    │   ├── volume_fractions\n",
      "    │   └── weight_fractions\n",
      "    ├── pictorial\n",
      "    │   ├── elements\n",
      "    │   ├── mass_fractions\n",
      "    │   ├── pigments\n",
      "    │   ├── thickness\n",
      "    │   ├── volume_fractions\n",
      "    │   └── weight_fractions\n",
      "    └── quartz\n",
      "        ├── elements\n",
      "        ├── mass_fractions\n",
      "        ├── pigments\n",
      "        ├── thickness\n",
      "        ├── volume_fractions\n",
      "        └── weight_fractions\n"
     ]
    },
    {
     "data": {
      "text/plain": [
       "0"
      ]
     },
     "execution_count": 44,
     "metadata": {},
     "output_type": "execute_result"
    }
   ],
   "source": [
    "system('h5tree /home/rosario/xmimsim/synthetic/optuna/amulets_amulet_Pb/Layers_data.h5')"
   ]
  },
  {
   "cell_type": "markdown",
   "id": "cfe42d88",
   "metadata": {},
   "source": [
    "### Load data and labels"
   ]
  },
  {
   "cell_type": "code",
   "execution_count": 45,
   "id": "8600cff2",
   "metadata": {},
   "outputs": [
    {
     "name": "stdout",
     "output_type": "stream",
     "text": [
      "Loading: /home/rosario/xmimsim/synthetic/optuna/amulets_amulet_Pb/All_data.h5\n"
     ]
    }
   ],
   "source": [
    "synt = SyntheticDataXRF().load_h5('/home/rosario/xmimsim/synthetic/optuna/amulets_amulet_Pb/All_data.h5')"
   ]
  },
  {
   "cell_type": "code",
   "execution_count": 46,
   "id": "aac74db0",
   "metadata": {},
   "outputs": [
    {
     "data": {
      "text/plain": [
       "((1, 96, 2048), (1, 96, 40))"
      ]
     },
     "execution_count": 46,
     "metadata": {},
     "output_type": "execute_result"
    }
   ],
   "source": [
    "synt.data.shape, synt.labels.shape"
   ]
  },
  {
   "cell_type": "code",
   "execution_count": 47,
   "id": "48b0ad68",
   "metadata": {},
   "outputs": [
    {
     "data": {
      "text/plain": [
       "{'elements': array(['Sb', 'O', 'S', 'N', 'H', 'Ar', 'Pb', 'Cu', 'Ca', 'C', 'Fe', 'Si'],\n",
       "       dtype=object),\n",
       " 'labels': array(['Pb-L', 'time', 'Si-KM', 'Sb-KO', 'Pb-M', 'Pb-M1', 'Sb-L', 'S-KL',\n",
       "        'Sb-KM', 'Ca-K', 'Pb-M3', 'Pb-L3', 'Fe-KM', 'Pb-L2', 'Fe-KL',\n",
       "        'Sb-L3', 'Fe-K', 'Sb-K', 'Cu-K', 'Sb-KL', 'Cu-L1', 'Si-KL',\n",
       "        'Sb-L2', 'Cu-KL', 'Sb-L1', 'Sb-KN', 'Cu-L', 'Cu-KM', 'Si-K',\n",
       "        'Ca-KM', 'Ca-KL', 'Pb-L1', 'Pb-M4', 'Ar-KM', 'Ar-K', 'S-KM',\n",
       "        'Pb-M5', 'Ar-KL', 'Pb-M2', 'S-K'], dtype=object),\n",
       " 'layers': array(['air_top', 'pictorial', 'quartz'], dtype=object),\n",
       " 'path': '/home/rosario/xmimsim/synthetic/optuna/amulets_amulet_Pb'}"
      ]
     },
     "execution_count": 47,
     "metadata": {},
     "output_type": "execute_result"
    }
   ],
   "source": [
    "synt.metadata"
   ]
  },
  {
   "cell_type": "markdown",
   "id": "07797d9f",
   "metadata": {},
   "source": [
    "### Load layers"
   ]
  },
  {
   "cell_type": "code",
   "execution_count": 48,
   "id": "558a48d4",
   "metadata": {},
   "outputs": [
    {
     "name": "stdout",
     "output_type": "stream",
     "text": [
      "Loading: /home/rosario/xmimsim/synthetic/optuna/amulets_amulet_Pb/Layers_data.h5\n"
     ]
    },
    {
     "data": {
      "text/plain": [
       "<XRDXRFutils.data.SyntheticDataXRF at 0x7fd32cf092a0>"
      ]
     },
     "execution_count": 48,
     "metadata": {},
     "output_type": "execute_result"
    }
   ],
   "source": [
    "synt.load_layers('/home/rosario/xmimsim/synthetic/optuna/amulets_amulet_Pb/Layers_data.h5')"
   ]
  },
  {
   "cell_type": "code",
   "execution_count": 49,
   "id": "9a8d447e",
   "metadata": {},
   "outputs": [
    {
     "data": {
      "text/plain": [
       "dict"
      ]
     },
     "execution_count": 49,
     "metadata": {},
     "output_type": "execute_result"
    }
   ],
   "source": [
    "type(synt.layers)"
   ]
  },
  {
   "cell_type": "code",
   "execution_count": 50,
   "id": "3e762723",
   "metadata": {},
   "outputs": [
    {
     "name": "stdout",
     "output_type": "stream",
     "text": [
      "air_top dict_keys(['elements', 'mass_fractions', 'pigments', 'thickness', 'volume_fractions', 'weight_fractions'])\n",
      "   elements (96, 4)\n",
      "   mass_fractions (96,)\n",
      "   pigments (96,)\n",
      "   thickness (96,)\n",
      "   volume_fractions (96,)\n",
      "   weight_fractions (96, 4)\n",
      "pictorial dict_keys(['elements', 'mass_fractions', 'pigments', 'thickness', 'volume_fractions', 'weight_fractions'])\n",
      "   elements (96, 10)\n",
      "   mass_fractions (96, 6)\n",
      "   pigments (96, 6)\n",
      "   thickness (96,)\n",
      "   volume_fractions (96, 6)\n",
      "   weight_fractions (96, 10)\n",
      "quartz dict_keys(['elements', 'mass_fractions', 'pigments', 'thickness', 'volume_fractions', 'weight_fractions'])\n",
      "   elements (96, 2)\n",
      "   mass_fractions (96, 1)\n",
      "   pigments (96, 1)\n",
      "   thickness (96,)\n",
      "   volume_fractions (96, 1)\n",
      "   weight_fractions (96, 2)\n"
     ]
    }
   ],
   "source": [
    "for kk,vv in synt.layers.items():\n",
    "    if isinstance(vv, dict):\n",
    "        print(kk, vv.keys())\n",
    "        for k, v in vv.items():\n",
    "            print('  ',k,v.shape)"
   ]
  },
  {
   "cell_type": "markdown",
   "id": "756c2463",
   "metadata": {},
   "source": [
    "#### thickness"
   ]
  },
  {
   "cell_type": "code",
   "execution_count": 51,
   "id": "91aa90e1",
   "metadata": {
    "scrolled": true
   },
   "outputs": [
    {
     "data": {
      "text/plain": [
       "array([[1.66453e+00, 7.40371e-03, 5.00000e-02],\n",
       "       [1.54587e+00, 8.13497e-03, 5.00000e-02],\n",
       "       [1.56026e+00, 8.34981e-03, 5.00000e-02],\n",
       "       [1.36527e+00, 6.77771e-03, 5.00000e-02],\n",
       "       [1.56988e+00, 8.46021e-03, 5.00000e-02],\n",
       "       [1.82538e+00, 4.08426e-03, 5.00000e-02],\n",
       "       [1.62775e+00, 8.63725e-03, 5.00000e-02],\n",
       "       [1.52955e+00, 7.65809e-03, 5.00000e-02],\n",
       "       [1.89225e+00, 4.22274e-03, 5.00000e-02],\n",
       "       [1.21619e+00, 8.58172e-03, 5.00000e-02],\n",
       "       [1.51996e+00, 8.30499e-03, 5.00000e-02],\n",
       "       [1.85148e+00, 7.55627e-03, 5.00000e-02],\n",
       "       [1.89341e+00, 4.44945e-03, 5.00000e-02],\n",
       "       [2.47090e+00, 4.03441e-03, 5.00000e-02],\n",
       "       [1.60441e+00, 8.79799e-03, 5.00000e-02],\n",
       "       [2.16015e+00, 6.93553e-03, 5.00000e-02],\n",
       "       [1.92346e+00, 7.86860e-03, 5.00000e-02],\n",
       "       [1.27153e+00, 8.08688e-03, 5.00000e-02],\n",
       "       [1.98590e+00, 1.57791e-03, 5.00000e-02],\n",
       "       [1.12494e+00, 2.41812e-03, 5.00000e-02],\n",
       "       [1.61060e+00, 9.23790e-03, 5.00000e-02],\n",
       "       [1.72692e+00, 5.42420e-03, 5.00000e-02],\n",
       "       [1.43557e+00, 7.73098e-03, 5.00000e-02],\n",
       "       [1.77712e+00, 6.72747e-03, 5.00000e-02],\n",
       "       [1.40385e+00, 7.13872e-03, 5.00000e-02],\n",
       "       [1.40498e+00, 7.59757e-03, 5.00000e-02],\n",
       "       [1.47664e+00, 9.10845e-03, 5.00000e-02],\n",
       "       [1.53258e+00, 8.37409e-03, 5.00000e-02],\n",
       "       [2.05577e+00, 2.02337e-04, 5.00000e-02],\n",
       "       [1.41455e+00, 7.35365e-03, 5.00000e-02],\n",
       "       [1.68283e+00, 8.06438e-03, 5.00000e-02],\n",
       "       [1.81301e+00, 6.03683e-03, 5.00000e-02],\n",
       "       [1.96074e+00, 6.01293e-03, 5.00000e-02],\n",
       "       [1.49807e+00, 7.88488e-03, 5.00000e-02],\n",
       "       [2.24189e+00, 7.10608e-03, 5.00000e-02],\n",
       "       [2.34111e+00, 5.41336e-03, 5.00000e-02],\n",
       "       [1.60937e+00, 4.58738e-03, 5.00000e-02],\n",
       "       [1.41813e+00, 7.85080e-03, 5.00000e-02],\n",
       "       [1.54316e+00, 8.39244e-03, 5.00000e-02],\n",
       "       [1.55986e+00, 7.68411e-03, 5.00000e-02],\n",
       "       [1.46366e+00, 8.26024e-03, 5.00000e-02],\n",
       "       [1.97743e+00, 8.07428e-03, 5.00000e-02],\n",
       "       [1.27221e+00, 1.93832e-03, 5.00000e-02],\n",
       "       [2.15316e+00, 2.89468e-03, 5.00000e-02],\n",
       "       [1.35759e+00, 9.43535e-03, 5.00000e-02],\n",
       "       [2.40835e+00, 7.06432e-03, 5.00000e-02],\n",
       "       [2.17113e+00, 6.40556e-03, 5.00000e-02],\n",
       "       [1.77930e+00, 5.38859e-03, 5.00000e-02],\n",
       "       [1.50676e+00, 7.32275e-03, 5.00000e-02],\n",
       "       [1.82817e+00, 4.86741e-03, 5.00000e-02],\n",
       "       [1.38563e+00, 9.45976e-03, 5.00000e-02],\n",
       "       [1.60340e+00, 3.96127e-03, 5.00000e-02],\n",
       "       [1.43749e+00, 9.13706e-03, 5.00000e-02],\n",
       "       [1.33921e+00, 8.09357e-03, 5.00000e-02],\n",
       "       [2.08453e+00, 8.74547e-03, 5.00000e-02],\n",
       "       [1.78797e+00, 6.61112e-03, 5.00000e-02],\n",
       "       [1.32501e+00, 9.03417e-03, 5.00000e-02],\n",
       "       [2.05637e+00, 7.28410e-03, 5.00000e-02],\n",
       "       [1.15879e+00, 9.97991e-03, 5.00000e-02],\n",
       "       [2.33586e+00, 5.44771e-03, 5.00000e-02],\n",
       "       [1.34920e+00, 2.85021e-03, 5.00000e-02],\n",
       "       [1.47206e+00, 7.61040e-03, 5.00000e-02],\n",
       "       [1.79385e+00, 7.53561e-03, 5.00000e-02],\n",
       "       [1.90542e+00, 5.01754e-03, 5.00000e-02],\n",
       "       [1.50021e+00, 3.41466e-03, 5.00000e-02],\n",
       "       [1.32061e+00, 8.90634e-03, 5.00000e-02],\n",
       "       [1.04056e+00, 7.98755e-03, 5.00000e-02],\n",
       "       [1.65257e+00, 9.00011e-03, 5.00000e-02],\n",
       "       [1.70668e+00, 7.03581e-03, 5.00000e-02],\n",
       "       [1.51588e+00, 6.93113e-03, 5.00000e-02],\n",
       "       [1.48691e+00, 9.71769e-03, 5.00000e-02],\n",
       "       [1.58922e+00, 9.66562e-03, 5.00000e-02],\n",
       "       [1.57545e+00, 9.45273e-03, 5.00000e-02],\n",
       "       [1.25049e+00, 7.87987e-03, 5.00000e-02],\n",
       "       [2.18939e+00, 6.03191e-03, 5.00000e-02],\n",
       "       [1.49871e+00, 7.03414e-03, 5.00000e-02],\n",
       "       [1.31644e+00, 9.23232e-03, 5.00000e-02],\n",
       "       [1.72874e+00, 5.20155e-03, 5.00000e-02],\n",
       "       [2.09840e+00, 7.24691e-03, 5.00000e-02],\n",
       "       [1.05064e+00, 6.55195e-04, 5.00000e-02],\n",
       "       [1.53282e+00, 8.77037e-03, 5.00000e-02],\n",
       "       [1.33731e+00, 9.75514e-03, 5.00000e-02],\n",
       "       [1.71650e+00, 3.45801e-03, 5.00000e-02],\n",
       "       [1.99708e+00, 6.34591e-03, 5.00000e-02],\n",
       "       [2.26278e+00, 6.52662e-03, 5.00000e-02],\n",
       "       [1.44894e+00, 7.71627e-03, 5.00000e-02],\n",
       "       [1.91320e+00, 4.49850e-03, 5.00000e-02],\n",
       "       [1.50135e+00, 8.24586e-03, 5.00000e-02],\n",
       "       [2.27148e+00, 5.88329e-03, 5.00000e-02],\n",
       "       [1.45367e+00, 7.67326e-03, 5.00000e-02],\n",
       "       [1.73140e+00, 9.31543e-03, 5.00000e-02],\n",
       "       [2.00265e+00, 5.78079e-03, 5.00000e-02],\n",
       "       [1.62025e+00, 8.82093e-03, 5.00000e-02],\n",
       "       [1.66279e+00, 5.47982e-03, 5.00000e-02],\n",
       "       [1.57501e+00, 8.54129e-03, 5.00000e-02],\n",
       "       [1.87210e+00, 9.79090e-03, 5.00000e-02]])"
      ]
     },
     "execution_count": 51,
     "metadata": {},
     "output_type": "execute_result"
    }
   ],
   "source": [
    "synt._get_thickness()"
   ]
  },
  {
   "cell_type": "markdown",
   "id": "f8a21c6a",
   "metadata": {},
   "source": [
    "#### elements and weight fractions"
   ]
  },
  {
   "cell_type": "code",
   "execution_count": 52,
   "id": "2857defe",
   "metadata": {},
   "outputs": [
    {
     "name": "stdout",
     "output_type": "stream",
     "text": [
      "['Sb' 'O' 'S' 'N' 'H' 'Ar' 'Pb' 'Cu' 'Ca' 'C' 'Fe' 'Si'] 12\n"
     ]
    }
   ],
   "source": [
    "print(synt.metadata['elements'], len(synt.metadata['elements']))"
   ]
  },
  {
   "cell_type": "code",
   "execution_count": 53,
   "id": "1cb5d78b",
   "metadata": {},
   "outputs": [
    {
     "name": "stdout",
     "output_type": "stream",
     "text": [
      "(96, 12)\n"
     ]
    },
    {
     "data": {
      "text/plain": [
       "array([[ 0.584083, 37.2402  ,  0.153816, ...,  1.62168 , 26.7564  ,\n",
       "        17.0732  ],\n",
       "       [ 1.08001 , 47.1858  ,  0.284415, ...,  2.084   ,  5.45328 ,\n",
       "        31.9662  ],\n",
       "       [ 0.71146 , 41.551   ,  0.18736 , ...,  2.19314 ,  7.47948 ,\n",
       "        26.1533  ],\n",
       "       ...,\n",
       "       [ 0.507159, 45.1912  ,  0.133558, ...,  1.41606 ,  2.58752 ,\n",
       "        33.8969  ],\n",
       "       [ 0.773475, 40.9321  ,  0.203692, ...,  2.71969 ,  1.65729 ,\n",
       "        26.0653  ],\n",
       "       [ 0.497835, 37.0597  ,  0.131103, ...,  1.82753 ,  5.62316 ,\n",
       "        24.4809  ]])"
      ]
     },
     "execution_count": 53,
     "metadata": {},
     "output_type": "execute_result"
    }
   ],
   "source": [
    "print(synt._get_wfrac('pictorial').shape)\n",
    "synt._get_wfrac('pictorial')"
   ]
  },
  {
   "cell_type": "code",
   "execution_count": 54,
   "id": "3707d0e2",
   "metadata": {},
   "outputs": [
    {
     "data": {
      "text/plain": [
       "array([['quartz', 'lead_white', 'red_ochre', 'calcite', 'egyptian_blue',\n",
       "        'antimony_orange'],\n",
       "       ['quartz', 'lead_white', 'red_ochre', 'calcite', 'egyptian_blue',\n",
       "        'antimony_orange'],\n",
       "       ['quartz', 'lead_white', 'red_ochre', 'calcite', 'egyptian_blue',\n",
       "        'antimony_orange'],\n",
       "       ['quartz', 'lead_white', 'red_ochre', 'calcite', 'egyptian_blue',\n",
       "        'antimony_orange'],\n",
       "       ['quartz', 'lead_white', 'red_ochre', 'calcite', 'egyptian_blue',\n",
       "        'antimony_orange'],\n",
       "       ['quartz', 'lead_white', 'red_ochre', 'calcite', 'egyptian_blue',\n",
       "        'antimony_orange'],\n",
       "       ['quartz', 'lead_white', 'red_ochre', 'calcite', 'egyptian_blue',\n",
       "        'antimony_orange'],\n",
       "       ['quartz', 'lead_white', 'red_ochre', 'calcite', 'egyptian_blue',\n",
       "        'antimony_orange'],\n",
       "       ['quartz', 'lead_white', 'red_ochre', 'calcite', 'egyptian_blue',\n",
       "        'antimony_orange'],\n",
       "       ['quartz', 'lead_white', 'red_ochre', 'calcite', 'egyptian_blue',\n",
       "        'antimony_orange'],\n",
       "       ['quartz', 'lead_white', 'red_ochre', 'calcite', 'egyptian_blue',\n",
       "        'antimony_orange'],\n",
       "       ['quartz', 'lead_white', 'red_ochre', 'calcite', 'egyptian_blue',\n",
       "        'antimony_orange'],\n",
       "       ['quartz', 'lead_white', 'red_ochre', 'calcite', 'egyptian_blue',\n",
       "        'antimony_orange'],\n",
       "       ['quartz', 'lead_white', 'red_ochre', 'calcite', 'egyptian_blue',\n",
       "        'antimony_orange'],\n",
       "       ['quartz', 'lead_white', 'red_ochre', 'calcite', 'egyptian_blue',\n",
       "        'antimony_orange'],\n",
       "       ['quartz', 'lead_white', 'red_ochre', 'calcite', 'egyptian_blue',\n",
       "        'antimony_orange'],\n",
       "       ['quartz', 'lead_white', 'red_ochre', 'calcite', 'egyptian_blue',\n",
       "        'antimony_orange'],\n",
       "       ['quartz', 'lead_white', 'red_ochre', 'calcite', 'egyptian_blue',\n",
       "        'antimony_orange'],\n",
       "       ['quartz', 'lead_white', 'red_ochre', 'calcite', 'egyptian_blue',\n",
       "        'antimony_orange'],\n",
       "       ['quartz', 'lead_white', 'red_ochre', 'calcite', 'egyptian_blue',\n",
       "        'antimony_orange'],\n",
       "       ['quartz', 'lead_white', 'red_ochre', 'calcite', 'egyptian_blue',\n",
       "        'antimony_orange'],\n",
       "       ['quartz', 'lead_white', 'red_ochre', 'calcite', 'egyptian_blue',\n",
       "        'antimony_orange'],\n",
       "       ['quartz', 'lead_white', 'red_ochre', 'calcite', 'egyptian_blue',\n",
       "        'antimony_orange'],\n",
       "       ['quartz', 'lead_white', 'red_ochre', 'calcite', 'egyptian_blue',\n",
       "        'antimony_orange'],\n",
       "       ['quartz', 'lead_white', 'red_ochre', 'calcite', 'egyptian_blue',\n",
       "        'antimony_orange'],\n",
       "       ['quartz', 'lead_white', 'red_ochre', 'calcite', 'egyptian_blue',\n",
       "        'antimony_orange'],\n",
       "       ['quartz', 'lead_white', 'red_ochre', 'calcite', 'egyptian_blue',\n",
       "        'antimony_orange'],\n",
       "       ['quartz', 'lead_white', 'red_ochre', 'calcite', 'egyptian_blue',\n",
       "        'antimony_orange'],\n",
       "       ['quartz', 'lead_white', 'red_ochre', 'calcite', 'egyptian_blue',\n",
       "        'antimony_orange'],\n",
       "       ['quartz', 'lead_white', 'red_ochre', 'calcite', 'egyptian_blue',\n",
       "        'antimony_orange'],\n",
       "       ['quartz', 'lead_white', 'red_ochre', 'calcite', 'egyptian_blue',\n",
       "        'antimony_orange'],\n",
       "       ['quartz', 'lead_white', 'red_ochre', 'calcite', 'egyptian_blue',\n",
       "        'antimony_orange'],\n",
       "       ['quartz', 'lead_white', 'red_ochre', 'calcite', 'egyptian_blue',\n",
       "        'antimony_orange'],\n",
       "       ['quartz', 'lead_white', 'red_ochre', 'calcite', 'egyptian_blue',\n",
       "        'antimony_orange'],\n",
       "       ['quartz', 'lead_white', 'red_ochre', 'calcite', 'egyptian_blue',\n",
       "        'antimony_orange'],\n",
       "       ['quartz', 'lead_white', 'red_ochre', 'calcite', 'egyptian_blue',\n",
       "        'antimony_orange'],\n",
       "       ['quartz', 'lead_white', 'red_ochre', 'calcite', 'egyptian_blue',\n",
       "        'antimony_orange'],\n",
       "       ['quartz', 'lead_white', 'red_ochre', 'calcite', 'egyptian_blue',\n",
       "        'antimony_orange'],\n",
       "       ['quartz', 'lead_white', 'red_ochre', 'calcite', 'egyptian_blue',\n",
       "        'antimony_orange'],\n",
       "       ['quartz', 'lead_white', 'red_ochre', 'calcite', 'egyptian_blue',\n",
       "        'antimony_orange'],\n",
       "       ['quartz', 'lead_white', 'red_ochre', 'calcite', 'egyptian_blue',\n",
       "        'antimony_orange'],\n",
       "       ['quartz', 'lead_white', 'red_ochre', 'calcite', 'egyptian_blue',\n",
       "        'antimony_orange'],\n",
       "       ['quartz', 'lead_white', 'red_ochre', 'calcite', 'egyptian_blue',\n",
       "        'antimony_orange'],\n",
       "       ['quartz', 'lead_white', 'red_ochre', 'calcite', 'egyptian_blue',\n",
       "        'antimony_orange'],\n",
       "       ['quartz', 'lead_white', 'red_ochre', 'calcite', 'egyptian_blue',\n",
       "        'antimony_orange'],\n",
       "       ['quartz', 'lead_white', 'red_ochre', 'calcite', 'egyptian_blue',\n",
       "        'antimony_orange'],\n",
       "       ['quartz', 'lead_white', 'red_ochre', 'calcite', 'egyptian_blue',\n",
       "        'antimony_orange'],\n",
       "       ['quartz', 'lead_white', 'red_ochre', 'calcite', 'egyptian_blue',\n",
       "        'antimony_orange'],\n",
       "       ['quartz', 'lead_white', 'red_ochre', 'calcite', 'egyptian_blue',\n",
       "        'antimony_orange'],\n",
       "       ['quartz', 'lead_white', 'red_ochre', 'calcite', 'egyptian_blue',\n",
       "        'antimony_orange'],\n",
       "       ['quartz', 'lead_white', 'red_ochre', 'calcite', 'egyptian_blue',\n",
       "        'antimony_orange'],\n",
       "       ['quartz', 'lead_white', 'red_ochre', 'calcite', 'egyptian_blue',\n",
       "        'antimony_orange'],\n",
       "       ['quartz', 'lead_white', 'red_ochre', 'calcite', 'egyptian_blue',\n",
       "        'antimony_orange'],\n",
       "       ['quartz', 'lead_white', 'red_ochre', 'calcite', 'egyptian_blue',\n",
       "        'antimony_orange'],\n",
       "       ['quartz', 'lead_white', 'red_ochre', 'calcite', 'egyptian_blue',\n",
       "        'antimony_orange'],\n",
       "       ['quartz', 'lead_white', 'red_ochre', 'calcite', 'egyptian_blue',\n",
       "        'antimony_orange'],\n",
       "       ['quartz', 'lead_white', 'red_ochre', 'calcite', 'egyptian_blue',\n",
       "        'antimony_orange'],\n",
       "       ['quartz', 'lead_white', 'red_ochre', 'calcite', 'egyptian_blue',\n",
       "        'antimony_orange'],\n",
       "       ['quartz', 'lead_white', 'red_ochre', 'calcite', 'egyptian_blue',\n",
       "        'antimony_orange'],\n",
       "       ['quartz', 'lead_white', 'red_ochre', 'calcite', 'egyptian_blue',\n",
       "        'antimony_orange'],\n",
       "       ['quartz', 'lead_white', 'red_ochre', 'calcite', 'egyptian_blue',\n",
       "        'antimony_orange'],\n",
       "       ['quartz', 'lead_white', 'red_ochre', 'calcite', 'egyptian_blue',\n",
       "        'antimony_orange'],\n",
       "       ['quartz', 'lead_white', 'red_ochre', 'calcite', 'egyptian_blue',\n",
       "        'antimony_orange'],\n",
       "       ['quartz', 'lead_white', 'red_ochre', 'calcite', 'egyptian_blue',\n",
       "        'antimony_orange'],\n",
       "       ['quartz', 'lead_white', 'red_ochre', 'calcite', 'egyptian_blue',\n",
       "        'antimony_orange'],\n",
       "       ['quartz', 'lead_white', 'red_ochre', 'calcite', 'egyptian_blue',\n",
       "        'antimony_orange'],\n",
       "       ['quartz', 'lead_white', 'red_ochre', 'calcite', 'egyptian_blue',\n",
       "        'antimony_orange'],\n",
       "       ['quartz', 'lead_white', 'red_ochre', 'calcite', 'egyptian_blue',\n",
       "        'antimony_orange'],\n",
       "       ['quartz', 'lead_white', 'red_ochre', 'calcite', 'egyptian_blue',\n",
       "        'antimony_orange'],\n",
       "       ['quartz', 'lead_white', 'red_ochre', 'calcite', 'egyptian_blue',\n",
       "        'antimony_orange'],\n",
       "       ['quartz', 'lead_white', 'red_ochre', 'calcite', 'egyptian_blue',\n",
       "        'antimony_orange'],\n",
       "       ['quartz', 'lead_white', 'red_ochre', 'calcite', 'egyptian_blue',\n",
       "        'antimony_orange'],\n",
       "       ['quartz', 'lead_white', 'red_ochre', 'calcite', 'egyptian_blue',\n",
       "        'antimony_orange'],\n",
       "       ['quartz', 'lead_white', 'red_ochre', 'calcite', 'egyptian_blue',\n",
       "        'antimony_orange'],\n",
       "       ['quartz', 'lead_white', 'red_ochre', 'calcite', 'egyptian_blue',\n",
       "        'antimony_orange'],\n",
       "       ['quartz', 'lead_white', 'red_ochre', 'calcite', 'egyptian_blue',\n",
       "        'antimony_orange'],\n",
       "       ['quartz', 'lead_white', 'red_ochre', 'calcite', 'egyptian_blue',\n",
       "        'antimony_orange'],\n",
       "       ['quartz', 'lead_white', 'red_ochre', 'calcite', 'egyptian_blue',\n",
       "        'antimony_orange'],\n",
       "       ['quartz', 'lead_white', 'red_ochre', 'calcite', 'egyptian_blue',\n",
       "        'antimony_orange'],\n",
       "       ['quartz', 'lead_white', 'red_ochre', 'calcite', 'egyptian_blue',\n",
       "        'antimony_orange'],\n",
       "       ['quartz', 'lead_white', 'red_ochre', 'calcite', 'egyptian_blue',\n",
       "        'antimony_orange'],\n",
       "       ['quartz', 'lead_white', 'red_ochre', 'calcite', 'egyptian_blue',\n",
       "        'antimony_orange'],\n",
       "       ['quartz', 'lead_white', 'red_ochre', 'calcite', 'egyptian_blue',\n",
       "        'antimony_orange'],\n",
       "       ['quartz', 'lead_white', 'red_ochre', 'calcite', 'egyptian_blue',\n",
       "        'antimony_orange'],\n",
       "       ['quartz', 'lead_white', 'red_ochre', 'calcite', 'egyptian_blue',\n",
       "        'antimony_orange'],\n",
       "       ['quartz', 'lead_white', 'red_ochre', 'calcite', 'egyptian_blue',\n",
       "        'antimony_orange'],\n",
       "       ['quartz', 'lead_white', 'red_ochre', 'calcite', 'egyptian_blue',\n",
       "        'antimony_orange'],\n",
       "       ['quartz', 'lead_white', 'red_ochre', 'calcite', 'egyptian_blue',\n",
       "        'antimony_orange'],\n",
       "       ['quartz', 'lead_white', 'red_ochre', 'calcite', 'egyptian_blue',\n",
       "        'antimony_orange'],\n",
       "       ['quartz', 'lead_white', 'red_ochre', 'calcite', 'egyptian_blue',\n",
       "        'antimony_orange'],\n",
       "       ['quartz', 'lead_white', 'red_ochre', 'calcite', 'egyptian_blue',\n",
       "        'antimony_orange'],\n",
       "       ['quartz', 'lead_white', 'red_ochre', 'calcite', 'egyptian_blue',\n",
       "        'antimony_orange'],\n",
       "       ['quartz', 'lead_white', 'red_ochre', 'calcite', 'egyptian_blue',\n",
       "        'antimony_orange'],\n",
       "       ['quartz', 'lead_white', 'red_ochre', 'calcite', 'egyptian_blue',\n",
       "        'antimony_orange'],\n",
       "       ['quartz', 'lead_white', 'red_ochre', 'calcite', 'egyptian_blue',\n",
       "        'antimony_orange'],\n",
       "       ['quartz', 'lead_white', 'red_ochre', 'calcite', 'egyptian_blue',\n",
       "        'antimony_orange']], dtype='<U32')"
      ]
     },
     "execution_count": 54,
     "metadata": {},
     "output_type": "execute_result"
    }
   ],
   "source": [
    "### to be implemented\n",
    "synt._get_pigments('pictorial')"
   ]
  },
  {
   "cell_type": "code",
   "execution_count": 55,
   "id": "9cb0fa13",
   "metadata": {
    "scrolled": true
   },
   "outputs": [
    {
     "data": {
      "text/plain": [
       "array([['H', 'C', 'O', 'Si', 'S', 'Ca', 'Fe', 'Cu', 'Sb', 'Pb'],\n",
       "       ['H', 'C', 'O', 'Si', 'S', 'Ca', 'Fe', 'Cu', 'Sb', 'Pb'],\n",
       "       ['H', 'C', 'O', 'Si', 'S', 'Ca', 'Fe', 'Cu', 'Sb', 'Pb'],\n",
       "       ['H', 'C', 'O', 'Si', 'S', 'Ca', 'Fe', 'Cu', 'Sb', 'Pb'],\n",
       "       ['H', 'C', 'O', 'Si', 'S', 'Ca', 'Fe', 'Cu', 'Sb', 'Pb'],\n",
       "       ['H', 'C', 'O', 'Si', 'S', 'Ca', 'Fe', 'Cu', 'Sb', 'Pb'],\n",
       "       ['H', 'C', 'O', 'Si', 'S', 'Ca', 'Fe', 'Cu', 'Sb', 'Pb'],\n",
       "       ['H', 'C', 'O', 'Si', 'S', 'Ca', 'Fe', 'Cu', 'Sb', 'Pb'],\n",
       "       ['H', 'C', 'O', 'Si', 'S', 'Ca', 'Fe', 'Cu', 'Sb', 'Pb'],\n",
       "       ['H', 'C', 'O', 'Si', 'S', 'Ca', 'Fe', 'Cu', 'Sb', 'Pb'],\n",
       "       ['H', 'C', 'O', 'Si', 'S', 'Ca', 'Fe', 'Cu', 'Sb', 'Pb'],\n",
       "       ['H', 'C', 'O', 'Si', 'S', 'Ca', 'Fe', 'Cu', 'Sb', 'Pb'],\n",
       "       ['H', 'C', 'O', 'Si', 'S', 'Ca', 'Fe', 'Cu', 'Sb', 'Pb'],\n",
       "       ['H', 'C', 'O', 'Si', 'S', 'Ca', 'Fe', 'Cu', 'Sb', 'Pb'],\n",
       "       ['H', 'C', 'O', 'Si', 'S', 'Ca', 'Fe', 'Cu', 'Sb', 'Pb'],\n",
       "       ['H', 'C', 'O', 'Si', 'S', 'Ca', 'Fe', 'Cu', 'Sb', 'Pb'],\n",
       "       ['H', 'C', 'O', 'Si', 'S', 'Ca', 'Fe', 'Cu', 'Sb', 'Pb'],\n",
       "       ['H', 'C', 'O', 'Si', 'S', 'Ca', 'Fe', 'Cu', 'Sb', 'Pb'],\n",
       "       ['H', 'C', 'O', 'Si', 'S', 'Ca', 'Fe', 'Cu', 'Sb', 'Pb'],\n",
       "       ['H', 'C', 'O', 'Si', 'S', 'Ca', 'Fe', 'Cu', 'Sb', 'Pb'],\n",
       "       ['H', 'C', 'O', 'Si', 'S', 'Ca', 'Fe', 'Cu', 'Sb', 'Pb'],\n",
       "       ['H', 'C', 'O', 'Si', 'S', 'Ca', 'Fe', 'Cu', 'Sb', 'Pb'],\n",
       "       ['H', 'C', 'O', 'Si', 'S', 'Ca', 'Fe', 'Cu', 'Sb', 'Pb'],\n",
       "       ['H', 'C', 'O', 'Si', 'S', 'Ca', 'Fe', 'Cu', 'Sb', 'Pb'],\n",
       "       ['H', 'C', 'O', 'Si', 'S', 'Ca', 'Fe', 'Cu', 'Sb', 'Pb'],\n",
       "       ['H', 'C', 'O', 'Si', 'S', 'Ca', 'Fe', 'Cu', 'Sb', 'Pb'],\n",
       "       ['H', 'C', 'O', 'Si', 'S', 'Ca', 'Fe', 'Cu', 'Sb', 'Pb'],\n",
       "       ['H', 'C', 'O', 'Si', 'S', 'Ca', 'Fe', 'Cu', 'Sb', 'Pb'],\n",
       "       ['H', 'C', 'O', 'Si', 'S', 'Ca', 'Fe', 'Cu', 'Sb', 'Pb'],\n",
       "       ['H', 'C', 'O', 'Si', 'S', 'Ca', 'Fe', 'Cu', 'Sb', 'Pb'],\n",
       "       ['H', 'C', 'O', 'Si', 'S', 'Ca', 'Fe', 'Cu', 'Sb', 'Pb'],\n",
       "       ['H', 'C', 'O', 'Si', 'S', 'Ca', 'Fe', 'Cu', 'Sb', 'Pb'],\n",
       "       ['H', 'C', 'O', 'Si', 'S', 'Ca', 'Fe', 'Cu', 'Sb', 'Pb'],\n",
       "       ['H', 'C', 'O', 'Si', 'S', 'Ca', 'Fe', 'Cu', 'Sb', 'Pb'],\n",
       "       ['H', 'C', 'O', 'Si', 'S', 'Ca', 'Fe', 'Cu', 'Sb', 'Pb'],\n",
       "       ['H', 'C', 'O', 'Si', 'S', 'Ca', 'Fe', 'Cu', 'Sb', 'Pb'],\n",
       "       ['H', 'C', 'O', 'Si', 'S', 'Ca', 'Fe', 'Cu', 'Sb', 'Pb'],\n",
       "       ['H', 'C', 'O', 'Si', 'S', 'Ca', 'Fe', 'Cu', 'Sb', 'Pb'],\n",
       "       ['H', 'C', 'O', 'Si', 'S', 'Ca', 'Fe', 'Cu', 'Sb', 'Pb'],\n",
       "       ['H', 'C', 'O', 'Si', 'S', 'Ca', 'Fe', 'Cu', 'Sb', 'Pb'],\n",
       "       ['H', 'C', 'O', 'Si', 'S', 'Ca', 'Fe', 'Cu', 'Sb', 'Pb'],\n",
       "       ['H', 'C', 'O', 'Si', 'S', 'Ca', 'Fe', 'Cu', 'Sb', 'Pb'],\n",
       "       ['H', 'C', 'O', 'Si', 'S', 'Ca', 'Fe', 'Cu', 'Sb', 'Pb'],\n",
       "       ['H', 'C', 'O', 'Si', 'S', 'Ca', 'Fe', 'Cu', 'Sb', 'Pb'],\n",
       "       ['H', 'C', 'O', 'Si', 'S', 'Ca', 'Fe', 'Cu', 'Sb', 'Pb'],\n",
       "       ['H', 'C', 'O', 'Si', 'S', 'Ca', 'Fe', 'Cu', 'Sb', 'Pb'],\n",
       "       ['H', 'C', 'O', 'Si', 'S', 'Ca', 'Fe', 'Cu', 'Sb', 'Pb'],\n",
       "       ['H', 'C', 'O', 'Si', 'S', 'Ca', 'Fe', 'Cu', 'Sb', 'Pb'],\n",
       "       ['H', 'C', 'O', 'Si', 'S', 'Ca', 'Fe', 'Cu', 'Sb', 'Pb'],\n",
       "       ['H', 'C', 'O', 'Si', 'S', 'Ca', 'Fe', 'Cu', 'Sb', 'Pb'],\n",
       "       ['H', 'C', 'O', 'Si', 'S', 'Ca', 'Fe', 'Cu', 'Sb', 'Pb'],\n",
       "       ['H', 'C', 'O', 'Si', 'S', 'Ca', 'Fe', 'Cu', 'Sb', 'Pb'],\n",
       "       ['H', 'C', 'O', 'Si', 'S', 'Ca', 'Fe', 'Cu', 'Sb', 'Pb'],\n",
       "       ['H', 'C', 'O', 'Si', 'S', 'Ca', 'Fe', 'Cu', 'Sb', 'Pb'],\n",
       "       ['H', 'C', 'O', 'Si', 'S', 'Ca', 'Fe', 'Cu', 'Sb', 'Pb'],\n",
       "       ['H', 'C', 'O', 'Si', 'S', 'Ca', 'Fe', 'Cu', 'Sb', 'Pb'],\n",
       "       ['H', 'C', 'O', 'Si', 'S', 'Ca', 'Fe', 'Cu', 'Sb', 'Pb'],\n",
       "       ['H', 'C', 'O', 'Si', 'S', 'Ca', 'Fe', 'Cu', 'Sb', 'Pb'],\n",
       "       ['H', 'C', 'O', 'Si', 'S', 'Ca', 'Fe', 'Cu', 'Sb', 'Pb'],\n",
       "       ['H', 'C', 'O', 'Si', 'S', 'Ca', 'Fe', 'Cu', 'Sb', 'Pb'],\n",
       "       ['H', 'C', 'O', 'Si', 'S', 'Ca', 'Fe', 'Cu', 'Sb', 'Pb'],\n",
       "       ['H', 'C', 'O', 'Si', 'S', 'Ca', 'Fe', 'Cu', 'Sb', 'Pb'],\n",
       "       ['H', 'C', 'O', 'Si', 'S', 'Ca', 'Fe', 'Cu', 'Sb', 'Pb'],\n",
       "       ['H', 'C', 'O', 'Si', 'S', 'Ca', 'Fe', 'Cu', 'Sb', 'Pb'],\n",
       "       ['H', 'C', 'O', 'Si', 'S', 'Ca', 'Fe', 'Cu', 'Sb', 'Pb'],\n",
       "       ['H', 'C', 'O', 'Si', 'S', 'Ca', 'Fe', 'Cu', 'Sb', 'Pb'],\n",
       "       ['H', 'C', 'O', 'Si', 'S', 'Ca', 'Fe', 'Cu', 'Sb', 'Pb'],\n",
       "       ['H', 'C', 'O', 'Si', 'S', 'Ca', 'Fe', 'Cu', 'Sb', 'Pb'],\n",
       "       ['H', 'C', 'O', 'Si', 'S', 'Ca', 'Fe', 'Cu', 'Sb', 'Pb'],\n",
       "       ['H', 'C', 'O', 'Si', 'S', 'Ca', 'Fe', 'Cu', 'Sb', 'Pb'],\n",
       "       ['H', 'C', 'O', 'Si', 'S', 'Ca', 'Fe', 'Cu', 'Sb', 'Pb'],\n",
       "       ['H', 'C', 'O', 'Si', 'S', 'Ca', 'Fe', 'Cu', 'Sb', 'Pb'],\n",
       "       ['H', 'C', 'O', 'Si', 'S', 'Ca', 'Fe', 'Cu', 'Sb', 'Pb'],\n",
       "       ['H', 'C', 'O', 'Si', 'S', 'Ca', 'Fe', 'Cu', 'Sb', 'Pb'],\n",
       "       ['H', 'C', 'O', 'Si', 'S', 'Ca', 'Fe', 'Cu', 'Sb', 'Pb'],\n",
       "       ['H', 'C', 'O', 'Si', 'S', 'Ca', 'Fe', 'Cu', 'Sb', 'Pb'],\n",
       "       ['H', 'C', 'O', 'Si', 'S', 'Ca', 'Fe', 'Cu', 'Sb', 'Pb'],\n",
       "       ['H', 'C', 'O', 'Si', 'S', 'Ca', 'Fe', 'Cu', 'Sb', 'Pb'],\n",
       "       ['H', 'C', 'O', 'Si', 'S', 'Ca', 'Fe', 'Cu', 'Sb', 'Pb'],\n",
       "       ['H', 'C', 'O', 'Si', 'S', 'Ca', 'Fe', 'Cu', 'Sb', 'Pb'],\n",
       "       ['H', 'C', 'O', 'Si', 'S', 'Ca', 'Fe', 'Cu', 'Sb', 'Pb'],\n",
       "       ['H', 'C', 'O', 'Si', 'S', 'Ca', 'Fe', 'Cu', 'Sb', 'Pb'],\n",
       "       ['H', 'C', 'O', 'Si', 'S', 'Ca', 'Fe', 'Cu', 'Sb', 'Pb'],\n",
       "       ['H', 'C', 'O', 'Si', 'S', 'Ca', 'Fe', 'Cu', 'Sb', 'Pb'],\n",
       "       ['H', 'C', 'O', 'Si', 'S', 'Ca', 'Fe', 'Cu', 'Sb', 'Pb'],\n",
       "       ['H', 'C', 'O', 'Si', 'S', 'Ca', 'Fe', 'Cu', 'Sb', 'Pb'],\n",
       "       ['H', 'C', 'O', 'Si', 'S', 'Ca', 'Fe', 'Cu', 'Sb', 'Pb'],\n",
       "       ['H', 'C', 'O', 'Si', 'S', 'Ca', 'Fe', 'Cu', 'Sb', 'Pb'],\n",
       "       ['H', 'C', 'O', 'Si', 'S', 'Ca', 'Fe', 'Cu', 'Sb', 'Pb'],\n",
       "       ['H', 'C', 'O', 'Si', 'S', 'Ca', 'Fe', 'Cu', 'Sb', 'Pb'],\n",
       "       ['H', 'C', 'O', 'Si', 'S', 'Ca', 'Fe', 'Cu', 'Sb', 'Pb'],\n",
       "       ['H', 'C', 'O', 'Si', 'S', 'Ca', 'Fe', 'Cu', 'Sb', 'Pb'],\n",
       "       ['H', 'C', 'O', 'Si', 'S', 'Ca', 'Fe', 'Cu', 'Sb', 'Pb'],\n",
       "       ['H', 'C', 'O', 'Si', 'S', 'Ca', 'Fe', 'Cu', 'Sb', 'Pb'],\n",
       "       ['H', 'C', 'O', 'Si', 'S', 'Ca', 'Fe', 'Cu', 'Sb', 'Pb'],\n",
       "       ['H', 'C', 'O', 'Si', 'S', 'Ca', 'Fe', 'Cu', 'Sb', 'Pb']],\n",
       "      dtype='<U2')"
      ]
     },
     "execution_count": 55,
     "metadata": {},
     "output_type": "execute_result"
    }
   ],
   "source": [
    "synt.layers['pictorial']['elements']"
   ]
  },
  {
   "cell_type": "code",
   "execution_count": 57,
   "id": "4507adfd",
   "metadata": {},
   "outputs": [
    {
     "data": {
      "text/plain": [
       "array([[3.58347568e-01, 1.45432736e-01, 3.82544721e-01, 9.51235912e-02,\n",
       "        1.07886621e-02, 7.76272160e-03],\n",
       "       [6.72060430e-01, 6.00383802e-02, 7.79674643e-02, 1.57140116e-01,\n",
       "        1.84398492e-02, 1.43537605e-02],\n",
       "       [5.48930742e-01, 1.86785064e-01, 1.06936658e-01, 1.31367112e-01,\n",
       "        1.65248064e-02, 9.45561833e-03],\n",
       "       [7.19415779e-01, 1.66071378e-01, 3.49433753e-02, 5.43958434e-02,\n",
       "        1.33673041e-02, 1.18063199e-02],\n",
       "       [6.42909107e-01, 1.37128032e-01, 3.14976231e-02, 1.65013480e-01,\n",
       "        1.12053336e-02, 1.22464247e-02],\n",
       "       [5.46323235e-01, 3.27594847e-01, 5.68799225e-02, 5.14844870e-02,\n",
       "        1.51229042e-02, 2.59460455e-03],\n",
       "       [7.98587562e-01, 1.03653686e-01, 1.76283068e-02, 6.08408896e-02,\n",
       "        6.82640613e-03, 1.24631487e-02],\n",
       "       [6.93435387e-01, 2.04800063e-01, 2.21412107e-02, 4.86489628e-02,\n",
       "        1.75435574e-02, 1.34308190e-02],\n",
       "       [5.47138197e-01, 3.30508643e-01, 4.57280470e-02, 5.64218811e-02,\n",
       "        1.75751307e-02, 2.62810125e-03],\n",
       "       [7.09971920e-01, 2.12312891e-01, 5.96231719e-03, 4.51109817e-02,\n",
       "        1.40389458e-02, 1.26029444e-02],\n",
       "       [5.94641317e-01, 1.85171305e-01, 2.52823336e-02, 1.70485042e-01,\n",
       "        1.48726937e-02, 9.54730886e-03],\n",
       "       [5.26017033e-01, 2.50602439e-01, 3.28236776e-02, 1.65886496e-01,\n",
       "        1.54544392e-02, 9.21591453e-03],\n",
       "       [5.44163995e-01, 3.29535145e-01, 5.45878609e-02, 5.25354235e-02,\n",
       "        1.67590792e-02, 2.41849726e-03],\n",
       "       [5.56312573e-01, 2.38911073e-01, 1.45267373e-01, 4.72088489e-02,\n",
       "        1.21092020e-02, 1.90930318e-04],\n",
       "       [6.41158507e-01, 1.97502672e-01, 2.26565004e-02, 1.12170930e-01,\n",
       "        1.65278909e-02, 9.98349923e-03],\n",
       "       [5.48229687e-01, 3.35014358e-01, 4.92000130e-02, 4.98902750e-02,\n",
       "        1.74186610e-02, 2.47006013e-04],\n",
       "       [5.25389544e-01, 3.87623316e-01, 3.11958455e-03, 6.10984416e-02,\n",
       "        1.75431691e-02, 5.22594487e-03],\n",
       "       [7.27740013e-01, 1.26225275e-01, 4.55556123e-02, 7.00212727e-02,\n",
       "        1.57330463e-02, 1.47247803e-02],\n",
       "       [5.00736370e-01, 2.43600317e-01, 1.69242225e-01, 7.03273516e-02,\n",
       "        1.49630263e-02, 1.13070959e-03],\n",
       "       [3.92527810e-01, 2.52622960e-01, 2.51566009e-01, 8.36107653e-02,\n",
       "        9.54968647e-03, 1.01227685e-02],\n",
       "       [6.75646200e-01, 1.68208805e-01, 4.05177100e-02, 9.39485472e-02,\n",
       "        8.28692878e-03, 1.33918090e-02],\n",
       "       [5.40953825e-01, 3.07902075e-01, 9.05729278e-02, 3.95731458e-02,\n",
       "        1.73690014e-02, 3.62902454e-03],\n",
       "       [7.02479268e-01, 2.13013080e-01, 1.15577910e-02, 4.47733533e-02,\n",
       "        1.56868849e-02, 1.24896225e-02],\n",
       "       [6.59553586e-01, 7.41894301e-02, 5.72681772e-02, 1.79954600e-01,\n",
       "        1.42425625e-02, 1.47916441e-02],\n",
       "       [5.30920933e-01, 2.14273831e-01, 7.51837753e-02, 1.52870048e-01,\n",
       "        1.81881022e-02, 8.56331027e-03],\n",
       "       [6.92426850e-01, 2.13694737e-01, 1.70290785e-02, 4.85888764e-02,\n",
       "        1.54442959e-02, 1.28161624e-02],\n",
       "       [7.48076281e-01, 1.54888295e-01, 1.65373477e-02, 4.97422243e-02,\n",
       "        1.72225861e-02, 1.35332656e-02],\n",
       "       [5.86843744e-01, 1.90748436e-01, 2.44513977e-02, 1.73285012e-01,\n",
       "        1.49811368e-02, 9.69027329e-03],\n",
       "       [4.53371856e-01, 2.14972174e-01, 1.90060771e-01, 1.37595915e-01,\n",
       "        2.74915018e-03, 1.25013405e-03],\n",
       "       [5.24070033e-01, 2.13002455e-01, 8.50546454e-02, 1.53556247e-01,\n",
       "        1.34950860e-02, 1.08215333e-02],\n",
       "       [6.73824861e-01, 8.92178485e-02, 4.65328427e-02, 1.59962690e-01,\n",
       "        1.61248272e-02, 1.43369310e-02],\n",
       "       [6.82549765e-01, 1.85277290e-01, 5.14588226e-02, 5.75133655e-02,\n",
       "        1.94687169e-02, 3.73203931e-03],\n",
       "       [6.02967305e-01, 2.75926375e-01, 4.05755596e-02, 6.12019911e-02,\n",
       "        1.85568821e-02, 7.71887216e-04],\n",
       "       [6.15495021e-01, 1.83290865e-01, 2.34096680e-02, 1.56731272e-01,\n",
       "        1.20127349e-02, 9.06043877e-03],\n",
       "       [3.83346346e-01, 2.46000781e-01, 3.23880178e-01, 3.70962393e-02,\n",
       "        2.67140745e-03, 7.00504881e-03],\n",
       "       [4.42101045e-01, 2.43034184e-01, 2.37217521e-01, 6.53486233e-02,\n",
       "        1.21564661e-02, 1.42160696e-04],\n",
       "       [5.33329524e-01, 3.48457487e-01, 5.06932247e-02, 5.33432046e-02,\n",
       "        1.27923900e-02, 1.38416940e-03],\n",
       "       [7.29228947e-01, 1.68693283e-01, 2.09038433e-02, 5.33175956e-02,\n",
       "        1.61712148e-02, 1.16851160e-02],\n",
       "       [6.41811537e-01, 1.25365442e-01, 3.03009471e-02, 1.75214005e-01,\n",
       "        1.51558105e-02, 1.21522587e-02],\n",
       "       [7.03390230e-01, 2.02190130e-01, 1.69769955e-02, 4.81061778e-02,\n",
       "        1.66052459e-02, 1.27312209e-02],\n",
       "       [5.85159152e-01, 1.52559556e-01, 6.94299025e-02, 1.67699949e-01,\n",
       "        1.70959751e-02, 8.05546496e-03],\n",
       "       [5.18956871e-01, 3.76800303e-01, 2.35264573e-02, 5.93473296e-02,\n",
       "        1.66036423e-02, 4.76539736e-03],\n",
       "       [5.53313286e-01, 2.28250789e-01, 1.12161575e-01, 7.98324715e-02,\n",
       "        1.64770711e-02, 9.96480667e-03],\n",
       "       [5.04399972e-01, 2.98182723e-01, 1.07010526e-01, 7.07613374e-02,\n",
       "        1.65910495e-02, 3.05439223e-03],\n",
       "       [7.56440933e-01, 1.62555685e-01, 2.65052481e-03, 5.26359022e-02,\n",
       "        1.30018094e-02, 1.27151451e-02],\n",
       "       [4.89457786e-01, 3.77611520e-02, 3.13656814e-01, 1.56280329e-01,\n",
       "        8.65561560e-04, 1.97835751e-03],\n",
       "       [5.75350198e-01, 3.12467735e-01, 3.55588614e-02, 6.07072020e-02,\n",
       "        1.48932575e-02, 1.02274615e-03],\n",
       "       [5.61786276e-01, 3.18639155e-01, 4.97880462e-02, 4.91107911e-02,\n",
       "        1.67698031e-02, 3.90592855e-03],\n",
       "       [6.86497629e-01, 1.14222794e-01, 3.13829678e-02, 1.39773505e-01,\n",
       "        1.42015139e-02, 1.39215903e-02],\n",
       "       [5.53532493e-01, 3.02113973e-01, 7.70168066e-02, 4.91272700e-02,\n",
       "        1.63618940e-02, 1.84756334e-03],\n",
       "       [4.42997177e-01, 1.19545496e-01, 3.21686890e-01, 9.44473745e-02,\n",
       "        1.44543962e-02, 6.86866628e-03],\n",
       "       [5.98480104e-01, 1.30641202e-01, 1.84400858e-01, 6.90456763e-02,\n",
       "        1.42940539e-02, 3.13810575e-03],\n",
       "       [7.17605124e-01, 1.46617095e-01, 4.93387880e-02, 5.82821512e-02,\n",
       "        1.69374176e-02, 1.12194245e-02],\n",
       "       [7.28352222e-01, 1.66342934e-01, 2.49718206e-02, 5.35875972e-02,\n",
       "        1.52145861e-02, 1.15308407e-02],\n",
       "       [4.23425221e-01, 3.19897416e-01, 1.85219500e-01, 5.65969195e-02,\n",
       "        1.34857433e-02, 1.37519998e-03],\n",
       "       [5.75348367e-01, 1.88942713e-01, 1.00118749e-01, 1.12736753e-01,\n",
       "        1.61767213e-02, 6.67669724e-03],\n",
       "       [4.96421770e-01, 8.93805944e-02, 3.18986048e-01, 7.86357921e-02,\n",
       "        4.48584534e-03, 1.20899503e-02],\n",
       "       [5.58593208e-01, 3.79293624e-01, 3.66309681e-03, 3.98432218e-02,\n",
       "        1.43508148e-02, 4.25603454e-03],\n",
       "       [4.15247885e-01, 1.94690203e-01, 2.68440797e-01, 9.94435998e-02,\n",
       "        1.35483499e-02, 8.62916568e-03],\n",
       "       [6.45039940e-01, 8.43188479e-02, 1.02676538e-01, 1.37449838e-01,\n",
       "        1.88863644e-02, 1.16284711e-02],\n",
       "       [3.32237964e-01, 2.78830633e-01, 2.80994869e-01, 9.86571172e-02,\n",
       "        1.31537644e-03, 7.96403963e-03],\n",
       "       [6.98980829e-01, 2.11658460e-01, 1.71889540e-02, 4.36717499e-02,\n",
       "        1.57229615e-02, 1.27770457e-02],\n",
       "       [6.86394029e-01, 2.07424203e-01, 2.32238073e-02, 5.25622971e-02,\n",
       "        1.76383465e-02, 1.27573176e-02],\n",
       "       [5.39041077e-01, 3.46808340e-01, 4.39340288e-02, 5.16871108e-02,\n",
       "        1.62562494e-02, 2.27319392e-03],\n",
       "       [6.53431221e-01, 9.19123383e-02, 9.68863352e-02, 1.45763184e-01,\n",
       "        7.79027039e-03, 4.21665043e-03],\n",
       "       [5.74123726e-01, 1.93974227e-01, 5.76395884e-02, 1.45132026e-01,\n",
       "        1.73334088e-02, 1.17970235e-02],\n",
       "       [6.96360780e-01, 1.13989774e-01, 3.00692946e-03, 1.71405316e-01,\n",
       "        1.55905232e-04, 1.50812949e-02],\n",
       "       [5.86885154e-01, 1.28934867e-01, 8.24039650e-02, 1.72482679e-01,\n",
       "        1.46085461e-02, 1.46847888e-02],\n",
       "       [7.21394011e-01, 1.21325761e-01, 5.17595305e-02, 7.31420750e-02,\n",
       "        1.90920888e-02, 1.32865333e-02],\n",
       "       [5.83026896e-01, 1.55797116e-01, 6.69385631e-02, 1.66697677e-01,\n",
       "        1.63196849e-02, 1.12200640e-02],\n",
       "       [7.47787186e-01, 1.62237858e-01, 1.14209227e-02, 4.86974456e-02,\n",
       "        1.62027017e-02, 1.36538862e-02],\n",
       "       [7.30906058e-01, 1.39673367e-01, 3.92543606e-02, 6.24570841e-02,\n",
       "        1.64459290e-02, 1.12632014e-02],\n",
       "       [7.25655924e-01, 1.48827944e-01, 3.68052430e-02, 6.11409601e-02,\n",
       "        1.63235936e-02, 1.12463361e-02],\n",
       "       [6.86552738e-01, 2.04931099e-01, 2.83586953e-03, 7.69588006e-02,\n",
       "        1.82424985e-02, 1.04789949e-02],\n",
       "       [5.44145875e-01, 2.68532480e-01, 1.22468818e-01, 5.60035899e-02,\n",
       "        4.47753279e-03, 4.37170447e-03],\n",
       "       [6.18117010e-01, 1.59060802e-01, 2.43168642e-02, 1.68256680e-01,\n",
       "        1.68250838e-02, 1.34235604e-02],\n",
       "       [6.86506294e-01, 1.69344708e-01, 6.63747920e-02, 5.22322553e-02,\n",
       "        1.45274922e-02, 1.10144580e-02],\n",
       "       [5.00068295e-01, 3.81403283e-02, 3.62877001e-01, 8.43052965e-02,\n",
       "        7.33956156e-03, 7.26951713e-03],\n",
       "       [5.56621043e-01, 3.74094184e-01, 9.73781558e-03, 3.91547814e-02,\n",
       "        1.59477911e-02, 4.44438513e-03],\n",
       "       [5.09902739e-01, 1.93437584e-01, 2.31338663e-01, 4.34724849e-02,\n",
       "        9.97043022e-03, 1.18780987e-02],\n",
       "       [5.82643123e-01, 1.78505070e-01, 5.91237022e-02, 1.52361064e-01,\n",
       "        1.51712832e-02, 1.21957575e-02],\n",
       "       [7.41037656e-01, 1.67369223e-01, 1.34966113e-02, 4.89489361e-02,\n",
       "        1.54969453e-02, 1.36506276e-02],\n",
       "       [6.86924425e-01, 1.49653419e-02, 1.83626894e-01, 9.94209280e-02,\n",
       "        1.30037400e-02, 2.05867041e-03],\n",
       "       [5.52530530e-01, 3.47687350e-01, 2.50764510e-02, 5.63654067e-02,\n",
       "        1.61635424e-02, 2.17672008e-03],\n",
       "       [5.23326164e-01, 2.83875369e-01, 6.42579451e-02, 1.07743272e-01,\n",
       "        1.26116906e-02, 8.18555894e-03],\n",
       "       [6.93304430e-01, 2.15147725e-01, 1.45552227e-02, 4.88225985e-02,\n",
       "        1.57569744e-02, 1.24130494e-02],\n",
       "       [5.29703732e-01, 3.25653009e-01, 7.02882995e-02, 5.47500779e-02,\n",
       "        1.68272394e-02, 2.77764192e-03],\n",
       "       [6.04006401e-01, 1.60659128e-01, 1.46962782e-01, 7.90797401e-02,\n",
       "        8.82263381e-03, 4.69315698e-04],\n",
       "       [5.51052890e-01, 1.60605955e-01, 2.24875268e-01, 4.25488169e-02,\n",
       "        1.73868872e-02, 3.53018215e-03],\n",
       "       [6.75903307e-01, 2.31927361e-01, 1.99333174e-02, 4.30783008e-02,\n",
       "        1.59004445e-02, 1.32572696e-02],\n",
       "       [3.72227703e-01, 1.73023829e-01, 3.70155188e-01, 6.92665717e-02,\n",
       "        4.37922098e-03, 1.09474882e-02],\n",
       "       [5.29618923e-01, 2.41906881e-01, 1.12792863e-01, 9.71069868e-02,\n",
       "        1.79366113e-02, 6.37734534e-04],\n",
       "       [5.75544236e-01, 1.66089095e-01, 1.34497933e-01, 9.70144739e-02,\n",
       "        1.56320614e-02, 1.12222010e-02],\n",
       "       [7.17688376e-01, 1.50233833e-01, 3.69946810e-02, 7.66689986e-02,\n",
       "        1.16737436e-02, 6.74036698e-03],\n",
       "       [5.47194866e-01, 2.42663615e-01, 2.36947850e-02, 1.59871431e-01,\n",
       "        1.62954674e-02, 1.02798352e-02],\n",
       "       [5.14687482e-01, 3.19894217e-01, 8.03962583e-02, 6.42821882e-02,\n",
       "        1.41234100e-02, 6.61644453e-03]])"
      ]
     },
     "execution_count": 57,
     "metadata": {},
     "output_type": "execute_result"
    }
   ],
   "source": [
    "synt.layers['pictorial']['mass_fractions']"
   ]
  },
  {
   "cell_type": "code",
   "execution_count": null,
   "id": "6f5f6c67",
   "metadata": {},
   "outputs": [],
   "source": []
  }
 ],
 "metadata": {
  "kernelspec": {
   "display_name": "Python 3 (ipykernel)",
   "language": "python",
   "name": "python3"
  },
  "language_info": {
   "codemirror_mode": {
    "name": "ipython",
    "version": 3
   },
   "file_extension": ".py",
   "mimetype": "text/x-python",
   "name": "python",
   "nbconvert_exporter": "python",
   "pygments_lexer": "ipython3",
   "version": "3.10.7"
  }
 },
 "nbformat": 4,
 "nbformat_minor": 5
}
