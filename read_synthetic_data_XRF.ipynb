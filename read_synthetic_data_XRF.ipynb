{
 "cells": [
  {
   "cell_type": "code",
   "execution_count": 2,
   "id": "1fb9549a",
   "metadata": {},
   "outputs": [],
   "source": [
    "from XRDXRFutils import SyntheticDataXRF\n",
    "from matplotlib.pyplot import plot, show, subplots"
   ]
  },
  {
   "cell_type": "markdown",
   "id": "7cf1f9c7",
   "metadata": {},
   "source": [
    "### Read from outdata directory"
   ]
  },
  {
   "cell_type": "code",
   "execution_count": 3,
   "id": "a9bff747",
   "metadata": {},
   "outputs": [],
   "source": [
    "datadir = '/home/rosario/xmimsim/synthetic/optuna/amulets_amulet_Pb/outdata/'\n",
    "synt = SyntheticDataXRF().read(datadir)"
   ]
  },
  {
   "cell_type": "code",
   "execution_count": 4,
   "id": "49e59552",
   "metadata": {},
   "outputs": [
    {
     "data": {
      "text/plain": [
       "(1, 96, 2048)"
      ]
     },
     "execution_count": 4,
     "metadata": {},
     "output_type": "execute_result"
    }
   ],
   "source": [
    "synt.shape"
   ]
  },
  {
   "cell_type": "code",
   "execution_count": 6,
   "id": "edeace2f",
   "metadata": {},
   "outputs": [
    {
     "data": {
      "text/plain": [
       "{'path': 'outdata',\n",
       " 'labels': array(['Cu-KM', 'Sb-KN', 'Ar-KM', 'Si-KL', 'time', 'Sb-L2', 'Sb-L',\n",
       "        'Si-KM', 'Ca-KL', 'Pb-M2', 'Si-K', 'Cu-L', 'Sb-KM', 'Pb-L',\n",
       "        'Fe-KM', 'Sb-L3', 'Pb-L2', 'Pb-M1', 'Cu-L1', 'Cu-K', 'Sb-KL',\n",
       "        'Pb-M4', 'Pb-M', 'Pb-M5', 'Pb-M3', 'Sb-KO', 'Ar-K', 'Sb-L1',\n",
       "        'Ca-KM', 'Sb-K', 'Fe-KL', 'Ca-K', 'Ar-KL', 'Fe-K', 'Pb-L3', 'S-KM',\n",
       "        'Cu-KL', 'S-KL', 'Pb-L1', 'S-K'], dtype=object),\n",
       " 'elements': array(['Ar', 'Sb', 'Pb', 'N', 'Ca', 'O', 'Fe', 'C', 'Cu', 'H', 'Si', 'S'],\n",
       "       dtype=object),\n",
       " 'layers': array(['air_top', 'pictorial', 'quartz'], dtype=object)}"
      ]
     },
     "execution_count": 6,
     "metadata": {},
     "output_type": "execute_result"
    }
   ],
   "source": [
    "synt.metadata"
   ]
  },
  {
   "cell_type": "code",
   "execution_count": 7,
   "id": "abe8027e",
   "metadata": {},
   "outputs": [
    {
     "data": {
      "text/plain": [
       "['air_top', 'pictorial', 'quartz']"
      ]
     },
     "execution_count": 7,
     "metadata": {},
     "output_type": "execute_result"
    }
   ],
   "source": [
    "synt.layers_names"
   ]
  },
  {
   "cell_type": "code",
   "execution_count": 9,
   "id": "f197eb10",
   "metadata": {},
   "outputs": [
    {
     "name": "stdout",
     "output_type": "stream",
     "text": [
      "Layers\n",
      "├── air_top density = 0.001205 thickness = 16645.3 μm\n",
      "│   ├── C  0.0124\n",
      "│   ├── N  75.5268\n",
      "│   ├── O  23.1781\n",
      "│   └── Ar  1.2827\n",
      "├── pictorial density = 4.07118 thickness = 74.0371 μm\n",
      "│   ├── H  0.040294\n",
      "│   ├── C  1.62168\n",
      "│   ├── O  37.2402\n",
      "│   ├── Si  17.0732\n",
      "│   ├── S  0.153816\n",
      "│   ├── Ca  3.9241\n",
      "│   ├── Fe  26.7564\n",
      "│   ├── Cu  0.182354\n",
      "│   ├── Sb  0.584083\n",
      "│   └── Pb  12.424\n",
      "└── quartz density = 2.648 thickness = 500.0 μm\n",
      "    ├── O  53.2554\n",
      "    └── Si  46.7446\n",
      "Layers\n",
      "├── air_top\n",
      "│   ├── pigments  None\n",
      "│   ├── volume_fractions  None\n",
      "│   └── mass_fractions  None\n",
      "├── pictorial\n",
      "│   ├── pigments  ['quartz', 'lead_white', 'red_ochre', 'calcite', 'egyptian_blue', 'antimony_orange']\n",
      "│   ├── volume_fractions  [0.550943468492568, 0.0870710574729104, 0.19789190952087793, 0.14290239422598888, 0.014260587969035952, 0.006930582318618753]\n",
      "│   └── mass_fractions  [0.3583475681310475, 0.1454327357127815, 0.38254472124649835, 0.095123591231562, 0.010788662080618294, 0.007762721597492263]\n",
      "└── quartz\n",
      "    ├── pigments  ['quartz']\n",
      "    ├── volume_fractions  [1.0]\n",
      "    └── mass_fractions  [1.0]\n",
      "\n"
     ]
    }
   ],
   "source": [
    "print(synt.spectra[0].layers) ### a single spectra (SyntheticSpectraXRF) see read_synthetic_spectra.ipynb"
   ]
  },
  {
   "cell_type": "markdown",
   "id": "94106f25",
   "metadata": {},
   "source": [
    "### Read from a list of files\n",
    "##### A big dataset can be splitted limiting memory usage."
   ]
  },
  {
   "cell_type": "code",
   "execution_count": 10,
   "id": "ed46a870",
   "metadata": {},
   "outputs": [],
   "source": [
    "from glob import glob"
   ]
  },
  {
   "cell_type": "code",
   "execution_count": 11,
   "id": "75f10796",
   "metadata": {},
   "outputs": [],
   "source": [
    "xmsolist = glob('/home/rosario/xmimsim/synthetic/optuna/amulets_amulet_Pb/outdata/*.xmso')"
   ]
  },
  {
   "cell_type": "code",
   "execution_count": 12,
   "id": "97e2183d",
   "metadata": {},
   "outputs": [
    {
     "data": {
      "text/plain": [
       "96"
      ]
     },
     "execution_count": 12,
     "metadata": {},
     "output_type": "execute_result"
    }
   ],
   "source": [
    "len(xmsolist)"
   ]
  },
  {
   "cell_type": "code",
   "execution_count": 13,
   "id": "c1f00e81",
   "metadata": {},
   "outputs": [],
   "source": [
    "synt = SyntheticDataXRF().read(xmsolist)"
   ]
  },
  {
   "cell_type": "code",
   "execution_count": 14,
   "id": "9d0d769c",
   "metadata": {},
   "outputs": [
    {
     "data": {
      "text/plain": [
       "(1, 96, 2048)"
      ]
     },
     "execution_count": 14,
     "metadata": {},
     "output_type": "execute_result"
    }
   ],
   "source": [
    "synt.shape"
   ]
  },
  {
   "cell_type": "code",
   "execution_count": 15,
   "id": "5972edef",
   "metadata": {},
   "outputs": [],
   "source": [
    "xmsolist01 = xmsolist[:50]\n",
    "xmsolist02 = xmsolist[50:]"
   ]
  },
  {
   "cell_type": "code",
   "execution_count": 16,
   "id": "442f2c42",
   "metadata": {},
   "outputs": [],
   "source": [
    "synt01 = SyntheticDataXRF().read(xmsolist01)\n",
    "synt02 = SyntheticDataXRF().read(xmsolist02)"
   ]
  },
  {
   "cell_type": "code",
   "execution_count": 17,
   "id": "739e30a0",
   "metadata": {},
   "outputs": [
    {
     "data": {
      "text/plain": [
       "((1, 50, 2048), (1, 46, 2048))"
      ]
     },
     "execution_count": 17,
     "metadata": {},
     "output_type": "execute_result"
    }
   ],
   "source": [
    "synt01.shape, synt02.shape"
   ]
  },
  {
   "cell_type": "markdown",
   "id": "fdb24c45",
   "metadata": {},
   "source": [
    "### Convoluted and Uncovoluted spectra"
   ]
  },
  {
   "cell_type": "code",
   "execution_count": 19,
   "id": "34de9e0f",
   "metadata": {},
   "outputs": [
    {
     "data": {
      "text/plain": [
       "[<matplotlib.lines.Line2D at 0x7fa09340b5b0>]"
      ]
     },
     "execution_count": 19,
     "metadata": {},
     "output_type": "execute_result"
    },
    {
     "data": {
      "image/png": "[encoded data removed]",
      "text/plain": [
       "<Figure size 345x260 with 1 Axes>"
      ]
     },
     "metadata": {},
     "output_type": "display_data"
    }
   ],
   "source": [
    "plot(synt.x,synt.data[0,0,:])"
   ]
  },
  {
   "cell_type": "code",
   "execution_count": 20,
   "id": "0dc34a96",
   "metadata": {},
   "outputs": [
    {
     "data": {
      "text/plain": [
       "[<matplotlib.lines.Line2D at 0x7fa09269ceb0>]"
      ]
     },
     "execution_count": 20,
     "metadata": {},
     "output_type": "execute_result"
    },
    {
     "data": {
      "image/png": "[encoded data removed]",
      "text/plain": [
       "<Figure size 345x260 with 1 Axes>"
      ]
     },
     "metadata": {},
     "output_type": "display_data"
    }
   ],
   "source": [
    "plot(synt.x, synt.unconv_data[0,0,:])"
   ]
  },
  {
   "cell_type": "markdown",
   "id": "fac46ade",
   "metadata": {},
   "source": [
    "### Labels"
   ]
  },
  {
   "cell_type": "code",
   "execution_count": 24,
   "id": "d49a2420",
   "metadata": {},
   "outputs": [
    {
     "name": "stdout",
     "output_type": "stream",
     "text": [
      "['Cu-KM' 'Sb-KN' 'Ar-KM' 'Si-KL' 'time' 'Sb-L2' 'Sb-L' 'Si-KM' 'Ca-KL'\n",
      " 'Pb-M2' 'Si-K' 'Cu-L' 'Sb-KM' 'Pb-L' 'Fe-KM' 'Sb-L3' 'Pb-L2' 'Pb-M1'\n",
      " 'Cu-L1' 'Cu-K' 'Sb-KL' 'Pb-M4' 'Pb-M' 'Pb-M5' 'Pb-M3' 'Sb-KO' 'Ar-K'\n",
      " 'Sb-L1' 'Ca-KM' 'Sb-K' 'Fe-KL' 'Ca-K' 'Ar-KL' 'Fe-K' 'Pb-L3' 'S-KM'\n",
      " 'Cu-KL' 'S-KL' 'Pb-L1' 'S-K'] 40\n"
     ]
    }
   ],
   "source": [
    "print(synt.metadata['labels'], len(synt.metadata['labels']))"
   ]
  },
  {
   "cell_type": "code",
   "execution_count": 22,
   "id": "0a6cf880",
   "metadata": {},
   "outputs": [
    {
     "data": {
      "text/plain": [
       "(1, 96, 40)"
      ]
     },
     "execution_count": 22,
     "metadata": {},
     "output_type": "execute_result"
    }
   ],
   "source": [
    "synt.labels.shape"
   ]
  },
  {
   "cell_type": "markdown",
   "id": "2c1c500a",
   "metadata": {},
   "source": [
    "### Layers"
   ]
  },
  {
   "cell_type": "code",
   "execution_count": 25,
   "id": "dac989c2",
   "metadata": {},
   "outputs": [
    {
     "data": {
      "text/plain": [
       "['air_top', 'pictorial', 'quartz']"
      ]
     },
     "execution_count": 25,
     "metadata": {},
     "output_type": "execute_result"
    }
   ],
   "source": [
    "synt.layers_names"
   ]
  },
  {
   "cell_type": "markdown",
   "id": "b1a38748",
   "metadata": {},
   "source": [
    "#### thickness"
   ]
  },
  {
   "cell_type": "code",
   "execution_count": 32,
   "id": "7306a440",
   "metadata": {
    "scrolled": true
   },
   "outputs": [
    {
     "name": "stdout",
     "output_type": "stream",
     "text": [
      "(96, 3)\n"
     ]
    },
    {
     "data": {
      "text/plain": [
       "array([[1.66453e+00, 7.40371e-03, 5.00000e-02],\n",
       "       [1.54587e+00, 8.13497e-03, 5.00000e-02],\n",
       "       [1.56026e+00, 8.34981e-03, 5.00000e-02],\n",
       "       [1.36527e+00, 6.77771e-03, 5.00000e-02],\n",
       "       [1.56988e+00, 8.46021e-03, 5.00000e-02],\n",
       "       [1.82538e+00, 4.08426e-03, 5.00000e-02],\n",
       "       [1.62775e+00, 8.63725e-03, 5.00000e-02],\n",
       "       [1.52955e+00, 7.65809e-03, 5.00000e-02],\n",
       "       [1.89225e+00, 4.22274e-03, 5.00000e-02],\n",
       "       [1.21619e+00, 8.58172e-03, 5.00000e-02],\n",
       "       [1.51996e+00, 8.30499e-03, 5.00000e-02],\n",
       "       [1.85148e+00, 7.55627e-03, 5.00000e-02],\n",
       "       [1.89341e+00, 4.44945e-03, 5.00000e-02],\n",
       "       [2.47090e+00, 4.03441e-03, 5.00000e-02],\n",
       "       [1.60441e+00, 8.79799e-03, 5.00000e-02],\n",
       "       [2.16015e+00, 6.93553e-03, 5.00000e-02],\n",
       "       [1.92346e+00, 7.86860e-03, 5.00000e-02],\n",
       "       [1.27153e+00, 8.08688e-03, 5.00000e-02],\n",
       "       [1.98590e+00, 1.57791e-03, 5.00000e-02],\n",
       "       [1.12494e+00, 2.41812e-03, 5.00000e-02],\n",
       "       [1.61060e+00, 9.23790e-03, 5.00000e-02],\n",
       "       [1.72692e+00, 5.42420e-03, 5.00000e-02],\n",
       "       [1.43557e+00, 7.73098e-03, 5.00000e-02],\n",
       "       [1.77712e+00, 6.72747e-03, 5.00000e-02],\n",
       "       [1.40385e+00, 7.13872e-03, 5.00000e-02],\n",
       "       [1.40498e+00, 7.59757e-03, 5.00000e-02],\n",
       "       [1.47664e+00, 9.10845e-03, 5.00000e-02],\n",
       "       [1.53258e+00, 8.37409e-03, 5.00000e-02],\n",
       "       [2.05577e+00, 2.02337e-04, 5.00000e-02],\n",
       "       [1.41455e+00, 7.35365e-03, 5.00000e-02],\n",
       "       [1.68283e+00, 8.06438e-03, 5.00000e-02],\n",
       "       [1.81301e+00, 6.03683e-03, 5.00000e-02],\n",
       "       [1.96074e+00, 6.01293e-03, 5.00000e-02],\n",
       "       [1.49807e+00, 7.88488e-03, 5.00000e-02],\n",
       "       [2.24189e+00, 7.10608e-03, 5.00000e-02],\n",
       "       [2.34111e+00, 5.41336e-03, 5.00000e-02],\n",
       "       [1.60937e+00, 4.58738e-03, 5.00000e-02],\n",
       "       [1.41813e+00, 7.85080e-03, 5.00000e-02],\n",
       "       [1.54316e+00, 8.39244e-03, 5.00000e-02],\n",
       "       [1.55986e+00, 7.68411e-03, 5.00000e-02],\n",
       "       [1.46366e+00, 8.26024e-03, 5.00000e-02],\n",
       "       [1.97743e+00, 8.07428e-03, 5.00000e-02],\n",
       "       [1.27221e+00, 1.93832e-03, 5.00000e-02],\n",
       "       [2.15316e+00, 2.89468e-03, 5.00000e-02],\n",
       "       [1.35759e+00, 9.43535e-03, 5.00000e-02],\n",
       "       [2.40835e+00, 7.06432e-03, 5.00000e-02],\n",
       "       [2.17113e+00, 6.40556e-03, 5.00000e-02],\n",
       "       [1.77930e+00, 5.38859e-03, 5.00000e-02],\n",
       "       [1.50676e+00, 7.32275e-03, 5.00000e-02],\n",
       "       [1.82817e+00, 4.86741e-03, 5.00000e-02],\n",
       "       [1.38563e+00, 9.45976e-03, 5.00000e-02],\n",
       "       [1.60340e+00, 3.96127e-03, 5.00000e-02],\n",
       "       [1.43749e+00, 9.13706e-03, 5.00000e-02],\n",
       "       [1.33921e+00, 8.09357e-03, 5.00000e-02],\n",
       "       [2.08453e+00, 8.74547e-03, 5.00000e-02],\n",
       "       [1.78797e+00, 6.61112e-03, 5.00000e-02],\n",
       "       [1.32501e+00, 9.03417e-03, 5.00000e-02],\n",
       "       [2.05637e+00, 7.28410e-03, 5.00000e-02],\n",
       "       [1.15879e+00, 9.97991e-03, 5.00000e-02],\n",
       "       [2.33586e+00, 5.44771e-03, 5.00000e-02],\n",
       "       [1.34920e+00, 2.85021e-03, 5.00000e-02],\n",
       "       [1.47206e+00, 7.61040e-03, 5.00000e-02],\n",
       "       [1.79385e+00, 7.53561e-03, 5.00000e-02],\n",
       "       [1.90542e+00, 5.01754e-03, 5.00000e-02],\n",
       "       [1.50021e+00, 3.41466e-03, 5.00000e-02],\n",
       "       [1.32061e+00, 8.90634e-03, 5.00000e-02],\n",
       "       [1.04056e+00, 7.98755e-03, 5.00000e-02],\n",
       "       [1.65257e+00, 9.00011e-03, 5.00000e-02],\n",
       "       [1.70668e+00, 7.03581e-03, 5.00000e-02],\n",
       "       [1.51588e+00, 6.93113e-03, 5.00000e-02],\n",
       "       [1.48691e+00, 9.71769e-03, 5.00000e-02],\n",
       "       [1.58922e+00, 9.66562e-03, 5.00000e-02],\n",
       "       [1.57545e+00, 9.45273e-03, 5.00000e-02],\n",
       "       [1.25049e+00, 7.87987e-03, 5.00000e-02],\n",
       "       [2.18939e+00, 6.03191e-03, 5.00000e-02],\n",
       "       [1.49871e+00, 7.03414e-03, 5.00000e-02],\n",
       "       [1.31644e+00, 9.23232e-03, 5.00000e-02],\n",
       "       [1.72874e+00, 5.20155e-03, 5.00000e-02],\n",
       "       [2.09840e+00, 7.24691e-03, 5.00000e-02],\n",
       "       [1.05064e+00, 6.55195e-04, 5.00000e-02],\n",
       "       [1.53282e+00, 8.77037e-03, 5.00000e-02],\n",
       "       [1.33731e+00, 9.75514e-03, 5.00000e-02],\n",
       "       [1.71650e+00, 3.45801e-03, 5.00000e-02],\n",
       "       [1.99708e+00, 6.34591e-03, 5.00000e-02],\n",
       "       [2.26278e+00, 6.52662e-03, 5.00000e-02],\n",
       "       [1.44894e+00, 7.71627e-03, 5.00000e-02],\n",
       "       [1.91320e+00, 4.49850e-03, 5.00000e-02],\n",
       "       [1.50135e+00, 8.24586e-03, 5.00000e-02],\n",
       "       [2.27148e+00, 5.88329e-03, 5.00000e-02],\n",
       "       [1.45367e+00, 7.67326e-03, 5.00000e-02],\n",
       "       [1.73140e+00, 9.31543e-03, 5.00000e-02],\n",
       "       [2.00265e+00, 5.78079e-03, 5.00000e-02],\n",
       "       [1.62025e+00, 8.82093e-03, 5.00000e-02],\n",
       "       [1.66279e+00, 5.47982e-03, 5.00000e-02],\n",
       "       [1.57501e+00, 8.54129e-03, 5.00000e-02],\n",
       "       [1.87210e+00, 9.79090e-03, 5.00000e-02]])"
      ]
     },
     "execution_count": 32,
     "metadata": {},
     "output_type": "execute_result"
    }
   ],
   "source": [
    "# thickness for each layer\n",
    "print(synt._get_thickness().shape)\n",
    "synt._get_thickness()"
   ]
  },
  {
   "cell_type": "markdown",
   "id": "5d0697a7",
   "metadata": {},
   "source": [
    "#### elements and weight fractions"
   ]
  },
  {
   "cell_type": "code",
   "execution_count": 40,
   "id": "726a0883",
   "metadata": {},
   "outputs": [
    {
     "name": "stdout",
     "output_type": "stream",
     "text": [
      "['Ar' 'Sb' 'Pb' 'N' 'Ca' 'O' 'Fe' 'C' 'Cu' 'H' 'Si' 'S'] 12\n"
     ]
    }
   ],
   "source": [
    "# in metadata we find the set of all the elements in the wole dataset\n",
    "# weight fractions are ordered as the follow array\n",
    "print(synt.metadata['elements'], len(synt.metadata['elements']))"
   ]
  },
  {
   "cell_type": "code",
   "execution_count": 36,
   "id": "58240907",
   "metadata": {},
   "outputs": [
    {
     "name": "stdout",
     "output_type": "stream",
     "text": [
      "(96, 12)\n"
     ]
    },
    {
     "data": {
      "text/plain": [
       "array([[0.00000e+00, 5.84083e-01, 1.24240e+01, ..., 4.02940e-02,\n",
       "        1.70732e+01, 1.53816e-01],\n",
       "       [0.00000e+00, 1.08001e+00, 5.12894e+00, ..., 1.66344e-02,\n",
       "        3.19662e+01, 2.84415e-01],\n",
       "       [0.00000e+00, 7.11460e-01, 1.59566e+01, ..., 5.17512e-02,\n",
       "        2.61533e+01, 1.87360e-01],\n",
       "       ...,\n",
       "       [0.00000e+00, 5.07159e-01, 1.28341e+01, ..., 4.16242e-02,\n",
       "        3.38969e+01, 1.33558e-01],\n",
       "       [0.00000e+00, 7.73475e-01, 2.07302e+01, ..., 6.72330e-02,\n",
       "        2.60653e+01, 2.03692e-01],\n",
       "       [0.00000e+00, 4.97835e-01, 2.73278e+01, ..., 8.86308e-02,\n",
       "        2.44809e+01, 1.31103e-01]])"
      ]
     },
     "execution_count": 36,
     "metadata": {},
     "output_type": "execute_result"
    }
   ],
   "source": [
    "# use the layer name as argument\n",
    "print(synt._get_wfrac('pictorial').shape)\n",
    "synt._get_wfrac('pictorial')"
   ]
  },
  {
   "cell_type": "code",
   "execution_count": 42,
   "id": "645a3b3e",
   "metadata": {},
   "outputs": [
    {
     "name": "stdout",
     "output_type": "stream",
     "text": [
      "(96, 12)\n"
     ]
    },
    {
     "data": {
      "text/plain": [
       "array([[1.2827, 0.    , 0.    , ..., 0.    , 0.    , 0.    ],\n",
       "       [1.2827, 0.    , 0.    , ..., 0.    , 0.    , 0.    ],\n",
       "       [1.2827, 0.    , 0.    , ..., 0.    , 0.    , 0.    ],\n",
       "       ...,\n",
       "       [1.2827, 0.    , 0.    , ..., 0.    , 0.    , 0.    ],\n",
       "       [1.2827, 0.    , 0.    , ..., 0.    , 0.    , 0.    ],\n",
       "       [1.2827, 0.    , 0.    , ..., 0.    , 0.    , 0.    ]])"
      ]
     },
     "execution_count": 42,
     "metadata": {},
     "output_type": "execute_result"
    }
   ],
   "source": [
    "# the air layer\n",
    "print(synt._get_wfrac('air_top').shape)\n",
    "synt._get_wfrac('air_top')"
   ]
  },
  {
   "cell_type": "markdown",
   "id": "4b75ee45",
   "metadata": {},
   "source": [
    "### Pigments if present"
   ]
  },
  {
   "cell_type": "code",
   "execution_count": 45,
   "id": "2020bfac",
   "metadata": {},
   "outputs": [
    {
     "data": {
      "text/plain": [
       "array([['quartz', 'lead_white', 'red_ochre', 'calcite', 'egyptian_b',\n",
       "        'antimony_o'],\n",
       "       ['quartz', 'lead_white', 'red_ochre', 'calcite', 'egyptian_b',\n",
       "        'antimony_o'],\n",
       "       ['quartz', 'lead_white', 'red_ochre', 'calcite', 'egyptian_b',\n",
       "        'antimony_o'],\n",
       "       ['quartz', 'lead_white', 'red_ochre', 'calcite', 'egyptian_b',\n",
       "        'antimony_o'],\n",
       "       ['quartz', 'lead_white', 'red_ochre', 'calcite', 'egyptian_b',\n",
       "        'antimony_o'],\n",
       "       ['quartz', 'lead_white', 'red_ochre', 'calcite', 'egyptian_b',\n",
       "        'antimony_o'],\n",
       "       ['quartz', 'lead_white', 'red_ochre', 'calcite', 'egyptian_b',\n",
       "        'antimony_o'],\n",
       "       ['quartz', 'lead_white', 'red_ochre', 'calcite', 'egyptian_b',\n",
       "        'antimony_o'],\n",
       "       ['quartz', 'lead_white', 'red_ochre', 'calcite', 'egyptian_b',\n",
       "        'antimony_o'],\n",
       "       ['quartz', 'lead_white', 'red_ochre', 'calcite', 'egyptian_b',\n",
       "        'antimony_o'],\n",
       "       ['quartz', 'lead_white', 'red_ochre', 'calcite', 'egyptian_b',\n",
       "        'antimony_o'],\n",
       "       ['quartz', 'lead_white', 'red_ochre', 'calcite', 'egyptian_b',\n",
       "        'antimony_o'],\n",
       "       ['quartz', 'lead_white', 'red_ochre', 'calcite', 'egyptian_b',\n",
       "        'antimony_o'],\n",
       "       ['quartz', 'lead_white', 'red_ochre', 'calcite', 'egyptian_b',\n",
       "        'antimony_o'],\n",
       "       ['quartz', 'lead_white', 'red_ochre', 'calcite', 'egyptian_b',\n",
       "        'antimony_o'],\n",
       "       ['quartz', 'lead_white', 'red_ochre', 'calcite', 'egyptian_b',\n",
       "        'antimony_o'],\n",
       "       ['quartz', 'lead_white', 'red_ochre', 'calcite', 'egyptian_b',\n",
       "        'antimony_o'],\n",
       "       ['quartz', 'lead_white', 'red_ochre', 'calcite', 'egyptian_b',\n",
       "        'antimony_o'],\n",
       "       ['quartz', 'lead_white', 'red_ochre', 'calcite', 'egyptian_b',\n",
       "        'antimony_o'],\n",
       "       ['quartz', 'lead_white', 'red_ochre', 'calcite', 'egyptian_b',\n",
       "        'antimony_o'],\n",
       "       ['quartz', 'lead_white', 'red_ochre', 'calcite', 'egyptian_b',\n",
       "        'antimony_o'],\n",
       "       ['quartz', 'lead_white', 'red_ochre', 'calcite', 'egyptian_b',\n",
       "        'antimony_o'],\n",
       "       ['quartz', 'lead_white', 'red_ochre', 'calcite', 'egyptian_b',\n",
       "        'antimony_o'],\n",
       "       ['quartz', 'lead_white', 'red_ochre', 'calcite', 'egyptian_b',\n",
       "        'antimony_o'],\n",
       "       ['quartz', 'lead_white', 'red_ochre', 'calcite', 'egyptian_b',\n",
       "        'antimony_o'],\n",
       "       ['quartz', 'lead_white', 'red_ochre', 'calcite', 'egyptian_b',\n",
       "        'antimony_o'],\n",
       "       ['quartz', 'lead_white', 'red_ochre', 'calcite', 'egyptian_b',\n",
       "        'antimony_o'],\n",
       "       ['quartz', 'lead_white', 'red_ochre', 'calcite', 'egyptian_b',\n",
       "        'antimony_o'],\n",
       "       ['quartz', 'lead_white', 'red_ochre', 'calcite', 'egyptian_b',\n",
       "        'antimony_o'],\n",
       "       ['quartz', 'lead_white', 'red_ochre', 'calcite', 'egyptian_b',\n",
       "        'antimony_o'],\n",
       "       ['quartz', 'lead_white', 'red_ochre', 'calcite', 'egyptian_b',\n",
       "        'antimony_o'],\n",
       "       ['quartz', 'lead_white', 'red_ochre', 'calcite', 'egyptian_b',\n",
       "        'antimony_o'],\n",
       "       ['quartz', 'lead_white', 'red_ochre', 'calcite', 'egyptian_b',\n",
       "        'antimony_o'],\n",
       "       ['quartz', 'lead_white', 'red_ochre', 'calcite', 'egyptian_b',\n",
       "        'antimony_o'],\n",
       "       ['quartz', 'lead_white', 'red_ochre', 'calcite', 'egyptian_b',\n",
       "        'antimony_o'],\n",
       "       ['quartz', 'lead_white', 'red_ochre', 'calcite', 'egyptian_b',\n",
       "        'antimony_o'],\n",
       "       ['quartz', 'lead_white', 'red_ochre', 'calcite', 'egyptian_b',\n",
       "        'antimony_o'],\n",
       "       ['quartz', 'lead_white', 'red_ochre', 'calcite', 'egyptian_b',\n",
       "        'antimony_o'],\n",
       "       ['quartz', 'lead_white', 'red_ochre', 'calcite', 'egyptian_b',\n",
       "        'antimony_o'],\n",
       "       ['quartz', 'lead_white', 'red_ochre', 'calcite', 'egyptian_b',\n",
       "        'antimony_o'],\n",
       "       ['quartz', 'lead_white', 'red_ochre', 'calcite', 'egyptian_b',\n",
       "        'antimony_o'],\n",
       "       ['quartz', 'lead_white', 'red_ochre', 'calcite', 'egyptian_b',\n",
       "        'antimony_o'],\n",
       "       ['quartz', 'lead_white', 'red_ochre', 'calcite', 'egyptian_b',\n",
       "        'antimony_o'],\n",
       "       ['quartz', 'lead_white', 'red_ochre', 'calcite', 'egyptian_b',\n",
       "        'antimony_o'],\n",
       "       ['quartz', 'lead_white', 'red_ochre', 'calcite', 'egyptian_b',\n",
       "        'antimony_o'],\n",
       "       ['quartz', 'lead_white', 'red_ochre', 'calcite', 'egyptian_b',\n",
       "        'antimony_o'],\n",
       "       ['quartz', 'lead_white', 'red_ochre', 'calcite', 'egyptian_b',\n",
       "        'antimony_o'],\n",
       "       ['quartz', 'lead_white', 'red_ochre', 'calcite', 'egyptian_b',\n",
       "        'antimony_o'],\n",
       "       ['quartz', 'lead_white', 'red_ochre', 'calcite', 'egyptian_b',\n",
       "        'antimony_o'],\n",
       "       ['quartz', 'lead_white', 'red_ochre', 'calcite', 'egyptian_b',\n",
       "        'antimony_o'],\n",
       "       ['quartz', 'lead_white', 'red_ochre', 'calcite', 'egyptian_b',\n",
       "        'antimony_o'],\n",
       "       ['quartz', 'lead_white', 'red_ochre', 'calcite', 'egyptian_b',\n",
       "        'antimony_o'],\n",
       "       ['quartz', 'lead_white', 'red_ochre', 'calcite', 'egyptian_b',\n",
       "        'antimony_o'],\n",
       "       ['quartz', 'lead_white', 'red_ochre', 'calcite', 'egyptian_b',\n",
       "        'antimony_o'],\n",
       "       ['quartz', 'lead_white', 'red_ochre', 'calcite', 'egyptian_b',\n",
       "        'antimony_o'],\n",
       "       ['quartz', 'lead_white', 'red_ochre', 'calcite', 'egyptian_b',\n",
       "        'antimony_o'],\n",
       "       ['quartz', 'lead_white', 'red_ochre', 'calcite', 'egyptian_b',\n",
       "        'antimony_o'],\n",
       "       ['quartz', 'lead_white', 'red_ochre', 'calcite', 'egyptian_b',\n",
       "        'antimony_o'],\n",
       "       ['quartz', 'lead_white', 'red_ochre', 'calcite', 'egyptian_b',\n",
       "        'antimony_o'],\n",
       "       ['quartz', 'lead_white', 'red_ochre', 'calcite', 'egyptian_b',\n",
       "        'antimony_o'],\n",
       "       ['quartz', 'lead_white', 'red_ochre', 'calcite', 'egyptian_b',\n",
       "        'antimony_o'],\n",
       "       ['quartz', 'lead_white', 'red_ochre', 'calcite', 'egyptian_b',\n",
       "        'antimony_o'],\n",
       "       ['quartz', 'lead_white', 'red_ochre', 'calcite', 'egyptian_b',\n",
       "        'antimony_o'],\n",
       "       ['quartz', 'lead_white', 'red_ochre', 'calcite', 'egyptian_b',\n",
       "        'antimony_o'],\n",
       "       ['quartz', 'lead_white', 'red_ochre', 'calcite', 'egyptian_b',\n",
       "        'antimony_o'],\n",
       "       ['quartz', 'lead_white', 'red_ochre', 'calcite', 'egyptian_b',\n",
       "        'antimony_o'],\n",
       "       ['quartz', 'lead_white', 'red_ochre', 'calcite', 'egyptian_b',\n",
       "        'antimony_o'],\n",
       "       ['quartz', 'lead_white', 'red_ochre', 'calcite', 'egyptian_b',\n",
       "        'antimony_o'],\n",
       "       ['quartz', 'lead_white', 'red_ochre', 'calcite', 'egyptian_b',\n",
       "        'antimony_o'],\n",
       "       ['quartz', 'lead_white', 'red_ochre', 'calcite', 'egyptian_b',\n",
       "        'antimony_o'],\n",
       "       ['quartz', 'lead_white', 'red_ochre', 'calcite', 'egyptian_b',\n",
       "        'antimony_o'],\n",
       "       ['quartz', 'lead_white', 'red_ochre', 'calcite', 'egyptian_b',\n",
       "        'antimony_o'],\n",
       "       ['quartz', 'lead_white', 'red_ochre', 'calcite', 'egyptian_b',\n",
       "        'antimony_o'],\n",
       "       ['quartz', 'lead_white', 'red_ochre', 'calcite', 'egyptian_b',\n",
       "        'antimony_o'],\n",
       "       ['quartz', 'lead_white', 'red_ochre', 'calcite', 'egyptian_b',\n",
       "        'antimony_o'],\n",
       "       ['quartz', 'lead_white', 'red_ochre', 'calcite', 'egyptian_b',\n",
       "        'antimony_o'],\n",
       "       ['quartz', 'lead_white', 'red_ochre', 'calcite', 'egyptian_b',\n",
       "        'antimony_o'],\n",
       "       ['quartz', 'lead_white', 'red_ochre', 'calcite', 'egyptian_b',\n",
       "        'antimony_o'],\n",
       "       ['quartz', 'lead_white', 'red_ochre', 'calcite', 'egyptian_b',\n",
       "        'antimony_o'],\n",
       "       ['quartz', 'lead_white', 'red_ochre', 'calcite', 'egyptian_b',\n",
       "        'antimony_o'],\n",
       "       ['quartz', 'lead_white', 'red_ochre', 'calcite', 'egyptian_b',\n",
       "        'antimony_o'],\n",
       "       ['quartz', 'lead_white', 'red_ochre', 'calcite', 'egyptian_b',\n",
       "        'antimony_o'],\n",
       "       ['quartz', 'lead_white', 'red_ochre', 'calcite', 'egyptian_b',\n",
       "        'antimony_o'],\n",
       "       ['quartz', 'lead_white', 'red_ochre', 'calcite', 'egyptian_b',\n",
       "        'antimony_o'],\n",
       "       ['quartz', 'lead_white', 'red_ochre', 'calcite', 'egyptian_b',\n",
       "        'antimony_o'],\n",
       "       ['quartz', 'lead_white', 'red_ochre', 'calcite', 'egyptian_b',\n",
       "        'antimony_o'],\n",
       "       ['quartz', 'lead_white', 'red_ochre', 'calcite', 'egyptian_b',\n",
       "        'antimony_o'],\n",
       "       ['quartz', 'lead_white', 'red_ochre', 'calcite', 'egyptian_b',\n",
       "        'antimony_o'],\n",
       "       ['quartz', 'lead_white', 'red_ochre', 'calcite', 'egyptian_b',\n",
       "        'antimony_o'],\n",
       "       ['quartz', 'lead_white', 'red_ochre', 'calcite', 'egyptian_b',\n",
       "        'antimony_o'],\n",
       "       ['quartz', 'lead_white', 'red_ochre', 'calcite', 'egyptian_b',\n",
       "        'antimony_o'],\n",
       "       ['quartz', 'lead_white', 'red_ochre', 'calcite', 'egyptian_b',\n",
       "        'antimony_o'],\n",
       "       ['quartz', 'lead_white', 'red_ochre', 'calcite', 'egyptian_b',\n",
       "        'antimony_o'],\n",
       "       ['quartz', 'lead_white', 'red_ochre', 'calcite', 'egyptian_b',\n",
       "        'antimony_o'],\n",
       "       ['quartz', 'lead_white', 'red_ochre', 'calcite', 'egyptian_b',\n",
       "        'antimony_o'],\n",
       "       ['quartz', 'lead_white', 'red_ochre', 'calcite', 'egyptian_b',\n",
       "        'antimony_o']], dtype='<U20')"
      ]
     },
     "execution_count": 45,
     "metadata": {},
     "output_type": "execute_result"
    }
   ],
   "source": [
    "synt._get_pigments('pictorial').astype('U20')"
   ]
  },
  {
   "cell_type": "code",
   "execution_count": 46,
   "id": "d75d06b5",
   "metadata": {},
   "outputs": [
    {
     "name": "stdout",
     "output_type": "stream",
     "text": [
      "[b'None' b'None' b'None' b'None' b'None' b'None' b'None' b'None' b'None'\n",
      " b'None' b'None' b'None' b'None' b'None' b'None' b'None' b'None' b'None'\n",
      " b'None' b'None' b'None' b'None' b'None' b'None' b'None' b'None' b'None'\n",
      " b'None' b'None' b'None' b'None' b'None' b'None' b'None' b'None' b'None'\n",
      " b'None' b'None' b'None' b'None' b'None' b'None' b'None' b'None' b'None'\n",
      " b'None' b'None' b'None' b'None' b'None' b'None' b'None' b'None' b'None'\n",
      " b'None' b'None' b'None' b'None' b'None' b'None' b'None' b'None' b'None'\n",
      " b'None' b'None' b'None' b'None' b'None' b'None' b'None' b'None' b'None'\n",
      " b'None' b'None' b'None' b'None' b'None' b'None' b'None' b'None' b'None'\n",
      " b'None' b'None' b'None' b'None' b'None' b'None' b'None' b'None' b'None'\n",
      " b'None' b'None' b'None' b'None' b'None' b'None']\n"
     ]
    }
   ],
   "source": [
    "print(synt._get_pigments('air_top'))"
   ]
  },
  {
   "cell_type": "markdown",
   "id": "8ef3bc2b",
   "metadata": {},
   "source": [
    "### Save h5\n",
    "#### save_h5() method saves only data and labels for now"
   ]
  },
  {
   "cell_type": "code",
   "execution_count": 47,
   "id": "02e191d8",
   "metadata": {},
   "outputs": [
    {
     "name": "stdout",
     "output_type": "stream",
     "text": [
      "Saving: /home/rosario/xmimsim/synthetic/optuna/amulets_amulet_Pb/All_data.h5\n"
     ]
    },
    {
     "data": {
      "text/plain": [
       "<XRDXRFutils.data.SyntheticDataXRF at 0x7fa092bb08b0>"
      ]
     },
     "execution_count": 47,
     "metadata": {},
     "output_type": "execute_result"
    }
   ],
   "source": [
    "synt.save_h5('/home/rosario/xmimsim/synthetic/optuna/amulets_amulet_Pb/All_data.h5')"
   ]
  },
  {
   "cell_type": "code",
   "execution_count": 48,
   "id": "d084c0cf",
   "metadata": {},
   "outputs": [
    {
     "name": "stdout",
     "output_type": "stream",
     "text": [
      "Saving: /home/rosario/xmimsim/synthetic/optuna/amulets_amulet_Pb/Part01_data.h5\n"
     ]
    },
    {
     "data": {
      "text/plain": [
       "<XRDXRFutils.data.SyntheticDataXRF at 0x7fa093e43670>"
      ]
     },
     "execution_count": 48,
     "metadata": {},
     "output_type": "execute_result"
    }
   ],
   "source": [
    "synt01.save_h5('/home/rosario/xmimsim/synthetic/optuna/amulets_amulet_Pb/Part01_data.h5')"
   ]
  },
  {
   "cell_type": "code",
   "execution_count": 49,
   "id": "91c6e7fd",
   "metadata": {},
   "outputs": [
    {
     "name": "stdout",
     "output_type": "stream",
     "text": [
      "Saving: /home/rosario/xmimsim/synthetic/optuna/amulets_amulet_Pb/Part02_data.h5\n"
     ]
    },
    {
     "data": {
      "text/plain": [
       "<XRDXRFutils.data.SyntheticDataXRF at 0x7fa093e432b0>"
      ]
     },
     "execution_count": 49,
     "metadata": {},
     "output_type": "execute_result"
    }
   ],
   "source": [
    "synt02.save_h5('/home/rosario/xmimsim/synthetic/optuna/amulets_amulet_Pb/Part02_data.h5')"
   ]
  },
  {
   "cell_type": "markdown",
   "id": "8f35e025",
   "metadata": {},
   "source": [
    "### Save layers"
   ]
  },
  {
   "cell_type": "markdown",
   "id": "a9449cec",
   "metadata": {},
   "source": [
    "#### The method save_layers() will save all layers in a tree data structure"
   ]
  },
  {
   "cell_type": "code",
   "execution_count": 50,
   "id": "84684f5a",
   "metadata": {},
   "outputs": [
    {
     "name": "stdout",
     "output_type": "stream",
     "text": [
      "Saving: /home/rosario/xmimsim/synthetic/optuna/amulets_amulet_Pb/Layers_data.h5\n"
     ]
    },
    {
     "data": {
      "text/plain": [
       "<XRDXRFutils.data.SyntheticDataXRF at 0x7fa092bb08b0>"
      ]
     },
     "execution_count": 50,
     "metadata": {},
     "output_type": "execute_result"
    }
   ],
   "source": [
    "synt.save_layers('/home/rosario/xmimsim/synthetic/optuna/amulets_amulet_Pb/Layers_data.h5')"
   ]
  },
  {
   "cell_type": "code",
   "execution_count": 52,
   "id": "b371f0e3",
   "metadata": {},
   "outputs": [],
   "source": [
    "from os import system"
   ]
  },
  {
   "cell_type": "code",
   "execution_count": 53,
   "id": "6d522b86",
   "metadata": {},
   "outputs": [
    {
     "name": "stdout",
     "output_type": "stream",
     "text": [
      "/home/rosario/xmimsim/synthetic/optuna/amulets_amulet_Pb/Layers_data.h5\n",
      "└── layers\n",
      "    ├── air_top\n",
      "    │   ├── thickness\n",
      "    │   └── weight_fractions\n",
      "    ├── pictorial\n",
      "    │   ├── thickness\n",
      "    │   └── weight_fractions\n",
      "    └── quartz\n",
      "        ├── thickness\n",
      "        └── weight_fractions\n"
     ]
    },
    {
     "data": {
      "text/plain": [
       "0"
      ]
     },
     "execution_count": 53,
     "metadata": {},
     "output_type": "execute_result"
    }
   ],
   "source": [
    "system('h5tree /home/rosario/xmimsim/synthetic/optuna/amulets_amulet_Pb/Layers_data.h5')"
   ]
  },
  {
   "cell_type": "markdown",
   "id": "cfe42d88",
   "metadata": {},
   "source": [
    "### Load data and labels"
   ]
  },
  {
   "cell_type": "code",
   "execution_count": 54,
   "id": "8600cff2",
   "metadata": {},
   "outputs": [
    {
     "name": "stdout",
     "output_type": "stream",
     "text": [
      "Loading: /home/rosario/xmimsim/synthetic/optuna/amulets_amulet_Pb/All_data.h5\n"
     ]
    }
   ],
   "source": [
    "synt = SyntheticDataXRF().load_h5('/home/rosario/xmimsim/synthetic/optuna/amulets_amulet_Pb/All_data.h5')"
   ]
  },
  {
   "cell_type": "code",
   "execution_count": 55,
   "id": "aac74db0",
   "metadata": {},
   "outputs": [
    {
     "data": {
      "text/plain": [
       "((1, 96, 2048), (1, 96, 40))"
      ]
     },
     "execution_count": 55,
     "metadata": {},
     "output_type": "execute_result"
    }
   ],
   "source": [
    "synt.data.shape, synt.labels.shape"
   ]
  },
  {
   "cell_type": "code",
   "execution_count": 56,
   "id": "48b0ad68",
   "metadata": {},
   "outputs": [
    {
     "data": {
      "text/plain": [
       "{'elements': array(['Ar', 'Sb', 'Pb', 'N', 'Ca', 'O', 'Fe', 'C', 'Cu', 'H', 'Si', 'S'],\n",
       "       dtype=object),\n",
       " 'labels': array(['Cu-KM', 'Sb-KN', 'Ar-KM', 'Si-KL', 'time', 'Sb-L2', 'Sb-L',\n",
       "        'Si-KM', 'Ca-KL', 'Pb-M2', 'Si-K', 'Cu-L', 'Sb-KM', 'Pb-L',\n",
       "        'Fe-KM', 'Sb-L3', 'Pb-L2', 'Pb-M1', 'Cu-L1', 'Cu-K', 'Sb-KL',\n",
       "        'Pb-M4', 'Pb-M', 'Pb-M5', 'Pb-M3', 'Sb-KO', 'Ar-K', 'Sb-L1',\n",
       "        'Ca-KM', 'Sb-K', 'Fe-KL', 'Ca-K', 'Ar-KL', 'Fe-K', 'Pb-L3', 'S-KM',\n",
       "        'Cu-KL', 'S-KL', 'Pb-L1', 'S-K'], dtype=object),\n",
       " 'layers': array(['air_top', 'pictorial', 'quartz'], dtype=object)}"
      ]
     },
     "execution_count": 56,
     "metadata": {},
     "output_type": "execute_result"
    }
   ],
   "source": [
    "synt.metadata"
   ]
  },
  {
   "cell_type": "markdown",
   "id": "07797d9f",
   "metadata": {},
   "source": [
    "### Load layers"
   ]
  },
  {
   "cell_type": "code",
   "execution_count": 57,
   "id": "558a48d4",
   "metadata": {},
   "outputs": [
    {
     "name": "stdout",
     "output_type": "stream",
     "text": [
      "Loading: /home/rosario/xmimsim/synthetic/optuna/amulets_amulet_Pb/Layers_data.h5\n"
     ]
    },
    {
     "data": {
      "text/plain": [
       "<XRDXRFutils.data.SyntheticDataXRF at 0x7fa08950f250>"
      ]
     },
     "execution_count": 57,
     "metadata": {},
     "output_type": "execute_result"
    }
   ],
   "source": [
    "synt.load_layers('/home/rosario/xmimsim/synthetic/optuna/amulets_amulet_Pb/Layers_data.h5')"
   ]
  },
  {
   "cell_type": "code",
   "execution_count": 58,
   "id": "9a8d447e",
   "metadata": {},
   "outputs": [
    {
     "data": {
      "text/plain": [
       "dict"
      ]
     },
     "execution_count": 58,
     "metadata": {},
     "output_type": "execute_result"
    }
   ],
   "source": [
    "type(synt.layers)"
   ]
  },
  {
   "cell_type": "code",
   "execution_count": 63,
   "id": "3e762723",
   "metadata": {},
   "outputs": [
    {
     "name": "stdout",
     "output_type": "stream",
     "text": [
      "air_top dict_keys(['thickness', 'weight_fractions', 'elements'])\n",
      "   thickness (96,)\n",
      "   weight_fractions (96, 4)\n",
      "   elements (96, 4)\n",
      "pictorial dict_keys(['thickness', 'weight_fractions', 'elements'])\n",
      "   thickness (96,)\n",
      "   weight_fractions (96, 10)\n",
      "   elements (96, 10)\n",
      "quartz dict_keys(['thickness', 'weight_fractions', 'elements'])\n",
      "   thickness (96,)\n",
      "   weight_fractions (96, 2)\n",
      "   elements (96, 2)\n"
     ]
    }
   ],
   "source": [
    "for kk,vv in synt.layers.items():\n",
    "    if isinstance(vv, dict):\n",
    "        print(kk, vv.keys())\n",
    "        for k, v in vv.items():\n",
    "            print('  ',k,v.shape)"
   ]
  },
  {
   "cell_type": "markdown",
   "id": "756c2463",
   "metadata": {},
   "source": [
    "#### thickness"
   ]
  },
  {
   "cell_type": "code",
   "execution_count": 64,
   "id": "91aa90e1",
   "metadata": {
    "scrolled": true
   },
   "outputs": [
    {
     "data": {
      "text/plain": [
       "array([[1.66453e+00, 7.40371e-03, 5.00000e-02],\n",
       "       [1.54587e+00, 8.13497e-03, 5.00000e-02],\n",
       "       [1.56026e+00, 8.34981e-03, 5.00000e-02],\n",
       "       [1.36527e+00, 6.77771e-03, 5.00000e-02],\n",
       "       [1.56988e+00, 8.46021e-03, 5.00000e-02],\n",
       "       [1.82538e+00, 4.08426e-03, 5.00000e-02],\n",
       "       [1.62775e+00, 8.63725e-03, 5.00000e-02],\n",
       "       [1.52955e+00, 7.65809e-03, 5.00000e-02],\n",
       "       [1.89225e+00, 4.22274e-03, 5.00000e-02],\n",
       "       [1.21619e+00, 8.58172e-03, 5.00000e-02],\n",
       "       [1.51996e+00, 8.30499e-03, 5.00000e-02],\n",
       "       [1.85148e+00, 7.55627e-03, 5.00000e-02],\n",
       "       [1.89341e+00, 4.44945e-03, 5.00000e-02],\n",
       "       [2.47090e+00, 4.03441e-03, 5.00000e-02],\n",
       "       [1.60441e+00, 8.79799e-03, 5.00000e-02],\n",
       "       [2.16015e+00, 6.93553e-03, 5.00000e-02],\n",
       "       [1.92346e+00, 7.86860e-03, 5.00000e-02],\n",
       "       [1.27153e+00, 8.08688e-03, 5.00000e-02],\n",
       "       [1.98590e+00, 1.57791e-03, 5.00000e-02],\n",
       "       [1.12494e+00, 2.41812e-03, 5.00000e-02],\n",
       "       [1.61060e+00, 9.23790e-03, 5.00000e-02],\n",
       "       [1.72692e+00, 5.42420e-03, 5.00000e-02],\n",
       "       [1.43557e+00, 7.73098e-03, 5.00000e-02],\n",
       "       [1.77712e+00, 6.72747e-03, 5.00000e-02],\n",
       "       [1.40385e+00, 7.13872e-03, 5.00000e-02],\n",
       "       [1.40498e+00, 7.59757e-03, 5.00000e-02],\n",
       "       [1.47664e+00, 9.10845e-03, 5.00000e-02],\n",
       "       [1.53258e+00, 8.37409e-03, 5.00000e-02],\n",
       "       [2.05577e+00, 2.02337e-04, 5.00000e-02],\n",
       "       [1.41455e+00, 7.35365e-03, 5.00000e-02],\n",
       "       [1.68283e+00, 8.06438e-03, 5.00000e-02],\n",
       "       [1.81301e+00, 6.03683e-03, 5.00000e-02],\n",
       "       [1.96074e+00, 6.01293e-03, 5.00000e-02],\n",
       "       [1.49807e+00, 7.88488e-03, 5.00000e-02],\n",
       "       [2.24189e+00, 7.10608e-03, 5.00000e-02],\n",
       "       [2.34111e+00, 5.41336e-03, 5.00000e-02],\n",
       "       [1.60937e+00, 4.58738e-03, 5.00000e-02],\n",
       "       [1.41813e+00, 7.85080e-03, 5.00000e-02],\n",
       "       [1.54316e+00, 8.39244e-03, 5.00000e-02],\n",
       "       [1.55986e+00, 7.68411e-03, 5.00000e-02],\n",
       "       [1.46366e+00, 8.26024e-03, 5.00000e-02],\n",
       "       [1.97743e+00, 8.07428e-03, 5.00000e-02],\n",
       "       [1.27221e+00, 1.93832e-03, 5.00000e-02],\n",
       "       [2.15316e+00, 2.89468e-03, 5.00000e-02],\n",
       "       [1.35759e+00, 9.43535e-03, 5.00000e-02],\n",
       "       [2.40835e+00, 7.06432e-03, 5.00000e-02],\n",
       "       [2.17113e+00, 6.40556e-03, 5.00000e-02],\n",
       "       [1.77930e+00, 5.38859e-03, 5.00000e-02],\n",
       "       [1.50676e+00, 7.32275e-03, 5.00000e-02],\n",
       "       [1.82817e+00, 4.86741e-03, 5.00000e-02],\n",
       "       [1.38563e+00, 9.45976e-03, 5.00000e-02],\n",
       "       [1.60340e+00, 3.96127e-03, 5.00000e-02],\n",
       "       [1.43749e+00, 9.13706e-03, 5.00000e-02],\n",
       "       [1.33921e+00, 8.09357e-03, 5.00000e-02],\n",
       "       [2.08453e+00, 8.74547e-03, 5.00000e-02],\n",
       "       [1.78797e+00, 6.61112e-03, 5.00000e-02],\n",
       "       [1.32501e+00, 9.03417e-03, 5.00000e-02],\n",
       "       [2.05637e+00, 7.28410e-03, 5.00000e-02],\n",
       "       [1.15879e+00, 9.97991e-03, 5.00000e-02],\n",
       "       [2.33586e+00, 5.44771e-03, 5.00000e-02],\n",
       "       [1.34920e+00, 2.85021e-03, 5.00000e-02],\n",
       "       [1.47206e+00, 7.61040e-03, 5.00000e-02],\n",
       "       [1.79385e+00, 7.53561e-03, 5.00000e-02],\n",
       "       [1.90542e+00, 5.01754e-03, 5.00000e-02],\n",
       "       [1.50021e+00, 3.41466e-03, 5.00000e-02],\n",
       "       [1.32061e+00, 8.90634e-03, 5.00000e-02],\n",
       "       [1.04056e+00, 7.98755e-03, 5.00000e-02],\n",
       "       [1.65257e+00, 9.00011e-03, 5.00000e-02],\n",
       "       [1.70668e+00, 7.03581e-03, 5.00000e-02],\n",
       "       [1.51588e+00, 6.93113e-03, 5.00000e-02],\n",
       "       [1.48691e+00, 9.71769e-03, 5.00000e-02],\n",
       "       [1.58922e+00, 9.66562e-03, 5.00000e-02],\n",
       "       [1.57545e+00, 9.45273e-03, 5.00000e-02],\n",
       "       [1.25049e+00, 7.87987e-03, 5.00000e-02],\n",
       "       [2.18939e+00, 6.03191e-03, 5.00000e-02],\n",
       "       [1.49871e+00, 7.03414e-03, 5.00000e-02],\n",
       "       [1.31644e+00, 9.23232e-03, 5.00000e-02],\n",
       "       [1.72874e+00, 5.20155e-03, 5.00000e-02],\n",
       "       [2.09840e+00, 7.24691e-03, 5.00000e-02],\n",
       "       [1.05064e+00, 6.55195e-04, 5.00000e-02],\n",
       "       [1.53282e+00, 8.77037e-03, 5.00000e-02],\n",
       "       [1.33731e+00, 9.75514e-03, 5.00000e-02],\n",
       "       [1.71650e+00, 3.45801e-03, 5.00000e-02],\n",
       "       [1.99708e+00, 6.34591e-03, 5.00000e-02],\n",
       "       [2.26278e+00, 6.52662e-03, 5.00000e-02],\n",
       "       [1.44894e+00, 7.71627e-03, 5.00000e-02],\n",
       "       [1.91320e+00, 4.49850e-03, 5.00000e-02],\n",
       "       [1.50135e+00, 8.24586e-03, 5.00000e-02],\n",
       "       [2.27148e+00, 5.88329e-03, 5.00000e-02],\n",
       "       [1.45367e+00, 7.67326e-03, 5.00000e-02],\n",
       "       [1.73140e+00, 9.31543e-03, 5.00000e-02],\n",
       "       [2.00265e+00, 5.78079e-03, 5.00000e-02],\n",
       "       [1.62025e+00, 8.82093e-03, 5.00000e-02],\n",
       "       [1.66279e+00, 5.47982e-03, 5.00000e-02],\n",
       "       [1.57501e+00, 8.54129e-03, 5.00000e-02],\n",
       "       [1.87210e+00, 9.79090e-03, 5.00000e-02]])"
      ]
     },
     "execution_count": 64,
     "metadata": {},
     "output_type": "execute_result"
    }
   ],
   "source": [
    "synt._get_thickness()"
   ]
  },
  {
   "cell_type": "markdown",
   "id": "f8a21c6a",
   "metadata": {},
   "source": [
    "#### elements and weight fractions"
   ]
  },
  {
   "cell_type": "code",
   "execution_count": 65,
   "id": "2857defe",
   "metadata": {},
   "outputs": [
    {
     "name": "stdout",
     "output_type": "stream",
     "text": [
      "['Ar' 'Sb' 'Pb' 'N' 'Ca' 'O' 'Fe' 'C' 'Cu' 'H' 'Si' 'S'] 12\n"
     ]
    }
   ],
   "source": [
    "print(synt.metadata['elements'], len(synt.metadata['elements']))"
   ]
  },
  {
   "cell_type": "code",
   "execution_count": 67,
   "id": "1cb5d78b",
   "metadata": {},
   "outputs": [
    {
     "name": "stdout",
     "output_type": "stream",
     "text": [
      "(96, 12)\n"
     ]
    },
    {
     "data": {
      "text/plain": [
       "array([[0.00000e+00, 5.84083e-01, 1.24240e+01, ..., 4.02940e-02,\n",
       "        1.70732e+01, 1.53816e-01],\n",
       "       [0.00000e+00, 1.08001e+00, 5.12894e+00, ..., 1.66344e-02,\n",
       "        3.19662e+01, 2.84415e-01],\n",
       "       [0.00000e+00, 7.11460e-01, 1.59566e+01, ..., 5.17512e-02,\n",
       "        2.61533e+01, 1.87360e-01],\n",
       "       ...,\n",
       "       [0.00000e+00, 5.07159e-01, 1.28341e+01, ..., 4.16242e-02,\n",
       "        3.38969e+01, 1.33558e-01],\n",
       "       [0.00000e+00, 7.73475e-01, 2.07302e+01, ..., 6.72330e-02,\n",
       "        2.60653e+01, 2.03692e-01],\n",
       "       [0.00000e+00, 4.97835e-01, 2.73278e+01, ..., 8.86308e-02,\n",
       "        2.44809e+01, 1.31103e-01]])"
      ]
     },
     "execution_count": 67,
     "metadata": {},
     "output_type": "execute_result"
    }
   ],
   "source": [
    "print(synt._get_wfrac('pictorial').shape)\n",
    "synt._get_wfrac('pictorial')"
   ]
  },
  {
   "cell_type": "code",
   "execution_count": 68,
   "id": "3707d0e2",
   "metadata": {},
   "outputs": [
    {
     "ename": "KeyError",
     "evalue": "'pigments'",
     "output_type": "error",
     "traceback": [
      "\u001b[0;31m---------------------------------------------------------------------------\u001b[0m",
      "\u001b[0;31mKeyError\u001b[0m                                  Traceback (most recent call last)",
      "Cell \u001b[0;32mIn [68], line 1\u001b[0m\n\u001b[0;32m----> 1\u001b[0m \u001b[43msynt\u001b[49m\u001b[38;5;241;43m.\u001b[39;49m\u001b[43m_get_pigments\u001b[49m\u001b[43m(\u001b[49m\u001b[38;5;124;43m'\u001b[39;49m\u001b[38;5;124;43mpictorial\u001b[39;49m\u001b[38;5;124;43m'\u001b[39;49m\u001b[43m)\u001b[49m\n",
      "File \u001b[0;32m~/XRDXRFutils/XRDXRFutils/data.py:645\u001b[0m, in \u001b[0;36mSyntheticDataXRF._get_pigments\u001b[0;34m(self, layer)\u001b[0m\n\u001b[1;32m    643\u001b[0m     \u001b[38;5;28;01mreturn\u001b[39;00m asarray([s\u001b[38;5;241m.\u001b[39mlayers[layer]\u001b[38;5;241m.\u001b[39mpigments \u001b[38;5;28;01mfor\u001b[39;00m s \u001b[38;5;129;01min\u001b[39;00m \u001b[38;5;28mself\u001b[39m\u001b[38;5;241m.\u001b[39mspectra], dtype \u001b[38;5;241m=\u001b[39m \u001b[38;5;124m'\u001b[39m\u001b[38;5;124mS10\u001b[39m\u001b[38;5;124m'\u001b[39m)\n\u001b[1;32m    644\u001b[0m \u001b[38;5;28;01melif\u001b[39;00m \u001b[38;5;28mhasattr\u001b[39m(\u001b[38;5;28mself\u001b[39m, \u001b[38;5;124m\"\u001b[39m\u001b[38;5;124mlayers\u001b[39m\u001b[38;5;124m\"\u001b[39m):\n\u001b[0;32m--> 645\u001b[0m     \u001b[38;5;28;01mreturn\u001b[39;00m \u001b[38;5;28;43mself\u001b[39;49m\u001b[38;5;241;43m.\u001b[39;49m\u001b[43mlayers\u001b[49m\u001b[43m[\u001b[49m\u001b[43mlayer\u001b[49m\u001b[43m]\u001b[49m\u001b[43m[\u001b[49m\u001b[38;5;124;43m'\u001b[39;49m\u001b[38;5;124;43mpigments\u001b[39;49m\u001b[38;5;124;43m'\u001b[39;49m\u001b[43m]\u001b[49m\u001b[38;5;241m.\u001b[39mastype(\u001b[38;5;124m'\u001b[39m\u001b[38;5;124mS10\u001b[39m\u001b[38;5;124m'\u001b[39m)\n",
      "\u001b[0;31mKeyError\u001b[0m: 'pigments'"
     ]
    }
   ],
   "source": [
    "### to be implemented\n",
    "synt._get_pigments('pictorial')"
   ]
  },
  {
   "cell_type": "code",
   "execution_count": null,
   "id": "9cb0fa13",
   "metadata": {},
   "outputs": [],
   "source": []
  }
 ],
 "metadata": {
  "kernelspec": {
   "display_name": "Python 3 (ipykernel)",
   "language": "python",
   "name": "python3"
  },
  "language_info": {
   "codemirror_mode": {
    "name": "ipython",
    "version": 3
   },
   "file_extension": ".py",
   "mimetype": "text/x-python",
   "name": "python",
   "nbconvert_exporter": "python",
   "pygments_lexer": "ipython3",
   "version": "3.10.7"
  }
 },
 "nbformat": 4,
 "nbformat_minor": 5
}
