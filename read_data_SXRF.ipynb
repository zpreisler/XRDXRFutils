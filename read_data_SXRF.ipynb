{
 "cells": [
  {
   "cell_type": "code",
   "execution_count": 1,
   "id": "a0abd906",
   "metadata": {},
   "outputs": [],
   "source": [
    "import XRDXRFutils.data as xdata\n",
    "synt = xdata.DataSXRF()"
   ]
  },
  {
   "cell_type": "code",
   "execution_count": 2,
   "id": "bbff8f89",
   "metadata": {},
   "outputs": [
    {
     "name": "stdout",
     "output_type": "stream",
     "text": [
      "Reading SXRF data from /home/rosario/xmimsim/synthetic/FeMnCaHg/outdata\n",
      "Error while parsing\n",
      "/home/rosario/xmimsim/synthetic/FeMnCaHg/outdata/sxrf.h5\n",
      "12375\n"
     ]
    }
   ],
   "source": [
    "#read from xmso's data directory named \"outdata\"\n",
    "datadir = '/home/rosario/xmimsim/synthetic/FeMnCaHg/outdata'\n",
    "#synt.read(datadir) # very slow\n",
    "#before calling the read() method, the number of bins, if different from 2048, can be setted\n",
    "synt.set_nbins(1024) #atcually only a number of 1024 bin is implemented\n",
    "synt.read(datadir)\n",
    "print(len(synt))"
   ]
  },
  {
   "cell_type": "code",
   "execution_count": 3,
   "id": "1a17208f",
   "metadata": {},
   "outputs": [
    {
     "name": "stdout",
     "output_type": "stream",
     "text": [
      "<class 'list'>\n",
      "<class 'XRDXRFutils.spectra.SpectraSXRF'>\n",
      "(12375, 1024)\n",
      "(1024,)\n",
      "(12375, 5)\n"
     ]
    }
   ],
   "source": [
    "print(type(synt.spe_objs)) #is a list of SpectraSXRF objects (see XRDXRFutils/spectra.py)\n",
    "print(type(synt.spe_objs[0]))\n",
    "symbols = [\"Pb\", \"Fe\", \"Mn\", \"Ca\", \"Hg\"]\n",
    "lines = [\"L\", \"K\", \"K\", \"K\", \"L\"]\n",
    "synt = synt.get_data_and_labels(symbols, lines) #get the data (inputs) and labels (targets) and store symbols and\n",
    "# lines as metadata\n",
    "# now synt.data synt.energy and synt.labels attributes exist\n",
    "print(synt.data.shape)\n",
    "print(synt.energy.shape)\n",
    "print(synt.labels.shape)"
   ]
  },
  {
   "cell_type": "code",
   "execution_count": 4,
   "id": "19b24b48",
   "metadata": {},
   "outputs": [
    {
     "name": "stdout",
     "output_type": "stream",
     "text": [
      "Saving: /home/rosario/xmimsim/synthetic/FeMnCaHg/FeMnCaHg_1024_data.h5\n",
      "['/home/rosario/xmimsim/synthetic/FeMnCaHg/outdata/sxrf.h5']\n",
      "['/home/rosario/xmimsim/synthetic/FeMnCaHg/FeMnCaHg_1024_data.h5']\n"
     ]
    }
   ],
   "source": [
    "#save hdf5 file\n",
    "import glob\n",
    "import os\n",
    "synt.save_h5(\"/home/rosario/xmimsim/synthetic/FeMnCaHg/FeMnCaHg_1024_data.h5\") # default name = class name\n",
    "print(glob.glob(os.path.join(datadir, \"*.h5\")))\n",
    "print(glob.glob(os.path.join('/home/rosario/xmimsim/synthetic/FeMnCaHg', \"*.h5\")))"
   ]
  },
  {
   "cell_type": "code",
   "execution_count": 5,
   "id": "9bc59c29",
   "metadata": {},
   "outputs": [
    {
     "name": "stdout",
     "output_type": "stream",
     "text": [
      "(12375, 4)\n",
      "(12375,)\n",
      "(12375,)\n",
      "(12375, 4)\n"
     ]
    }
   ],
   "source": [
    "sim_par = synt.get_sim_parameters() # get simulation parameters (used for hdf5 file)\n",
    "print(sim_par.reflayer_elements.shape)\n",
    "print(sim_par.reflayer_thickness.shape)\n",
    "print(sim_par.sublayer_thickness.shape)\n",
    "print(sim_par.weight_fractions.shape)"
   ]
  },
  {
   "cell_type": "code",
   "execution_count": 6,
   "id": "026e8c4d",
   "metadata": {},
   "outputs": [
    {
     "name": "stdout",
     "output_type": "stream",
     "text": [
      "(100, 2048)\n",
      "(2048,)\n",
      "(100, 5)\n"
     ]
    }
   ],
   "source": [
    "#another method\n",
    "import os\n",
    "synt = xdata.DataSXRF()\n",
    "symbols = [\"Pb\", \"Fe\", \"Mn\", \"Ca\", \"Hg\"]\n",
    "lines = [\"L\", \"K\", \"K\", \"K\", \"L\"]\n",
    "datadir = '/home/rosario/xmimsim/synthetic/FeMnCaHg/outdata/Fe-Mn-Ca-Hg'\n",
    "xmso_fnames = [os.path.join(datadir, f) for f in os.listdir(datadir)] # or another way to collect xmso files\n",
    "synt.spe_objs = [s for s in synt.__read__(xmso_fnames[:100])] #only the first 100 just for explanation\n",
    "synt = synt.get_data_and_labels(symbols, lines) #as above\n",
    "print(synt.data.shape)\n",
    "print(synt.energy.shape)\n",
    "print(synt.labels.shape)"
   ]
  },
  {
   "cell_type": "code",
   "execution_count": 7,
   "id": "35a93004",
   "metadata": {},
   "outputs": [
    {
     "name": "stdout",
     "output_type": "stream",
     "text": [
      "Saving: /home/rosario/test_h5.h5\n"
     ]
    }
   ],
   "source": [
    "#save hdf5 file\n",
    "synt.save_h5('/home/rosario/test_h5.h5')"
   ]
  },
  {
   "cell_type": "code",
   "execution_count": 8,
   "id": "9a2f951f",
   "metadata": {},
   "outputs": [
    {
     "name": "stdout",
     "output_type": "stream",
     "text": [
      "Loading: /home/rosario/test_h5.h5\n",
      "(100, 2048)\n",
      "(2048,)\n",
      "(100, 5)\n",
      "(100, 4)\n",
      "(100,)\n",
      "(100,)\n",
      "(100, 4)\n",
      "lines ['L' 'K' 'K' 'K' 'L']\n",
      "symbols ['Pb' 'Fe' 'Mn' 'Ca' 'Hg']\n"
     ]
    }
   ],
   "source": [
    "#read from hdf5\n",
    "synt = xdata.DataSXRF()\n",
    "h5fname = '/home/rosario/test_h5.h5'\n",
    "synt.load_h5(h5fname)\n",
    "print(synt.data.shape)\n",
    "print(synt.energy.shape)\n",
    "print(synt.labels.shape)\n",
    "print(synt.reflayer_elements.shape)\n",
    "print(synt.reflayer_thickness.shape)\n",
    "print(synt.sublayer_thickness.shape)\n",
    "print(synt.weight_fractions.shape)\n",
    "for k, v in synt.metadata.items():\n",
    "    print(k,v)"
   ]
  },
  {
   "cell_type": "code",
   "execution_count": 9,
   "id": "69f6fdcb",
   "metadata": {
    "scrolled": true
   },
   "outputs": [
    {
     "data": {
      "image/png": "[encoded data removed]",
      "text/plain": [
       "<Figure size 432x288 with 1 Axes>"
      ]
     },
     "metadata": {
      "needs_background": "light"
     },
     "output_type": "display_data"
    }
   ],
   "source": [
    "%matplotlib inline\n",
    "import matplotlib.pyplot as plt\n",
    "fig, ax = plt.subplots()\n",
    "ax.plot(synt.energy, synt.data[42,:])\n",
    "plt.show()"
   ]
  },
  {
   "cell_type": "code",
   "execution_count": null,
   "id": "355be5ab",
   "metadata": {},
   "outputs": [],
   "source": [
    "#load_h5 method\n",
    "def load_h5(self,filename):\n",
    "\n",
    "    print('Loading:',filename)\n",
    "    with h5py.File(filename,'r') as f:\n",
    "                \n",
    "        self.parameters = SimParameters() # SimParameters is a datastruct in data.py\n",
    "        self.data = f['inputs'][:]\n",
    "        self.labels = f['targets'][:]\n",
    "        self.reflayer_thickness = f['reflayer_thickness'][:]\n",
    "        self.sublayer_thickness = f['sublayer_thickness'][:]\n",
    "        self.reflayer_elements = f['reflayer_elements'][:]\n",
    "        self.weight_fractions = f['weight_fractions'][:]\n",
    "        self.energy = f['energy'][:]\n",
    "\n",
    "        for k,v in f.attrs.items():\n",
    "            self.metadata[k] = v"
   ]
  },
  {
   "cell_type": "code",
   "execution_count": 32,
   "id": "86ca8ec4",
   "metadata": {},
   "outputs": [
    {
     "name": "stdout",
     "output_type": "stream",
     "text": [
      "(8, 2048)\n"
     ]
    }
   ],
   "source": [
    "# select data in a reference layers thickness range\n",
    "rl_range = [4.2e-4, 5.7e-4]\n",
    "condition = (synt.reflayer_thickness > rl_range[0]) & (synt.reflayer_thickness < rl_range[1])\n",
    "print(synt.data[condition,:].shape)\n",
    "condition = lambda x, r: (x > r[0]) & (x < r[1])"
   ]
  },
  {
   "cell_type": "code",
   "execution_count": 50,
   "id": "4cc29a0d",
   "metadata": {
    "scrolled": true
   },
   "outputs": [
    {
     "name": "stdout",
     "output_type": "stream",
     "text": [
      "sorted rl thickness\n",
      " [1.0000e-07 7.1520e-05 1.4294e-04 7.1520e-05 3.5721e-04 8.5716e-04\n",
      " 1.0000e-03 7.1520e-05 9.2858e-04 2.1436e-04 5.7147e-04 7.8574e-04\n",
      " 2.1436e-04 1.0000e-03 2.8579e-04 2.8579e-04 9.2858e-04 3.5721e-04\n",
      " 1.0000e-03 1.0000e-03 4.2863e-04 7.1520e-05 1.4294e-04 7.1431e-04\n",
      " 2.1436e-04 6.4289e-04 7.1520e-05 2.8579e-04 7.8574e-04 1.0000e-07\n",
      " 2.1436e-04 5.0005e-04 2.1436e-04 1.0000e-03 7.1520e-05 1.4294e-04\n",
      " 2.1436e-04 9.2858e-04 1.0000e-03 9.2858e-04 7.8574e-04 7.1431e-04\n",
      " 6.4289e-04 1.4294e-04 7.1431e-04 2.8579e-04 1.4294e-04 1.0000e-07\n",
      " 1.0000e-07 7.8574e-04 7.1431e-04 1.0000e-07 8.5716e-04 2.8579e-04\n",
      " 5.7147e-04 7.8574e-04 7.1431e-04 5.0005e-04 2.1436e-04 5.7147e-04\n",
      " 1.0000e-03 1.0000e-03 5.0005e-04 7.1520e-05 7.1431e-04 1.0000e-07\n",
      " 4.2863e-04 7.1520e-05 2.8579e-04 1.0000e-07 5.7147e-04 7.8574e-04\n",
      " 2.1436e-04 4.2863e-04 5.7147e-04 2.8579e-04 1.4294e-04 3.5721e-04\n",
      " 9.2858e-04 1.0000e-07 1.4294e-04 2.8579e-04 5.7147e-04 5.7147e-04\n",
      " 8.5716e-04 7.1431e-04 1.4294e-04 1.4294e-04 2.8579e-04 3.5721e-04\n",
      " 1.4294e-04 5.0005e-04 2.8579e-04 7.1431e-04 2.8579e-04 3.5721e-04\n",
      " 1.0000e-03 4.2863e-04 9.2858e-04 6.4289e-04]\n",
      "sorted sl thickness\n",
      " [1.000e-07 1.000e-07 1.000e-07 1.000e-07 1.000e-07 1.000e-07 1.000e-07\n",
      " 1.000e-07 1.000e-07 6.520e-06 6.520e-06 1.294e-05 1.294e-05 1.294e-05\n",
      " 1.294e-05 1.294e-05 1.294e-05 1.294e-05 1.936e-05 1.936e-05 1.936e-05\n",
      " 1.936e-05 1.936e-05 1.936e-05 1.936e-05 2.579e-05 2.579e-05 2.579e-05\n",
      " 2.579e-05 2.579e-05 2.579e-05 2.579e-05 3.221e-05 3.221e-05 3.221e-05\n",
      " 3.221e-05 3.863e-05 3.863e-05 3.863e-05 3.863e-05 3.863e-05 4.505e-05\n",
      " 4.505e-05 4.505e-05 4.505e-05 4.505e-05 4.505e-05 4.505e-05 4.505e-05\n",
      " 4.505e-05 4.505e-05 4.505e-05 4.505e-05 4.505e-05 4.505e-05 5.147e-05\n",
      " 5.147e-05 5.147e-05 5.147e-05 5.147e-05 5.147e-05 5.147e-05 5.147e-05\n",
      " 5.789e-05 5.789e-05 5.789e-05 5.789e-05 5.789e-05 6.431e-05 6.431e-05\n",
      " 6.431e-05 6.431e-05 6.431e-05 6.431e-05 6.431e-05 6.431e-05 6.431e-05\n",
      " 6.431e-05 7.074e-05 7.074e-05 7.074e-05 7.716e-05 7.716e-05 7.716e-05\n",
      " 7.716e-05 7.716e-05 7.716e-05 7.716e-05 7.716e-05 8.358e-05 8.358e-05\n",
      " 8.358e-05 8.358e-05 9.000e-05 9.000e-05 9.000e-05 9.000e-05 9.000e-05\n",
      " 9.000e-05 9.000e-05]\n",
      "sorted weight fractions\n",
      " [[ 1.   48.    1.   50.  ]\n",
      " [30.4  50.95 17.65  1.  ]\n",
      " [50.    1.   48.    1.  ]\n",
      " [ 1.    1.   48.   50.  ]\n",
      " [30.4  50.95 17.65  1.  ]\n",
      " [ 1.    1.   97.    1.  ]\n",
      " [ 1.   12.75 36.25 50.  ]\n",
      " [30.4  34.3  34.3   1.  ]\n",
      " [10.8  44.1  44.1   1.  ]\n",
      " [20.6   1.   77.4   1.  ]\n",
      " [30.4  50.95 17.65  1.  ]\n",
      " [ 1.   29.4  29.4  40.2 ]\n",
      " [30.4  67.6   1.    1.  ]\n",
      " [ 1.   50.95 17.65 30.4 ]\n",
      " [ 1.    1.   48.   50.  ]\n",
      " [50.   12.75 36.25  1.  ]\n",
      " [30.4  67.6   1.    1.  ]\n",
      " [ 1.   29.4  29.4  40.2 ]\n",
      " [ 1.   29.4  29.4  40.2 ]\n",
      " [ 1.   43.6  15.2  40.2 ]\n",
      " [ 1.   73.   25.    1.  ]\n",
      " [40.2  43.6  15.2   1.  ]\n",
      " [ 1.   29.4  29.4  40.2 ]\n",
      " [30.4  50.95 17.65  1.  ]\n",
      " [ 1.   44.1  44.1  10.8 ]\n",
      " [40.2  57.8   1.    1.  ]\n",
      " [ 1.   17.65 50.95 30.4 ]\n",
      " [ 1.   48.    1.   50.  ]\n",
      " [ 1.   44.1  44.1  10.8 ]\n",
      " [ 1.   44.1  44.1  10.8 ]\n",
      " [ 1.   73.   25.    1.  ]\n",
      " [10.8  22.55 65.65  1.  ]\n",
      " [ 1.    1.   48.   50.  ]\n",
      " [ 1.   50.95 17.65 30.4 ]\n",
      " [ 1.   15.2  43.6  40.2 ]\n",
      " [ 1.   48.    1.   50.  ]\n",
      " [30.4   1.   67.6   1.  ]\n",
      " [20.6  39.2  39.2   1.  ]\n",
      " [10.8   1.   87.2   1.  ]\n",
      " [ 1.   58.3  20.1  20.6 ]\n",
      " [ 1.    1.   67.6  30.4 ]\n",
      " [ 1.    1.   57.8  40.2 ]\n",
      " [10.8   1.   87.2   1.  ]\n",
      " [30.4  50.95 17.65  1.  ]\n",
      " [ 1.   20.1  58.3  20.6 ]\n",
      " [20.6  39.2  39.2   1.  ]\n",
      " [ 1.   58.3  20.1  20.6 ]\n",
      " [ 1.   57.8   1.   40.2 ]\n",
      " [30.4  50.95 17.65  1.  ]\n",
      " [ 1.   12.75 36.25 50.  ]\n",
      " [50.    1.   48.    1.  ]\n",
      " [ 1.   24.5  24.5  50.  ]\n",
      " [ 1.   58.3  20.1  20.6 ]\n",
      " [ 1.    1.   67.6  30.4 ]\n",
      " [ 1.   17.65 50.95 30.4 ]\n",
      " [ 1.    1.   67.6  30.4 ]\n",
      " [50.   48.    1.    1.  ]\n",
      " [20.6  77.4   1.    1.  ]\n",
      " [40.2  29.4  29.4   1.  ]\n",
      " [40.2  43.6  15.2   1.  ]\n",
      " [10.8  22.55 65.65  1.  ]\n",
      " [ 1.   39.2  39.2  20.6 ]\n",
      " [50.   12.75 36.25  1.  ]\n",
      " [10.8  87.2   1.    1.  ]\n",
      " [ 1.   36.25 12.75 50.  ]\n",
      " [ 1.   39.2  39.2  20.6 ]\n",
      " [30.4  34.3  34.3   1.  ]\n",
      " [40.2  29.4  29.4   1.  ]\n",
      " [ 1.    1.   48.   50.  ]\n",
      " [30.4  17.65 50.95  1.  ]\n",
      " [ 1.   36.25 12.75 50.  ]\n",
      " [ 1.   73.   25.    1.  ]\n",
      " [40.2  57.8   1.    1.  ]\n",
      " [20.6  58.3  20.1   1.  ]\n",
      " [50.   48.    1.    1.  ]\n",
      " [50.   36.25 12.75  1.  ]\n",
      " [ 1.    1.   77.4  20.6 ]\n",
      " [ 1.   44.1  44.1  10.8 ]\n",
      " [20.6  77.4   1.    1.  ]\n",
      " [20.6   1.   77.4   1.  ]\n",
      " [ 1.   25.   73.    1.  ]\n",
      " [ 1.   22.55 65.65 10.8 ]\n",
      " [ 1.    1.   77.4  20.6 ]\n",
      " [ 1.    1.   67.6  30.4 ]\n",
      " [ 1.   65.65 22.55 10.8 ]\n",
      " [50.   36.25 12.75  1.  ]\n",
      " [40.2   1.   57.8   1.  ]\n",
      " [ 1.   58.3  20.1  20.6 ]\n",
      " [20.6  58.3  20.1   1.  ]\n",
      " [50.   12.75 36.25  1.  ]\n",
      " [ 1.   87.2   1.   10.8 ]\n",
      " [40.2   1.   57.8   1.  ]\n",
      " [ 1.    1.   87.2  10.8 ]\n",
      " [50.   12.75 36.25  1.  ]\n",
      " [ 1.    1.   67.6  30.4 ]\n",
      " [ 1.   17.65 50.95 30.4 ]\n",
      " [ 1.    1.   87.2  10.8 ]\n",
      " [50.   24.5  24.5   1.  ]\n",
      " [30.4   1.   67.6   1.  ]\n",
      " [ 1.   20.1  58.3  20.6 ]]\n",
      "first and 42'th spectra in sorted data\n",
      "\n"
     ]
    },
    {
     "data": {
      "image/png": "[encoded data removed]",
      "text/plain": [
       "<Figure size 432x288 with 1 Axes>"
      ]
     },
     "metadata": {
      "needs_background": "light"
     },
     "output_type": "display_data"
    }
   ],
   "source": [
    "#sort by sublayer thickness\n",
    "sorted_val= sorted(\n",
    "    zip(\n",
    "        range(\n",
    "            len(synt.sublayer_thickness)\n",
    "        ), synt.sublayer_thickness), key = lambda x: x[1]\n",
    ")\n",
    "sorted_index = [i[0] for i in sorted_val]\n",
    "#or \n",
    "sorted_index = [i[0] for i in sorted(enumerate(synt.sublayer_thickness), key = lambda x: x[1])]\n",
    "print(\"sorted rl thickness\\n\",synt.reflayer_thickness[sorted_index])\n",
    "print(\"sorted sl thickness\\n\",synt.sublayer_thickness[sorted_index])\n",
    "print(\"sorted weight fractions\\n\",synt.weight_fractions[sorted_index])\n",
    "print(\"first and 42'th spectra in sorted data\\n\")\n",
    "fig,ax = plt.subplots()\n",
    "ax.plot(synt.energy,synt.data[sorted_index[0],:])\n",
    "ax.plot(synt.energy, synt.data[sorted_index[42],:])\n",
    "plt.show()"
   ]
  },
  {
   "cell_type": "code",
   "execution_count": 49,
   "id": "55c0528c",
   "metadata": {},
   "outputs": [
    {
     "data": {
      "image/png": "[encoded data removed]",
      "text/plain": [
       "<Figure size 432x288 with 1 Axes>"
      ]
     },
     "metadata": {
      "needs_background": "light"
     },
     "output_type": "display_data"
    }
   ],
   "source": [
    "#select Fe, Mn and Pb labels\n",
    "Fe = synt.labels[:,(synt.metadata[\"symbols\"] == \"Fe\")]\n",
    "Mn = synt.labels[:,(synt.metadata[\"symbols\"] == \"Mn\")]\n",
    "Pb = synt.labels[:,(synt.metadata[\"symbols\"] == \"Pb\")]\n",
    "fig,ax = plt.subplots()\n",
    "ax.scatter(Fe/Pb, Mn/Pb)\n",
    "ax.set_title(\"Mn/Pb vs Fe/Pb\")\n",
    "ax.set_xscale('log')\n",
    "ax.set_yscale('log')\n",
    "plt.show()"
   ]
  },
  {
   "cell_type": "code",
   "execution_count": null,
   "id": "0c5bb3c2",
   "metadata": {},
   "outputs": [],
   "source": [
    "#select Mn weight fractions\n",
    "#Pb is not present in reference layers so we skip index zero (Pb) in metadata[\"symbols\"] always at the first index\n",
    "Mnwf = synt.weight_fractions[:, (synt.metadata[\"symbols\"][1:] == \"Mn\")]"
   ]
  }
 ],
 "metadata": {
  "kernelspec": {
   "display_name": "Python 3 (ipykernel)",
   "language": "python",
   "name": "python3"
  },
  "language_info": {
   "codemirror_mode": {
    "name": "ipython",
    "version": 3
   },
   "file_extension": ".py",
   "mimetype": "text/x-python",
   "name": "python",
   "nbconvert_exporter": "python",
   "pygments_lexer": "ipython3",
   "version": "3.10.2"
  }
 },
 "nbformat": 4,
 "nbformat_minor": 5
}
