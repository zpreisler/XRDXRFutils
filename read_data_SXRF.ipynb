{
 "cells": [
  {
   "cell_type": "code",
   "execution_count": 1,
   "id": "a0abd906",
   "metadata": {},
   "outputs": [],
   "source": [
    "import XRDXRFutils.data as xdata\n",
    "synt = xdata.DataSXRF()"
   ]
  },
  {
   "cell_type": "code",
   "execution_count": 2,
   "id": "bbff8f89",
   "metadata": {},
   "outputs": [
    {
     "name": "stdout",
     "output_type": "stream",
     "text": [
      "Reading SXRF data from /home/rosario/xmimsim/synthetic/FeMnCaHg/outdata\n",
      "Error while parsing\n",
      "/home/rosario/xmimsim/synthetic/FeMnCaHg/outdata/sxrf.h5\n",
      "12375\n"
     ]
    }
   ],
   "source": [
    "#read from xmso's data directory named \"outdata\"\n",
    "datadir = '/home/rosario/xmimsim/synthetic/FeMnCaHg/outdata'\n",
    "#synt.read(datadir) # very slow\n",
    "#before calling the read() method, the number of bins, if different from 2048, can be setted\n",
    "synt.set_nbins(1024) #atcually only a number of 1024 bin is implemented\n",
    "synt.read(datadir)\n",
    "print(len(synt))"
   ]
  },
  {
   "cell_type": "code",
   "execution_count": 3,
   "id": "1a17208f",
   "metadata": {},
   "outputs": [
    {
     "ename": "AttributeError",
     "evalue": "'DataSXRF' object has no attribute 'spe_objs'",
     "output_type": "error",
     "traceback": [
      "\u001b[0;31m---------------------------------------------------------------------------\u001b[0m",
      "\u001b[0;31mAttributeError\u001b[0m                            Traceback (most recent call last)",
      "Input \u001b[0;32mIn [3]\u001b[0m, in \u001b[0;36m<module>\u001b[0;34m\u001b[0m\n\u001b[0;32m----> 1\u001b[0m \u001b[38;5;28mprint\u001b[39m(\u001b[38;5;28mtype\u001b[39m(\u001b[43msynt\u001b[49m\u001b[38;5;241;43m.\u001b[39;49m\u001b[43mspe_objs\u001b[49m)) \u001b[38;5;66;03m#is a list of SpectraSXRF objects (see XRDXRFutils/spectra.py)\u001b[39;00m\n\u001b[1;32m      2\u001b[0m \u001b[38;5;28mprint\u001b[39m(\u001b[38;5;28mtype\u001b[39m(synt\u001b[38;5;241m.\u001b[39mspe_objs[\u001b[38;5;241m0\u001b[39m]))\n\u001b[1;32m      3\u001b[0m symbols \u001b[38;5;241m=\u001b[39m [\u001b[38;5;124m\"\u001b[39m\u001b[38;5;124mPb\u001b[39m\u001b[38;5;124m\"\u001b[39m, \u001b[38;5;124m\"\u001b[39m\u001b[38;5;124mFe\u001b[39m\u001b[38;5;124m\"\u001b[39m, \u001b[38;5;124m\"\u001b[39m\u001b[38;5;124mMn\u001b[39m\u001b[38;5;124m\"\u001b[39m, \u001b[38;5;124m\"\u001b[39m\u001b[38;5;124mCa\u001b[39m\u001b[38;5;124m\"\u001b[39m, \u001b[38;5;124m\"\u001b[39m\u001b[38;5;124mHg\u001b[39m\u001b[38;5;124m\"\u001b[39m]\n",
      "\u001b[0;31mAttributeError\u001b[0m: 'DataSXRF' object has no attribute 'spe_objs'"
     ]
    }
   ],
   "source": [
    "print(type(synt.spe_objs)) #is a list of SpectraSXRF objects (see XRDXRFutils/spectra.py)\n",
    "print(type(synt.spe_objs[0]))\n",
    "symbols = [\"Pb\", \"Fe\", \"Mn\", \"Ca\", \"Hg\"]\n",
    "lines = [\"L\", \"K\", \"K\", \"K\", \"L\"]\n",
    "synt = synt.get_data_and_labels(symbols, lines) #get the data (inputs) and labels (targets) and store symbols and\n",
    "# lines as metadata\n",
    "# now synt.data synt.energy and synt.labels attributes exist\n",
    "print(synt.data.shape)\n",
    "print(synt.energy.shape)\n",
    "print(synt.labels.shape)"
   ]
  },
  {
   "cell_type": "code",
   "execution_count": 6,
   "id": "19b24b48",
   "metadata": {},
   "outputs": [
    {
     "name": "stdout",
     "output_type": "stream",
     "text": [
      "Saving: /home/rosario/xmimsim/synthetic/FeMnCaHg/outdata/sxrf.h5\n",
      "[]\n"
     ]
    }
   ],
   "source": [
    "#save hdf5 file\n",
    "import glob\n",
    "import os\n",
    "synt.save_h5() # default name = class name\n",
    "print(glob.glob(os.path.join(datadir, \"*.h5\")))"
   ]
  },
  {
   "cell_type": "code",
   "execution_count": 8,
   "id": "9bc59c29",
   "metadata": {},
   "outputs": [
    {
     "name": "stdout",
     "output_type": "stream",
     "text": [
      "(12375, 4)\n",
      "(12375,)\n",
      "(12375,)\n",
      "(12375, 4)\n"
     ]
    }
   ],
   "source": [
    "sim_par = synt.get_sim_parameters() # get simulation parameters (used for hdf5 file)\n",
    "print(sim_par.reflayer_elements.shape)\n",
    "print(sim_par.reflayer_thickness.shape)\n",
    "print(sim_par.sublayer_thickness.shape)\n",
    "print(sim_par.weight_fractions.shape)"
   ]
  },
  {
   "cell_type": "code",
   "execution_count": 7,
   "id": "026e8c4d",
   "metadata": {},
   "outputs": [
    {
     "ename": "KeyboardInterrupt",
     "evalue": "",
     "output_type": "error",
     "traceback": [
      "\u001b[0;31m---------------------------------------------------------------------------\u001b[0m",
      "\u001b[0;31mKeyboardInterrupt\u001b[0m                         Traceback (most recent call last)",
      "Input \u001b[0;32mIn [7]\u001b[0m, in \u001b[0;36m<module>\u001b[0;34m\u001b[0m\n\u001b[1;32m      5\u001b[0m datadir \u001b[38;5;241m=\u001b[39m \u001b[38;5;124m'\u001b[39m\u001b[38;5;124m/home/rosario/xmimsim/synthetic/FeMnCaHg/outdata/Fe-Mn-Ca-Hg\u001b[39m\u001b[38;5;124m'\u001b[39m\n\u001b[1;32m      6\u001b[0m xmso_fnames \u001b[38;5;241m=\u001b[39m [os\u001b[38;5;241m.\u001b[39mpath\u001b[38;5;241m.\u001b[39mjoin(datadir, f) \u001b[38;5;28;01mfor\u001b[39;00m f \u001b[38;5;129;01min\u001b[39;00m os\u001b[38;5;241m.\u001b[39mlistdir(datadir)] \u001b[38;5;66;03m# or another way to collect xmso files\u001b[39;00m\n\u001b[0;32m----> 7\u001b[0m synt\u001b[38;5;241m.\u001b[39mspe_objs \u001b[38;5;241m=\u001b[39m [s \u001b[38;5;28;01mfor\u001b[39;00m s \u001b[38;5;129;01min\u001b[39;00m \u001b[43msynt\u001b[49m\u001b[38;5;241;43m.\u001b[39;49m\u001b[43m__read__\u001b[49m\u001b[43m(\u001b[49m\u001b[43mxmso_fnames\u001b[49m\u001b[43m)\u001b[49m]\n\u001b[1;32m      8\u001b[0m synt \u001b[38;5;241m=\u001b[39m synt\u001b[38;5;241m.\u001b[39mget_data_and_labels(symbols, lines) \u001b[38;5;66;03m#as above\u001b[39;00m\n\u001b[1;32m      9\u001b[0m \u001b[38;5;28mprint\u001b[39m(synt\u001b[38;5;241m.\u001b[39mdata\u001b[38;5;241m.\u001b[39mshape)\n",
      "File \u001b[0;32m~/XRDXRFutils/XRDXRFutils/data.py:373\u001b[0m, in \u001b[0;36mDataSXRF.__read__\u001b[0;34m(self, xmso_filenames)\u001b[0m\n\u001b[1;32m    370\u001b[0m \u001b[38;5;28;01mdef\u001b[39;00m \u001b[38;5;21m__read__\u001b[39m(\u001b[38;5;28mself\u001b[39m, xmso_filenames):\n\u001b[1;32m    371\u001b[0m     \u001b[38;5;66;03m#results = [self.process_file(fname, self.nbins) for fname in xmso_filenames]\u001b[39;00m\n\u001b[1;32m    372\u001b[0m     \u001b[38;5;28;01mwith\u001b[39;00m Pool() \u001b[38;5;28;01mas\u001b[39;00m p:\n\u001b[0;32m--> 373\u001b[0m         results \u001b[38;5;241m=\u001b[39m \u001b[43mp\u001b[49m\u001b[38;5;241;43m.\u001b[39;49m\u001b[43mmap\u001b[49m\u001b[43m(\u001b[49m\u001b[38;5;28;43mself\u001b[39;49m\u001b[38;5;241;43m.\u001b[39;49m\u001b[43mprocess_file\u001b[49m\u001b[43m,\u001b[49m\u001b[43m \u001b[49m\u001b[43mxmso_filenames\u001b[49m\u001b[43m)\u001b[49m\n\u001b[1;32m    374\u001b[0m     \u001b[38;5;66;03m# with ThreadPoolExecutor() as executor:\u001b[39;00m\n\u001b[1;32m    375\u001b[0m         \u001b[38;5;66;03m# results = executor.map(process_file, xmso_filenames)\u001b[39;00m\n\u001b[1;32m    377\u001b[0m     \u001b[38;5;28;01mreturn\u001b[39;00m results\n",
      "File \u001b[0;32m/usr/lib/python3.10/multiprocessing/pool.py:364\u001b[0m, in \u001b[0;36mPool.map\u001b[0;34m(self, func, iterable, chunksize)\u001b[0m\n\u001b[1;32m    359\u001b[0m \u001b[38;5;28;01mdef\u001b[39;00m \u001b[38;5;21mmap\u001b[39m(\u001b[38;5;28mself\u001b[39m, func, iterable, chunksize\u001b[38;5;241m=\u001b[39m\u001b[38;5;28;01mNone\u001b[39;00m):\n\u001b[1;32m    360\u001b[0m     \u001b[38;5;124;03m'''\u001b[39;00m\n\u001b[1;32m    361\u001b[0m \u001b[38;5;124;03m    Apply `func` to each element in `iterable`, collecting the results\u001b[39;00m\n\u001b[1;32m    362\u001b[0m \u001b[38;5;124;03m    in a list that is returned.\u001b[39;00m\n\u001b[1;32m    363\u001b[0m \u001b[38;5;124;03m    '''\u001b[39;00m\n\u001b[0;32m--> 364\u001b[0m     \u001b[38;5;28;01mreturn\u001b[39;00m \u001b[38;5;28;43mself\u001b[39;49m\u001b[38;5;241;43m.\u001b[39;49m\u001b[43m_map_async\u001b[49m\u001b[43m(\u001b[49m\u001b[43mfunc\u001b[49m\u001b[43m,\u001b[49m\u001b[43m \u001b[49m\u001b[43miterable\u001b[49m\u001b[43m,\u001b[49m\u001b[43m \u001b[49m\u001b[43mmapstar\u001b[49m\u001b[43m,\u001b[49m\u001b[43m \u001b[49m\u001b[43mchunksize\u001b[49m\u001b[43m)\u001b[49m\u001b[38;5;241;43m.\u001b[39;49m\u001b[43mget\u001b[49m\u001b[43m(\u001b[49m\u001b[43m)\u001b[49m\n",
      "File \u001b[0;32m/usr/lib/python3.10/multiprocessing/pool.py:765\u001b[0m, in \u001b[0;36mApplyResult.get\u001b[0;34m(self, timeout)\u001b[0m\n\u001b[1;32m    764\u001b[0m \u001b[38;5;28;01mdef\u001b[39;00m \u001b[38;5;21mget\u001b[39m(\u001b[38;5;28mself\u001b[39m, timeout\u001b[38;5;241m=\u001b[39m\u001b[38;5;28;01mNone\u001b[39;00m):\n\u001b[0;32m--> 765\u001b[0m     \u001b[38;5;28;43mself\u001b[39;49m\u001b[38;5;241;43m.\u001b[39;49m\u001b[43mwait\u001b[49m\u001b[43m(\u001b[49m\u001b[43mtimeout\u001b[49m\u001b[43m)\u001b[49m\n\u001b[1;32m    766\u001b[0m     \u001b[38;5;28;01mif\u001b[39;00m \u001b[38;5;129;01mnot\u001b[39;00m \u001b[38;5;28mself\u001b[39m\u001b[38;5;241m.\u001b[39mready():\n\u001b[1;32m    767\u001b[0m         \u001b[38;5;28;01mraise\u001b[39;00m \u001b[38;5;167;01mTimeoutError\u001b[39;00m\n",
      "File \u001b[0;32m/usr/lib/python3.10/multiprocessing/pool.py:762\u001b[0m, in \u001b[0;36mApplyResult.wait\u001b[0;34m(self, timeout)\u001b[0m\n\u001b[1;32m    761\u001b[0m \u001b[38;5;28;01mdef\u001b[39;00m \u001b[38;5;21mwait\u001b[39m(\u001b[38;5;28mself\u001b[39m, timeout\u001b[38;5;241m=\u001b[39m\u001b[38;5;28;01mNone\u001b[39;00m):\n\u001b[0;32m--> 762\u001b[0m     \u001b[38;5;28;43mself\u001b[39;49m\u001b[38;5;241;43m.\u001b[39;49m\u001b[43m_event\u001b[49m\u001b[38;5;241;43m.\u001b[39;49m\u001b[43mwait\u001b[49m\u001b[43m(\u001b[49m\u001b[43mtimeout\u001b[49m\u001b[43m)\u001b[49m\n",
      "File \u001b[0;32m/usr/lib/python3.10/threading.py:600\u001b[0m, in \u001b[0;36mEvent.wait\u001b[0;34m(self, timeout)\u001b[0m\n\u001b[1;32m    598\u001b[0m signaled \u001b[38;5;241m=\u001b[39m \u001b[38;5;28mself\u001b[39m\u001b[38;5;241m.\u001b[39m_flag\n\u001b[1;32m    599\u001b[0m \u001b[38;5;28;01mif\u001b[39;00m \u001b[38;5;129;01mnot\u001b[39;00m signaled:\n\u001b[0;32m--> 600\u001b[0m     signaled \u001b[38;5;241m=\u001b[39m \u001b[38;5;28;43mself\u001b[39;49m\u001b[38;5;241;43m.\u001b[39;49m\u001b[43m_cond\u001b[49m\u001b[38;5;241;43m.\u001b[39;49m\u001b[43mwait\u001b[49m\u001b[43m(\u001b[49m\u001b[43mtimeout\u001b[49m\u001b[43m)\u001b[49m\n\u001b[1;32m    601\u001b[0m \u001b[38;5;28;01mreturn\u001b[39;00m signaled\n",
      "File \u001b[0;32m/usr/lib/python3.10/threading.py:320\u001b[0m, in \u001b[0;36mCondition.wait\u001b[0;34m(self, timeout)\u001b[0m\n\u001b[1;32m    318\u001b[0m \u001b[38;5;28;01mtry\u001b[39;00m:    \u001b[38;5;66;03m# restore state no matter what (e.g., KeyboardInterrupt)\u001b[39;00m\n\u001b[1;32m    319\u001b[0m     \u001b[38;5;28;01mif\u001b[39;00m timeout \u001b[38;5;129;01mis\u001b[39;00m \u001b[38;5;28;01mNone\u001b[39;00m:\n\u001b[0;32m--> 320\u001b[0m         \u001b[43mwaiter\u001b[49m\u001b[38;5;241;43m.\u001b[39;49m\u001b[43macquire\u001b[49m\u001b[43m(\u001b[49m\u001b[43m)\u001b[49m\n\u001b[1;32m    321\u001b[0m         gotit \u001b[38;5;241m=\u001b[39m \u001b[38;5;28;01mTrue\u001b[39;00m\n\u001b[1;32m    322\u001b[0m     \u001b[38;5;28;01melse\u001b[39;00m:\n",
      "\u001b[0;31mKeyboardInterrupt\u001b[0m: "
     ]
    }
   ],
   "source": [
    "#another method\n",
    "import os\n",
    "symbols = [\"Pb\", \"Fe\", \"Mn\", \"Ca\", \"Hg\"]\n",
    "lines = [\"L\", \"K\", \"K\", \"K\", \"L\"]\n",
    "datadir = '/home/rosario/xmimsim/synthetic/FeMnCaHg/outdata/Fe-Mn-Ca-Hg'\n",
    "xmso_fnames = [os.path.join(datadir, f) for f in os.listdir(datadir)] # or another way to collect xmso files\n",
    "synt.spe_objs = [s for s in synt.__read__(xmso_fnames)]\n",
    "synt = synt.get_data_and_labels(symbols, lines) #as above\n",
    "print(synt.data.shape)\n",
    "print(synt.energy.shape)\n",
    "print(synt.labels.shape)"
   ]
  },
  {
   "cell_type": "code",
   "execution_count": 4,
   "id": "35a93004",
   "metadata": {},
   "outputs": [
    {
     "name": "stdout",
     "output_type": "stream",
     "text": [
      "Saving: /home/rosario/test_h5.h5\n"
     ]
    }
   ],
   "source": [
    "#save hdf5 file\n",
    "synt.save_h5('/home/rosario/test_h5.h5')"
   ]
  },
  {
   "cell_type": "code",
   "execution_count": 10,
   "id": "9a2f951f",
   "metadata": {},
   "outputs": [
    {
     "name": "stdout",
     "output_type": "stream",
     "text": [
      "Loading: /home/rosario/test_h5.h5\n",
      "(100, 2048)\n",
      "(2048,)\n",
      "(100, 5)\n",
      "(100, 4)\n",
      "(100,)\n",
      "(100,)\n",
      "(100, 4)\n",
      "lines ['L' 'K' 'K' 'K' 'L']\n",
      "symbols ['Pb' 'Fe' 'Mn' 'Ca' 'Hg']\n"
     ]
    }
   ],
   "source": [
    "#read from hdf5\n",
    "synt = xdata.DataSXRF()\n",
    "h5fname = '/home/rosario/test_h5.h5'\n",
    "synt.load_h5(h5fname)\n",
    "print(synt.data.shape)\n",
    "print(synt.energy.shape)\n",
    "print(synt.labels.shape)\n",
    "print(synt.reflayer_elements.shape)\n",
    "print(synt.reflayer_thickness.shape)\n",
    "print(synt.sublayer_thickness.shape)\n",
    "print(synt.weight_fractions.shape)\n",
    "for k, v in synt.metadata.items():\n",
    "    print(k,v)"
   ]
  },
  {
   "cell_type": "code",
   "execution_count": 11,
   "id": "69f6fdcb",
   "metadata": {
    "scrolled": true
   },
   "outputs": [
    {
     "data": {
      "image/png": "[encoded data removed]",
      "text/plain": [
       "<Figure size 432x288 with 1 Axes>"
      ]
     },
     "metadata": {
      "needs_background": "light"
     },
     "output_type": "display_data"
    }
   ],
   "source": [
    "%matplotlib inline\n",
    "import matplotlib.pyplot as plt\n",
    "fig, ax = plt.subplots()\n",
    "ax.plot(synt.energy, synt.data[42,:])\n",
    "plt.show()"
   ]
  },
  {
   "cell_type": "code",
   "execution_count": null,
   "id": "355be5ab",
   "metadata": {},
   "outputs": [],
   "source": [
    "#load_h5 method\n",
    "def load_h5(self,filename):\n",
    "\n",
    "    print('Loading:',filename)\n",
    "    with h5py.File(filename,'r') as f:\n",
    "                \n",
    "        self.parameters = SimParameters() # SimParameters is a datastruct in data.py\n",
    "        self.data = f['inputs'][:]\n",
    "        self.labels = f['targets'][:]\n",
    "        self.reflayer_thickness = f['reflayer_thickness'][:]\n",
    "        self.sublayer_thickness = f['sublayer_thickness'][:]\n",
    "        self.reflayer_elements = f['reflayer_elements'][:]\n",
    "        self.weight_fractions = f['weight_fractions'][:]\n",
    "        self.energy = f['energy'][:]\n",
    "\n",
    "        for k,v in f.attrs.items():\n",
    "            self.metadata[k] = v"
   ]
  },
  {
   "cell_type": "code",
   "execution_count": 13,
   "id": "2323d52f",
   "metadata": {},
   "outputs": [],
   "source": [
    "def rebin(x,y):\n",
    "        xx = x[::2]\n",
    "        yp = y[:-1] + y[1:]\n",
    "        yy = yp[::2]\n",
    "        return xx, yy"
   ]
  },
  {
   "cell_type": "code",
   "execution_count": 14,
   "id": "3b05de93",
   "metadata": {},
   "outputs": [],
   "source": [
    "new_e, new_c= rebin(synt.energy,synt.data[42,:])"
   ]
  },
  {
   "cell_type": "code",
   "execution_count": 17,
   "id": "82c67856",
   "metadata": {},
   "outputs": [],
   "source": [
    "%matplotlib tk\n",
    "fig, ax = plt.subplots()\n",
    "ax.plot(synt.energy,synt.data[42,:])\n",
    "ax.plot(new_e,new_c, label = \"rebinned 1024\")\n",
    "ax.legend()\n",
    "plt.show()"
   ]
  },
  {
   "cell_type": "code",
   "execution_count": null,
   "id": "86ca8ec4",
   "metadata": {},
   "outputs": [],
   "source": []
  }
 ],
 "metadata": {
  "kernelspec": {
   "display_name": "Python 3 (ipykernel)",
   "language": "python",
   "name": "python3"
  },
  "language_info": {
   "codemirror_mode": {
    "name": "ipython",
    "version": 3
   },
   "file_extension": ".py",
   "mimetype": "text/x-python",
   "name": "python",
   "nbconvert_exporter": "python",
   "pygments_lexer": "ipython3",
   "version": "3.10.2"
  }
 },
 "nbformat": 4,
 "nbformat_minor": 5
}
