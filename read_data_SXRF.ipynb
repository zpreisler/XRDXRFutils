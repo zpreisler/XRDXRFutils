{
 "cells": [
  {
   "cell_type": "code",
   "execution_count": 1,
   "id": "c8e3f0dd",
   "metadata": {},
   "outputs": [],
   "source": [
    "from XRDXRFutils import DataSXRF, SpectraSXRF, FluorescenceSXRF\n",
    "datadir = \"/home/rosario/xmimsim/syntetic/Giulia_suited/outdata\"\n",
    "dsxrf = DataSXRF()\n",
    "dsxrf.set_nbins(1024)"
   ]
  },
  {
   "cell_type": "code",
   "execution_count": 2,
   "id": "ec08b49b",
   "metadata": {},
   "outputs": [
    {
     "name": "stdout",
     "output_type": "stream",
     "text": [
      "Reading SXRF data from /home/rosario/xmimsim/syntetic/Giulia_suited/outdata\n",
      "CPU times: user 162 ms, sys: 69.4 ms, total: 231 ms\n",
      "Wall time: 9.83 s\n"
     ]
    }
   ],
   "source": [
    "%%time\n",
    "synt_data = dsxrf.read(datadir)"
   ]
  },
  {
   "cell_type": "code",
   "execution_count": 15,
   "id": "dd2e6590",
   "metadata": {},
   "outputs": [
    {
     "name": "stdout",
     "output_type": "stream",
     "text": [
      "(1024,)\n",
      "(1024,)\n",
      "Ar {'K': 3.0091259999999997, 'L': 0, 'others': 0}\n",
      "K {'K': 0.5248212, 'L': 0, 'others': 0}\n",
      "Ca {'K': 18.509862, 'L': 0, 'others': 0}\n",
      "Mn {'K': 47.09059, 'L': 0, 'others': 0}\n",
      "Fe {'K': 364.61719999999997, 'L': 0, 'others': 0}\n",
      "Pb {'K': 0, 'L': 229.24215005124003, 'others': 7.145690757264799}\n"
     ]
    }
   ],
   "source": [
    "#read a single spectra\n",
    "sxrf = SpectraSXRF()\n",
    "sxrf.set_nbins(1024)\n",
    "xmso_file = \"xsimspe_Fe-80.05-Mn-10.59-K-0.4-Ca-8.97_0.000111_hydro0.000475_live-time0.015_d-samp-det1.5_d-samp-src6_slit0.001_photons100000.xmso\"\n",
    "synt = sxrf.from_file(\"/home/rosario/xmimsim/syntetic/Giulia_suited/FeMnCaK/outdata/Fe-Mn-K-Ca/\" + xmso_file)\n",
    "print(synt.counts.shape)\n",
    "print(synt.energy.shape)\n",
    "for l in synt.fluorescence_lines:\n",
    "    print(l.symbol, l.lines)"
   ]
  },
  {
   "cell_type": "code",
   "execution_count": 3,
   "id": "9b50ad01",
   "metadata": {},
   "outputs": [
    {
     "data": {
      "text/plain": [
       "['_Data__resample_x',\n",
       " '__class__',\n",
       " '__delattr__',\n",
       " '__dict__',\n",
       " '__dir__',\n",
       " '__doc__',\n",
       " '__eq__',\n",
       " '__format__',\n",
       " '__ge__',\n",
       " '__getattribute__',\n",
       " '__gt__',\n",
       " '__hash__',\n",
       " '__init__',\n",
       " '__init_subclass__',\n",
       " '__le__',\n",
       " '__lt__',\n",
       " '__module__',\n",
       " '__ne__',\n",
       " '__new__',\n",
       " '__read__',\n",
       " '__reduce__',\n",
       " '__reduce_ex__',\n",
       " '__repr__',\n",
       " '__setattr__',\n",
       " '__sizeof__',\n",
       " '__slotnames__',\n",
       " '__str__',\n",
       " '__subclasshook__',\n",
       " '__weakref__',\n",
       " '_get_labels',\n",
       " 'calibrate_from_file',\n",
       " 'f_resample_y',\n",
       " 'fce_calibration',\n",
       " 'get_data_and_labels',\n",
       " 'load_h5',\n",
       " 'metadata',\n",
       " 'name',\n",
       " 'nbins',\n",
       " 'process_file',\n",
       " 'read',\n",
       " 'read_params',\n",
       " 'resample',\n",
       " 'save_h5',\n",
       " 'set_nbins',\n",
       " 'shape',\n",
       " 'spe_objs',\n",
       " 'x']"
      ]
     },
     "execution_count": 3,
     "metadata": {},
     "output_type": "execute_result"
    }
   ],
   "source": [
    "dir(synt_data)"
   ]
  },
  {
   "cell_type": "code",
   "execution_count": 4,
   "id": "552505f1",
   "metadata": {},
   "outputs": [
    {
     "data": {
      "text/plain": [
       "['__class__',\n",
       " '__delattr__',\n",
       " '__dict__',\n",
       " '__dir__',\n",
       " '__doc__',\n",
       " '__eq__',\n",
       " '__format__',\n",
       " '__ge__',\n",
       " '__getattribute__',\n",
       " '__gt__',\n",
       " '__hash__',\n",
       " '__init__',\n",
       " '__init_subclass__',\n",
       " '__le__',\n",
       " '__lt__',\n",
       " '__module__',\n",
       " '__ne__',\n",
       " '__new__',\n",
       " '__reduce__',\n",
       " '__reduce_ex__',\n",
       " '__repr__',\n",
       " '__setattr__',\n",
       " '__sizeof__',\n",
       " '__str__',\n",
       " '__subclasshook__',\n",
       " '__weakref__',\n",
       " 'channel',\n",
       " 'counts',\n",
       " 'energy',\n",
       " 'fluorescence_lines',\n",
       " 'from_array',\n",
       " 'from_file',\n",
       " 'get_fluorescence_lines',\n",
       " 'get_metadata',\n",
       " 'nbins',\n",
       " 'reflayer_atomic_num',\n",
       " 'reflayer_thickness',\n",
       " 'resample',\n",
       " 'set_nbins',\n",
       " 'sublayer_thickness',\n",
       " 'weight_fractions']"
      ]
     },
     "execution_count": 4,
     "metadata": {},
     "output_type": "execute_result"
    }
   ],
   "source": [
    "dir(synt_data.spe_objs[0])"
   ]
  },
  {
   "cell_type": "code",
   "execution_count": 5,
   "id": "1aa5fd9e",
   "metadata": {},
   "outputs": [],
   "source": [
    "import numpy as np\n",
    "symbols = [\"Ca\", \"Cu\", \"Fe\", \"Mn\", \"Pb\"]\n",
    "lines = [\"K\", \"K\", \"K\", \"K\", \"L\"]"
   ]
  },
  {
   "cell_type": "code",
   "execution_count": 6,
   "id": "8e58f373",
   "metadata": {},
   "outputs": [
    {
     "name": "stdout",
     "output_type": "stream",
     "text": [
      "CPU times: user 3.65 ms, sys: 3.67 ms, total: 7.32 ms\n",
      "Wall time: 6.61 ms\n"
     ]
    }
   ],
   "source": [
    "%%time\n",
    "synt_data_Giulia = synt_data.get_data_and_labels(symbols, lines)"
   ]
  },
  {
   "cell_type": "code",
   "execution_count": 7,
   "id": "5d094aa2",
   "metadata": {},
   "outputs": [
    {
     "name": "stdout",
     "output_type": "stream",
     "text": [
      "data shape: (875, 1024)\n",
      "labels shape: (875, 5)\n",
      "[[   0.            0.            0.           27.89937    1022.91231164]\n",
      " [   0.            0.            0.          110.1842      964.41207148]\n",
      " [   0.            0.            0.           52.64975    1006.62408571]\n",
      " ...\n",
      " [   0.            0.          419.3577       12.447786    798.13735123]\n",
      " [   0.            0.          124.07805      25.36613     927.53803275]\n",
      " [   0.            0.          112.84467      19.892509    971.87732955]]\n"
     ]
    }
   ],
   "source": [
    "print(f\"data shape: {synt_data.data.shape}\")\n",
    "print(f\"labels shape: {synt_data.labels.shape}\")\n",
    "print(synt_data.labels)"
   ]
  },
  {
   "cell_type": "code",
   "execution_count": 13,
   "id": "f9092c20",
   "metadata": {},
   "outputs": [
    {
     "name": "stdout",
     "output_type": "stream",
     "text": [
      "Reading SXRF data from /home/rosario/xmimsim/syntetic/Giulia_suited/FromElGreco/outdata\n",
      "(297, 1024) (297, 5)\n"
     ]
    }
   ],
   "source": [
    "#From ElGreco for Giulia\n",
    "datadir = \"/home/rosario/xmimsim/syntetic/Giulia_suited/FromElGreco/outdata\"\n",
    "dsxrf_ElGiulia = DataSXRF()\n",
    "dsxrf_ElGiulia.set_nbins(1024)\n",
    "synt_data_ElGiulia = dsxrf.read(datadir)\n",
    "synt_data_ElGiulia = synt_data_ElGiulia.get_data_and_labels(symbols, lines)\n",
    "print(synt_data_ElGiulia.data.shape, synt_data_ElGiulia.labels.shape)\n",
    "time_correction = 0.15\n",
    "synt_data_ElGiulia.data = synt_data_ElGiulia.data * time_correction\n",
    "synt_data_ElGiulia.labels = synt_data_ElGiulia.labels * time_correction"
   ]
  },
  {
   "cell_type": "code",
   "execution_count": 14,
   "id": "2768e967",
   "metadata": {},
   "outputs": [
    {
     "name": "stdout",
     "output_type": "stream",
     "text": [
      "(594, 1024)\n",
      "(594, 1024)\n"
     ]
    }
   ],
   "source": [
    "datacube = np.concatenate((synt_data_Giulia.data, synt_data_ElGiulia.data))\n",
    "datacube_labels = np.concatenate((synt_data_Giulia.labels, synt_data_ElGiulia.labels))\n",
    "print(datacube.shape)\n",
    "print(datacube.shape)"
   ]
  },
  {
   "cell_type": "code",
   "execution_count": 15,
   "id": "2c08daca",
   "metadata": {},
   "outputs": [],
   "source": [
    "np.save(\"/home/rosario/xmimsim/syntetic/datacube.npy\", datacube)\n",
    "np.save(\"/home/rosario/xmimsim/syntetic/datacube_labels.npy\", datacube_labels)"
   ]
  },
  {
   "cell_type": "code",
   "execution_count": null,
   "id": "f7e107d1",
   "metadata": {},
   "outputs": [],
   "source": []
  }
 ],
 "metadata": {
  "kernelspec": {
   "display_name": "Python 3 (ipykernel)",
   "language": "python",
   "name": "python3"
  },
  "language_info": {
   "codemirror_mode": {
    "name": "ipython",
    "version": 3
   },
   "file_extension": ".py",
   "mimetype": "text/x-python",
   "name": "python",
   "nbconvert_exporter": "python",
   "pygments_lexer": "ipython3",
   "version": "3.10.1"
  }
 },
 "nbformat": 4,
 "nbformat_minor": 5
}
