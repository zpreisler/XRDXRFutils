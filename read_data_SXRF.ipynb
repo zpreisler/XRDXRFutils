{
 "cells": [
  {
   "cell_type": "code",
   "execution_count": 1,
   "id": "c8e3f0dd",
   "metadata": {},
   "outputs": [],
   "source": [
    "from XRDXRFutils import DataSXRF, SpectraSXRF, FluorescenceSXRF\n",
    "datadir = \"/home/rosario/xmimsim/syntetic/Giulia_suited/outdata\"\n",
    "dsxrf_1024 = DataSXRF()\n",
    "dsxrf_1024.set_nbins(1024)"
   ]
  },
  {
   "cell_type": "code",
   "execution_count": 2,
   "id": "ec08b49b",
   "metadata": {},
   "outputs": [
    {
     "name": "stdout",
     "output_type": "stream",
     "text": [
      "Reading SXRF data from /home/rosario/xmimsim/syntetic/Giulia_suited/outdata\n",
      "CPU times: user 202 ms, sys: 61.2 ms, total: 264 ms\n",
      "Wall time: 9.13 s\n"
     ]
    }
   ],
   "source": [
    "%%time\n",
    "synt_data_1024 = dsxrf_1024.read(datadir)"
   ]
  },
  {
   "cell_type": "code",
   "execution_count": 3,
   "id": "dd2e6590",
   "metadata": {},
   "outputs": [
    {
     "name": "stdout",
     "output_type": "stream",
     "text": [
      "695\n",
      "656\n",
      "646\n",
      "606\n"
     ]
    }
   ],
   "source": [
    "spectra_Giulia = synt_data_1024.spe_objs\n",
    "#no Hg-As-Pb\n",
    "spectra_Giulia = [s for s in spectra_Giulia if s.reflayer_atomic_num != [33, 80, 82]]\n",
    "\n",
    "#no Hg-As\n",
    "spectra_Giulia = [s for s in spectra_Giulia if s.reflayer_atomic_num != [33, 80]]\n",
    "\n",
    "print(len(spectra_Giulia))\n",
    "#Ba-Ti hc > 1.0e-04\n",
    "spectra_Giulia = [s for s in spectra_Giulia if not (s.reflayer_atomic_num == [22, 56] and s.sublayer_thickness < 1.0e-04)]\n",
    "print(len(spectra_Giulia))\n",
    "#Co-Fe no hc > 0.0002\n",
    "spectra_Giulia = [s for s in spectra_Giulia if not (s.reflayer_atomic_num == [26, 27] and s.sublayer_thickness > 0.0002)]\n",
    "print(len(spectra_Giulia))\n",
    "#Fe-Mn no hc > 0.001\n",
    "spectra_Giulia = [s for s in spectra_Giulia if not (s.reflayer_atomic_num == [25, 26] and s.sublayer_thickness > 0.001)]\n",
    "print(len(spectra_Giulia))\n",
    "\n",
    "#time corrections\n",
    "for i, s in enumerate(spectra_Giulia):\n",
    "    #Cu-Zn t.c. 0.55\n",
    "    if (s.reflayer_atomic_num == [29, 30]):\n",
    "        s.time_correction(0.55)\n",
    "    #Pb-As t.c. 0.65\n",
    "    elif (s.reflayer_atomic_num == [33, 82]):\n",
    "        s.time_correction(0.65)\n",
    "    #Ca-K t.c. 0.75\n",
    "    elif (s.reflayer_atomic_num == [19, 20]):\n",
    "        s.time_correction(0.75)\n",
    "    #K-Ca-Cd t.c. 1.7\n",
    "    elif (s.reflayer_atomic_num == [19, 20, 48]):\n",
    "        s.time_correction(1.7)\n",
    "    #Cr-Mn t.c. 0.6\n",
    "    elif (s.reflayer_atomic_num == [24, 25]):\n",
    "        s.time_correction(0.6)\n",
    "    spectra_Giulia[i] = s\n",
    "\n",
    "synt_data_1024.spe_objs = spectra_Giulia"
   ]
  },
  {
   "cell_type": "code",
   "execution_count": 4,
   "id": "9b50ad01",
   "metadata": {},
   "outputs": [
    {
     "name": "stdout",
     "output_type": "stream",
     "text": [
      "Reading SXRF data from /home/rosario/xmimsim/syntetic/Giulia_suited/FeMn_more_less_time/outdata\n",
      "Reading SXRF data from /home/rosario/xmimsim/syntetic/test/PbS/outdata\n",
      "Reading SXRF data from /home/rosario/xmimsim/syntetic/test/FeMn_good/outdata\n",
      "Reading SXRF data from /home/rosario/xmimsim/syntetic/test/CuZn/outdata\n",
      "Reading SXRF data from /home/rosario/xmimsim/syntetic/Giulia_suited/FromElGreco/outdata\n"
     ]
    }
   ],
   "source": [
    "#other data\n",
    "FeMn_sxrf = DataSXRF()\n",
    "FeMn_sxrf.set_nbins(1024)\n",
    "synt_FeMn = FeMn_sxrf.read('/home/rosario/xmimsim/syntetic/Giulia_suited/FeMn_more_less_time/outdata') #time c 7.8\n",
    "PbS_sxrf = DataSXRF()\n",
    "PbS_sxrf.set_nbins(1024)\n",
    "synt_PbS = PbS_sxrf.read('/home/rosario/xmimsim/syntetic/test/PbS/outdata') #time corr 2.0\n",
    "FeMn_good_sxrf = DataSXRF()\n",
    "FeMn_good_sxrf.set_nbins(1024)\n",
    "synt_FeMn_good = FeMn_good_sxrf.read('/home/rosario/xmimsim/syntetic/test/FeMn_good/outdata')\n",
    "CuZn_sxrf = DataSXRF()\n",
    "CuZn_sxrf.set_nbins(1024)\n",
    "synt_CuZn = CuZn_sxrf.read('/home/rosario/xmimsim/syntetic/test/CuZn/outdata') #time corr 2\n",
    "from_elgreco_sxrf = DataSXRF()\n",
    "from_elgreco_sxrf.set_nbins(1024)\n",
    "synt_from_elgreco = from_elgreco_sxrf.read('/home/rosario/xmimsim/syntetic/Giulia_suited/FromElGreco/outdata') #tc 0.15"
   ]
  },
  {
   "cell_type": "code",
   "execution_count": 5,
   "id": "552505f1",
   "metadata": {},
   "outputs": [],
   "source": [
    "#generate datacubes and time corrections\n",
    "import numpy as np\n",
    "symbols = [\"Pb\", \"Fe\", \"Mn\", \"Ca\"]\n",
    "lines = [\"L\", \"K\", \"K\", \"K\"]\n",
    "synt_data_1024.get_data_and_labels(symbols, lines)\n",
    "\n",
    "synt_FeMn.get_data_and_labels(symbols, lines)\n",
    "#time corr\n",
    "synt_FeMn.data = synt_FeMn.data * 7.8\n",
    "synt_FeMn.labels = synt_FeMn.labels * 7.8\n",
    "\n",
    "synt_PbS.get_data_and_labels(symbols, lines)\n",
    "# time corr\n",
    "synt_PbS.data = synt_PbS.data * 2.0\n",
    "synt_PbS.labels = synt_PbS.labels * 2.0\n",
    "\n",
    "synt_FeMn_good.get_data_and_labels(symbols, lines)\n",
    "#time corr\n",
    "synt_FeMn_good.data = synt_FeMn_good.data * 0.66 \n",
    "synt_FeMn_good.labels = synt_FeMn_good.labels * 0.66\n",
    "\n",
    "synt_CuZn.get_data_and_labels(symbols, lines)\n",
    "#time corr\n",
    "synt_CuZn.data = synt_CuZn.data * 2\n",
    "synt_CuZn.labels = synt_CuZn.labels * 2\n",
    "\n",
    "synt_from_elgreco.get_data_and_labels(symbols, lines)\n",
    "#time corr\n",
    "synt_from_elgreco.data = synt_from_elgreco.data * 0.15\n",
    "synt_from_elgreco.labels = synt_from_elgreco.labels * 0.15"
   ]
  },
  {
   "cell_type": "code",
   "execution_count": 6,
   "id": "1aa5fd9e",
   "metadata": {},
   "outputs": [
    {
     "name": "stdout",
     "output_type": "stream",
     "text": [
      "(100, 1024)\n",
      "(606, 1024)\n",
      "(100, 1024)\n",
      "(100, 1024)\n",
      "(100, 1024)\n",
      "(297, 1024)\n",
      "(1006, 1024)\n",
      "(1006, 4)\n",
      "elgreco (297, 1024)\n",
      "elgreco (297, 4)\n"
     ]
    }
   ],
   "source": [
    "print(synt_CuZn.data.shape)\n",
    "print(synt_data_1024.data.shape)\n",
    "print(synt_FeMn.data.shape)\n",
    "print(synt_FeMn_good.data.shape)\n",
    "print(synt_PbS.data.shape)\n",
    "print(synt_from_elgreco.shape)\n",
    "datacube = np.concatenate((synt_CuZn.data,\n",
    "                           synt_data_1024.data,\n",
    "                           synt_FeMn.data,\n",
    "                           synt_FeMn_good.data,\n",
    "                           synt_PbS.data\n",
    "))\n",
    "print(datacube.shape)\n",
    "datacube_labels = np.concatenate((synt_CuZn.labels,\n",
    "                                  synt_data_1024.labels,\n",
    "                                  synt_FeMn.labels,\n",
    "                                  synt_FeMn_good.labels,\n",
    "                                  synt_PbS.labels\n",
    "))\n",
    "print(datacube_labels.shape)\n",
    "print(\"elgreco\", synt_from_elgreco.data.shape)\n",
    "print(\"elgreco\", synt_from_elgreco.labels.shape)"
   ]
  },
  {
   "cell_type": "code",
   "execution_count": 55,
   "id": "8e58f373",
   "metadata": {},
   "outputs": [
    {
     "data": {
      "image/png": "[encoded data removed]",
      "text/plain": [
       "<Figure size 432x288 with 1 Axes>"
      ]
     },
     "metadata": {
      "needs_background": "light"
     },
     "output_type": "display_data"
    }
   ],
   "source": [
    "import matplotlib.pyplot as plt\n",
    "def get_random2(counts):\n",
    "    rounded = np.floor(counts)\n",
    "    err = counts - rounded\n",
    "    r = np.random.rand((counts.shape[0]))\n",
    "    rounded += np.int32(r <= err)\n",
    "    return np.random.poisson(rounded)\n",
    "\n",
    "plt.figure(1)\n",
    "plt.plot(synt_data_1024.energy, get_random2(datacube[220,:]))\n",
    "plt.show()"
   ]
  },
  {
   "cell_type": "code",
   "execution_count": 8,
   "id": "5d094aa2",
   "metadata": {},
   "outputs": [],
   "source": [
    "#save datacube and labels\n",
    "np.save(\"/home/rosario/xmimsim/syntetic/datacube_last.npy\", datacube)\n",
    "np.save(\"/home/rosario/xmimsim/syntetic/datacube_last_labels.npy\", datacube_labels)\n",
    "np.save(\"/home/rosario/xmimsim/syntetic/from_ElGreco.npy\", synt_from_elgreco.data)\n",
    "np.save(\"/home/rosario/xmimsim/syntetic/from_ElGreco_labels.npy\", synt_from_elgreco.labels)"
   ]
  },
  {
   "cell_type": "code",
   "execution_count": 9,
   "id": "f9092c20",
   "metadata": {},
   "outputs": [],
   "source": [
    "from XRDXRFutils import DataXRF,resample\n",
    "\n",
    "from numpy import arange,linspace\n",
    "from matplotlib.pyplot import plot,subplots,xlim,ylim,hlines,vlines,xlabel,ylabel,imshow,legend,vlines,savefig,semilogy\n",
    "\n",
    "from scipy.interpolate import interp1d\n",
    "from numpy import concatenate,append,array,diff,trapz,asarray,stack,log\n",
    "\n",
    "from multiprocessing import Pool\n",
    "import h5py\n",
    "from PIL import Image"
   ]
  },
  {
   "cell_type": "code",
   "execution_count": 10,
   "id": "2768e967",
   "metadata": {},
   "outputs": [],
   "source": [
    "def read_tiff(files):\n",
    "    x = []\n",
    "    for file in files:\n",
    "        img = Image.open(file)\n",
    "        x += [asarray(img)]\n",
    "    return asarray(x)"
   ]
  },
  {
   "cell_type": "code",
   "execution_count": 11,
   "id": "2c08daca",
   "metadata": {},
   "outputs": [],
   "source": [
    "#np.save(\"/home/rosario/xmimsim/syntetic/datacube.npy\", datacube)\n",
    "#np.save(\"/home/rosario/xmimsim/syntetic/datacube_labels.npy\", datacube_labels)\n",
    "def _rebin(x,y):\n",
    "    xx = x[::2]\n",
    "    yp = y[:-1] + y[1:]\n",
    "    yy = yp[::2]\n",
    "    return xx, yy\n"
   ]
  },
  {
   "cell_type": "code",
   "execution_count": 13,
   "id": "864c1174",
   "metadata": {},
   "outputs": [],
   "source": [
    "import os\n",
    "os.chdir('/home/rosario/Giulia_XRF/')\n",
    "target_files = ('Pb-L.tiff','Fe-K.tiff','Mn-K.tiff','Ca-K.tiff')\n",
    "targets = read_tiff(target_files)"
   ]
  },
  {
   "cell_type": "code",
   "execution_count": 14,
   "id": "f7e107d1",
   "metadata": {},
   "outputs": [],
   "source": [
    "data = DataXRF()"
   ]
  },
  {
   "cell_type": "code",
   "execution_count": 15,
   "id": "fd0b4c1c",
   "metadata": {},
   "outputs": [
    {
     "name": "stdout",
     "output_type": "stream",
     "text": [
      "Loading: xrf_1024.h5\n"
     ]
    },
    {
     "data": {
      "text/plain": [
       "<XRDXRFutils.data.DataXRF at 0x7f6098f0baf0>"
      ]
     },
     "execution_count": 15,
     "metadata": {},
     "output_type": "execute_result"
    }
   ],
   "source": [
    "data.load_h5('xrf_1024.h5')"
   ]
  },
  {
   "cell_type": "code",
   "execution_count": 16,
   "id": "4478e612",
   "metadata": {},
   "outputs": [
    {
     "data": {
      "text/plain": [
       "[<matplotlib.lines.Line2D at 0x7f6098f2f370>]"
      ]
     },
     "execution_count": 16,
     "metadata": {},
     "output_type": "execute_result"
    },
    {
     "data": {
      "image/png": "[encoded data removed]",
      "text/plain": [
       "<Figure size 432x288 with 1 Axes>"
      ]
     },
     "metadata": {
      "needs_background": "light"
     },
     "output_type": "display_data"
    }
   ],
   "source": [
    "plot(data.data[100,100])"
   ]
  },
  {
   "cell_type": "code",
   "execution_count": 44,
   "id": "9ae3dc2f",
   "metadata": {},
   "outputs": [
    {
     "name": "stdout",
     "output_type": "stream",
     "text": [
      "322\n"
     ]
    },
    {
     "data": {
      "text/plain": [
       "(174724, 1024)"
      ]
     },
     "execution_count": 44,
     "metadata": {},
     "output_type": "execute_result"
    }
   ],
   "source": [
    "dcmax = datacube.max(axis = 1)\n",
    "for i, s in enumerate(dcmax):\n",
    "    if np.isnan(s):\n",
    "        inan = i\n",
    "print(inan)\n",
    "dnan = datacube[inan,:]\n",
    "dnan[np.isnan(dnan)] = 0\n",
    "datacube[inan, :] = dnan\n",
    "data.data = data.data.reshape(418*418, 1024)\n",
    "data.data.shape"
   ]
  },
  {
   "cell_type": "code",
   "execution_count": 43,
   "id": "0e684522",
   "metadata": {},
   "outputs": [
    {
     "name": "stdout",
     "output_type": "stream",
     "text": [
      "24.300847383300198\n",
      "0.7904848491077763\n",
      "30.74169911128426\n"
     ]
    }
   ],
   "source": [
    "dcmax = datacube.max(axis = 1)\n",
    "synt_mean_counts = np.mean(dcmax)/2\n",
    "xrf_mean_counts = np.mean(data.data.max(axis = 1))\n",
    "print(synt_mean_counts)\n",
    "print(xrf_mean_counts)\n",
    "print(synt_mean_counts/xrf_mean_counts)"
   ]
  },
  {
   "cell_type": "code",
   "execution_count": null,
   "id": "5c16c377",
   "metadata": {},
   "outputs": [],
   "source": []
  }
 ],
 "metadata": {
  "kernelspec": {
   "display_name": "Python 3 (ipykernel)",
   "language": "python",
   "name": "python3"
  },
  "language_info": {
   "codemirror_mode": {
    "name": "ipython",
    "version": 3
   },
   "file_extension": ".py",
   "mimetype": "text/x-python",
   "name": "python",
   "nbconvert_exporter": "python",
   "pygments_lexer": "ipython3",
   "version": "3.10.1"
  }
 },
 "nbformat": 4,
 "nbformat_minor": 5
}
