{
 "cells": [
  {
   "cell_type": "code",
   "execution_count": 1,
   "id": "a0abd906",
   "metadata": {},
   "outputs": [],
   "source": [
    "import XRDXRFutils.data as xdata\n",
    "synt = xdata.DataSXRF()"
   ]
  },
  {
   "cell_type": "code",
   "execution_count": 2,
   "id": "bbff8f89",
   "metadata": {},
   "outputs": [
    {
     "name": "stdout",
     "output_type": "stream",
     "text": [
      "Reading SXRF data from /home/rosario/xmimsim/synthetic/FeMnCaHg/outdata\n",
      "Error while parsing\n",
      "/home/rosario/xmimsim/synthetic/FeMnCaHg/outdata/sxrf.h5\n",
      "12375\n"
     ]
    }
   ],
   "source": [
    "#read from xmso's data directory named \"outdata\"\n",
    "datadir = '/home/rosario/xmimsim/synthetic/FeMnCaHg/outdata'\n",
    "#synt.read(datadir) # very slow\n",
    "#before calling the read() method, the number of bins, if different from 2048, can be setted\n",
    "synt.read(datadir)\n",
    "print(len(synt))"
   ]
  },
  {
   "cell_type": "code",
   "execution_count": 3,
   "id": "1a17208f",
   "metadata": {},
   "outputs": [
    {
     "name": "stdout",
     "output_type": "stream",
     "text": [
      "<class 'list'>\n",
      "<class 'XRDXRFutils.spectra.SpectraSXRF'>\n",
      "(12375, 2048)\n",
      "(2048,)\n",
      "(12375, 5)\n"
     ]
    }
   ],
   "source": [
    "print(type(synt.spe_objs)) #is a list of SpectraSXRF objects (see XRDXRFutils/spectra.py)\n",
    "print(type(synt.spe_objs[0]))\n",
    "symbols = [\"Pb\", \"Fe\", \"Mn\", \"Ca\", \"Hg\"]\n",
    "lines = [\"L\", \"K\", \"K\", \"K\", \"L\"]\n",
    "synt = synt.get_data_and_labels(symbols, lines) #get the data (inputs) and labels (targets) and store symbols and\n",
    "# lines as metadata\n",
    "# now synt.data synt.energy and synt.labels attributes exist\n",
    "print(synt.data.shape)\n",
    "print(synt.energy.shape)\n",
    "print(synt.labels.shape)"
   ]
  },
  {
   "cell_type": "code",
   "execution_count": 4,
   "id": "19b24b48",
   "metadata": {},
   "outputs": [
    {
     "name": "stdout",
     "output_type": "stream",
     "text": [
      "Saving: /home/rosario/xmimsim/synthetic/FeMnCaHg/FeMnCaHg_1024_data.h5\n",
      "['/home/rosario/xmimsim/synthetic/FeMnCaHg/outdata/sxrf.h5']\n",
      "['/home/rosario/xmimsim/synthetic/FeMnCaHg/FeMnCaHg_1024_data.h5']\n"
     ]
    }
   ],
   "source": [
    "#save hdf5 file\n",
    "import glob\n",
    "import os\n",
    "synt.save_h5(\"/home/rosario/xmimsim/synthetic/FeMnCaHg/FeMnCaHg_1024_data.h5\") # default name = class name\n",
    "print(glob.glob(os.path.join(datadir, \"*.h5\")))\n",
    "print(glob.glob(os.path.join('/home/rosario/xmimsim/synthetic/FeMnCaHg', \"*.h5\")))"
   ]
  },
  {
   "cell_type": "code",
   "execution_count": 5,
   "id": "9bc59c29",
   "metadata": {},
   "outputs": [
    {
     "name": "stdout",
     "output_type": "stream",
     "text": [
      "(12375, 4)\n",
      "(12375,)\n",
      "(12375,)\n",
      "(12375, 4)\n"
     ]
    }
   ],
   "source": [
    "sim_par = synt.get_sim_parameters() # get simulation parameters (used for hdf5 file)\n",
    "print(sim_par.reflayer_elements.shape)\n",
    "print(sim_par.reflayer_thickness.shape)\n",
    "print(sim_par.sublayer_thickness.shape)\n",
    "print(sim_par.weight_fractions.shape)"
   ]
  },
  {
   "cell_type": "code",
   "execution_count": 6,
   "id": "026e8c4d",
   "metadata": {},
   "outputs": [
    {
     "name": "stdout",
     "output_type": "stream",
     "text": [
      "(100, 2048)\n",
      "(2048,)\n",
      "(100, 5)\n"
     ]
    }
   ],
   "source": [
    "#another method\n",
    "import os\n",
    "synt = xdata.DataSXRF()\n",
    "symbols = [\"Pb\", \"Fe\", \"Mn\", \"Ca\", \"Hg\"]\n",
    "lines = [\"L\", \"K\", \"K\", \"K\", \"L\"]\n",
    "datadir = '/home/rosario/xmimsim/synthetic/FeMnCaHg/outdata/Fe-Mn-Ca-Hg'\n",
    "xmso_fnames = [os.path.join(datadir, f) for f in os.listdir(datadir)] # or another way to collect xmso files\n",
    "synt.spe_objs = [s for s in synt.__read__(xmso_fnames[:100])] #only the first 100 just for explanation\n",
    "synt = synt.get_data_and_labels(symbols, lines) #as above\n",
    "print(synt.data.shape)\n",
    "print(synt.energy.shape)\n",
    "print(synt.labels.shape)"
   ]
  },
  {
   "cell_type": "code",
   "execution_count": 7,
   "id": "35a93004",
   "metadata": {},
   "outputs": [
    {
     "name": "stdout",
     "output_type": "stream",
     "text": [
      "Saving: /home/rosario/test_h5.h5\n"
     ]
    }
   ],
   "source": [
    "#save hdf5 file\n",
    "synt.save_h5('/home/rosario/test_h5.h5')"
   ]
  },
  {
   "cell_type": "code",
   "execution_count": 9,
   "id": "9a2f951f",
   "metadata": {},
   "outputs": [
    {
     "name": "stdout",
     "output_type": "stream",
     "text": [
      "Loading: /home/rosario/xmimsim/synthetic/FeMnCaHg/FeMnCaHg_1024_data.h5\n",
      "data shape (12375, 2048)\n",
      "energy shape (2048,)\n",
      "labels shape (12375, 5)\n",
      "reflayer elements shape (12375, 4)\n",
      "reflayer thickness shape (12375,)\n",
      "sublayer thickness shape (12375,)\n",
      "weight fractions shape (12375, 4)\n",
      "\n",
      "metadata\n",
      "\n",
      "lines ['L' 'K' 'K' 'K' 'L']\n",
      "symbols ['Pb' 'Fe' 'Mn' 'Ca' 'Hg']\n"
     ]
    }
   ],
   "source": [
    "#read from hdf5\n",
    "synt = xdata.DataSXRF()\n",
    "h5fname = '/home/rosario/xmimsim/synthetic/FeMnCaHg/FeMnCaHg_1024_data.h5'\n",
    "synt.load_h5(h5fname)\n",
    "print(\"data shape\",synt.data.shape)\n",
    "print(\"energy shape\",synt.energy.shape)\n",
    "print(\"labels shape\",synt.labels.shape)\n",
    "print(\"reflayer elements shape\",synt.reflayer_elements.shape)\n",
    "print(\"reflayer thickness shape\",synt.reflayer_thickness.shape)\n",
    "print(\"sublayer thickness shape\",synt.sublayer_thickness.shape)\n",
    "print(\"weight fractions shape\",synt.weight_fractions.shape)\n",
    "print(\"\\nmetadata\\n\")\n",
    "for k, v in synt.metadata.items():\n",
    "    print(k,v)"
   ]
  },
  {
   "cell_type": "code",
   "execution_count": 10,
   "id": "69f6fdcb",
   "metadata": {
    "scrolled": true
   },
   "outputs": [
    {
     "data": {
      "image/png": "[encoded data removed]",
      "text/plain": [
       "<Figure size 432x288 with 1 Axes>"
      ]
     },
     "metadata": {
      "needs_background": "light"
     },
     "output_type": "display_data"
    }
   ],
   "source": [
    "%matplotlib inline\n",
    "import matplotlib.pyplot as plt\n",
    "fig, ax = plt.subplots()\n",
    "ax.plot(synt.energy, synt.data[42,:])\n",
    "plt.show()"
   ]
  },
  {
   "cell_type": "code",
   "execution_count": null,
   "id": "355be5ab",
   "metadata": {},
   "outputs": [],
   "source": [
    "#load_h5 method\n",
    "def load_h5(self,filename):\n",
    "\n",
    "    print('Loading:',filename)\n",
    "    with h5py.File(filename,'r') as f:\n",
    "                \n",
    "        self.parameters = SimParameters() # SimParameters is a datastruct in data.py\n",
    "        self.data = f['inputs'][:]\n",
    "        self.labels = f['targets'][:]\n",
    "        self.reflayer_thickness = f['reflayer_thickness'][:]\n",
    "        self.sublayer_thickness = f['sublayer_thickness'][:]\n",
    "        self.reflayer_elements = f['reflayer_elements'][:]\n",
    "        self.weight_fractions = f['weight_fractions'][:]\n",
    "        self.energy = f['energy'][:]\n",
    "\n",
    "        for k,v in f.attrs.items():\n",
    "            self.metadata[k] = v"
   ]
  },
  {
   "cell_type": "code",
   "execution_count": 11,
   "id": "86ca8ec4",
   "metadata": {},
   "outputs": [
    {
     "name": "stdout",
     "output_type": "stream",
     "text": [
      "(1650, 2048)\n"
     ]
    }
   ],
   "source": [
    "# select data in a reference layers thickness range\n",
    "rl_range = [4.2e-4, 5.7e-4]\n",
    "condition = (synt.reflayer_thickness > rl_range[0]) & (synt.reflayer_thickness < rl_range[1])\n",
    "print(synt.data[condition,:].shape)\n",
    "condition = lambda x, r: (x > r[0]) & (x < r[1])"
   ]
  },
  {
   "cell_type": "code",
   "execution_count": 12,
   "id": "4cc29a0d",
   "metadata": {
    "scrolled": true
   },
   "outputs": [
    {
     "name": "stdout",
     "output_type": "stream",
     "text": [
      "sorted rl thickness\n",
      " [1.0000e-07 7.1520e-05 1.4294e-04 ... 7.8574e-04 2.8579e-04 2.1436e-04]\n",
      "sorted sl thickness\n",
      " [1.e-07 1.e-07 1.e-07 ... 9.e-05 9.e-05 9.e-05]\n",
      "sorted weight fractions\n",
      " [[ 1.   48.    1.   50.  ]\n",
      " [30.4  50.95 17.65  1.  ]\n",
      " [50.    1.   48.    1.  ]\n",
      " ...\n",
      " [10.8  44.1  44.1   1.  ]\n",
      " [50.   48.    1.    1.  ]\n",
      " [30.4   1.   67.6   1.  ]]\n",
      "first and 42'th spectra in sorted data\n",
      "\n"
     ]
    },
    {
     "data": {
      "image/png": "[encoded data removed]",
      "text/plain": [
       "<Figure size 432x288 with 1 Axes>"
      ]
     },
     "metadata": {
      "needs_background": "light"
     },
     "output_type": "display_data"
    }
   ],
   "source": [
    "#sort by sublayer thickness\n",
    "sorted_val= sorted(\n",
    "    zip(\n",
    "        range(\n",
    "            len(synt.sublayer_thickness)\n",
    "        ), synt.sublayer_thickness), key = lambda x: x[1]\n",
    ")\n",
    "sorted_index = [i[0] for i in sorted_val]\n",
    "#or \n",
    "sorted_index = [i[0] for i in sorted(enumerate(synt.sublayer_thickness), key = lambda x: x[1])]\n",
    "print(\"sorted rl thickness\\n\",synt.reflayer_thickness[sorted_index])\n",
    "print(\"sorted sl thickness\\n\",synt.sublayer_thickness[sorted_index])\n",
    "print(\"sorted weight fractions\\n\",synt.weight_fractions[sorted_index])\n",
    "print(\"first and 42'th spectra in sorted data\\n\")\n",
    "fig,ax = plt.subplots()\n",
    "ax.plot(synt.energy,synt.data[sorted_index[0],:])\n",
    "ax.plot(synt.energy, synt.data[sorted_index[42],:])\n",
    "plt.show()"
   ]
  },
  {
   "cell_type": "code",
   "execution_count": 14,
   "id": "55c0528c",
   "metadata": {},
   "outputs": [
    {
     "data": {
      "image/png": "[encoded data removed]",
      "text/plain": [
       "<Figure size 432x288 with 1 Axes>"
      ]
     },
     "metadata": {
      "needs_background": "light"
     },
     "output_type": "display_data"
    }
   ],
   "source": [
    "#select Fe, Mn and Pb labels\n",
    "Fe = synt.labels[:,(synt.metadata[\"symbols\"] == \"Fe\")]\n",
    "Mn = synt.labels[:,(synt.metadata[\"symbols\"] == \"Mn\")]\n",
    "Pb = synt.labels[:,(synt.metadata[\"symbols\"] == \"Pb\")]\n",
    "fig,ax = plt.subplots()\n",
    "ax.scatter(Fe/Pb, Mn/Pb, s = 0.5, alpha = 0.5)\n",
    "ax.set_title(\"Mn/Pb vs Fe/Pb\")\n",
    "ax.set_xscale('log')\n",
    "ax.set_yscale('log')\n",
    "plt.show()"
   ]
  },
  {
   "cell_type": "code",
   "execution_count": 17,
   "id": "0c5bb3c2",
   "metadata": {},
   "outputs": [
    {
     "name": "stdout",
     "output_type": "stream",
     "text": [
      "[[29.4 ]\n",
      " [ 1.  ]\n",
      " [17.65]\n",
      " ...\n",
      " [ 1.  ]\n",
      " [25.  ]\n",
      " [67.6 ]]\n",
      "Mnwf set {1.0, 12.75, 15.2, 17.65, 20.1, 22.55, 24.5, 25.0, 29.4, 34.3, 36.25, 39.2, 43.6, 44.1, 48.0, 49.0, 50.95, 57.8, 58.3, 65.65, 67.6, 73.0, 77.4, 87.2, 97.0}\n"
     ]
    }
   ],
   "source": [
    "#select Mn weight fractions\n",
    "#Pb is not present in reference layers so we skip index zero (Pb) in metadata[\"symbols\"] always at the first index\n",
    "Mnwf = synt.weight_fractions[:, (synt.metadata[\"symbols\"][1:] == \"Mn\")]\n",
    "print(Mnwf)\n",
    "print(\"Mnwf set\", set(Mnwf.ravel()))"
   ]
  },
  {
   "cell_type": "code",
   "execution_count": null,
   "id": "1fb9549a",
   "metadata": {},
   "outputs": [],
   "source": []
  }
 ],
 "metadata": {
  "kernelspec": {
   "display_name": "Python 3 (ipykernel)",
   "language": "python",
   "name": "python3"
  },
  "language_info": {
   "codemirror_mode": {
    "name": "ipython",
    "version": 3
   },
   "file_extension": ".py",
   "mimetype": "text/x-python",
   "name": "python",
   "nbconvert_exporter": "python",
   "pygments_lexer": "ipython3",
   "version": "3.10.2"
  }
 },
 "nbformat": 4,
 "nbformat_minor": 5
}
