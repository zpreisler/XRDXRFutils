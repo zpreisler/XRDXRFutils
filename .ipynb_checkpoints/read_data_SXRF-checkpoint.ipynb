{
 "cells": [
  {
   "cell_type": "code",
   "execution_count": 1,
   "id": "18572d36",
   "metadata": {},
   "outputs": [],
   "source": [
    "import XRDXRFutils.data as xdata\n",
    "synt = xdata.DataSXRF()"
   ]
  },
  {
   "cell_type": "code",
   "execution_count": 4,
   "id": "39f6297d",
   "metadata": {},
   "outputs": [
    {
     "name": "stdout",
     "output_type": "stream",
     "text": [
      "Reading SXRF data from /home/rosario/xmimsim/synthetic/FeMnCaHg/outdata\n",
      "12375\n"
     ]
    }
   ],
   "source": [
    "#read from xmso's data directory named \"outdata\"\n",
    "datadir = '/home/rosario/xmimsim/synthetic/FeMnCaHg/outdata'\n",
    "synt.read(datadir) # very slow\n",
    "print(len(synt))"
   ]
  },
  {
   "cell_type": "code",
   "execution_count": 5,
   "id": "f9d3ae7c",
   "metadata": {},
   "outputs": [
    {
     "name": "stdout",
     "output_type": "stream",
     "text": [
      "(12375, 2048)\n",
      "(2048,)\n",
      "(12375, 5)\n"
     ]
    }
   ],
   "source": [
    "type(synt.spe_objs) #is a list of SpectraSXRF objects (see XRDXRFutils/spectra.py)\n",
    "symbols = [\"Pb\", \"Fe\", \"Mn\", \"Ca\", \"Hg\"]\n",
    "lines = [\"L\", \"K\", \"K\", \"K\", \"L\"]\n",
    "synt = synt.get_data_and_labels(symbols, lines) #get the data (inputs) and labels (targets) and store symbols and\n",
    "# lines as metadata\n",
    "# now synt.data synt.energy and synt.labels attributes exist\n",
    "print(synt.data.shape)\n",
    "print(synt.energy.shape)\n",
    "print(synt.labels.shape)"
   ]
  },
  {
   "cell_type": "code",
   "execution_count": 7,
   "id": "56da27ea",
   "metadata": {},
   "outputs": [
    {
     "name": "stdout",
     "output_type": "stream",
     "text": [
      "Saving: /home/rosario/xmimsim/synthetic/FeMnCaHg/outdata/sxrf.h5\n",
      "['/home/rosario/xmimsim/synthetic/FeMnCaHg/outdata/sxrf.h5']\n"
     ]
    }
   ],
   "source": [
    "#save hdf5 file\n",
    "import glob\n",
    "import os\n",
    "synt.save_h5() # default name = class name\n",
    "print(glob.glob(os.path.join(datadir, \"*.h5\")))"
   ]
  },
  {
   "cell_type": "code",
   "execution_count": 8,
   "id": "4ac80159",
   "metadata": {},
   "outputs": [
    {
     "name": "stdout",
     "output_type": "stream",
     "text": [
      "(12375, 4)\n",
      "(12375,)\n",
      "(12375,)\n",
      "(12375, 4)\n"
     ]
    }
   ],
   "source": [
    "sim_par = synt.get_sim_parameters() # get simulation parameters (used for hdf5 file)\n",
    "print(sim_par.reflayer_elements.shape)\n",
    "print(sim_par.reflayer_thickness.shape)\n",
    "print(sim_par.sublayer_thickness.shape)\n",
    "print(sim_par.weight_fractions.shape)"
   ]
  },
  {
   "cell_type": "code",
   "execution_count": 3,
   "id": "0eda6510",
   "metadata": {},
   "outputs": [
    {
     "name": "stdout",
     "output_type": "stream",
     "text": [
      "(100, 2048)\n",
      "(2048,)\n",
      "(100, 5)\n"
     ]
    }
   ],
   "source": [
    "#another method\n",
    "symbols = [\"Pb\", \"Fe\", \"Mn\", \"Ca\", \"Hg\"]\n",
    "lines = [\"L\", \"K\", \"K\", \"K\", \"L\"]\n",
    "datadir = '/home/rosario/xmimsim/synthetic/FeMnCaHg/outdata/Fe-Mn-Ca-Hg'\n",
    "xmso_fnames = [os.path.join(datadir, f) for f in os.listdir(datadir)] # or another method to collect xmso files\n",
    "synt.spe_objs = [s for s in synt.__read__(xmso_fnames[:100])] # only the first 100\n",
    "synt = synt.get_data_and_labels(symbols, lines) #as above\n",
    "print(synt.data.shape)\n",
    "print(synt.energy.shape)\n",
    "print(synt.labels.shape)"
   ]
  },
  {
   "cell_type": "code",
   "execution_count": 4,
   "id": "344c6e42",
   "metadata": {},
   "outputs": [
    {
     "name": "stdout",
     "output_type": "stream",
     "text": [
      "Saving: /home/rosario/test_h5.h5\n"
     ]
    }
   ],
   "source": [
    "#save hdf5 file\n",
    "synt.save_h5('/home/rosario/test_h5.h5')"
   ]
  },
  {
   "cell_type": "code",
   "execution_count": 5,
   "id": "cc6a91b3",
   "metadata": {},
   "outputs": [
    {
     "name": "stdout",
     "output_type": "stream",
     "text": [
      "Loading: /home/rosario/test_h5.h5\n",
      "(100, 2048)\n",
      "(2048,)\n",
      "(100, 5)\n",
      "(100, 4)\n",
      "(100,)\n",
      "(100,)\n",
      "(100, 4)\n",
      "lines ['L' 'K' 'K' 'K' 'L']\n",
      "symbols ['Pb' 'Fe' 'Mn' 'Ca' 'Hg']\n"
     ]
    }
   ],
   "source": [
    "#read from hdf5\n",
    "synt = xdata.DataSXRF()\n",
    "h5fname = '/home/rosario/test_h5.h5'\n",
    "synt.load_h5(h5fname)\n",
    "print(synt.data.shape)\n",
    "print(synt.energy.shape)\n",
    "print(synt.labels.shape)\n",
    "print(synt.reflayer_elements.shape)\n",
    "print(synt.reflayer_thickness.shape)\n",
    "print(synt.sublayer_thickness.shape)\n",
    "print(synt.weight_fractions.shape)\n",
    "for k, v in synt.metadata.items():\n",
    "    print(k,v)"
   ]
  },
  {
   "cell_type": "code",
   "execution_count": 7,
   "id": "3b5d20de",
   "metadata": {
    "scrolled": true
   },
   "outputs": [
    {
     "data": {
      "image/png": "[encoded data removed]",
      "text/plain": [
       "<Figure size 432x288 with 1 Axes>"
      ]
     },
     "metadata": {
      "needs_background": "light"
     },
     "output_type": "display_data"
    }
   ],
   "source": [
    "%matplotlib inline\n",
    "import matplotlib.pyplot as plt\n",
    "fig, ax = plt.subplots()\n",
    "ax.plot(synt.energy, synt.data[42,:])\n",
    "plt.show()"
   ]
  },
  {
   "cell_type": "code",
   "execution_count": null,
   "id": "4d33a155",
   "metadata": {},
   "outputs": [],
   "source": [
    "#load_h5 method\n",
    "def load_h5(self,filename):\n",
    "\n",
    "    print('Loading:',filename)\n",
    "    with h5py.File(filename,'r') as f:\n",
    "                \n",
    "        self.parameters = SimParameters() # SimParameters is a datastruct in data.py\n",
    "        self.data = f['inputs'][:]\n",
    "        self.labels = f['targets'][:]\n",
    "        self.reflayer_thickness = f['reflayer_thickness'][:]\n",
    "        self.sublayer_thickness = f['sublayer_thickness'][:]\n",
    "        self.reflayer_elements = f['reflayer_elements'][:]\n",
    "        self.weight_fractions = f['weight_fractions'][:]\n",
    "        self.energy = f['energy'][:]\n",
    "\n",
    "        for k,v in f.attrs.items():\n",
    "            self.metadata[k] = v"
   ]
  }
 ],
 "metadata": {
  "kernelspec": {
   "display_name": "Python 3 (ipykernel)",
   "language": "python",
   "name": "python3"
  },
  "language_info": {
   "codemirror_mode": {
    "name": "ipython",
    "version": 3
   },
   "file_extension": ".py",
   "mimetype": "text/x-python",
   "name": "python",
   "nbconvert_exporter": "python",
   "pygments_lexer": "ipython3",
   "version": "3.10.2"
  }
 },
 "nbformat": 4,
 "nbformat_minor": 5
}
