{
 "cells": [
  {
   "cell_type": "markdown",
   "id": "0d562398",
   "metadata": {},
   "source": [
    "# Preparation"
   ]
  },
  {
   "cell_type": "code",
   "execution_count": 1,
   "id": "3a867c7c",
   "metadata": {},
   "outputs": [
    {
     "name": "stdout",
     "output_type": "stream",
     "text": [
      "Reading phases from: '../../shared/Database16_42/'\n",
      "Total number of phases: 436\n"
     ]
    }
   ],
   "source": [
    "from XRDXRFutils.notebook_utils import *\n",
    "\n",
    "### Base path ###\n",
    "#path_shared = '/home/shared/'\n",
    "path_shared = '../../shared/'\n",
    "\n",
    "### Input ###\n",
    "list_path_database = [path_shared + 'Database16_42/']   # tabulated phases\n",
    "\n",
    "### Read phase database ###\n",
    "print('Reading phases from: ' + ', '.join([\"'\" + path + \"'\" for path in list_path_database]))\n",
    "database = DatabaseXRD()\n",
    "for path_database in list_path_database:\n",
    "    database.read_cifs(path_database)\n",
    "print(f'Total number of phases: {len(database)}')"
   ]
  },
  {
   "cell_type": "markdown",
   "id": "7a14f266",
   "metadata": {},
   "source": [
    "# Choose phase"
   ]
  },
  {
   "cell_type": "markdown",
   "id": "7861450d-09b1-483d-bde9-0b45c61600b4",
   "metadata": {
    "tags": []
   },
   "source": [
    "### View phases of chosen elements\n",
    "- `elements_chosen`: Elements that need to be in the selected phases.\n",
    "- `elements_excluded`: Elements that must not be in the selected phases."
   ]
  },
  {
   "cell_type": "code",
   "execution_count": 2,
   "id": "0ecbb357",
   "metadata": {},
   "outputs": [
    {
     "data": {
      "text/html": [
       "<div>\n",
       "<style scoped>\n",
       "    .dataframe tbody tr th:only-of-type {\n",
       "        vertical-align: middle;\n",
       "    }\n",
       "\n",
       "    .dataframe tbody tr th {\n",
       "        vertical-align: top;\n",
       "    }\n",
       "\n",
       "    .dataframe thead th {\n",
       "        text-align: right;\n",
       "    }\n",
       "</style>\n",
       "<table border=\"1\" class=\"dataframe\">\n",
       "  <thead>\n",
       "    <tr style=\"text-align: right;\">\n",
       "      <th></th>\n",
       "      <th>Name in database</th>\n",
       "      <th>Chemical formula</th>\n",
       "      <th>N. of samples</th>\n",
       "    </tr>\n",
       "  </thead>\n",
       "  <tbody>\n",
       "    <tr>\n",
       "      <th>0</th>\n",
       "      <td>Akaganeite</td>\n",
       "      <td>Cl0.675 Fe4 O8</td>\n",
       "      <td>2</td>\n",
       "    </tr>\n",
       "    <tr>\n",
       "      <th>1</th>\n",
       "      <td>BurntUmberReddish</td>\n",
       "      <td>Fe Mn O Al H</td>\n",
       "      <td>1</td>\n",
       "    </tr>\n",
       "    <tr>\n",
       "      <th>2</th>\n",
       "      <td>Burnt_Sienna_Italian</td>\n",
       "      <td>Fe Mn O Al H</td>\n",
       "      <td>2</td>\n",
       "    </tr>\n",
       "    <tr>\n",
       "      <th>3</th>\n",
       "      <td>Burnt_Sienna_Italian_2</td>\n",
       "      <td>Fe Mn O Al H</td>\n",
       "      <td>1</td>\n",
       "    </tr>\n",
       "    <tr>\n",
       "      <th>4</th>\n",
       "      <td>Burnt_Umber_reddish</td>\n",
       "      <td>Fe Mn O Al H</td>\n",
       "      <td>1</td>\n",
       "    </tr>\n",
       "    <tr>\n",
       "      <th>5</th>\n",
       "      <td>Cromossido di ematite</td>\n",
       "      <td>Mg Al Co Cr Fe Cu</td>\n",
       "      <td>1</td>\n",
       "    </tr>\n",
       "    <tr>\n",
       "      <th>6</th>\n",
       "      <td>Erythrite</td>\n",
       "      <td>As4 Co4.02 Fe1.48 H32 Ni0.50 O32</td>\n",
       "      <td>1</td>\n",
       "    </tr>\n",
       "    <tr>\n",
       "      <th>7</th>\n",
       "      <td>Fe2 O3</td>\n",
       "      <td>Fe2 O3</td>\n",
       "      <td>10</td>\n",
       "    </tr>\n",
       "    <tr>\n",
       "      <th>8</th>\n",
       "      <td>Fe2MnO4</td>\n",
       "      <td>Fe2 Mn O4</td>\n",
       "      <td>1</td>\n",
       "    </tr>\n",
       "    <tr>\n",
       "      <th>9</th>\n",
       "      <td>FrenchOchreSoforouge</td>\n",
       "      <td>Fe2 O3</td>\n",
       "      <td>1</td>\n",
       "    </tr>\n",
       "    <tr>\n",
       "      <th>10</th>\n",
       "      <td>French_Ochre_SOFOROUGE</td>\n",
       "      <td>Fe2 O3</td>\n",
       "      <td>1</td>\n",
       "    </tr>\n",
       "    <tr>\n",
       "      <th>11</th>\n",
       "      <td>Goethite</td>\n",
       "      <td>Fe H O2</td>\n",
       "      <td>22</td>\n",
       "    </tr>\n",
       "    <tr>\n",
       "      <th>12</th>\n",
       "      <td>Hematite</td>\n",
       "      <td>Fe2 O3</td>\n",
       "      <td>10</td>\n",
       "    </tr>\n",
       "    <tr>\n",
       "      <th>13</th>\n",
       "      <td>Jacobsite</td>\n",
       "      <td>Al0.049 Fe1.911 Mg0.736 Mn0.284 O4 Zn0.017</td>\n",
       "      <td>4</td>\n",
       "    </tr>\n",
       "    <tr>\n",
       "      <th>14</th>\n",
       "      <td>Jarosite</td>\n",
       "      <td>Fe2.88 H5.83 K0.81 O13.64 S2</td>\n",
       "      <td>15</td>\n",
       "    </tr>\n",
       "    <tr>\n",
       "      <th>15</th>\n",
       "      <td>Lepidocrocite</td>\n",
       "      <td>Fe H O2</td>\n",
       "      <td>2</td>\n",
       "    </tr>\n",
       "    <tr>\n",
       "      <th>16</th>\n",
       "      <td>Magnetite</td>\n",
       "      <td>Fe3 O4</td>\n",
       "      <td>1</td>\n",
       "    </tr>\n",
       "    <tr>\n",
       "      <th>17</th>\n",
       "      <td>Manganese diiron(III) oxide</td>\n",
       "      <td>Fe2 Mn O4</td>\n",
       "      <td>1</td>\n",
       "    </tr>\n",
       "    <tr>\n",
       "      <th>18</th>\n",
       "      <td>ManganeseBlack</td>\n",
       "      <td>Fe Mn O</td>\n",
       "      <td>1</td>\n",
       "    </tr>\n",
       "    <tr>\n",
       "      <th>19</th>\n",
       "      <td>ManganeseBlack_2</td>\n",
       "      <td>Fe Mn O</td>\n",
       "      <td>1</td>\n",
       "    </tr>\n",
       "    <tr>\n",
       "      <th>20</th>\n",
       "      <td>ManganeseBlack_3</td>\n",
       "      <td>Fe Mn O</td>\n",
       "      <td>1</td>\n",
       "    </tr>\n",
       "    <tr>\n",
       "      <th>21</th>\n",
       "      <td>Mn Fe2 O4</td>\n",
       "      <td>Fe2 Mn O4</td>\n",
       "      <td>2</td>\n",
       "    </tr>\n",
       "    <tr>\n",
       "      <th>22</th>\n",
       "      <td>Potassium Iron Sulfate Hydroxide</td>\n",
       "      <td>K Fe S O H</td>\n",
       "      <td>1</td>\n",
       "    </tr>\n",
       "    <tr>\n",
       "      <th>23</th>\n",
       "      <td>Pyrite</td>\n",
       "      <td>Fe S2</td>\n",
       "      <td>9</td>\n",
       "    </tr>\n",
       "    <tr>\n",
       "      <th>24</th>\n",
       "      <td>SiO2 Al2O3 CaO Fe2O3 MnO2</td>\n",
       "      <td>Si O Al Ca Fe Mn</td>\n",
       "      <td>1</td>\n",
       "    </tr>\n",
       "    <tr>\n",
       "      <th>25</th>\n",
       "      <td>Siderite</td>\n",
       "      <td>C Fe O3</td>\n",
       "      <td>2</td>\n",
       "    </tr>\n",
       "    <tr>\n",
       "      <th>26</th>\n",
       "      <td>V AegirineFine</td>\n",
       "      <td>Si Fe</td>\n",
       "      <td>1</td>\n",
       "    </tr>\n",
       "    <tr>\n",
       "      <th>27</th>\n",
       "      <td>V AegirineFine_2</td>\n",
       "      <td>Si Fe</td>\n",
       "      <td>1</td>\n",
       "    </tr>\n",
       "    <tr>\n",
       "      <th>28</th>\n",
       "      <td>V AegirineFine_3</td>\n",
       "      <td>Si Fe</td>\n",
       "      <td>1</td>\n",
       "    </tr>\n",
       "    <tr>\n",
       "      <th>29</th>\n",
       "      <td>V AegirineFine_4</td>\n",
       "      <td>Si Fe</td>\n",
       "      <td>1</td>\n",
       "    </tr>\n",
       "    <tr>\n",
       "      <th>30</th>\n",
       "      <td>V Burgundy_Yellow_Ochre</td>\n",
       "      <td>Fe2 O3</td>\n",
       "      <td>1</td>\n",
       "    </tr>\n",
       "    <tr>\n",
       "      <th>31</th>\n",
       "      <td>V Cr2O3 Fe2O3 MgO Al2O3 SiO2</td>\n",
       "      <td>Cr O Fe Mg Al Si</td>\n",
       "      <td>2</td>\n",
       "    </tr>\n",
       "    <tr>\n",
       "      <th>32</th>\n",
       "      <td>V Fe2O3</td>\n",
       "      <td>Fe Mn O</td>\n",
       "      <td>2</td>\n",
       "    </tr>\n",
       "    <tr>\n",
       "      <th>33</th>\n",
       "      <td>V Fe2O3 MgO Al2O3 TiO2 MgSO4 SiO2</td>\n",
       "      <td>Fe O Mg Al Ti S Si</td>\n",
       "      <td>1</td>\n",
       "    </tr>\n",
       "    <tr>\n",
       "      <th>34</th>\n",
       "      <td>V Iron oxide Quartz Silica</td>\n",
       "      <td>Fe O Si</td>\n",
       "      <td>1</td>\n",
       "    </tr>\n",
       "    <tr>\n",
       "      <th>35</th>\n",
       "      <td>V Iron oxide TiO2</td>\n",
       "      <td>Fe O Ti</td>\n",
       "      <td>1</td>\n",
       "    </tr>\n",
       "    <tr>\n",
       "      <th>36</th>\n",
       "      <td>V IronOxideOrange</td>\n",
       "      <td>Fe2 O3</td>\n",
       "      <td>2</td>\n",
       "    </tr>\n",
       "    <tr>\n",
       "      <th>37</th>\n",
       "      <td>V Magnetite_Black</td>\n",
       "      <td>Fe3 O4</td>\n",
       "      <td>1</td>\n",
       "    </tr>\n",
       "    <tr>\n",
       "      <th>38</th>\n",
       "      <td>Wuestite</td>\n",
       "      <td>Fe0.911 O</td>\n",
       "      <td>11</td>\n",
       "    </tr>\n",
       "    <tr>\n",
       "      <th>39</th>\n",
       "      <td>hematite</td>\n",
       "      <td>Fe2 O3</td>\n",
       "      <td>2</td>\n",
       "    </tr>\n",
       "  </tbody>\n",
       "</table>\n",
       "</div>"
      ],
      "text/plain": [
       "                     Name in database  \\\n",
       "0                          Akaganeite   \n",
       "1                   BurntUmberReddish   \n",
       "2                Burnt_Sienna_Italian   \n",
       "3              Burnt_Sienna_Italian_2   \n",
       "4                 Burnt_Umber_reddish   \n",
       "5               Cromossido di ematite   \n",
       "6                           Erythrite   \n",
       "7                              Fe2 O3   \n",
       "8                             Fe2MnO4   \n",
       "9                FrenchOchreSoforouge   \n",
       "10             French_Ochre_SOFOROUGE   \n",
       "11                           Goethite   \n",
       "12                           Hematite   \n",
       "13                          Jacobsite   \n",
       "14                           Jarosite   \n",
       "15                      Lepidocrocite   \n",
       "16                          Magnetite   \n",
       "17        Manganese diiron(III) oxide   \n",
       "18                     ManganeseBlack   \n",
       "19                   ManganeseBlack_2   \n",
       "20                   ManganeseBlack_3   \n",
       "21                          Mn Fe2 O4   \n",
       "22   Potassium Iron Sulfate Hydroxide   \n",
       "23                             Pyrite   \n",
       "24          SiO2 Al2O3 CaO Fe2O3 MnO2   \n",
       "25                           Siderite   \n",
       "26                     V AegirineFine   \n",
       "27                   V AegirineFine_2   \n",
       "28                   V AegirineFine_3   \n",
       "29                   V AegirineFine_4   \n",
       "30            V Burgundy_Yellow_Ochre   \n",
       "31       V Cr2O3 Fe2O3 MgO Al2O3 SiO2   \n",
       "32                            V Fe2O3   \n",
       "33  V Fe2O3 MgO Al2O3 TiO2 MgSO4 SiO2   \n",
       "34         V Iron oxide Quartz Silica   \n",
       "35                  V Iron oxide TiO2   \n",
       "36                  V IronOxideOrange   \n",
       "37                  V Magnetite_Black   \n",
       "38                           Wuestite   \n",
       "39                           hematite   \n",
       "\n",
       "                              Chemical formula  N. of samples  \n",
       "0                               Cl0.675 Fe4 O8              2  \n",
       "1                                 Fe Mn O Al H              1  \n",
       "2                                 Fe Mn O Al H              2  \n",
       "3                                 Fe Mn O Al H              1  \n",
       "4                                 Fe Mn O Al H              1  \n",
       "5                            Mg Al Co Cr Fe Cu              1  \n",
       "6             As4 Co4.02 Fe1.48 H32 Ni0.50 O32              1  \n",
       "7                                       Fe2 O3             10  \n",
       "8                                    Fe2 Mn O4              1  \n",
       "9                                       Fe2 O3              1  \n",
       "10                                      Fe2 O3              1  \n",
       "11                                     Fe H O2             22  \n",
       "12                                      Fe2 O3             10  \n",
       "13  Al0.049 Fe1.911 Mg0.736 Mn0.284 O4 Zn0.017              4  \n",
       "14                Fe2.88 H5.83 K0.81 O13.64 S2             15  \n",
       "15                                     Fe H O2              2  \n",
       "16                                      Fe3 O4              1  \n",
       "17                                   Fe2 Mn O4              1  \n",
       "18                                     Fe Mn O              1  \n",
       "19                                     Fe Mn O              1  \n",
       "20                                     Fe Mn O              1  \n",
       "21                                   Fe2 Mn O4              2  \n",
       "22                                  K Fe S O H              1  \n",
       "23                                       Fe S2              9  \n",
       "24                            Si O Al Ca Fe Mn              1  \n",
       "25                                     C Fe O3              2  \n",
       "26                                       Si Fe              1  \n",
       "27                                       Si Fe              1  \n",
       "28                                       Si Fe              1  \n",
       "29                                       Si Fe              1  \n",
       "30                                      Fe2 O3              1  \n",
       "31                            Cr O Fe Mg Al Si              2  \n",
       "32                                     Fe Mn O              2  \n",
       "33                          Fe O Mg Al Ti S Si              1  \n",
       "34                                     Fe O Si              1  \n",
       "35                                     Fe O Ti              1  \n",
       "36                                     Fe2 O3               2  \n",
       "37                                      Fe3 O4              1  \n",
       "38                                   Fe0.911 O             11  \n",
       "39                                      Fe2 O3              2  "
      ]
     },
     "execution_count": 2,
     "metadata": {},
     "output_type": "execute_result"
    }
   ],
   "source": [
    "elements_chosen = ['Fe']\n",
    "elements_excluded = []\n",
    "\n",
    "df_phases = DataFrame(columns = ['Name in database', 'Chemical formula', 'N. of samples'])\n",
    "for phase_name, phase_set in sorted(database.items()):\n",
    "    p = phase_set[0]\n",
    "    if '_chemical_formula_sum' in p:\n",
    "        \n",
    "        # Change 'all' (the first) into 'any' if you want to select phases that have at least one of elements_chosen\n",
    "        \n",
    "        if (all(is_element_in_formula(e, p['_chemical_formula_sum']) for e in elements_chosen)\n",
    "            and all(not is_element_in_formula(e, p['_chemical_formula_sum']) for e in elements_excluded)):\n",
    "            df_phases.loc[len(df_phases)] = [phase_name, p['_chemical_formula_sum'], len(phase_set)]\n",
    "elements_excluded = []\n",
    "df_phases"
   ]
  },
  {
   "cell_type": "markdown",
   "id": "1f92370e-2ed3-47f0-ac1a-117813359662",
   "metadata": {},
   "source": [
    "### Choose phase and parameters"
   ]
  },
  {
   "cell_type": "code",
   "execution_count": 3,
   "id": "fd6c0efa-0975-4006-bfc4-a9b4fcd0ab91",
   "metadata": {},
   "outputs": [],
   "source": [
    "rcParams['font.size'] = 18\n",
    "\n",
    "### Parameters ###\n",
    "min_theta = 17         # 10     # 17\n",
    "max_theta = 42         # 100    # 42\n",
    "min_intensity = 0.05   # among the tabulated peaks, selects only the ones above this threshold of intensity (scale between 0 and 1)   # 0.05\n",
    "first_n_peaks = None   # selects the first n most intense peaks (if None, leaves all the peaks)\n",
    "distance_merge = 0.20           # sigma used in the peaks of synthetic diffraction patterns\n",
    "peak_selection = []    # use None or empty list to select all peaks\n",
    "\n",
    "### Phase ###\n",
    "phase = database['Akaganeite'][0]   # Akaganeite   # Fe2 O3\n",
    "phase.select_peaks(peak_selection)\n",
    "#phase = PhaseList([database['Potassium Iron Sulfate Hydroxide'][0], database['French_Ochre_SOFOROUGE'][0], database['Akaganeite'][0]])\n",
    "None"
   ]
  },
  {
   "cell_type": "markdown",
   "id": "80916dac-9e4c-43b9-a63e-589273a994f3",
   "metadata": {},
   "source": [
    "# View merged peaks"
   ]
  },
  {
   "cell_type": "markdown",
   "id": "b3286a39-b649-4d6d-9cd5-13650a824f5d",
   "metadata": {},
   "source": [
    "### Peaks before merging"
   ]
  },
  {
   "cell_type": "code",
   "execution_count": 4,
   "id": "73861f30-fe6d-4340-b047-9ccf282a6aca",
   "metadata": {},
   "outputs": [
    {
     "data": {
      "image/png": "[encoded data removed]",
      "text/plain": [
       "<Figure size 1296x360 with 1 Axes>"
      ]
     },
     "metadata": {
      "needs_background": "light"
     },
     "output_type": "display_data"
    }
   ],
   "source": [
    "fig, ax = subplots(figsize = (18, 5))\n",
    "sca(ax)\n",
    "phase.plot(convolution = True, positions = True, min_theta = min_theta, max_theta = max_theta,\n",
    "    min_intensity = min_intensity, first_n_peaks = first_n_peaks, distance_merge = None)\n",
    "ax.set_xlim(min_theta, max_theta)\n",
    "ax.set_ylim(0, None)\n",
    "ax.set_xlabel(r'angle $2\\theta$')\n",
    "ax.set_ylabel(r'relative intensity')\n",
    "ax.set_title(phase.label)\n",
    "show()"
   ]
  },
  {
   "cell_type": "markdown",
   "id": "41ff3350-a217-4603-8288-dfa52394b9ff",
   "metadata": {},
   "source": [
    "### Peaks after merging"
   ]
  },
  {
   "cell_type": "code",
   "execution_count": 5,
   "id": "010604fe-fab4-415a-9c0b-9ea248cacf2a",
   "metadata": {
    "tags": []
   },
   "outputs": [
    {
     "data": {
      "image/png": "[encoded data removed]",
      "text/plain": [
       "<Figure size 1296x360 with 1 Axes>"
      ]
     },
     "metadata": {
      "needs_background": "light"
     },
     "output_type": "display_data"
    }
   ],
   "source": [
    "fig, ax = subplots(figsize = (18, 5))\n",
    "sca(ax)\n",
    "phase.plot(convolution = True, positions = True, min_theta = min_theta, max_theta = max_theta,\n",
    "    min_intensity = min_intensity, first_n_peaks = first_n_peaks, distance_merge = distance_merge)\n",
    "ax.set_xlim(min_theta, max_theta)\n",
    "ax.set_ylim(0, None)\n",
    "ax.set_xlabel(r'angle $2\\theta$')\n",
    "ax.set_ylabel(r'relative intensity')\n",
    "ax.set_title(phase.label)\n",
    "show()"
   ]
  },
  {
   "cell_type": "markdown",
   "id": "6f984c52-12fd-43c2-a258-a47f9434e308",
   "metadata": {},
   "source": [
    "# Follow the process step by step on a subset of peaks\n",
    "Results may vary from the last section \"View merged peaks\". There we merged all the peaks and then selected them based on angle, intensity, and position. Here we proceed in opposite order: first we select peaks based on angle, intensity, and position; then we merge them."
   ]
  },
  {
   "cell_type": "markdown",
   "id": "20865b87-391c-49a9-a3fc-1473784b8d8c",
   "metadata": {},
   "source": [
    "### Get non-merged peaks of selected phase"
   ]
  },
  {
   "cell_type": "code",
   "execution_count": 6,
   "id": "826dda3a-f004-4bfa-bf61-36852106b555",
   "metadata": {},
   "outputs": [],
   "source": [
    "theta, intensity, position = phase.get_theta(min_theta = min_theta, max_theta = max_theta,\n",
    "    min_intensity = min_intensity, first_n_peaks = first_n_peaks)"
   ]
  },
  {
   "cell_type": "markdown",
   "id": "fe39a5d2-3c17-4a51-95f1-8fa967084676",
   "metadata": {},
   "source": [
    "### Plot peaks"
   ]
  },
  {
   "cell_type": "code",
   "execution_count": 24,
   "id": "ddcf2bb9-fcbc-462b-9337-8cba51d6e76e",
   "metadata": {},
   "outputs": [
    {
     "name": "stdout",
     "output_type": "stream",
     "text": [
      "N. of peaks in the plot: 7\n"
     ]
    },
    {
     "data": {
      "image/png": "[encoded data removed]",
      "text/plain": [
       "<Figure size 1296x360 with 1 Axes>"
      ]
     },
     "metadata": {
      "needs_background": "light"
     },
     "output_type": "display_data"
    }
   ],
   "source": [
    "plot_convolution = True\n",
    "\n",
    "###\n",
    "\n",
    "# Assign position to peaks based on decreasing intensity\n",
    "position = empty(len(theta), dtype = int)\n",
    "idx_sorted = argsort(intensity)[::-1]\n",
    "position[idx_sorted] = range(len(theta))\n",
    "\n",
    "print(f'N. of peaks in the plot: {len(theta)}')\n",
    "\n",
    "fig, ax = subplots(figsize = (18, 5))\n",
    "ax.vlines(theta, 0, intensity, colors = 'red', linestyles = 'dashed')\n",
    "for i in range(len(theta)):\n",
    "    if (min_theta < theta[i] < max_theta):\n",
    "        ax.text(theta[i], intensity[i], f'{position[i]}', ha = 'center', va = 'bottom', fontsize = 'x-small')\n",
    "if plot_convolution:\n",
    "    gamma = full((1, len(theta)), 1)\n",
    "    sigma2 = full((1, len(theta)), distance_merge**2)\n",
    "    mu = theta[newaxis, :]\n",
    "    I = intensity[newaxis, :]\n",
    "    theta_to_plot = arange(min_theta, max_theta, 0.01)[:, newaxis]\n",
    "    component_core = exp((theta_to_plot - mu)**2 / (-2 * sigma2))\n",
    "    component_full = I * gamma * component_core\n",
    "    z = component_full.sum(axis = 1)\n",
    "    ax.plot(theta_to_plot, z)\n",
    "ax.set_xlim(min_theta, max_theta)\n",
    "ax.set_ylim(0, None)\n",
    "ax.set_xlabel(r'angle $2\\theta$')\n",
    "ax.set_ylabel(r'relative intensity')\n",
    "ax.set_title(phase.label)\n",
    "show()"
   ]
  },
  {
   "cell_type": "markdown",
   "id": "533b7647-66c6-48cb-9d41-fab7e6557e11",
   "metadata": {},
   "source": [
    "### Do 1 step of merging"
   ]
  },
  {
   "cell_type": "code",
   "execution_count": 25,
   "id": "bf90ad74-38d8-45a2-b732-dd2f9cde655b",
   "metadata": {},
   "outputs": [
    {
     "name": "stdout",
     "output_type": "stream",
     "text": [
      "Couple of nearest peaks\n",
      "-----------------------\n",
      "Angular positions: 33.826, 34.115\n",
      "Angular difference: 0.288\n",
      "Intensities: 0.155, 0.153\n",
      "Angular difference > theta: no peaks will be merged.\n"
     ]
    }
   ],
   "source": [
    "if len(theta) > 1:\n",
    "    weight = intensity.copy()\n",
    "    theta_diff = theta[1:] - theta[:-1]\n",
    "    idx_min = argmin(theta_diff)\n",
    "    print('Couple of nearest peaks\\n-----------------------')\n",
    "    print(f'Angular positions: {theta[idx_min]:.3f}, {theta[idx_min + 1]:.3f}')\n",
    "    print(f'Angular difference: {theta_diff[idx_min]:.3f}')\n",
    "    print(f'Intensities: {intensity[idx_min]:.3f}, {intensity[idx_min + 1]:.3f}')\n",
    "    if (theta_diff[idx_min] <= distance_merge):\n",
    "        print(f'Angular difference <= theta: the two peaks will be merged.')\n",
    "        theta_point = (weight[idx_min] * theta[idx_min] + weight[idx_min + 1] * theta[idx_min + 1]) / (weight[idx_min] + weight[idx_min + 1])\n",
    "        #intensity_point = intensity[idx_min] + intensity[idx_min + 1]\n",
    "        intensity_point = (intensity[idx_min] * exp((theta_point - theta[idx_min])**2 / (-2 * distance_merge**2)) +\n",
    "                           intensity[idx_min + 1] * exp((theta_point - theta[idx_min + 1])**2 / (-2 * distance_merge**2)))\n",
    "        weight_point = weight[idx_min] + weight[idx_min + 1]\n",
    "        theta[idx_min] = theta_point\n",
    "        intensity[idx_min] = intensity_point\n",
    "        weight[idx_min] = weight_point\n",
    "        theta = delete(theta, [idx_min + 1])\n",
    "        intensity = delete(intensity, [idx_min + 1])\n",
    "        weight = delete(weight, [idx_min + 1])\n",
    "    else:\n",
    "        print(f'Angular difference > theta: no peaks will be merged.')\n",
    "else:\n",
    "    print('N. of peaks <= 1: cannot merge peaks.')\n",
    "\n",
    "intensity /= intensity.max()"
   ]
  },
  {
   "cell_type": "code",
   "execution_count": null,
   "id": "6eddac3e-258e-4fb0-b735-1144132bdf1e",
   "metadata": {},
   "outputs": [],
   "source": []
  }
 ],
 "metadata": {
  "interpreter": {
   "hash": "fba4e8dc88805d46805dc5e697da753b9c5f29f54defc772ea9b56a1fe31ab27"
  },
  "kernelspec": {
   "display_name": "Python 3 (ipykernel)",
   "language": "python",
   "name": "python3"
  },
  "language_info": {
   "codemirror_mode": {
    "name": "ipython",
    "version": 3
   },
   "file_extension": ".py",
   "mimetype": "text/x-python",
   "name": "python",
   "nbconvert_exporter": "python",
   "pygments_lexer": "ipython3",
   "version": "3.8.12"
  }
 },
 "nbformat": 4,
 "nbformat_minor": 5
}
